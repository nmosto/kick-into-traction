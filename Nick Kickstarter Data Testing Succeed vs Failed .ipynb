{
 "cells": [
  {
   "cell_type": "code",
   "execution_count": 12,
   "metadata": {},
   "outputs": [],
   "source": [
    "import seaborn as sns"
   ]
  },
  {
   "cell_type": "code",
   "execution_count": 13,
   "metadata": {
    "_cell_guid": "b1076dfc-b9ad-4769-8c92-a6c4dae69d19",
    "_uuid": "8f2839f25d086af736a60e9eeb907d3b93b6e0e5"
   },
   "outputs": [],
   "source": [
    "import matplotlib.pyplot as plt\n",
    "%matplotlib inline\n",
    "import numpy as np\n",
    "import pandas as pd\n",
    "import seaborn as sns\n",
    "import sklearn\n",
    "from sklearn import linear_model\n",
    "from sklearn.ensemble import RandomForestClassifier\n",
    "from sklearn.metrics import f1_score\n",
    "from sklearn.model_selection import RandomizedSearchCV \n",
    "from sklearn.model_selection import GridSearchCV\n",
    "import squarify\n",
    "import time\n",
    "import os\n",
    "from PIL import Image, ImageDraw\n",
    "import imgkit"
   ]
  },
  {
   "cell_type": "markdown",
   "metadata": {
    "_uuid": "974c218f0fc80b002d6dbcbc224b7e97d1eaaf59"
   },
   "source": [
    "--------"
   ]
  },
  {
   "cell_type": "markdown",
   "metadata": {
    "_uuid": "3318fa3b6a265ee6e5e8f9ee4e57112cb0cdf17d"
   },
   "source": [
    "## 1. General"
   ]
  },
  {
   "cell_type": "markdown",
   "metadata": {
    "_uuid": "a6196595a8f1fdb7c2ade352c9ba926d66dc3027"
   },
   "source": [
    "#### 1.1 Handling weird values\n",
    "- Check decriptive statistics\n",
    "- Check missing values"
   ]
  },
  {
   "cell_type": "code",
   "execution_count": 32,
   "metadata": {
    "_uuid": "624b5d9082c8f506f00803c45bb3e0310e1da097"
   },
   "outputs": [
    {
     "data": {
      "text/html": [
       "<div>\n",
       "<style scoped>\n",
       "    .dataframe tbody tr th:only-of-type {\n",
       "        vertical-align: middle;\n",
       "    }\n",
       "\n",
       "    .dataframe tbody tr th {\n",
       "        vertical-align: top;\n",
       "    }\n",
       "\n",
       "    .dataframe thead th {\n",
       "        text-align: right;\n",
       "    }\n",
       "</style>\n",
       "<table border=\"1\" class=\"dataframe\">\n",
       "  <thead>\n",
       "    <tr style=\"text-align: right;\">\n",
       "      <th></th>\n",
       "      <th>Unnamed: 0</th>\n",
       "      <th>id</th>\n",
       "      <th>backers_count</th>\n",
       "      <th>blurb</th>\n",
       "      <th>currency</th>\n",
       "      <th>goal</th>\n",
       "      <th>launched_at</th>\n",
       "      <th>deadline</th>\n",
       "      <th>location.country</th>\n",
       "      <th>name</th>\n",
       "      <th>...</th>\n",
       "      <th>days_to_deadline</th>\n",
       "      <th>goal_USD</th>\n",
       "      <th>category_name</th>\n",
       "      <th>category_slug</th>\n",
       "      <th>blurb_length</th>\n",
       "      <th>location_type</th>\n",
       "      <th>location_country</th>\n",
       "      <th>location_state</th>\n",
       "      <th>location_displayable_name</th>\n",
       "      <th>binary_state</th>\n",
       "    </tr>\n",
       "  </thead>\n",
       "  <tbody>\n",
       "    <tr>\n",
       "      <th>0</th>\n",
       "      <td>0</td>\n",
       "      <td>857125548</td>\n",
       "      <td>1</td>\n",
       "      <td>Exploring paint and its place in a digital world.</td>\n",
       "      <td>USD</td>\n",
       "      <td>2000.0</td>\n",
       "      <td>2015-03-19 22:34:57</td>\n",
       "      <td>2015-04-30 23:12:00</td>\n",
       "      <td>US</td>\n",
       "      <td>Remix</td>\n",
       "      <td>...</td>\n",
       "      <td>42</td>\n",
       "      <td>2000.0000</td>\n",
       "      <td>Digital Art</td>\n",
       "      <td>art</td>\n",
       "      <td>9</td>\n",
       "      <td>Town</td>\n",
       "      <td>US</td>\n",
       "      <td>NY</td>\n",
       "      <td>New York, NY</td>\n",
       "      <td>failed</td>\n",
       "    </tr>\n",
       "    <tr>\n",
       "      <th>1</th>\n",
       "      <td>1</td>\n",
       "      <td>1038659700</td>\n",
       "      <td>2</td>\n",
       "      <td>Mike Fassio wants a side-by-side photo of me a...</td>\n",
       "      <td>USD</td>\n",
       "      <td>10.0</td>\n",
       "      <td>2014-07-17 01:55:07</td>\n",
       "      <td>2014-07-27 01:55:07</td>\n",
       "      <td>US</td>\n",
       "      <td>Photo of Grant and Hazel eating cake with bare...</td>\n",
       "      <td>...</td>\n",
       "      <td>10</td>\n",
       "      <td>10.0000</td>\n",
       "      <td>Digital Art</td>\n",
       "      <td>art</td>\n",
       "      <td>21</td>\n",
       "      <td>Town</td>\n",
       "      <td>US</td>\n",
       "      <td>WA</td>\n",
       "      <td>Seattle, WA</td>\n",
       "      <td>failed</td>\n",
       "    </tr>\n",
       "    <tr>\n",
       "      <th>2</th>\n",
       "      <td>2</td>\n",
       "      <td>1238331911</td>\n",
       "      <td>0</td>\n",
       "      <td>I need your help to get a nice graphics tablet...</td>\n",
       "      <td>USD</td>\n",
       "      <td>900.0</td>\n",
       "      <td>2014-07-30 16:29:13</td>\n",
       "      <td>2014-08-29 16:29:13</td>\n",
       "      <td>US</td>\n",
       "      <td>Minecraft Digital Art/Animations</td>\n",
       "      <td>...</td>\n",
       "      <td>30</td>\n",
       "      <td>900.0000</td>\n",
       "      <td>Digital Art</td>\n",
       "      <td>art</td>\n",
       "      <td>12</td>\n",
       "      <td>Town</td>\n",
       "      <td>US</td>\n",
       "      <td>VA</td>\n",
       "      <td>Moneta, VA</td>\n",
       "      <td>failed</td>\n",
       "    </tr>\n",
       "    <tr>\n",
       "      <th>3</th>\n",
       "      <td>3</td>\n",
       "      <td>189217262</td>\n",
       "      <td>0</td>\n",
       "      <td>I want to create a Nature Photograph Series of...</td>\n",
       "      <td>USD</td>\n",
       "      <td>900.0</td>\n",
       "      <td>2015-05-11 16:09:11</td>\n",
       "      <td>2015-05-31 16:09:11</td>\n",
       "      <td>US</td>\n",
       "      <td>Sacramento Nature Photograph Series</td>\n",
       "      <td>...</td>\n",
       "      <td>20</td>\n",
       "      <td>900.0000</td>\n",
       "      <td>Digital Art</td>\n",
       "      <td>art</td>\n",
       "      <td>17</td>\n",
       "      <td>Town</td>\n",
       "      <td>US</td>\n",
       "      <td>CA</td>\n",
       "      <td>Sacramento, CA</td>\n",
       "      <td>failed</td>\n",
       "    </tr>\n",
       "    <tr>\n",
       "      <th>4</th>\n",
       "      <td>4</td>\n",
       "      <td>1260075071</td>\n",
       "      <td>1</td>\n",
       "      <td>I want to bring colour to the world in my own ...</td>\n",
       "      <td>GBP</td>\n",
       "      <td>15000.0</td>\n",
       "      <td>2015-02-06 21:52:02</td>\n",
       "      <td>2015-03-08 20:52:02</td>\n",
       "      <td>GB</td>\n",
       "      <td>North Africa art project - my dream</td>\n",
       "      <td>...</td>\n",
       "      <td>30</td>\n",
       "      <td>22801.6545</td>\n",
       "      <td>Digital Art</td>\n",
       "      <td>art</td>\n",
       "      <td>26</td>\n",
       "      <td>County</td>\n",
       "      <td>GB</td>\n",
       "      <td>England</td>\n",
       "      <td>Essex, UK</td>\n",
       "      <td>failed</td>\n",
       "    </tr>\n",
       "  </tbody>\n",
       "</table>\n",
       "<p>5 rows × 30 columns</p>\n",
       "</div>"
      ],
      "text/plain": [
       "   Unnamed: 0          id  backers_count  \\\n",
       "0           0   857125548              1   \n",
       "1           1  1038659700              2   \n",
       "2           2  1238331911              0   \n",
       "3           3   189217262              0   \n",
       "4           4  1260075071              1   \n",
       "\n",
       "                                               blurb currency     goal  \\\n",
       "0  Exploring paint and its place in a digital world.      USD   2000.0   \n",
       "1  Mike Fassio wants a side-by-side photo of me a...      USD     10.0   \n",
       "2  I need your help to get a nice graphics tablet...      USD    900.0   \n",
       "3  I want to create a Nature Photograph Series of...      USD    900.0   \n",
       "4  I want to bring colour to the world in my own ...      GBP  15000.0   \n",
       "\n",
       "           launched_at             deadline location.country  \\\n",
       "0  2015-03-19 22:34:57  2015-04-30 23:12:00               US   \n",
       "1  2014-07-17 01:55:07  2014-07-27 01:55:07               US   \n",
       "2  2014-07-30 16:29:13  2014-08-29 16:29:13               US   \n",
       "3  2015-05-11 16:09:11  2015-05-31 16:09:11               US   \n",
       "4  2015-02-06 21:52:02  2015-03-08 20:52:02               GB   \n",
       "\n",
       "                                                name  ...  days_to_deadline  \\\n",
       "0                                              Remix  ...                42   \n",
       "1  Photo of Grant and Hazel eating cake with bare...  ...                10   \n",
       "2                   Minecraft Digital Art/Animations  ...                30   \n",
       "3                Sacramento Nature Photograph Series  ...                20   \n",
       "4                North Africa art project - my dream  ...                30   \n",
       "\n",
       "     goal_USD  category_name  category_slug  blurb_length location_type  \\\n",
       "0   2000.0000    Digital Art            art             9          Town   \n",
       "1     10.0000    Digital Art            art            21          Town   \n",
       "2    900.0000    Digital Art            art            12          Town   \n",
       "3    900.0000    Digital Art            art            17          Town   \n",
       "4  22801.6545    Digital Art            art            26        County   \n",
       "\n",
       "   location_country  location_state  location_displayable_name  binary_state  \n",
       "0                US              NY               New York, NY        failed  \n",
       "1                US              WA                Seattle, WA        failed  \n",
       "2                US              VA                 Moneta, VA        failed  \n",
       "3                US              CA             Sacramento, CA        failed  \n",
       "4                GB         England                  Essex, UK        failed  \n",
       "\n",
       "[5 rows x 30 columns]"
      ]
     },
     "execution_count": 32,
     "metadata": {},
     "output_type": "execute_result"
    }
   ],
   "source": [
    "ksdf = pd.read_csv('/home/mosto/Documents/insight/kickstarter-project/datasets_273211_566171_kickstarter.csv', sep=',', engine='python')\n",
    "ksdf.head()"
   ]
  },
  {
   "cell_type": "code",
   "execution_count": 172,
   "metadata": {
    "_uuid": "beaecdd7a3f0c3d2c046d76d86dd4eeeeb4aae8b",
    "scrolled": true
   },
   "outputs": [
    {
     "data": {
      "text/html": [
       "<div>\n",
       "<style scoped>\n",
       "    .dataframe tbody tr th:only-of-type {\n",
       "        vertical-align: middle;\n",
       "    }\n",
       "\n",
       "    .dataframe tbody tr th {\n",
       "        vertical-align: top;\n",
       "    }\n",
       "\n",
       "    .dataframe thead th {\n",
       "        text-align: right;\n",
       "    }\n",
       "</style>\n",
       "<table border=\"1\" class=\"dataframe\">\n",
       "  <thead>\n",
       "    <tr style=\"text-align: right;\">\n",
       "      <th></th>\n",
       "      <th>Unnamed: 0</th>\n",
       "      <th>id</th>\n",
       "      <th>backers_count</th>\n",
       "      <th>goal</th>\n",
       "      <th>usd_pledged</th>\n",
       "      <th>static_usd_rate</th>\n",
       "      <th>year</th>\n",
       "      <th>month</th>\n",
       "      <th>day</th>\n",
       "      <th>hour</th>\n",
       "      <th>days_to_deadline</th>\n",
       "      <th>goal_USD</th>\n",
       "      <th>blurb_length</th>\n",
       "    </tr>\n",
       "  </thead>\n",
       "  <tbody>\n",
       "    <tr>\n",
       "      <th>count</th>\n",
       "      <td>430938.000000</td>\n",
       "      <td>4.309380e+05</td>\n",
       "      <td>430938.000000</td>\n",
       "      <td>4.309380e+05</td>\n",
       "      <td>4.309380e+05</td>\n",
       "      <td>430938.000000</td>\n",
       "      <td>430938.000000</td>\n",
       "      <td>430938.000000</td>\n",
       "      <td>430938.000000</td>\n",
       "      <td>430938.0</td>\n",
       "      <td>430938.000000</td>\n",
       "      <td>4.309380e+05</td>\n",
       "      <td>430938.000000</td>\n",
       "    </tr>\n",
       "    <tr>\n",
       "      <th>mean</th>\n",
       "      <td>2037.576459</td>\n",
       "      <td>1.073657e+09</td>\n",
       "      <td>138.950185</td>\n",
       "      <td>4.883624e+04</td>\n",
       "      <td>1.210324e+04</td>\n",
       "      <td>1.007943</td>\n",
       "      <td>2015.554108</td>\n",
       "      <td>6.192097</td>\n",
       "      <td>15.078280</td>\n",
       "      <td>0.0</td>\n",
       "      <td>34.295223</td>\n",
       "      <td>3.971246e+04</td>\n",
       "      <td>18.938532</td>\n",
       "    </tr>\n",
       "    <tr>\n",
       "      <th>std</th>\n",
       "      <td>1184.188600</td>\n",
       "      <td>6.194721e+08</td>\n",
       "      <td>1035.447040</td>\n",
       "      <td>1.103247e+06</td>\n",
       "      <td>1.047045e+05</td>\n",
       "      <td>0.228602</td>\n",
       "      <td>2.184330</td>\n",
       "      <td>3.371953</td>\n",
       "      <td>8.851132</td>\n",
       "      <td>0.0</td>\n",
       "      <td>12.380808</td>\n",
       "      <td>1.008321e+06</td>\n",
       "      <td>5.060098</td>\n",
       "    </tr>\n",
       "    <tr>\n",
       "      <th>min</th>\n",
       "      <td>0.000000</td>\n",
       "      <td>8.624000e+03</td>\n",
       "      <td>0.000000</td>\n",
       "      <td>1.000000e-02</td>\n",
       "      <td>0.000000e+00</td>\n",
       "      <td>0.008771</td>\n",
       "      <td>2009.000000</td>\n",
       "      <td>1.000000</td>\n",
       "      <td>1.000000</td>\n",
       "      <td>0.0</td>\n",
       "      <td>1.000000</td>\n",
       "      <td>1.000000e-02</td>\n",
       "      <td>1.000000</td>\n",
       "    </tr>\n",
       "    <tr>\n",
       "      <th>25%</th>\n",
       "      <td>1009.000000</td>\n",
       "      <td>5.365615e+08</td>\n",
       "      <td>2.000000</td>\n",
       "      <td>2.000000e+03</td>\n",
       "      <td>5.500000e+01</td>\n",
       "      <td>1.000000</td>\n",
       "      <td>2014.000000</td>\n",
       "      <td>3.000000</td>\n",
       "      <td>7.000000</td>\n",
       "      <td>0.0</td>\n",
       "      <td>30.000000</td>\n",
       "      <td>2.000000e+03</td>\n",
       "      <td>16.000000</td>\n",
       "    </tr>\n",
       "    <tr>\n",
       "      <th>50%</th>\n",
       "      <td>2026.000000</td>\n",
       "      <td>1.074770e+09</td>\n",
       "      <td>17.000000</td>\n",
       "      <td>5.000000e+03</td>\n",
       "      <td>9.220000e+02</td>\n",
       "      <td>1.000000</td>\n",
       "      <td>2016.000000</td>\n",
       "      <td>6.000000</td>\n",
       "      <td>15.000000</td>\n",
       "      <td>0.0</td>\n",
       "      <td>30.000000</td>\n",
       "      <td>5.000000e+03</td>\n",
       "      <td>20.000000</td>\n",
       "    </tr>\n",
       "    <tr>\n",
       "      <th>75%</th>\n",
       "      <td>3065.000000</td>\n",
       "      <td>1.609176e+09</td>\n",
       "      <td>71.000000</td>\n",
       "      <td>1.600000e+04</td>\n",
       "      <td>5.146987e+03</td>\n",
       "      <td>1.000000</td>\n",
       "      <td>2017.000000</td>\n",
       "      <td>9.000000</td>\n",
       "      <td>23.000000</td>\n",
       "      <td>0.0</td>\n",
       "      <td>38.000000</td>\n",
       "      <td>1.500000e+04</td>\n",
       "      <td>22.000000</td>\n",
       "    </tr>\n",
       "    <tr>\n",
       "      <th>max</th>\n",
       "      <td>4095.000000</td>\n",
       "      <td>2.147476e+09</td>\n",
       "      <td>219382.000000</td>\n",
       "      <td>1.000000e+08</td>\n",
       "      <td>2.033899e+07</td>\n",
       "      <td>1.716408</td>\n",
       "      <td>2019.000000</td>\n",
       "      <td>12.000000</td>\n",
       "      <td>31.000000</td>\n",
       "      <td>0.0</td>\n",
       "      <td>93.000000</td>\n",
       "      <td>1.523501e+08</td>\n",
       "      <td>41.000000</td>\n",
       "    </tr>\n",
       "  </tbody>\n",
       "</table>\n",
       "</div>"
      ],
      "text/plain": [
       "          Unnamed: 0            id  backers_count          goal   usd_pledged  \\\n",
       "count  430938.000000  4.309380e+05  430938.000000  4.309380e+05  4.309380e+05   \n",
       "mean     2037.576459  1.073657e+09     138.950185  4.883624e+04  1.210324e+04   \n",
       "std      1184.188600  6.194721e+08    1035.447040  1.103247e+06  1.047045e+05   \n",
       "min         0.000000  8.624000e+03       0.000000  1.000000e-02  0.000000e+00   \n",
       "25%      1009.000000  5.365615e+08       2.000000  2.000000e+03  5.500000e+01   \n",
       "50%      2026.000000  1.074770e+09      17.000000  5.000000e+03  9.220000e+02   \n",
       "75%      3065.000000  1.609176e+09      71.000000  1.600000e+04  5.146987e+03   \n",
       "max      4095.000000  2.147476e+09  219382.000000  1.000000e+08  2.033899e+07   \n",
       "\n",
       "       static_usd_rate           year          month            day      hour  \\\n",
       "count    430938.000000  430938.000000  430938.000000  430938.000000  430938.0   \n",
       "mean          1.007943    2015.554108       6.192097      15.078280       0.0   \n",
       "std           0.228602       2.184330       3.371953       8.851132       0.0   \n",
       "min           0.008771    2009.000000       1.000000       1.000000       0.0   \n",
       "25%           1.000000    2014.000000       3.000000       7.000000       0.0   \n",
       "50%           1.000000    2016.000000       6.000000      15.000000       0.0   \n",
       "75%           1.000000    2017.000000       9.000000      23.000000       0.0   \n",
       "max           1.716408    2019.000000      12.000000      31.000000       0.0   \n",
       "\n",
       "       days_to_deadline      goal_USD   blurb_length  \n",
       "count     430938.000000  4.309380e+05  430938.000000  \n",
       "mean          34.295223  3.971246e+04      18.938532  \n",
       "std           12.380808  1.008321e+06       5.060098  \n",
       "min            1.000000  1.000000e-02       1.000000  \n",
       "25%           30.000000  2.000000e+03      16.000000  \n",
       "50%           30.000000  5.000000e+03      20.000000  \n",
       "75%           38.000000  1.500000e+04      22.000000  \n",
       "max           93.000000  1.523501e+08      41.000000  "
      ]
     },
     "execution_count": 172,
     "metadata": {},
     "output_type": "execute_result"
    }
   ],
   "source": [
    "ksdf.describe()"
   ]
  },
  {
   "cell_type": "code",
   "execution_count": 173,
   "metadata": {},
   "outputs": [],
   "source": [
    "import pandas as pd\n",
    "from sklearn.compose import make_column_transformer\n",
    "from sklearn.preprocessing import OneHotEncoder\n",
    "from sklearn.linear_model import LogisticRegression\n",
    "from sklearn.pipeline import make_pipeline\n",
    "from sklearn.model_selection import cross_val_score"
   ]
  },
  {
   "cell_type": "code",
   "execution_count": 174,
   "metadata": {},
   "outputs": [],
   "source": [
    "df = ksdf"
   ]
  },
  {
   "cell_type": "code",
   "execution_count": 181,
   "metadata": {},
   "outputs": [
    {
     "data": {
      "text/plain": [
       "0         0\n",
       "1         0\n",
       "2         0\n",
       "3         0\n",
       "4         0\n",
       "         ..\n",
       "430933    1\n",
       "430934    1\n",
       "430935    0\n",
       "430936    0\n",
       "430937    1\n",
       "Name: binary_state, Length: 430938, dtype: int64"
      ]
     },
     "execution_count": 181,
     "metadata": {},
     "output_type": "execute_result"
    }
   ],
   "source": [
    "df.binary_state"
   ]
  },
  {
   "cell_type": "code",
   "execution_count": 182,
   "metadata": {},
   "outputs": [],
   "source": [
    "cleanup_nums = {'failed':0,'successful':1}"
   ]
  },
  {
   "cell_type": "code",
   "execution_count": null,
   "metadata": {},
   "outputs": [],
   "source": [
    "df.binary_state.replace(cleanup_nums, inplace=True)"
   ]
  },
  {
   "cell_type": "code",
   "execution_count": 184,
   "metadata": {},
   "outputs": [
    {
     "data": {
      "text/html": [
       "<div>\n",
       "<style scoped>\n",
       "    .dataframe tbody tr th:only-of-type {\n",
       "        vertical-align: middle;\n",
       "    }\n",
       "\n",
       "    .dataframe tbody tr th {\n",
       "        vertical-align: top;\n",
       "    }\n",
       "\n",
       "    .dataframe thead th {\n",
       "        text-align: right;\n",
       "    }\n",
       "</style>\n",
       "<table border=\"1\" class=\"dataframe\">\n",
       "  <thead>\n",
       "    <tr style=\"text-align: right;\">\n",
       "      <th></th>\n",
       "      <th>Unnamed: 0</th>\n",
       "      <th>id</th>\n",
       "      <th>backers_count</th>\n",
       "      <th>blurb</th>\n",
       "      <th>currency</th>\n",
       "      <th>goal</th>\n",
       "      <th>launched_at</th>\n",
       "      <th>deadline</th>\n",
       "      <th>location.country</th>\n",
       "      <th>name</th>\n",
       "      <th>...</th>\n",
       "      <th>days_to_deadline</th>\n",
       "      <th>goal_USD</th>\n",
       "      <th>category_name</th>\n",
       "      <th>category_slug</th>\n",
       "      <th>blurb_length</th>\n",
       "      <th>location_type</th>\n",
       "      <th>location_country</th>\n",
       "      <th>location_state</th>\n",
       "      <th>location_displayable_name</th>\n",
       "      <th>binary_state</th>\n",
       "    </tr>\n",
       "  </thead>\n",
       "  <tbody>\n",
       "    <tr>\n",
       "      <th>0</th>\n",
       "      <td>0</td>\n",
       "      <td>857125548</td>\n",
       "      <td>1</td>\n",
       "      <td>Exploring paint and its place in a digital world.</td>\n",
       "      <td>USD</td>\n",
       "      <td>2000.0</td>\n",
       "      <td>2015-03-19 22:34:57</td>\n",
       "      <td>2015-04-30 23:12:00</td>\n",
       "      <td>US</td>\n",
       "      <td>Remix</td>\n",
       "      <td>...</td>\n",
       "      <td>42</td>\n",
       "      <td>2000.0000</td>\n",
       "      <td>Digital Art</td>\n",
       "      <td>art</td>\n",
       "      <td>9</td>\n",
       "      <td>Town</td>\n",
       "      <td>US</td>\n",
       "      <td>NY</td>\n",
       "      <td>New York, NY</td>\n",
       "      <td>0</td>\n",
       "    </tr>\n",
       "    <tr>\n",
       "      <th>1</th>\n",
       "      <td>1</td>\n",
       "      <td>1038659700</td>\n",
       "      <td>2</td>\n",
       "      <td>Mike Fassio wants a side-by-side photo of me a...</td>\n",
       "      <td>USD</td>\n",
       "      <td>10.0</td>\n",
       "      <td>2014-07-17 01:55:07</td>\n",
       "      <td>2014-07-27 01:55:07</td>\n",
       "      <td>US</td>\n",
       "      <td>Photo of Grant and Hazel eating cake with bare...</td>\n",
       "      <td>...</td>\n",
       "      <td>10</td>\n",
       "      <td>10.0000</td>\n",
       "      <td>Digital Art</td>\n",
       "      <td>art</td>\n",
       "      <td>21</td>\n",
       "      <td>Town</td>\n",
       "      <td>US</td>\n",
       "      <td>WA</td>\n",
       "      <td>Seattle, WA</td>\n",
       "      <td>0</td>\n",
       "    </tr>\n",
       "    <tr>\n",
       "      <th>2</th>\n",
       "      <td>2</td>\n",
       "      <td>1238331911</td>\n",
       "      <td>0</td>\n",
       "      <td>I need your help to get a nice graphics tablet...</td>\n",
       "      <td>USD</td>\n",
       "      <td>900.0</td>\n",
       "      <td>2014-07-30 16:29:13</td>\n",
       "      <td>2014-08-29 16:29:13</td>\n",
       "      <td>US</td>\n",
       "      <td>Minecraft Digital Art/Animations</td>\n",
       "      <td>...</td>\n",
       "      <td>30</td>\n",
       "      <td>900.0000</td>\n",
       "      <td>Digital Art</td>\n",
       "      <td>art</td>\n",
       "      <td>12</td>\n",
       "      <td>Town</td>\n",
       "      <td>US</td>\n",
       "      <td>VA</td>\n",
       "      <td>Moneta, VA</td>\n",
       "      <td>0</td>\n",
       "    </tr>\n",
       "    <tr>\n",
       "      <th>3</th>\n",
       "      <td>3</td>\n",
       "      <td>189217262</td>\n",
       "      <td>0</td>\n",
       "      <td>I want to create a Nature Photograph Series of...</td>\n",
       "      <td>USD</td>\n",
       "      <td>900.0</td>\n",
       "      <td>2015-05-11 16:09:11</td>\n",
       "      <td>2015-05-31 16:09:11</td>\n",
       "      <td>US</td>\n",
       "      <td>Sacramento Nature Photograph Series</td>\n",
       "      <td>...</td>\n",
       "      <td>20</td>\n",
       "      <td>900.0000</td>\n",
       "      <td>Digital Art</td>\n",
       "      <td>art</td>\n",
       "      <td>17</td>\n",
       "      <td>Town</td>\n",
       "      <td>US</td>\n",
       "      <td>CA</td>\n",
       "      <td>Sacramento, CA</td>\n",
       "      <td>0</td>\n",
       "    </tr>\n",
       "    <tr>\n",
       "      <th>4</th>\n",
       "      <td>4</td>\n",
       "      <td>1260075071</td>\n",
       "      <td>1</td>\n",
       "      <td>I want to bring colour to the world in my own ...</td>\n",
       "      <td>GBP</td>\n",
       "      <td>15000.0</td>\n",
       "      <td>2015-02-06 21:52:02</td>\n",
       "      <td>2015-03-08 20:52:02</td>\n",
       "      <td>GB</td>\n",
       "      <td>North Africa art project - my dream</td>\n",
       "      <td>...</td>\n",
       "      <td>30</td>\n",
       "      <td>22801.6545</td>\n",
       "      <td>Digital Art</td>\n",
       "      <td>art</td>\n",
       "      <td>26</td>\n",
       "      <td>County</td>\n",
       "      <td>GB</td>\n",
       "      <td>England</td>\n",
       "      <td>Essex, UK</td>\n",
       "      <td>0</td>\n",
       "    </tr>\n",
       "  </tbody>\n",
       "</table>\n",
       "<p>5 rows × 30 columns</p>\n",
       "</div>"
      ],
      "text/plain": [
       "   Unnamed: 0          id  backers_count  \\\n",
       "0           0   857125548              1   \n",
       "1           1  1038659700              2   \n",
       "2           2  1238331911              0   \n",
       "3           3   189217262              0   \n",
       "4           4  1260075071              1   \n",
       "\n",
       "                                               blurb currency     goal  \\\n",
       "0  Exploring paint and its place in a digital world.      USD   2000.0   \n",
       "1  Mike Fassio wants a side-by-side photo of me a...      USD     10.0   \n",
       "2  I need your help to get a nice graphics tablet...      USD    900.0   \n",
       "3  I want to create a Nature Photograph Series of...      USD    900.0   \n",
       "4  I want to bring colour to the world in my own ...      GBP  15000.0   \n",
       "\n",
       "           launched_at             deadline location.country  \\\n",
       "0  2015-03-19 22:34:57  2015-04-30 23:12:00               US   \n",
       "1  2014-07-17 01:55:07  2014-07-27 01:55:07               US   \n",
       "2  2014-07-30 16:29:13  2014-08-29 16:29:13               US   \n",
       "3  2015-05-11 16:09:11  2015-05-31 16:09:11               US   \n",
       "4  2015-02-06 21:52:02  2015-03-08 20:52:02               GB   \n",
       "\n",
       "                                                name  ...  days_to_deadline  \\\n",
       "0                                              Remix  ...                42   \n",
       "1  Photo of Grant and Hazel eating cake with bare...  ...                10   \n",
       "2                   Minecraft Digital Art/Animations  ...                30   \n",
       "3                Sacramento Nature Photograph Series  ...                20   \n",
       "4                North Africa art project - my dream  ...                30   \n",
       "\n",
       "     goal_USD  category_name  category_slug  blurb_length location_type  \\\n",
       "0   2000.0000    Digital Art            art             9          Town   \n",
       "1     10.0000    Digital Art            art            21          Town   \n",
       "2    900.0000    Digital Art            art            12          Town   \n",
       "3    900.0000    Digital Art            art            17          Town   \n",
       "4  22801.6545    Digital Art            art            26        County   \n",
       "\n",
       "   location_country  location_state  location_displayable_name  binary_state  \n",
       "0                US              NY               New York, NY             0  \n",
       "1                US              WA                Seattle, WA             0  \n",
       "2                US              VA                 Moneta, VA             0  \n",
       "3                US              CA             Sacramento, CA             0  \n",
       "4                GB         England                  Essex, UK             0  \n",
       "\n",
       "[5 rows x 30 columns]"
      ]
     },
     "execution_count": 184,
     "metadata": {},
     "output_type": "execute_result"
    }
   ],
   "source": [
    "df.head()"
   ]
  },
  {
   "cell_type": "code",
   "execution_count": 206,
   "metadata": {},
   "outputs": [],
   "source": [
    "X = df.loc[:,['days_to_deadline']]\n",
    "y = df.binary_state"
   ]
  },
  {
   "cell_type": "code",
   "execution_count": 207,
   "metadata": {},
   "outputs": [
    {
     "name": "stdout",
     "output_type": "stream",
     "text": [
      "(430938, 1)\n",
      "(430938,)\n"
     ]
    }
   ],
   "source": [
    "print(X.shape)\n",
    "print(y.shape)"
   ]
  },
  {
   "cell_type": "code",
   "execution_count": 208,
   "metadata": {},
   "outputs": [],
   "source": [
    "from sklearn.linear_model import LogisticRegression\n",
    "logreg = LogisticRegression(solver='lbfgs')"
   ]
  },
  {
   "cell_type": "code",
   "execution_count": 209,
   "metadata": {},
   "outputs": [
    {
     "data": {
      "text/plain": [
       "0.6054444272602181"
      ]
     },
     "execution_count": 209,
     "metadata": {},
     "output_type": "execute_result"
    }
   ],
   "source": [
    "from sklearn.model_selection import cross_val_score\n",
    "cross_val_score(logreg, X, y, cv=5, scoring='accuracy').mean()"
   ]
  },
  {
   "cell_type": "code",
   "execution_count": 197,
   "metadata": {},
   "outputs": [
    {
     "data": {
      "text/plain": [
       "0    0.596877\n",
       "1    0.403123\n",
       "Name: binary_state, dtype: float64"
      ]
     },
     "execution_count": 197,
     "metadata": {},
     "output_type": "execute_result"
    }
   ],
   "source": [
    "y.value_counts(normalize=True)"
   ]
  },
  {
   "cell_type": "code",
   "execution_count": 210,
   "metadata": {},
   "outputs": [],
   "source": [
    "# dummy encoding of categorical features\n",
    "from sklearn.preprocessing import OneHotEncoder\n",
    "ohe = OneHotEncoder(sparse=False)"
   ]
  },
  {
   "cell_type": "code",
   "execution_count": 265,
   "metadata": {},
   "outputs": [
    {
     "data": {
      "text/plain": [
       "array([[1., 0., 0., ..., 0., 0., 0.],\n",
       "       [1., 0., 0., ..., 0., 0., 0.],\n",
       "       [1., 0., 0., ..., 0., 0., 0.],\n",
       "       ...,\n",
       "       [0., 1., 0., ..., 0., 0., 0.],\n",
       "       [0., 1., 0., ..., 0., 0., 0.],\n",
       "       [0., 0., 0., ..., 0., 0., 0.]])"
      ]
     },
     "execution_count": 265,
     "metadata": {},
     "output_type": "execute_result"
    }
   ],
   "source": [
    "ohe.fit_transform(df[['category_slug']])"
   ]
  },
  {
   "cell_type": "code",
   "execution_count": 266,
   "metadata": {},
   "outputs": [
    {
     "data": {
      "text/plain": [
       "[array(['art', 'comics', 'crafts', 'dance', 'design', 'fashion',\n",
       "        'film & video', 'food', 'games', 'journalism', 'music',\n",
       "        'photography', 'publishing', 'technology', 'theater'], dtype=object)]"
      ]
     },
     "execution_count": 266,
     "metadata": {},
     "output_type": "execute_result"
    }
   ],
   "source": [
    "ohe.categories_"
   ]
  },
  {
   "cell_type": "code",
   "execution_count": 267,
   "metadata": {},
   "outputs": [],
   "source": [
    "X = df.loc[:,['days_to_deadline','goal','category_slug','blurb_length','month','day','backers_count']]"
   ]
  },
  {
   "cell_type": "code",
   "execution_count": 268,
   "metadata": {},
   "outputs": [
    {
     "data": {
      "text/html": [
       "<div>\n",
       "<style scoped>\n",
       "    .dataframe tbody tr th:only-of-type {\n",
       "        vertical-align: middle;\n",
       "    }\n",
       "\n",
       "    .dataframe tbody tr th {\n",
       "        vertical-align: top;\n",
       "    }\n",
       "\n",
       "    .dataframe thead th {\n",
       "        text-align: right;\n",
       "    }\n",
       "</style>\n",
       "<table border=\"1\" class=\"dataframe\">\n",
       "  <thead>\n",
       "    <tr style=\"text-align: right;\">\n",
       "      <th></th>\n",
       "      <th>days_to_deadline</th>\n",
       "      <th>goal</th>\n",
       "      <th>category_slug</th>\n",
       "      <th>blurb_length</th>\n",
       "      <th>month</th>\n",
       "      <th>day</th>\n",
       "      <th>backers_count</th>\n",
       "    </tr>\n",
       "  </thead>\n",
       "  <tbody>\n",
       "    <tr>\n",
       "      <th>0</th>\n",
       "      <td>42</td>\n",
       "      <td>2000.0</td>\n",
       "      <td>art</td>\n",
       "      <td>9</td>\n",
       "      <td>3</td>\n",
       "      <td>19</td>\n",
       "      <td>1</td>\n",
       "    </tr>\n",
       "    <tr>\n",
       "      <th>1</th>\n",
       "      <td>10</td>\n",
       "      <td>10.0</td>\n",
       "      <td>art</td>\n",
       "      <td>21</td>\n",
       "      <td>7</td>\n",
       "      <td>17</td>\n",
       "      <td>2</td>\n",
       "    </tr>\n",
       "    <tr>\n",
       "      <th>2</th>\n",
       "      <td>30</td>\n",
       "      <td>900.0</td>\n",
       "      <td>art</td>\n",
       "      <td>12</td>\n",
       "      <td>7</td>\n",
       "      <td>30</td>\n",
       "      <td>0</td>\n",
       "    </tr>\n",
       "    <tr>\n",
       "      <th>3</th>\n",
       "      <td>20</td>\n",
       "      <td>900.0</td>\n",
       "      <td>art</td>\n",
       "      <td>17</td>\n",
       "      <td>5</td>\n",
       "      <td>11</td>\n",
       "      <td>0</td>\n",
       "    </tr>\n",
       "    <tr>\n",
       "      <th>4</th>\n",
       "      <td>30</td>\n",
       "      <td>15000.0</td>\n",
       "      <td>art</td>\n",
       "      <td>26</td>\n",
       "      <td>2</td>\n",
       "      <td>6</td>\n",
       "      <td>1</td>\n",
       "    </tr>\n",
       "  </tbody>\n",
       "</table>\n",
       "</div>"
      ],
      "text/plain": [
       "   days_to_deadline     goal category_slug  blurb_length  month  day  \\\n",
       "0                42   2000.0           art             9      3   19   \n",
       "1                10     10.0           art            21      7   17   \n",
       "2                30    900.0           art            12      7   30   \n",
       "3                20    900.0           art            17      5   11   \n",
       "4                30  15000.0           art            26      2    6   \n",
       "\n",
       "   backers_count  \n",
       "0              1  \n",
       "1              2  \n",
       "2              0  \n",
       "3              0  \n",
       "4              1  "
      ]
     },
     "execution_count": 268,
     "metadata": {},
     "output_type": "execute_result"
    }
   ],
   "source": [
    "X.head()"
   ]
  },
  {
   "cell_type": "code",
   "execution_count": 250,
   "metadata": {},
   "outputs": [],
   "source": [
    "# use when different features need different preprocessing\n",
    "from sklearn.compose import make_column_transformer"
   ]
  },
  {
   "cell_type": "code",
   "execution_count": 274,
   "metadata": {},
   "outputs": [],
   "source": [
    "column_trans = make_column_transformer(\n",
    "    (OneHotEncoder(), ['category_slug']),\n",
    "    remainder='passthrough')"
   ]
  },
  {
   "cell_type": "code",
   "execution_count": 275,
   "metadata": {},
   "outputs": [
    {
     "data": {
      "text/plain": [
       "array([[  1.,   0.,   0., ...,   3.,  19.,   1.],\n",
       "       [  1.,   0.,   0., ...,   7.,  17.,   2.],\n",
       "       [  1.,   0.,   0., ...,   7.,  30.,   0.],\n",
       "       ...,\n",
       "       [  0.,   1.,   0., ...,   6.,   7., 260.],\n",
       "       [  0.,   1.,   0., ...,   6.,   4.,   7.],\n",
       "       [  0.,   0.,   0., ...,   5.,  21.,  62.]])"
      ]
     },
     "execution_count": 275,
     "metadata": {},
     "output_type": "execute_result"
    }
   ],
   "source": [
    "column_trans.fit_transform(X)"
   ]
  },
  {
   "cell_type": "code",
   "execution_count": 271,
   "metadata": {},
   "outputs": [],
   "source": [
    "# chain sequential steps together\n",
    "from sklearn.pipeline import make_pipeline"
   ]
  },
  {
   "cell_type": "code",
   "execution_count": 272,
   "metadata": {},
   "outputs": [],
   "source": [
    "pipe = make_pipeline(column_trans, logreg)"
   ]
  },
  {
   "cell_type": "code",
   "execution_count": 273,
   "metadata": {},
   "outputs": [
    {
     "data": {
      "text/plain": [
       "0.8100771660521859"
      ]
     },
     "execution_count": 273,
     "metadata": {},
     "output_type": "execute_result"
    }
   ],
   "source": [
    "# cross-validate the entire process\n",
    "# thus, preprocessing occurs within each fold of cross-validation\n",
    "cross_val_score(pipe, X, y, cv=5, scoring='accuracy').mean()"
   ]
  },
  {
   "cell_type": "code",
   "execution_count": 115,
   "metadata": {},
   "outputs": [
    {
     "name": "stdout",
     "output_type": "stream",
     "text": [
      "Product Design    24627\n",
      "Tabletop Games    21082\n",
      "Video Games       13770\n",
      "Apparel           12534\n",
      "Apps              11255\n",
      "                  ...  \n",
      "Quilts              125\n",
      "Letterpress         123\n",
      "Residencies         122\n",
      "Chiptune             60\n",
      "Taxidermy            16\n",
      "Name: category_name, Length: 159, dtype: int64\n"
     ]
    }
   ],
   "source": [
    "#let's look at the different categories\n",
    "print(ksdf['category_name'].value_counts())"
   ]
  },
  {
   "cell_type": "code",
   "execution_count": 103,
   "metadata": {},
   "outputs": [
    {
     "name": "stdout",
     "output_type": "stream",
     "text": [
      "159\n"
     ]
    }
   ],
   "source": [
    "print(ksdf['category_name'].value_counts().count())"
   ]
  },
  {
   "cell_type": "code",
   "execution_count": 140,
   "metadata": {},
   "outputs": [
    {
     "name": "stdout",
     "output_type": "stream",
     "text": [
      "15\n"
     ]
    }
   ],
   "source": [
    "print(ksdf['category_slug'].value_counts().count())"
   ]
  },
  {
   "cell_type": "code",
   "execution_count": 119,
   "metadata": {},
   "outputs": [
    {
     "data": {
      "text/plain": [
       "Product Design    24627\n",
       "Tabletop Games    21082\n",
       "Video Games       13770\n",
       "Apparel           12534\n",
       "Apps              11255\n",
       "                  ...  \n",
       "Quilts              125\n",
       "Letterpress         123\n",
       "Residencies         122\n",
       "Chiptune             60\n",
       "Taxidermy            16\n",
       "Name: category_name, Length: 159, dtype: int64"
      ]
     },
     "execution_count": 119,
     "metadata": {},
     "output_type": "execute_result"
    }
   ],
   "source": [
    "category_count=ksdf['category_name'].value_counts()\n",
    "category_count"
   ]
  },
  {
   "cell_type": "code",
   "execution_count": 164,
   "metadata": {},
   "outputs": [],
   "source": [
    "#Make a copy df which will have the select categories encoded \n",
    "cat_encoded_ksdf=ksdf.copy()"
   ]
  },
  {
   "cell_type": "code",
   "execution_count": 165,
   "metadata": {},
   "outputs": [
    {
     "name": "stdout",
     "output_type": "stream",
     "text": [
      "number of categories: 159\n"
     ]
    }
   ],
   "source": [
    "#encoding category_name\n",
    "print('number of categories: '+str(ksdf['category_name'].value_counts().count()))\n",
    "labels = ksdf['category_name'].astype('category').cat.categories.tolist()\n",
    "replace_map_comp_cat = {'category_name' : {k: v for k,v in zip(labels,list(range(1,len(labels)+1)))}}\n",
    "cat_encoded_ksdf.replace(replace_map_comp, inplace=True)\n",
    "#print(replace_map_comp_cat)"
   ]
  },
  {
   "cell_type": "code",
   "execution_count": 166,
   "metadata": {},
   "outputs": [
    {
     "name": "stdout",
     "output_type": "stream",
     "text": [
      "number of categories: 15\n",
      "{'category_slug': {'art': 1, 'comics': 2, 'crafts': 3, 'dance': 4, 'design': 5, 'fashion': 6, 'film & video': 7, 'food': 8, 'games': 9, 'journalism': 10, 'music': 11, 'photography': 12, 'publishing': 13, 'technology': 14, 'theater': 15}}\n"
     ]
    }
   ],
   "source": [
    "#encoding slug\n",
    "print('number of categories: '+str(ksdf['category_slug'].value_counts().count()))\n",
    "labels = ksdf['category_slug'].astype('category').cat.categories.tolist()\n",
    "replace_map_comp_slug = {'category_slug' : {k: v for k,v in zip(labels,list(range(1,len(labels)+1)))}}\n",
    "cat_encoded_ksdf.replace(replace_map_comp_slug, inplace=True)\n",
    "print(replace_map_comp_slug)"
   ]
  },
  {
   "cell_type": "code",
   "execution_count": 167,
   "metadata": {},
   "outputs": [
    {
     "name": "stdout",
     "output_type": "stream",
     "text": [
      "number of categories: 1349\n"
     ]
    }
   ],
   "source": [
    "#encoding location_state\n",
    "print('number of categories: '+str(ksdf['location_state'].value_counts().count()))\n",
    "labels = ksdf['location_state'].astype('category').cat.categories.tolist()\n",
    "replace_map_comp_loc = {'location_state' : {k: v for k,v in zip(labels,list(range(1,len(labels)+1)))}}\n",
    "cat_encoded_ksdf.replace(replace_map_comp_loc, inplace=True)\n",
    "#print(replace_map_comp_loc)"
   ]
  },
  {
   "cell_type": "code",
   "execution_count": 163,
   "metadata": {},
   "outputs": [
    {
     "name": "stdout",
     "output_type": "stream",
     "text": [
      "number of categories: 2\n",
      "{'binary_state': {'failed': 1, 'successful': 2}}\n"
     ]
    }
   ],
   "source": [
    "#encoding binary_state .. success or failed\n",
    "print('number of categories: '+str(ksdf['binary_state'].value_counts().count()))\n",
    "labels = ksdf['binary_state'].astype('category').cat.categories.tolist()\n",
    "replace_map_comp_state = {'binary_state' : {k: v for k,v in zip(labels,list(range(1,len(labels)+1)))}}\n",
    "cat_encoded_ksdf.replace(replace_map_comp_state, inplace=True)\n",
    "print(replace_map_comp_state)"
   ]
  },
  {
   "cell_type": "code",
   "execution_count": 126,
   "metadata": {},
   "outputs": [
    {
     "name": "stderr",
     "output_type": "stream",
     "text": [
      "/home/mosto/miniconda3/envs/kickstarter/lib/python3.7/site-packages/seaborn/_decorators.py:43: FutureWarning: Pass the following variables as keyword args: x, y. From version 0.12, the only valid positional argument will be `data`, and passing other arguments without an explicit keyword will result in an error or misinterpretation.\n",
      "  FutureWarning\n"
     ]
    },
    {
     "data": {
      "image/png": "[encoded data removed]",
      "text/plain": [
       "<Figure size 3600x360 with 1 Axes>"
      ]
     },
     "metadata": {
      "needs_background": "light"
     },
     "output_type": "display_data"
    }
   ],
   "source": [
    "#Visualize Category Histogram of all campaigns \n",
    "%matplotlib inline\n",
    "import seaborn as sns\n",
    "import matplotlib.pyplot as plt\n",
    "\n",
    "plt.figure(figsize=(50,5))\n",
    "category_count = ksdf['category_name'].value_counts()\n",
    "sns.set(style=\"darkgrid\")\n",
    "chart=sns.barplot(category_count.index, category_count.values, alpha=1)\n",
    "#sns.set(rc={'figure.figsize':(20,8.27)})\n",
    "plt.title('Frequency Distribution of Categories')\n",
    "plt.ylabel('Number of Occurrences', fontsize=12)\n",
    "plt.xlabel('Categories', fontsize=12)\n",
    "chart.set_xticklabels(chart.get_xticklabels(), rotation=90)\n",
    "plt.show()"
   ]
  },
  {
   "cell_type": "code",
   "execution_count": 160,
   "metadata": {},
   "outputs": [],
   "source": [
    "# Add pledged_ratio column\n",
    "cat_encoded_ksdf['pledged_ratio'] = cat_encoded_ksdf['usd_pledged']/ cat_encoded_ksdf['goal_USD']"
   ]
  },
  {
   "cell_type": "code",
   "execution_count": 161,
   "metadata": {},
   "outputs": [
    {
     "name": "stdout",
     "output_type": "stream",
     "text": [
      "<class 'pandas.core.frame.DataFrame'>\n",
      "RangeIndex: 430938 entries, 0 to 430937\n",
      "Data columns (total 31 columns):\n",
      " #   Column                     Non-Null Count   Dtype  \n",
      "---  ------                     --------------   -----  \n",
      " 0   Unnamed: 0                 430938 non-null  int64  \n",
      " 1   id                         430938 non-null  int64  \n",
      " 2   backers_count              430938 non-null  int64  \n",
      " 3   blurb                      430938 non-null  object \n",
      " 4   currency                   430938 non-null  object \n",
      " 5   goal                       430938 non-null  float64\n",
      " 6   launched_at                430938 non-null  object \n",
      " 7   deadline                   430938 non-null  object \n",
      " 8   location.country           429843 non-null  object \n",
      " 9   name                       430934 non-null  object \n",
      " 10  usd_pledged                430938 non-null  float64\n",
      " 11  slug                       430938 non-null  object \n",
      " 12  spotlight                  430938 non-null  bool   \n",
      " 13  staff_pick                 430938 non-null  bool   \n",
      " 14  static_usd_rate            430938 non-null  float64\n",
      " 15  state                      430938 non-null  object \n",
      " 16  year                       430938 non-null  int64  \n",
      " 17  month                      430938 non-null  int64  \n",
      " 18  day                        430938 non-null  int64  \n",
      " 19  hour                       430938 non-null  int64  \n",
      " 20  days_to_deadline           430938 non-null  int64  \n",
      " 21  goal_USD                   430938 non-null  float64\n",
      " 22  category_name              430938 non-null  int64  \n",
      " 23  category_slug              430938 non-null  int64  \n",
      " 24  blurb_length               430938 non-null  int64  \n",
      " 25  location_type              430938 non-null  object \n",
      " 26  location_country           430938 non-null  object \n",
      " 27  location_state             430938 non-null  int64  \n",
      " 28  location_displayable_name  430938 non-null  object \n",
      " 29  binary_state               430938 non-null  object \n",
      " 30  pledged_ratio              430938 non-null  float64\n",
      "dtypes: bool(2), float64(5), int64(12), object(12)\n",
      "memory usage: 96.2+ MB\n"
     ]
    }
   ],
   "source": [
    "table=cat_encoded_ksdf.info(verbose=True)"
   ]
  },
  {
   "cell_type": "code",
   "execution_count": null,
   "metadata": {},
   "outputs": [],
   "source": [
    "#Let's grab the column names we might care about\n",
    "names=['pledged_ratio','usd_pledged','goal_USD','blurb_length','days_to_deadline','backers_count','month','day','hour','category_name','category_slug','location_state']"
   ]
  },
  {
   "cell_type": "code",
   "execution_count": 133,
   "metadata": {},
   "outputs": [
    {
     "data": {
      "text/html": [
       "<div>\n",
       "<style scoped>\n",
       "    .dataframe tbody tr th:only-of-type {\n",
       "        vertical-align: middle;\n",
       "    }\n",
       "\n",
       "    .dataframe tbody tr th {\n",
       "        vertical-align: top;\n",
       "    }\n",
       "\n",
       "    .dataframe thead th {\n",
       "        text-align: right;\n",
       "    }\n",
       "</style>\n",
       "<table border=\"1\" class=\"dataframe\">\n",
       "  <thead>\n",
       "    <tr style=\"text-align: right;\">\n",
       "      <th></th>\n",
       "      <th>Unnamed: 0</th>\n",
       "      <th>id</th>\n",
       "      <th>backers_count</th>\n",
       "      <th>blurb</th>\n",
       "      <th>currency</th>\n",
       "      <th>goal</th>\n",
       "      <th>launched_at</th>\n",
       "      <th>deadline</th>\n",
       "      <th>location.country</th>\n",
       "      <th>name</th>\n",
       "      <th>...</th>\n",
       "      <th>days_to_deadline</th>\n",
       "      <th>goal_USD</th>\n",
       "      <th>category_name</th>\n",
       "      <th>category_slug</th>\n",
       "      <th>blurb_length</th>\n",
       "      <th>location_type</th>\n",
       "      <th>location_country</th>\n",
       "      <th>location_state</th>\n",
       "      <th>location_displayable_name</th>\n",
       "      <th>binary_state</th>\n",
       "    </tr>\n",
       "  </thead>\n",
       "  <tbody>\n",
       "    <tr>\n",
       "      <th>0</th>\n",
       "      <td>0</td>\n",
       "      <td>857125548</td>\n",
       "      <td>1</td>\n",
       "      <td>Exploring paint and its place in a digital world.</td>\n",
       "      <td>USD</td>\n",
       "      <td>2000.0</td>\n",
       "      <td>2015-03-19 22:34:57</td>\n",
       "      <td>2015-04-30 23:12:00</td>\n",
       "      <td>US</td>\n",
       "      <td>Remix</td>\n",
       "      <td>...</td>\n",
       "      <td>42</td>\n",
       "      <td>2000.0000</td>\n",
       "      <td>Digital Art</td>\n",
       "      <td>art</td>\n",
       "      <td>9</td>\n",
       "      <td>Town</td>\n",
       "      <td>US</td>\n",
       "      <td>NY</td>\n",
       "      <td>New York, NY</td>\n",
       "      <td>failed</td>\n",
       "    </tr>\n",
       "    <tr>\n",
       "      <th>1</th>\n",
       "      <td>1</td>\n",
       "      <td>1038659700</td>\n",
       "      <td>2</td>\n",
       "      <td>Mike Fassio wants a side-by-side photo of me a...</td>\n",
       "      <td>USD</td>\n",
       "      <td>10.0</td>\n",
       "      <td>2014-07-17 01:55:07</td>\n",
       "      <td>2014-07-27 01:55:07</td>\n",
       "      <td>US</td>\n",
       "      <td>Photo of Grant and Hazel eating cake with bare...</td>\n",
       "      <td>...</td>\n",
       "      <td>10</td>\n",
       "      <td>10.0000</td>\n",
       "      <td>Digital Art</td>\n",
       "      <td>art</td>\n",
       "      <td>21</td>\n",
       "      <td>Town</td>\n",
       "      <td>US</td>\n",
       "      <td>WA</td>\n",
       "      <td>Seattle, WA</td>\n",
       "      <td>failed</td>\n",
       "    </tr>\n",
       "    <tr>\n",
       "      <th>2</th>\n",
       "      <td>2</td>\n",
       "      <td>1238331911</td>\n",
       "      <td>0</td>\n",
       "      <td>I need your help to get a nice graphics tablet...</td>\n",
       "      <td>USD</td>\n",
       "      <td>900.0</td>\n",
       "      <td>2014-07-30 16:29:13</td>\n",
       "      <td>2014-08-29 16:29:13</td>\n",
       "      <td>US</td>\n",
       "      <td>Minecraft Digital Art/Animations</td>\n",
       "      <td>...</td>\n",
       "      <td>30</td>\n",
       "      <td>900.0000</td>\n",
       "      <td>Digital Art</td>\n",
       "      <td>art</td>\n",
       "      <td>12</td>\n",
       "      <td>Town</td>\n",
       "      <td>US</td>\n",
       "      <td>VA</td>\n",
       "      <td>Moneta, VA</td>\n",
       "      <td>failed</td>\n",
       "    </tr>\n",
       "    <tr>\n",
       "      <th>3</th>\n",
       "      <td>3</td>\n",
       "      <td>189217262</td>\n",
       "      <td>0</td>\n",
       "      <td>I want to create a Nature Photograph Series of...</td>\n",
       "      <td>USD</td>\n",
       "      <td>900.0</td>\n",
       "      <td>2015-05-11 16:09:11</td>\n",
       "      <td>2015-05-31 16:09:11</td>\n",
       "      <td>US</td>\n",
       "      <td>Sacramento Nature Photograph Series</td>\n",
       "      <td>...</td>\n",
       "      <td>20</td>\n",
       "      <td>900.0000</td>\n",
       "      <td>Digital Art</td>\n",
       "      <td>art</td>\n",
       "      <td>17</td>\n",
       "      <td>Town</td>\n",
       "      <td>US</td>\n",
       "      <td>CA</td>\n",
       "      <td>Sacramento, CA</td>\n",
       "      <td>failed</td>\n",
       "    </tr>\n",
       "    <tr>\n",
       "      <th>4</th>\n",
       "      <td>4</td>\n",
       "      <td>1260075071</td>\n",
       "      <td>1</td>\n",
       "      <td>I want to bring colour to the world in my own ...</td>\n",
       "      <td>GBP</td>\n",
       "      <td>15000.0</td>\n",
       "      <td>2015-02-06 21:52:02</td>\n",
       "      <td>2015-03-08 20:52:02</td>\n",
       "      <td>GB</td>\n",
       "      <td>North Africa art project - my dream</td>\n",
       "      <td>...</td>\n",
       "      <td>30</td>\n",
       "      <td>22801.6545</td>\n",
       "      <td>Digital Art</td>\n",
       "      <td>art</td>\n",
       "      <td>26</td>\n",
       "      <td>County</td>\n",
       "      <td>GB</td>\n",
       "      <td>England</td>\n",
       "      <td>Essex, UK</td>\n",
       "      <td>failed</td>\n",
       "    </tr>\n",
       "  </tbody>\n",
       "</table>\n",
       "<p>5 rows × 30 columns</p>\n",
       "</div>"
      ],
      "text/plain": [
       "   Unnamed: 0          id  backers_count  \\\n",
       "0           0   857125548              1   \n",
       "1           1  1038659700              2   \n",
       "2           2  1238331911              0   \n",
       "3           3   189217262              0   \n",
       "4           4  1260075071              1   \n",
       "\n",
       "                                               blurb currency     goal  \\\n",
       "0  Exploring paint and its place in a digital world.      USD   2000.0   \n",
       "1  Mike Fassio wants a side-by-side photo of me a...      USD     10.0   \n",
       "2  I need your help to get a nice graphics tablet...      USD    900.0   \n",
       "3  I want to create a Nature Photograph Series of...      USD    900.0   \n",
       "4  I want to bring colour to the world in my own ...      GBP  15000.0   \n",
       "\n",
       "           launched_at             deadline location.country  \\\n",
       "0  2015-03-19 22:34:57  2015-04-30 23:12:00               US   \n",
       "1  2014-07-17 01:55:07  2014-07-27 01:55:07               US   \n",
       "2  2014-07-30 16:29:13  2014-08-29 16:29:13               US   \n",
       "3  2015-05-11 16:09:11  2015-05-31 16:09:11               US   \n",
       "4  2015-02-06 21:52:02  2015-03-08 20:52:02               GB   \n",
       "\n",
       "                                                name  ...  days_to_deadline  \\\n",
       "0                                              Remix  ...                42   \n",
       "1  Photo of Grant and Hazel eating cake with bare...  ...                10   \n",
       "2                   Minecraft Digital Art/Animations  ...                30   \n",
       "3                Sacramento Nature Photograph Series  ...                20   \n",
       "4                North Africa art project - my dream  ...                30   \n",
       "\n",
       "     goal_USD  category_name  category_slug  blurb_length location_type  \\\n",
       "0   2000.0000    Digital Art            art             9          Town   \n",
       "1     10.0000    Digital Art            art            21          Town   \n",
       "2    900.0000    Digital Art            art            12          Town   \n",
       "3    900.0000    Digital Art            art            17          Town   \n",
       "4  22801.6545    Digital Art            art            26        County   \n",
       "\n",
       "   location_country  location_state  location_displayable_name  binary_state  \n",
       "0                US              NY               New York, NY        failed  \n",
       "1                US              WA                Seattle, WA        failed  \n",
       "2                US              VA                 Moneta, VA        failed  \n",
       "3                US              CA             Sacramento, CA        failed  \n",
       "4                GB         England                  Essex, UK        failed  \n",
       "\n",
       "[5 rows x 30 columns]"
      ]
     },
     "execution_count": 133,
     "metadata": {},
     "output_type": "execute_result"
    }
   ],
   "source": [
    "cat_encoded_ksdf=ksdf.copy()\n",
    "cat_encoded_ksdf.head()"
   ]
  },
  {
   "cell_type": "code",
   "execution_count": 134,
   "metadata": {},
   "outputs": [],
   "source": [
    "cat_encoded_ksdf.replace(replace_map_comp, inplace=True)"
   ]
  },
  {
   "cell_type": "code",
   "execution_count": 135,
   "metadata": {},
   "outputs": [
    {
     "data": {
      "text/html": [
       "<div>\n",
       "<style scoped>\n",
       "    .dataframe tbody tr th:only-of-type {\n",
       "        vertical-align: middle;\n",
       "    }\n",
       "\n",
       "    .dataframe tbody tr th {\n",
       "        vertical-align: top;\n",
       "    }\n",
       "\n",
       "    .dataframe thead th {\n",
       "        text-align: right;\n",
       "    }\n",
       "</style>\n",
       "<table border=\"1\" class=\"dataframe\">\n",
       "  <thead>\n",
       "    <tr style=\"text-align: right;\">\n",
       "      <th></th>\n",
       "      <th>Unnamed: 0</th>\n",
       "      <th>id</th>\n",
       "      <th>backers_count</th>\n",
       "      <th>blurb</th>\n",
       "      <th>currency</th>\n",
       "      <th>goal</th>\n",
       "      <th>launched_at</th>\n",
       "      <th>deadline</th>\n",
       "      <th>location.country</th>\n",
       "      <th>name</th>\n",
       "      <th>...</th>\n",
       "      <th>days_to_deadline</th>\n",
       "      <th>goal_USD</th>\n",
       "      <th>category_name</th>\n",
       "      <th>category_slug</th>\n",
       "      <th>blurb_length</th>\n",
       "      <th>location_type</th>\n",
       "      <th>location_country</th>\n",
       "      <th>location_state</th>\n",
       "      <th>location_displayable_name</th>\n",
       "      <th>binary_state</th>\n",
       "    </tr>\n",
       "  </thead>\n",
       "  <tbody>\n",
       "    <tr>\n",
       "      <th>0</th>\n",
       "      <td>0</td>\n",
       "      <td>857125548</td>\n",
       "      <td>1</td>\n",
       "      <td>Exploring paint and its place in a digital world.</td>\n",
       "      <td>USD</td>\n",
       "      <td>2000.0</td>\n",
       "      <td>2015-03-19 22:34:57</td>\n",
       "      <td>2015-04-30 23:12:00</td>\n",
       "      <td>US</td>\n",
       "      <td>Remix</td>\n",
       "      <td>...</td>\n",
       "      <td>42</td>\n",
       "      <td>2000.00000</td>\n",
       "      <td>39</td>\n",
       "      <td>art</td>\n",
       "      <td>9</td>\n",
       "      <td>Town</td>\n",
       "      <td>US</td>\n",
       "      <td>NY</td>\n",
       "      <td>New York, NY</td>\n",
       "      <td>failed</td>\n",
       "    </tr>\n",
       "    <tr>\n",
       "      <th>1</th>\n",
       "      <td>1</td>\n",
       "      <td>1038659700</td>\n",
       "      <td>2</td>\n",
       "      <td>Mike Fassio wants a side-by-side photo of me a...</td>\n",
       "      <td>USD</td>\n",
       "      <td>10.0</td>\n",
       "      <td>2014-07-17 01:55:07</td>\n",
       "      <td>2014-07-27 01:55:07</td>\n",
       "      <td>US</td>\n",
       "      <td>Photo of Grant and Hazel eating cake with bare...</td>\n",
       "      <td>...</td>\n",
       "      <td>10</td>\n",
       "      <td>10.00000</td>\n",
       "      <td>39</td>\n",
       "      <td>art</td>\n",
       "      <td>21</td>\n",
       "      <td>Town</td>\n",
       "      <td>US</td>\n",
       "      <td>WA</td>\n",
       "      <td>Seattle, WA</td>\n",
       "      <td>failed</td>\n",
       "    </tr>\n",
       "    <tr>\n",
       "      <th>2</th>\n",
       "      <td>2</td>\n",
       "      <td>1238331911</td>\n",
       "      <td>0</td>\n",
       "      <td>I need your help to get a nice graphics tablet...</td>\n",
       "      <td>USD</td>\n",
       "      <td>900.0</td>\n",
       "      <td>2014-07-30 16:29:13</td>\n",
       "      <td>2014-08-29 16:29:13</td>\n",
       "      <td>US</td>\n",
       "      <td>Minecraft Digital Art/Animations</td>\n",
       "      <td>...</td>\n",
       "      <td>30</td>\n",
       "      <td>900.00000</td>\n",
       "      <td>39</td>\n",
       "      <td>art</td>\n",
       "      <td>12</td>\n",
       "      <td>Town</td>\n",
       "      <td>US</td>\n",
       "      <td>VA</td>\n",
       "      <td>Moneta, VA</td>\n",
       "      <td>failed</td>\n",
       "    </tr>\n",
       "    <tr>\n",
       "      <th>3</th>\n",
       "      <td>3</td>\n",
       "      <td>189217262</td>\n",
       "      <td>0</td>\n",
       "      <td>I want to create a Nature Photograph Series of...</td>\n",
       "      <td>USD</td>\n",
       "      <td>900.0</td>\n",
       "      <td>2015-05-11 16:09:11</td>\n",
       "      <td>2015-05-31 16:09:11</td>\n",
       "      <td>US</td>\n",
       "      <td>Sacramento Nature Photograph Series</td>\n",
       "      <td>...</td>\n",
       "      <td>20</td>\n",
       "      <td>900.00000</td>\n",
       "      <td>39</td>\n",
       "      <td>art</td>\n",
       "      <td>17</td>\n",
       "      <td>Town</td>\n",
       "      <td>US</td>\n",
       "      <td>CA</td>\n",
       "      <td>Sacramento, CA</td>\n",
       "      <td>failed</td>\n",
       "    </tr>\n",
       "    <tr>\n",
       "      <th>4</th>\n",
       "      <td>4</td>\n",
       "      <td>1260075071</td>\n",
       "      <td>1</td>\n",
       "      <td>I want to bring colour to the world in my own ...</td>\n",
       "      <td>GBP</td>\n",
       "      <td>15000.0</td>\n",
       "      <td>2015-02-06 21:52:02</td>\n",
       "      <td>2015-03-08 20:52:02</td>\n",
       "      <td>GB</td>\n",
       "      <td>North Africa art project - my dream</td>\n",
       "      <td>...</td>\n",
       "      <td>30</td>\n",
       "      <td>22801.65450</td>\n",
       "      <td>39</td>\n",
       "      <td>art</td>\n",
       "      <td>26</td>\n",
       "      <td>County</td>\n",
       "      <td>GB</td>\n",
       "      <td>England</td>\n",
       "      <td>Essex, UK</td>\n",
       "      <td>failed</td>\n",
       "    </tr>\n",
       "    <tr>\n",
       "      <th>...</th>\n",
       "      <td>...</td>\n",
       "      <td>...</td>\n",
       "      <td>...</td>\n",
       "      <td>...</td>\n",
       "      <td>...</td>\n",
       "      <td>...</td>\n",
       "      <td>...</td>\n",
       "      <td>...</td>\n",
       "      <td>...</td>\n",
       "      <td>...</td>\n",
       "      <td>...</td>\n",
       "      <td>...</td>\n",
       "      <td>...</td>\n",
       "      <td>...</td>\n",
       "      <td>...</td>\n",
       "      <td>...</td>\n",
       "      <td>...</td>\n",
       "      <td>...</td>\n",
       "      <td>...</td>\n",
       "      <td>...</td>\n",
       "      <td>...</td>\n",
       "    </tr>\n",
       "    <tr>\n",
       "      <th>430933</th>\n",
       "      <td>2948</td>\n",
       "      <td>124106286</td>\n",
       "      <td>232</td>\n",
       "      <td>A Lovecraftian school for the naughty offsprin...</td>\n",
       "      <td>GBP</td>\n",
       "      <td>4000.0</td>\n",
       "      <td>2018-05-14 15:51:11</td>\n",
       "      <td>2018-06-15 22:59:00</td>\n",
       "      <td>GB</td>\n",
       "      <td>Cthulhu Kids- All Ages Cosmic Terror &amp; Mythos ...</td>\n",
       "      <td>...</td>\n",
       "      <td>32</td>\n",
       "      <td>5417.85184</td>\n",
       "      <td>26</td>\n",
       "      <td>comics</td>\n",
       "      <td>21</td>\n",
       "      <td>Town</td>\n",
       "      <td>GB</td>\n",
       "      <td>England</td>\n",
       "      <td>Bournemouth, UK</td>\n",
       "      <td>successful</td>\n",
       "    </tr>\n",
       "    <tr>\n",
       "      <th>430934</th>\n",
       "      <td>2969</td>\n",
       "      <td>665158050</td>\n",
       "      <td>215</td>\n",
       "      <td>The most versatile Camping &amp; Survival Stove on...</td>\n",
       "      <td>USD</td>\n",
       "      <td>4800.0</td>\n",
       "      <td>2018-05-17 17:13:41</td>\n",
       "      <td>2018-06-20 00:00:00</td>\n",
       "      <td>US</td>\n",
       "      <td>SIEGE STOVE: The Ultimate Camping &amp; Survival S...</td>\n",
       "      <td>...</td>\n",
       "      <td>33</td>\n",
       "      <td>4800.00000</td>\n",
       "      <td>114</td>\n",
       "      <td>design</td>\n",
       "      <td>19</td>\n",
       "      <td>Town</td>\n",
       "      <td>US</td>\n",
       "      <td>CA</td>\n",
       "      <td>Walnut Creek, CA</td>\n",
       "      <td>successful</td>\n",
       "    </tr>\n",
       "    <tr>\n",
       "      <th>430935</th>\n",
       "      <td>534</td>\n",
       "      <td>1947126385</td>\n",
       "      <td>260</td>\n",
       "      <td>Jim Starlin, creator of Thanos, Gamora, Drax, ...</td>\n",
       "      <td>USD</td>\n",
       "      <td>26500.0</td>\n",
       "      <td>2018-06-07 08:23:15</td>\n",
       "      <td>2018-07-12 15:59:00</td>\n",
       "      <td>US</td>\n",
       "      <td>Cosmic Master Jim Starlin's Art Book and Illus...</td>\n",
       "      <td>...</td>\n",
       "      <td>35</td>\n",
       "      <td>26500.00000</td>\n",
       "      <td>26</td>\n",
       "      <td>comics</td>\n",
       "      <td>20</td>\n",
       "      <td>Town</td>\n",
       "      <td>US</td>\n",
       "      <td>NY</td>\n",
       "      <td>Tonawanda, NY</td>\n",
       "      <td>failed</td>\n",
       "    </tr>\n",
       "    <tr>\n",
       "      <th>430936</th>\n",
       "      <td>541</td>\n",
       "      <td>1535298356</td>\n",
       "      <td>7</td>\n",
       "      <td>Adrik Koznof is an FBI Forensic Chemist and co...</td>\n",
       "      <td>USD</td>\n",
       "      <td>1500.0</td>\n",
       "      <td>2018-06-04 13:05:31</td>\n",
       "      <td>2018-07-04 13:05:31</td>\n",
       "      <td>US</td>\n",
       "      <td>Adrik Koznof THE CRIME FIGHTING CHEMIST</td>\n",
       "      <td>...</td>\n",
       "      <td>30</td>\n",
       "      <td>1500.00000</td>\n",
       "      <td>26</td>\n",
       "      <td>comics</td>\n",
       "      <td>21</td>\n",
       "      <td>Town</td>\n",
       "      <td>US</td>\n",
       "      <td>MI</td>\n",
       "      <td>Grand Rapids, MI</td>\n",
       "      <td>failed</td>\n",
       "    </tr>\n",
       "    <tr>\n",
       "      <th>430937</th>\n",
       "      <td>768</td>\n",
       "      <td>320459788</td>\n",
       "      <td>62</td>\n",
       "      <td>Every path of every NASA spacecraft ever launc...</td>\n",
       "      <td>USD</td>\n",
       "      <td>550.0</td>\n",
       "      <td>2018-05-21 14:43:32</td>\n",
       "      <td>2018-05-31 14:43:32</td>\n",
       "      <td>US</td>\n",
       "      <td>Modern Space - A Simple Print</td>\n",
       "      <td>...</td>\n",
       "      <td>10</td>\n",
       "      <td>550.00000</td>\n",
       "      <td>66</td>\n",
       "      <td>design</td>\n",
       "      <td>8</td>\n",
       "      <td>Town</td>\n",
       "      <td>US</td>\n",
       "      <td>IL</td>\n",
       "      <td>Chicago, IL</td>\n",
       "      <td>successful</td>\n",
       "    </tr>\n",
       "  </tbody>\n",
       "</table>\n",
       "<p>430938 rows × 30 columns</p>\n",
       "</div>"
      ],
      "text/plain": [
       "        Unnamed: 0          id  backers_count  \\\n",
       "0                0   857125548              1   \n",
       "1                1  1038659700              2   \n",
       "2                2  1238331911              0   \n",
       "3                3   189217262              0   \n",
       "4                4  1260075071              1   \n",
       "...            ...         ...            ...   \n",
       "430933        2948   124106286            232   \n",
       "430934        2969   665158050            215   \n",
       "430935         534  1947126385            260   \n",
       "430936         541  1535298356              7   \n",
       "430937         768   320459788             62   \n",
       "\n",
       "                                                    blurb currency     goal  \\\n",
       "0       Exploring paint and its place in a digital world.      USD   2000.0   \n",
       "1       Mike Fassio wants a side-by-side photo of me a...      USD     10.0   \n",
       "2       I need your help to get a nice graphics tablet...      USD    900.0   \n",
       "3       I want to create a Nature Photograph Series of...      USD    900.0   \n",
       "4       I want to bring colour to the world in my own ...      GBP  15000.0   \n",
       "...                                                   ...      ...      ...   \n",
       "430933  A Lovecraftian school for the naughty offsprin...      GBP   4000.0   \n",
       "430934  The most versatile Camping & Survival Stove on...      USD   4800.0   \n",
       "430935  Jim Starlin, creator of Thanos, Gamora, Drax, ...      USD  26500.0   \n",
       "430936  Adrik Koznof is an FBI Forensic Chemist and co...      USD   1500.0   \n",
       "430937  Every path of every NASA spacecraft ever launc...      USD    550.0   \n",
       "\n",
       "                launched_at             deadline location.country  \\\n",
       "0       2015-03-19 22:34:57  2015-04-30 23:12:00               US   \n",
       "1       2014-07-17 01:55:07  2014-07-27 01:55:07               US   \n",
       "2       2014-07-30 16:29:13  2014-08-29 16:29:13               US   \n",
       "3       2015-05-11 16:09:11  2015-05-31 16:09:11               US   \n",
       "4       2015-02-06 21:52:02  2015-03-08 20:52:02               GB   \n",
       "...                     ...                  ...              ...   \n",
       "430933  2018-05-14 15:51:11  2018-06-15 22:59:00               GB   \n",
       "430934  2018-05-17 17:13:41  2018-06-20 00:00:00               US   \n",
       "430935  2018-06-07 08:23:15  2018-07-12 15:59:00               US   \n",
       "430936  2018-06-04 13:05:31  2018-07-04 13:05:31               US   \n",
       "430937  2018-05-21 14:43:32  2018-05-31 14:43:32               US   \n",
       "\n",
       "                                                     name  ...  \\\n",
       "0                                                   Remix  ...   \n",
       "1       Photo of Grant and Hazel eating cake with bare...  ...   \n",
       "2                        Minecraft Digital Art/Animations  ...   \n",
       "3                     Sacramento Nature Photograph Series  ...   \n",
       "4                     North Africa art project - my dream  ...   \n",
       "...                                                   ...  ...   \n",
       "430933  Cthulhu Kids- All Ages Cosmic Terror & Mythos ...  ...   \n",
       "430934  SIEGE STOVE: The Ultimate Camping & Survival S...  ...   \n",
       "430935  Cosmic Master Jim Starlin's Art Book and Illus...  ...   \n",
       "430936            Adrik Koznof THE CRIME FIGHTING CHEMIST  ...   \n",
       "430937                      Modern Space - A Simple Print  ...   \n",
       "\n",
       "        days_to_deadline     goal_USD  category_name  category_slug  \\\n",
       "0                     42   2000.00000             39            art   \n",
       "1                     10     10.00000             39            art   \n",
       "2                     30    900.00000             39            art   \n",
       "3                     20    900.00000             39            art   \n",
       "4                     30  22801.65450             39            art   \n",
       "...                  ...          ...            ...            ...   \n",
       "430933                32   5417.85184             26         comics   \n",
       "430934                33   4800.00000            114         design   \n",
       "430935                35  26500.00000             26         comics   \n",
       "430936                30   1500.00000             26         comics   \n",
       "430937                10    550.00000             66         design   \n",
       "\n",
       "        blurb_length location_type  location_country  location_state  \\\n",
       "0                  9          Town                US              NY   \n",
       "1                 21          Town                US              WA   \n",
       "2                 12          Town                US              VA   \n",
       "3                 17          Town                US              CA   \n",
       "4                 26        County                GB         England   \n",
       "...              ...           ...               ...             ...   \n",
       "430933            21          Town                GB         England   \n",
       "430934            19          Town                US              CA   \n",
       "430935            20          Town                US              NY   \n",
       "430936            21          Town                US              MI   \n",
       "430937             8          Town                US              IL   \n",
       "\n",
       "        location_displayable_name  binary_state  \n",
       "0                    New York, NY        failed  \n",
       "1                     Seattle, WA        failed  \n",
       "2                      Moneta, VA        failed  \n",
       "3                  Sacramento, CA        failed  \n",
       "4                       Essex, UK        failed  \n",
       "...                           ...           ...  \n",
       "430933            Bournemouth, UK    successful  \n",
       "430934           Walnut Creek, CA    successful  \n",
       "430935              Tonawanda, NY        failed  \n",
       "430936           Grand Rapids, MI        failed  \n",
       "430937                Chicago, IL    successful  \n",
       "\n",
       "[430938 rows x 30 columns]"
      ]
     },
     "execution_count": 135,
     "metadata": {},
     "output_type": "execute_result"
    }
   ],
   "source": [
    "cat_encoded_ksdf"
   ]
  },
  {
   "cell_type": "code",
   "execution_count": 136,
   "metadata": {},
   "outputs": [
    {
     "data": {
      "text/html": [
       "<div>\n",
       "<style scoped>\n",
       "    .dataframe tbody tr th:only-of-type {\n",
       "        vertical-align: middle;\n",
       "    }\n",
       "\n",
       "    .dataframe tbody tr th {\n",
       "        vertical-align: top;\n",
       "    }\n",
       "\n",
       "    .dataframe thead th {\n",
       "        text-align: right;\n",
       "    }\n",
       "</style>\n",
       "<table border=\"1\" class=\"dataframe\">\n",
       "  <thead>\n",
       "    <tr style=\"text-align: right;\">\n",
       "      <th></th>\n",
       "      <th>Unnamed: 0</th>\n",
       "      <th>id</th>\n",
       "      <th>backers_count</th>\n",
       "      <th>blurb</th>\n",
       "      <th>currency</th>\n",
       "      <th>goal</th>\n",
       "      <th>launched_at</th>\n",
       "      <th>deadline</th>\n",
       "      <th>location.country</th>\n",
       "      <th>name</th>\n",
       "      <th>...</th>\n",
       "      <th>days_to_deadline</th>\n",
       "      <th>goal_USD</th>\n",
       "      <th>category_name</th>\n",
       "      <th>category_slug</th>\n",
       "      <th>blurb_length</th>\n",
       "      <th>location_type</th>\n",
       "      <th>location_country</th>\n",
       "      <th>location_state</th>\n",
       "      <th>location_displayable_name</th>\n",
       "      <th>binary_state</th>\n",
       "    </tr>\n",
       "  </thead>\n",
       "  <tbody>\n",
       "    <tr>\n",
       "      <th>0</th>\n",
       "      <td>0</td>\n",
       "      <td>857125548</td>\n",
       "      <td>1</td>\n",
       "      <td>Exploring paint and its place in a digital world.</td>\n",
       "      <td>USD</td>\n",
       "      <td>2000.0</td>\n",
       "      <td>2015-03-19 22:34:57</td>\n",
       "      <td>2015-04-30 23:12:00</td>\n",
       "      <td>US</td>\n",
       "      <td>Remix</td>\n",
       "      <td>...</td>\n",
       "      <td>42</td>\n",
       "      <td>2000.0000</td>\n",
       "      <td>39</td>\n",
       "      <td>art</td>\n",
       "      <td>9</td>\n",
       "      <td>Town</td>\n",
       "      <td>US</td>\n",
       "      <td>NY</td>\n",
       "      <td>New York, NY</td>\n",
       "      <td>failed</td>\n",
       "    </tr>\n",
       "    <tr>\n",
       "      <th>1</th>\n",
       "      <td>1</td>\n",
       "      <td>1038659700</td>\n",
       "      <td>2</td>\n",
       "      <td>Mike Fassio wants a side-by-side photo of me a...</td>\n",
       "      <td>USD</td>\n",
       "      <td>10.0</td>\n",
       "      <td>2014-07-17 01:55:07</td>\n",
       "      <td>2014-07-27 01:55:07</td>\n",
       "      <td>US</td>\n",
       "      <td>Photo of Grant and Hazel eating cake with bare...</td>\n",
       "      <td>...</td>\n",
       "      <td>10</td>\n",
       "      <td>10.0000</td>\n",
       "      <td>39</td>\n",
       "      <td>art</td>\n",
       "      <td>21</td>\n",
       "      <td>Town</td>\n",
       "      <td>US</td>\n",
       "      <td>WA</td>\n",
       "      <td>Seattle, WA</td>\n",
       "      <td>failed</td>\n",
       "    </tr>\n",
       "    <tr>\n",
       "      <th>2</th>\n",
       "      <td>2</td>\n",
       "      <td>1238331911</td>\n",
       "      <td>0</td>\n",
       "      <td>I need your help to get a nice graphics tablet...</td>\n",
       "      <td>USD</td>\n",
       "      <td>900.0</td>\n",
       "      <td>2014-07-30 16:29:13</td>\n",
       "      <td>2014-08-29 16:29:13</td>\n",
       "      <td>US</td>\n",
       "      <td>Minecraft Digital Art/Animations</td>\n",
       "      <td>...</td>\n",
       "      <td>30</td>\n",
       "      <td>900.0000</td>\n",
       "      <td>39</td>\n",
       "      <td>art</td>\n",
       "      <td>12</td>\n",
       "      <td>Town</td>\n",
       "      <td>US</td>\n",
       "      <td>VA</td>\n",
       "      <td>Moneta, VA</td>\n",
       "      <td>failed</td>\n",
       "    </tr>\n",
       "    <tr>\n",
       "      <th>3</th>\n",
       "      <td>3</td>\n",
       "      <td>189217262</td>\n",
       "      <td>0</td>\n",
       "      <td>I want to create a Nature Photograph Series of...</td>\n",
       "      <td>USD</td>\n",
       "      <td>900.0</td>\n",
       "      <td>2015-05-11 16:09:11</td>\n",
       "      <td>2015-05-31 16:09:11</td>\n",
       "      <td>US</td>\n",
       "      <td>Sacramento Nature Photograph Series</td>\n",
       "      <td>...</td>\n",
       "      <td>20</td>\n",
       "      <td>900.0000</td>\n",
       "      <td>39</td>\n",
       "      <td>art</td>\n",
       "      <td>17</td>\n",
       "      <td>Town</td>\n",
       "      <td>US</td>\n",
       "      <td>CA</td>\n",
       "      <td>Sacramento, CA</td>\n",
       "      <td>failed</td>\n",
       "    </tr>\n",
       "    <tr>\n",
       "      <th>4</th>\n",
       "      <td>4</td>\n",
       "      <td>1260075071</td>\n",
       "      <td>1</td>\n",
       "      <td>I want to bring colour to the world in my own ...</td>\n",
       "      <td>GBP</td>\n",
       "      <td>15000.0</td>\n",
       "      <td>2015-02-06 21:52:02</td>\n",
       "      <td>2015-03-08 20:52:02</td>\n",
       "      <td>GB</td>\n",
       "      <td>North Africa art project - my dream</td>\n",
       "      <td>...</td>\n",
       "      <td>30</td>\n",
       "      <td>22801.6545</td>\n",
       "      <td>39</td>\n",
       "      <td>art</td>\n",
       "      <td>26</td>\n",
       "      <td>County</td>\n",
       "      <td>GB</td>\n",
       "      <td>England</td>\n",
       "      <td>Essex, UK</td>\n",
       "      <td>failed</td>\n",
       "    </tr>\n",
       "  </tbody>\n",
       "</table>\n",
       "<p>5 rows × 30 columns</p>\n",
       "</div>"
      ],
      "text/plain": [
       "   Unnamed: 0          id  backers_count  \\\n",
       "0           0   857125548              1   \n",
       "1           1  1038659700              2   \n",
       "2           2  1238331911              0   \n",
       "3           3   189217262              0   \n",
       "4           4  1260075071              1   \n",
       "\n",
       "                                               blurb currency     goal  \\\n",
       "0  Exploring paint and its place in a digital world.      USD   2000.0   \n",
       "1  Mike Fassio wants a side-by-side photo of me a...      USD     10.0   \n",
       "2  I need your help to get a nice graphics tablet...      USD    900.0   \n",
       "3  I want to create a Nature Photograph Series of...      USD    900.0   \n",
       "4  I want to bring colour to the world in my own ...      GBP  15000.0   \n",
       "\n",
       "           launched_at             deadline location.country  \\\n",
       "0  2015-03-19 22:34:57  2015-04-30 23:12:00               US   \n",
       "1  2014-07-17 01:55:07  2014-07-27 01:55:07               US   \n",
       "2  2014-07-30 16:29:13  2014-08-29 16:29:13               US   \n",
       "3  2015-05-11 16:09:11  2015-05-31 16:09:11               US   \n",
       "4  2015-02-06 21:52:02  2015-03-08 20:52:02               GB   \n",
       "\n",
       "                                                name  ...  days_to_deadline  \\\n",
       "0                                              Remix  ...                42   \n",
       "1  Photo of Grant and Hazel eating cake with bare...  ...                10   \n",
       "2                   Minecraft Digital Art/Animations  ...                30   \n",
       "3                Sacramento Nature Photograph Series  ...                20   \n",
       "4                North Africa art project - my dream  ...                30   \n",
       "\n",
       "     goal_USD  category_name  category_slug  blurb_length location_type  \\\n",
       "0   2000.0000             39            art             9          Town   \n",
       "1     10.0000             39            art            21          Town   \n",
       "2    900.0000             39            art            12          Town   \n",
       "3    900.0000             39            art            17          Town   \n",
       "4  22801.6545             39            art            26        County   \n",
       "\n",
       "   location_country  location_state  location_displayable_name  binary_state  \n",
       "0                US              NY               New York, NY        failed  \n",
       "1                US              WA                Seattle, WA        failed  \n",
       "2                US              VA                 Moneta, VA        failed  \n",
       "3                US              CA             Sacramento, CA        failed  \n",
       "4                GB         England                  Essex, UK        failed  \n",
       "\n",
       "[5 rows x 30 columns]"
      ]
     },
     "execution_count": 136,
     "metadata": {},
     "output_type": "execute_result"
    }
   ],
   "source": [
    "cat_encoded_ksdf.head()"
   ]
  },
  {
   "cell_type": "code",
   "execution_count": 18,
   "metadata": {
    "_uuid": "e88ae38e3ee6a2665e75f26ab773f7723d2063ce",
    "scrolled": true
   },
   "outputs": [
    {
     "data": {
      "text/plain": [
       "Unnamed: 0                      0\n",
       "id                              0\n",
       "backers_count                   0\n",
       "blurb                           0\n",
       "currency                        0\n",
       "goal                            0\n",
       "launched_at                     0\n",
       "deadline                        0\n",
       "location.country             1095\n",
       "name                            4\n",
       "usd_pledged                     0\n",
       "slug                            0\n",
       "spotlight                       0\n",
       "staff_pick                      0\n",
       "static_usd_rate                 0\n",
       "state                           0\n",
       "year                            0\n",
       "month                           0\n",
       "day                             0\n",
       "hour                            0\n",
       "days_to_deadline                0\n",
       "goal_USD                        0\n",
       "category_name                   0\n",
       "category_slug                   0\n",
       "blurb_length                    0\n",
       "location_type                   0\n",
       "location_country                0\n",
       "location_state                  0\n",
       "location_displayable_name       0\n",
       "binary_state                    0\n",
       "dtype: int64"
      ]
     },
     "execution_count": 18,
     "metadata": {},
     "output_type": "execute_result"
    }
   ],
   "source": [
    "ksdf.isnull().sum()"
   ]
  },
  {
   "cell_type": "code",
   "execution_count": 41,
   "metadata": {},
   "outputs": [
    {
     "data": {
      "text/plain": [
       "219382"
      ]
     },
     "execution_count": 41,
     "metadata": {},
     "output_type": "execute_result"
    }
   ],
   "source": [
    "ksdf['backers_count'].max()"
   ]
  },
  {
   "cell_type": "code",
   "execution_count": 46,
   "metadata": {},
   "outputs": [
    {
     "data": {
      "text/plain": [
       "<AxesSubplot:>"
      ]
     },
     "execution_count": 46,
     "metadata": {},
     "output_type": "execute_result"
    },
    {
     "data": {
      "image/png": "[encoded data removed]",
      "text/plain": [
       "<Figure size 432x288 with 1 Axes>"
      ]
     },
     "metadata": {
      "needs_background": "light"
     },
     "output_type": "display_data"
    }
   ],
   "source": [
    "ksdf['backers_count'].hist(range=[0, 100])\n"
   ]
  },
  {
   "cell_type": "code",
   "execution_count": 49,
   "metadata": {},
   "outputs": [
    {
     "data": {
      "text/plain": [
       "<AxesSubplot:>"
      ]
     },
     "execution_count": 49,
     "metadata": {},
     "output_type": "execute_result"
    },
    {
     "data": {
      "image/png": "[encoded data removed]",
      "text/plain": [
       "<Figure size 432x288 with 1 Axes>"
      ]
     },
     "metadata": {
      "needs_background": "light"
     },
     "output_type": "display_data"
    }
   ],
   "source": [
    "ksdf['usd_pledged'].hist(range=[0,10000])"
   ]
  },
  {
   "cell_type": "code",
   "execution_count": 27,
   "metadata": {},
   "outputs": [
    {
     "data": {
      "text/plain": [
       "(430938,)"
      ]
     },
     "execution_count": 27,
     "metadata": {},
     "output_type": "execute_result"
    }
   ],
   "source": [
    "ksdf['backers_count'].shape"
   ]
  },
  {
   "cell_type": "markdown",
   "metadata": {
    "_uuid": "f165adbf4a9dc085e032f46f7d3f39dd30be5d80"
   },
   "source": [
    "According to the description of data:\n",
    "- **usd pledged** -> USD conversion made by KS for the pledged value\n",
    "- **usd_pledged_real** ->  USD conversion made by fixer.io api\n",
    "\n",
    "We will use **usd_pledged_real** for further analysis"
   ]
  },
  {
   "cell_type": "code",
   "execution_count": 19,
   "metadata": {
    "_uuid": "9622796ec3749329bbc3cc5b929bd2a76e552b27"
   },
   "outputs": [
    {
     "data": {
      "text/plain": [
       "Int64Index([14749, 51866, 158009, 253217], dtype='int64')"
      ]
     },
     "execution_count": 19,
     "metadata": {},
     "output_type": "execute_result"
    }
   ],
   "source": [
    "# Check missing values in the column \"name\"\n",
    "ksdf[pd.isnull(ksdf['name'])].index"
   ]
  },
  {
   "cell_type": "code",
   "execution_count": 21,
   "metadata": {
    "_uuid": "64ec4370f3280dcc9575a69527493317577f5a4a"
   },
   "outputs": [
    {
     "data": {
      "text/html": [
       "<div>\n",
       "<style scoped>\n",
       "    .dataframe tbody tr th:only-of-type {\n",
       "        vertical-align: middle;\n",
       "    }\n",
       "\n",
       "    .dataframe tbody tr th {\n",
       "        vertical-align: top;\n",
       "    }\n",
       "\n",
       "    .dataframe thead th {\n",
       "        text-align: right;\n",
       "    }\n",
       "</style>\n",
       "<table border=\"1\" class=\"dataframe\">\n",
       "  <thead>\n",
       "    <tr style=\"text-align: right;\">\n",
       "      <th></th>\n",
       "      <th>Unnamed: 0</th>\n",
       "      <th>id</th>\n",
       "      <th>backers_count</th>\n",
       "      <th>blurb</th>\n",
       "      <th>currency</th>\n",
       "      <th>goal</th>\n",
       "      <th>launched_at</th>\n",
       "      <th>deadline</th>\n",
       "      <th>location.country</th>\n",
       "      <th>name</th>\n",
       "      <th>...</th>\n",
       "      <th>days_to_deadline</th>\n",
       "      <th>goal_USD</th>\n",
       "      <th>category_name</th>\n",
       "      <th>category_slug</th>\n",
       "      <th>blurb_length</th>\n",
       "      <th>location_type</th>\n",
       "      <th>location_country</th>\n",
       "      <th>location_state</th>\n",
       "      <th>location_displayable_name</th>\n",
       "      <th>binary_state</th>\n",
       "    </tr>\n",
       "  </thead>\n",
       "  <tbody>\n",
       "    <tr>\n",
       "      <th>14749</th>\n",
       "      <td>2461</td>\n",
       "      <td>796533179</td>\n",
       "      <td>5</td>\n",
       "      <td>-</td>\n",
       "      <td>USD</td>\n",
       "      <td>35000.0</td>\n",
       "      <td>2011-11-06 22:55:55</td>\n",
       "      <td>2011-12-05 04:59:00</td>\n",
       "      <td>US</td>\n",
       "      <td>NaN</td>\n",
       "      <td>...</td>\n",
       "      <td>28</td>\n",
       "      <td>35000.0</td>\n",
       "      <td>Painting</td>\n",
       "      <td>art</td>\n",
       "      <td>1</td>\n",
       "      <td>Town</td>\n",
       "      <td>US</td>\n",
       "      <td>IN</td>\n",
       "      <td>Milan, IN</td>\n",
       "      <td>failed</td>\n",
       "    </tr>\n",
       "  </tbody>\n",
       "</table>\n",
       "<p>1 rows × 30 columns</p>\n",
       "</div>"
      ],
      "text/plain": [
       "       Unnamed: 0         id  backers_count blurb currency     goal  \\\n",
       "14749        2461  796533179              5     -      USD  35000.0   \n",
       "\n",
       "               launched_at             deadline location.country name  ...  \\\n",
       "14749  2011-11-06 22:55:55  2011-12-05 04:59:00               US  NaN  ...   \n",
       "\n",
       "       days_to_deadline goal_USD  category_name  category_slug  blurb_length  \\\n",
       "14749                28  35000.0       Painting            art             1   \n",
       "\n",
       "      location_type  location_country  location_state  \\\n",
       "14749          Town                US              IN   \n",
       "\n",
       "       location_displayable_name  binary_state  \n",
       "14749                  Milan, IN        failed  \n",
       "\n",
       "[1 rows x 30 columns]"
      ]
     },
     "execution_count": 21,
     "metadata": {},
     "output_type": "execute_result"
    }
   ],
   "source": [
    "ksdf[ksdf.index == 14749]\n",
    "#ksdf[ksdf.index == 51866]"
   ]
  },
  {
   "cell_type": "code",
   "execution_count": 72,
   "metadata": {},
   "outputs": [
    {
     "data": {
      "text/plain": [
       "(174996, 30)"
      ]
     },
     "execution_count": 72,
     "metadata": {},
     "output_type": "execute_result"
    }
   ],
   "source": [
    "ksfailed=ksdf[ksdf['binary_state'] == 'failed']\n",
    "ksfailed=ksfailed[ksfailed['currency'] == 'USD']\n",
    "ksfailed.shape"
   ]
  },
  {
   "cell_type": "code",
   "execution_count": null,
   "metadata": {},
   "outputs": [],
   "source": []
  },
  {
   "cell_type": "code",
   "execution_count": null,
   "metadata": {},
   "outputs": [],
   "source": [
    "ksfailed=ksfailed[ksfailed['currency'] == 'USD']"
   ]
  },
  {
   "cell_type": "code",
   "execution_count": 73,
   "metadata": {},
   "outputs": [
    {
     "data": {
      "text/html": [
       "<div>\n",
       "<style scoped>\n",
       "    .dataframe tbody tr th:only-of-type {\n",
       "        vertical-align: middle;\n",
       "    }\n",
       "\n",
       "    .dataframe tbody tr th {\n",
       "        vertical-align: top;\n",
       "    }\n",
       "\n",
       "    .dataframe thead th {\n",
       "        text-align: right;\n",
       "    }\n",
       "</style>\n",
       "<table border=\"1\" class=\"dataframe\">\n",
       "  <thead>\n",
       "    <tr style=\"text-align: right;\">\n",
       "      <th></th>\n",
       "      <th>Unnamed: 0</th>\n",
       "      <th>id</th>\n",
       "      <th>backers_count</th>\n",
       "      <th>blurb</th>\n",
       "      <th>currency</th>\n",
       "      <th>goal</th>\n",
       "      <th>launched_at</th>\n",
       "      <th>deadline</th>\n",
       "      <th>location.country</th>\n",
       "      <th>name</th>\n",
       "      <th>...</th>\n",
       "      <th>days_to_deadline</th>\n",
       "      <th>goal_USD</th>\n",
       "      <th>category_name</th>\n",
       "      <th>category_slug</th>\n",
       "      <th>blurb_length</th>\n",
       "      <th>location_type</th>\n",
       "      <th>location_country</th>\n",
       "      <th>location_state</th>\n",
       "      <th>location_displayable_name</th>\n",
       "      <th>binary_state</th>\n",
       "    </tr>\n",
       "  </thead>\n",
       "  <tbody>\n",
       "    <tr>\n",
       "      <th>0</th>\n",
       "      <td>0</td>\n",
       "      <td>857125548</td>\n",
       "      <td>1</td>\n",
       "      <td>Exploring paint and its place in a digital world.</td>\n",
       "      <td>USD</td>\n",
       "      <td>2000.0</td>\n",
       "      <td>2015-03-19 22:34:57</td>\n",
       "      <td>2015-04-30 23:12:00</td>\n",
       "      <td>US</td>\n",
       "      <td>Remix</td>\n",
       "      <td>...</td>\n",
       "      <td>42</td>\n",
       "      <td>2000.0</td>\n",
       "      <td>Digital Art</td>\n",
       "      <td>art</td>\n",
       "      <td>9</td>\n",
       "      <td>Town</td>\n",
       "      <td>US</td>\n",
       "      <td>NY</td>\n",
       "      <td>New York, NY</td>\n",
       "      <td>failed</td>\n",
       "    </tr>\n",
       "    <tr>\n",
       "      <th>1</th>\n",
       "      <td>1</td>\n",
       "      <td>1038659700</td>\n",
       "      <td>2</td>\n",
       "      <td>Mike Fassio wants a side-by-side photo of me a...</td>\n",
       "      <td>USD</td>\n",
       "      <td>10.0</td>\n",
       "      <td>2014-07-17 01:55:07</td>\n",
       "      <td>2014-07-27 01:55:07</td>\n",
       "      <td>US</td>\n",
       "      <td>Photo of Grant and Hazel eating cake with bare...</td>\n",
       "      <td>...</td>\n",
       "      <td>10</td>\n",
       "      <td>10.0</td>\n",
       "      <td>Digital Art</td>\n",
       "      <td>art</td>\n",
       "      <td>21</td>\n",
       "      <td>Town</td>\n",
       "      <td>US</td>\n",
       "      <td>WA</td>\n",
       "      <td>Seattle, WA</td>\n",
       "      <td>failed</td>\n",
       "    </tr>\n",
       "    <tr>\n",
       "      <th>2</th>\n",
       "      <td>2</td>\n",
       "      <td>1238331911</td>\n",
       "      <td>0</td>\n",
       "      <td>I need your help to get a nice graphics tablet...</td>\n",
       "      <td>USD</td>\n",
       "      <td>900.0</td>\n",
       "      <td>2014-07-30 16:29:13</td>\n",
       "      <td>2014-08-29 16:29:13</td>\n",
       "      <td>US</td>\n",
       "      <td>Minecraft Digital Art/Animations</td>\n",
       "      <td>...</td>\n",
       "      <td>30</td>\n",
       "      <td>900.0</td>\n",
       "      <td>Digital Art</td>\n",
       "      <td>art</td>\n",
       "      <td>12</td>\n",
       "      <td>Town</td>\n",
       "      <td>US</td>\n",
       "      <td>VA</td>\n",
       "      <td>Moneta, VA</td>\n",
       "      <td>failed</td>\n",
       "    </tr>\n",
       "    <tr>\n",
       "      <th>3</th>\n",
       "      <td>3</td>\n",
       "      <td>189217262</td>\n",
       "      <td>0</td>\n",
       "      <td>I want to create a Nature Photograph Series of...</td>\n",
       "      <td>USD</td>\n",
       "      <td>900.0</td>\n",
       "      <td>2015-05-11 16:09:11</td>\n",
       "      <td>2015-05-31 16:09:11</td>\n",
       "      <td>US</td>\n",
       "      <td>Sacramento Nature Photograph Series</td>\n",
       "      <td>...</td>\n",
       "      <td>20</td>\n",
       "      <td>900.0</td>\n",
       "      <td>Digital Art</td>\n",
       "      <td>art</td>\n",
       "      <td>17</td>\n",
       "      <td>Town</td>\n",
       "      <td>US</td>\n",
       "      <td>CA</td>\n",
       "      <td>Sacramento, CA</td>\n",
       "      <td>failed</td>\n",
       "    </tr>\n",
       "    <tr>\n",
       "      <th>6</th>\n",
       "      <td>6</td>\n",
       "      <td>1653837117</td>\n",
       "      <td>2</td>\n",
       "      <td>Help me raise money to get a drawing tablet</td>\n",
       "      <td>USD</td>\n",
       "      <td>2900.0</td>\n",
       "      <td>2015-04-06 16:09:42</td>\n",
       "      <td>2015-05-16 16:09:42</td>\n",
       "      <td>US</td>\n",
       "      <td>I love Drawing</td>\n",
       "      <td>...</td>\n",
       "      <td>40</td>\n",
       "      <td>2900.0</td>\n",
       "      <td>Digital Art</td>\n",
       "      <td>art</td>\n",
       "      <td>9</td>\n",
       "      <td>Town</td>\n",
       "      <td>US</td>\n",
       "      <td>CA</td>\n",
       "      <td>San Diego, CA</td>\n",
       "      <td>failed</td>\n",
       "    </tr>\n",
       "  </tbody>\n",
       "</table>\n",
       "<p>5 rows × 30 columns</p>\n",
       "</div>"
      ],
      "text/plain": [
       "   Unnamed: 0          id  backers_count  \\\n",
       "0           0   857125548              1   \n",
       "1           1  1038659700              2   \n",
       "2           2  1238331911              0   \n",
       "3           3   189217262              0   \n",
       "6           6  1653837117              2   \n",
       "\n",
       "                                               blurb currency    goal  \\\n",
       "0  Exploring paint and its place in a digital world.      USD  2000.0   \n",
       "1  Mike Fassio wants a side-by-side photo of me a...      USD    10.0   \n",
       "2  I need your help to get a nice graphics tablet...      USD   900.0   \n",
       "3  I want to create a Nature Photograph Series of...      USD   900.0   \n",
       "6        Help me raise money to get a drawing tablet      USD  2900.0   \n",
       "\n",
       "           launched_at             deadline location.country  \\\n",
       "0  2015-03-19 22:34:57  2015-04-30 23:12:00               US   \n",
       "1  2014-07-17 01:55:07  2014-07-27 01:55:07               US   \n",
       "2  2014-07-30 16:29:13  2014-08-29 16:29:13               US   \n",
       "3  2015-05-11 16:09:11  2015-05-31 16:09:11               US   \n",
       "6  2015-04-06 16:09:42  2015-05-16 16:09:42               US   \n",
       "\n",
       "                                                name  ...  days_to_deadline  \\\n",
       "0                                              Remix  ...                42   \n",
       "1  Photo of Grant and Hazel eating cake with bare...  ...                10   \n",
       "2                   Minecraft Digital Art/Animations  ...                30   \n",
       "3                Sacramento Nature Photograph Series  ...                20   \n",
       "6                                     I love Drawing  ...                40   \n",
       "\n",
       "  goal_USD  category_name  category_slug  blurb_length location_type  \\\n",
       "0   2000.0    Digital Art            art             9          Town   \n",
       "1     10.0    Digital Art            art            21          Town   \n",
       "2    900.0    Digital Art            art            12          Town   \n",
       "3    900.0    Digital Art            art            17          Town   \n",
       "6   2900.0    Digital Art            art             9          Town   \n",
       "\n",
       "   location_country  location_state  location_displayable_name  binary_state  \n",
       "0                US              NY               New York, NY        failed  \n",
       "1                US              WA                Seattle, WA        failed  \n",
       "2                US              VA                 Moneta, VA        failed  \n",
       "3                US              CA             Sacramento, CA        failed  \n",
       "6                US              CA              San Diego, CA        failed  \n",
       "\n",
       "[5 rows x 30 columns]"
      ]
     },
     "execution_count": 73,
     "metadata": {},
     "output_type": "execute_result"
    }
   ],
   "source": [
    "ksfailed.head()"
   ]
  },
  {
   "cell_type": "code",
   "execution_count": 76,
   "metadata": {},
   "outputs": [],
   "source": [
    "# Add pledged_ratio column\n",
    "ksfailed['pledged_ratio'] = ksfailed['usd_pledged']/ ksfailed['goal_USD']"
   ]
  },
  {
   "cell_type": "code",
   "execution_count": 78,
   "metadata": {},
   "outputs": [
    {
     "data": {
      "text/plain": [
       "<AxesSubplot:>"
      ]
     },
     "execution_count": 78,
     "metadata": {},
     "output_type": "execute_result"
    },
    {
     "data": {
      "image/png": "[encoded data removed]",
      "text/plain": [
       "<Figure size 432x288 with 1 Axes>"
      ]
     },
     "metadata": {
      "needs_background": "light"
     },
     "output_type": "display_data"
    }
   ],
   "source": [
    "ksfailed['pledged_ratio'].hist()"
   ]
  },
  {
   "cell_type": "code",
   "execution_count": 77,
   "metadata": {},
   "outputs": [
    {
     "data": {
      "image/png": "[encoded data removed]",
      "text/plain": [
       "<Figure size 432x288 with 1 Axes>"
      ]
     },
     "metadata": {
      "needs_background": "light"
     },
     "output_type": "display_data"
    }
   ],
   "source": [
    "ksfailed['pledged_ratio'].plot(kind= 'density')\n",
    "plt.show()"
   ]
  },
  {
   "cell_type": "code",
   "execution_count": 92,
   "metadata": {},
   "outputs": [],
   "source": [
    "names=['pledged_ratio','usd_pledged','goal_USD','blurb_length','days_to_deadline','backers_count']"
   ]
  },
  {
   "cell_type": "code",
   "execution_count": 93,
   "metadata": {},
   "outputs": [
    {
     "data": {
      "text/plain": [
       "6"
      ]
     },
     "execution_count": 93,
     "metadata": {},
     "output_type": "execute_result"
    }
   ],
   "source": [
    "len(names)"
   ]
  },
  {
   "cell_type": "code",
   "execution_count": 97,
   "metadata": {},
   "outputs": [],
   "source": [
    "data=ksfailed_analysis=ksfailed[['pledged_ratio','usd_pledged','goal_USD','blurb_length','days_to_deadline','backers_count','month','day','hour',]].copy()"
   ]
  },
  {
   "cell_type": "code",
   "execution_count": 171,
   "metadata": {},
   "outputs": [
    {
     "data": {
      "text/plain": [
       "<function matplotlib.pyplot.show(close=None, block=None)>"
      ]
     },
     "execution_count": 171,
     "metadata": {},
     "output_type": "execute_result"
    },
    {
     "data": {
      "text/plain": [
       "<Figure size 3600x3600 with 0 Axes>"
      ]
     },
     "metadata": {},
     "output_type": "display_data"
    },
    {
     "data": {
      "image/png": "[encoded data removed]",
      "text/plain": [
       "<Figure size 432x288 with 36 Axes>"
      ]
     },
     "metadata": {},
     "output_type": "display_data"
    }
   ],
   "source": [
    "plt.figure(figsize=(50,50))\n",
    "chart=pd.plotting.scatter_matrix(data)\n",
    "#chart.set_xticklabels(chart.get_xticklabels(), rotation=90)\n",
    "#chart.set_yticklabels(chart.get_yticklabels(), rotation=90)\n",
    "plt.show"
   ]
  },
  {
   "cell_type": "code",
   "execution_count": 100,
   "metadata": {},
   "outputs": [
    {
     "data": {
      "image/png": "[encoded data removed]",
      "text/plain": [
       "<Figure size 432x288 with 2 Axes>"
      ]
     },
     "metadata": {
      "needs_background": "light"
     },
     "output_type": "display_data"
    }
   ],
   "source": [
    "correlations = data.corr()\n",
    "fig = plt.figure()\n",
    "ax = fig.add_subplot(111)\n",
    "cax = ax.matshow(correlations, vmin=-1, vmax=1)\n",
    "fig.colorbar(cax)\n",
    "ticks = np.arange(0,6,1)\n",
    "ax.set_xticks(ticks)\n",
    "ax.set_yticks(ticks)\n",
    "ax.set_xticklabels(names)\n",
    "ax.set_yticklabels(names)\n",
    "plt.show()"
   ]
  },
  {
   "cell_type": "markdown",
   "metadata": {
    "_uuid": "13b940bdee21d3ded574f812b21db084ed8d0828"
   },
   "source": [
    "Even though there are some missing values in **name**, those are real projects. We will keep them."
   ]
  },
  {
   "cell_type": "code",
   "execution_count": 60,
   "metadata": {},
   "outputs": [
    {
     "data": {
      "text/plain": [
       "400913    10641\n",
       "399082    10627\n",
       "319274     8613\n",
       "77814      6550\n",
       "77604      6287\n",
       "          ...  \n",
       "69399         0\n",
       "69398         0\n",
       "323698        0\n",
       "323699        0\n",
       "302498        0\n",
       "Name: backers_count, Length: 257217, dtype: int64"
      ]
     },
     "execution_count": 60,
     "metadata": {},
     "output_type": "execute_result"
    }
   ],
   "source": [
    "ksfailed['backers_count'].sort_values(ascending=False)"
   ]
  },
  {
   "cell_type": "code",
   "execution_count": 64,
   "metadata": {},
   "outputs": [
    {
     "data": {
      "image/png": "[encoded data removed]",
      "text/plain": [
       "<Figure size 432x288 with 1 Axes>"
      ]
     },
     "metadata": {
      "needs_background": "light"
     },
     "output_type": "display_data"
    }
   ],
   "source": [
    "ksfailed['backers_count'].plot(kind= 'density')\n",
    "plt.show()"
   ]
  },
  {
   "cell_type": "markdown",
   "metadata": {
    "_uuid": "4d5de7423faad5c238543f892d9011e811659e5d"
   },
   "source": [
    "#### 1.2 Modify data columns\n",
    "- According to previous cell, I will drop **usd pledged** columns\n",
    "- Add **pledged_ratio** column that follows the rule:\n",
    " > pledged_ratio = usd_pledged_real/ usd_goal_real\n",
    "- Retrieve **year** & **date** and transform the information as a new column **time** that follows the rule:\n",
    "> `(year - 2009) * 12 + month`\n",
    ">>Since 2009 seems to be the first year that contains meaningful data, we will use this alorithm to get timely manner information\n",
    "- Generate a new dataframe **ksdf_year** for cross-year comparison"
   ]
  },
  {
   "cell_type": "code",
   "execution_count": 7,
   "metadata": {
    "_uuid": "adef541019e811c8e3ba4f5c81c8acc4a8de72fc"
   },
   "outputs": [],
   "source": [
    "# Delete usdf pledged column\n",
    "ksdf.drop(['usd pledged'], axis = 1, inplace = True)"
   ]
  },
  {
   "cell_type": "code",
   "execution_count": 8,
   "metadata": {
    "_uuid": "98a31498dfd10db016346e93c08220935523b26f"
   },
   "outputs": [],
   "source": [
    "# Add pledged_ratio column\n",
    "ksdf['pledged_ratio'] = ksdf['usd_pledged_real']/ ksdf['usd_goal_real']"
   ]
  },
  {
   "cell_type": "code",
   "execution_count": 9,
   "metadata": {
    "_uuid": "858e0a3491d096f389b4b250b96d932ff7445782"
   },
   "outputs": [],
   "source": [
    "def year_cut(string):\n",
    "    return string[0:4]\n",
    "\n",
    "def month_cut(string):\n",
    "    return string[5:7]\n",
    "\n",
    "ksdf['year'] = ksdf['launched_at'].apply(year_cut)\n",
    "ksdf['month'] = ksdf['launched_at'].apply(month_cut)\n",
    "\n",
    "ksdf['year'] = ksdf['year'].astype(int)\n",
    "ksdf['month'] = ksdf['month'].astype(int)\n",
    "ksdf['time'] = (ksdf['year'].values - 2009)*12 + (ksdf['month']).astype(int)"
   ]
  },
  {
   "cell_type": "code",
   "execution_count": 10,
   "metadata": {
    "_uuid": "3b44badabb9602a86f3c7495d59324200a535e8c"
   },
   "outputs": [
    {
     "name": "stdout",
     "output_type": "stream",
     "text": [
      "Index(['Unnamed: 0', 'id', 'backers_count', 'blurb', 'currency', 'goal',\n",
      "       'launched_at', 'deadline', 'location.country', 'name', 'usd_pledged',\n",
      "       'slug', 'spotlight', 'staff_pick', 'static_usd_rate', 'state', 'year',\n",
      "       'month', 'day', 'hour', 'days_to_deadline', 'goal_USD', 'category_name',\n",
      "       'category_slug', 'blurb_length', 'location_type', 'location_country',\n",
      "       'location_state', 'location_displayable_name', 'binary_state', 'time'],\n",
      "      dtype='object')\n"
     ]
    }
   ],
   "source": [
    "print (ksdf.columns)"
   ]
  },
  {
   "cell_type": "code",
   "execution_count": 11,
   "metadata": {
    "_uuid": "ce895910c73b48ee419de8715f2c8f0a5213653e"
   },
   "outputs": [
    {
     "data": {
      "text/plain": [
       "2016    82271\n",
       "2017    78873\n",
       "2018    68837\n",
       "2015    57302\n",
       "2014    46375\n",
       "2013    27328\n",
       "2012    26453\n",
       "2019    19435\n",
       "2011    16165\n",
       "2010     6962\n",
       "2009      937\n",
       "Name: year, dtype: int64"
      ]
     },
     "execution_count": 11,
     "metadata": {},
     "output_type": "execute_result"
    }
   ],
   "source": [
    "ksdf['year'].value_counts()"
   ]
  },
  {
   "cell_type": "code",
   "execution_count": 15,
   "metadata": {
    "_uuid": "c8b08e95f41f96b33dd981ed78ce68d5c44a4cb2"
   },
   "outputs": [],
   "source": [
    "ksdf_year = {}\n",
    "for year in range(2009, 2020):\n",
    "    ksdf_year[year] = ksdf[ksdf['year'] == year]['year'].count()"
   ]
  },
  {
   "cell_type": "code",
   "execution_count": 16,
   "metadata": {
    "_uuid": "0b4b46108c9bead023548dbefa9a074560cab984"
   },
   "outputs": [
    {
     "data": {
      "text/html": [
       "<div>\n",
       "<style scoped>\n",
       "    .dataframe tbody tr th:only-of-type {\n",
       "        vertical-align: middle;\n",
       "    }\n",
       "\n",
       "    .dataframe tbody tr th {\n",
       "        vertical-align: top;\n",
       "    }\n",
       "\n",
       "    .dataframe thead th {\n",
       "        text-align: right;\n",
       "    }\n",
       "</style>\n",
       "<table border=\"1\" class=\"dataframe\">\n",
       "  <thead>\n",
       "    <tr style=\"text-align: right;\">\n",
       "      <th></th>\n",
       "      <th>counts</th>\n",
       "    </tr>\n",
       "  </thead>\n",
       "  <tbody>\n",
       "    <tr>\n",
       "      <th>2009</th>\n",
       "      <td>937</td>\n",
       "    </tr>\n",
       "    <tr>\n",
       "      <th>2010</th>\n",
       "      <td>6962</td>\n",
       "    </tr>\n",
       "    <tr>\n",
       "      <th>2011</th>\n",
       "      <td>16165</td>\n",
       "    </tr>\n",
       "    <tr>\n",
       "      <th>2012</th>\n",
       "      <td>26453</td>\n",
       "    </tr>\n",
       "    <tr>\n",
       "      <th>2013</th>\n",
       "      <td>27328</td>\n",
       "    </tr>\n",
       "    <tr>\n",
       "      <th>2014</th>\n",
       "      <td>46375</td>\n",
       "    </tr>\n",
       "    <tr>\n",
       "      <th>2015</th>\n",
       "      <td>57302</td>\n",
       "    </tr>\n",
       "    <tr>\n",
       "      <th>2016</th>\n",
       "      <td>82271</td>\n",
       "    </tr>\n",
       "    <tr>\n",
       "      <th>2017</th>\n",
       "      <td>78873</td>\n",
       "    </tr>\n",
       "    <tr>\n",
       "      <th>2018</th>\n",
       "      <td>68837</td>\n",
       "    </tr>\n",
       "    <tr>\n",
       "      <th>2019</th>\n",
       "      <td>19435</td>\n",
       "    </tr>\n",
       "  </tbody>\n",
       "</table>\n",
       "</div>"
      ],
      "text/plain": [
       "      counts\n",
       "2009     937\n",
       "2010    6962\n",
       "2011   16165\n",
       "2012   26453\n",
       "2013   27328\n",
       "2014   46375\n",
       "2015   57302\n",
       "2016   82271\n",
       "2017   78873\n",
       "2018   68837\n",
       "2019   19435"
      ]
     },
     "execution_count": 16,
     "metadata": {},
     "output_type": "execute_result"
    }
   ],
   "source": [
    "ksdf_year = pd.Series(ksdf_year)\n",
    "ksdf_year = pd.DataFrame(ksdf_year)\n",
    "ksdf_year = ksdf_year.rename(columns = {0: \"counts\"})\n",
    "ksdf_year"
   ]
  },
  {
   "cell_type": "markdown",
   "metadata": {
    "_uuid": "08caf39bb8378cdfadb908dba6b64a0102827ca1"
   },
   "source": []
  },
  {
   "cell_type": "markdown",
   "metadata": {
    "_uuid": "ebfe6252b046e0103f005f82859a6f1b84dd7bf6"
   },
   "source": [
    "#### 1.3 Number of projects proposed/  successful rate\n",
    "- Overall number of proposed projects\n",
    "- Overall successful rate\n",
    "- Cross year comparison of above 2 items"
   ]
  },
  {
   "cell_type": "code",
   "execution_count": 17,
   "metadata": {
    "_uuid": "4c6789feb3b6d25cf8679f112411580d053306a2"
   },
   "outputs": [
    {
     "data": {
      "text/plain": [
       "failed        257217\n",
       "successful    173721\n",
       "Name: binary_state, dtype: int64"
      ]
     },
     "execution_count": 17,
     "metadata": {},
     "output_type": "execute_result"
    }
   ],
   "source": [
    "ksdf['binary_state'].value_counts()"
   ]
  },
  {
   "cell_type": "code",
   "execution_count": 21,
   "metadata": {},
   "outputs": [
    {
     "data": {
      "text/plain": [
       "430938"
      ]
     },
     "execution_count": 21,
     "metadata": {},
     "output_type": "execute_result"
    }
   ],
   "source": [
    "total=np.sum(ksdf['binary_state'].value_counts())\n",
    "total"
   ]
  },
  {
   "cell_type": "code",
   "execution_count": 36,
   "metadata": {},
   "outputs": [],
   "source": [
    "f_ratio=ksdf['binary_state'].value_counts()[0]/total\n",
    "s_ratio=ksdf['binary_state'].value_counts()[1]/total"
   ]
  },
  {
   "cell_type": "code",
   "execution_count": 55,
   "metadata": {},
   "outputs": [
    {
     "data": {
      "image/png": "[encoded data removed]",
      "text/plain": [
       "<Figure size 432x288 with 1 Axes>"
      ]
     },
     "metadata": {},
     "output_type": "display_data"
    }
   ],
   "source": [
    "plt.pie(ksdf['binary_state'].value_counts(),labels=['Failed '+str(np.round(f_ratio*100,1))+'%','Successful '+str(np.round(s_ratio*100,1))+'%'])\n",
    "plt.savefig('pie.png')"
   ]
  },
  {
   "cell_type": "code",
   "execution_count": 43,
   "metadata": {},
   "outputs": [
    {
     "data": {
      "text/plain": [
       "0.40312295504225665"
      ]
     },
     "execution_count": 43,
     "metadata": {},
     "output_type": "execute_result"
    }
   ],
   "source": [
    "173721/430938"
   ]
  },
  {
   "cell_type": "code",
   "execution_count": 16,
   "metadata": {
    "_uuid": "aeed9af5ca0c48d18819062cf5ebdfcc651558ee"
   },
   "outputs": [
    {
     "data": {
      "image/png": "[encoded data removed]",
      "text/plain": [
       "<Figure size 432x288 with 1 Axes>"
      ]
     },
     "metadata": {
      "needs_background": "light"
     },
     "output_type": "display_data"
    }
   ],
   "source": [
    "squarify.plot(sizes=[197719,133956, (38779 + 3562 + 2799 + 1846)], \n",
    "              label=[\"Failed (52.22%)\", \"Successful (35.38%)\", \"Others (10.24%)\",], color=[\"blue\",\"red\",\"green\"], alpha=.4 )\n",
    "plt.title('State of Campaigns 2009-2017', fontsize = 20)\n",
    "plt.axis('off')\n",
    "plt.show()"
   ]
  },
  {
   "cell_type": "code",
   "execution_count": 17,
   "metadata": {
    "_uuid": "faaf5cad177a20f31a17e8a81fd9a7bb12d5992a",
    "scrolled": true
   },
   "outputs": [
    {
     "name": "stdout",
     "output_type": "stream",
     "text": [
      "Year =  2009 43.566591422121896 %\n",
      "Year =  2010 43.66384637322939 %\n",
      "Year =  2011 46.38868773106681 %\n",
      "Year =  2012 43.46410785861776 %\n",
      "Year =  2013 43.28777507747876 %\n",
      "Year =  2014 31.156542918296555 %\n",
      "Year =  2015 27.129366106080205 %\n",
      "Year =  2016 32.81687185226637 %\n",
      "Year =  2017 35.367816091954026 %\n",
      "Year =  2018 0.0 %\n"
     ]
    }
   ],
   "source": [
    "success_timely = []\n",
    "\n",
    "for year in range(2009, 2019):\n",
    "    success = len (ksdf[(ksdf['year'] == year) & (ksdf['state'] == 'successful')]['state'])\n",
    "    overall = len (ksdf[ksdf['year'] == year]['year'])\n",
    "    ratio = success/ overall\n",
    "    success_timely.append(ratio)\n",
    "    print (\"Year = \",year, ratio * 100, '%')"
   ]
  },
  {
   "cell_type": "code",
   "execution_count": 18,
   "metadata": {},
   "outputs": [
    {
     "name": "stdout",
     "output_type": "stream",
     "text": [
      "Year =  2009 45.146726862302486 %\n",
      "Year =  2010 47.38092974617359 %\n",
      "Year =  2011 45.27194420093761 %\n",
      "Year =  2012 50.01336086481234 %\n",
      "Year =  2013 48.35120733094023 %\n",
      "Year =  2014 56.38644918444166 %\n",
      "Year =  2015 57.3104786545925 %\n",
      "Year =  2016 53.382064913262454 %\n",
      "Year =  2017 47.810344827586206 %\n",
      "Year =  2018 0.0 %\n"
     ]
    }
   ],
   "source": [
    "failed_timely = []\n",
    "\n",
    "for year in range(2009, 2019):\n",
    "    success = len (ksdf[(ksdf['year'] == year) & (ksdf['state'] == 'failed')]['state'])\n",
    "    overall = len (ksdf[ksdf['year'] == year]['year'])\n",
    "    ratio = success/ overall\n",
    "    success_timely.append(ratio)\n",
    "    print (\"Year = \",year, ratio * 100, '%')"
   ]
  },
  {
   "cell_type": "code",
   "execution_count": 19,
   "metadata": {
    "_uuid": "0ab9f88893d7d492d916bc5454da5f09443e0955"
   },
   "outputs": [
    {
     "data": {
      "text/plain": [
       "live        122\n",
       "canceled      2\n",
       "Name: state, dtype: int64"
      ]
     },
     "execution_count": 19,
     "metadata": {},
     "output_type": "execute_result"
    }
   ],
   "source": [
    "ksdf[ksdf['year'] == 2018]['state'].value_counts()"
   ]
  },
  {
   "cell_type": "code",
   "execution_count": 20,
   "metadata": {
    "_uuid": "25c511453b820b3811a72ad7b1f7ff357474c900"
   },
   "outputs": [
    {
     "ename": "ValueError",
     "evalue": "Length of values does not match length of index",
     "output_type": "error",
     "traceback": [
      "\u001b[0;31m---------------------------------------------------------------------------\u001b[0m",
      "\u001b[0;31mValueError\u001b[0m                                Traceback (most recent call last)",
      "\u001b[0;32m<ipython-input-20-340d692e435e>\u001b[0m in \u001b[0;36m<module>\u001b[0;34m\u001b[0m\n\u001b[0;32m----> 1\u001b[0;31m \u001b[0mksdf_year\u001b[0m\u001b[0;34m[\u001b[0m\u001b[0;34m'success_ratio'\u001b[0m\u001b[0;34m]\u001b[0m \u001b[0;34m=\u001b[0m \u001b[0msuccess_timely\u001b[0m\u001b[0;34m\u001b[0m\u001b[0;34m\u001b[0m\u001b[0m\n\u001b[0m\u001b[1;32m      2\u001b[0m \u001b[0mksdf_year\u001b[0m\u001b[0;34m.\u001b[0m\u001b[0mhead\u001b[0m\u001b[0;34m\u001b[0m\u001b[0;34m\u001b[0m\u001b[0m\n",
      "\u001b[0;32m~/.local/lib/python3.6/site-packages/pandas/core/frame.py\u001b[0m in \u001b[0;36m__setitem__\u001b[0;34m(self, key, value)\u001b[0m\n\u001b[1;32m   2936\u001b[0m         \u001b[0;32melse\u001b[0m\u001b[0;34m:\u001b[0m\u001b[0;34m\u001b[0m\u001b[0;34m\u001b[0m\u001b[0m\n\u001b[1;32m   2937\u001b[0m             \u001b[0;31m# set column\u001b[0m\u001b[0;34m\u001b[0m\u001b[0;34m\u001b[0m\u001b[0;34m\u001b[0m\u001b[0m\n\u001b[0;32m-> 2938\u001b[0;31m             \u001b[0mself\u001b[0m\u001b[0;34m.\u001b[0m\u001b[0m_set_item\u001b[0m\u001b[0;34m(\u001b[0m\u001b[0mkey\u001b[0m\u001b[0;34m,\u001b[0m \u001b[0mvalue\u001b[0m\u001b[0;34m)\u001b[0m\u001b[0;34m\u001b[0m\u001b[0;34m\u001b[0m\u001b[0m\n\u001b[0m\u001b[1;32m   2939\u001b[0m \u001b[0;34m\u001b[0m\u001b[0m\n\u001b[1;32m   2940\u001b[0m     \u001b[0;32mdef\u001b[0m \u001b[0m_setitem_slice\u001b[0m\u001b[0;34m(\u001b[0m\u001b[0mself\u001b[0m\u001b[0;34m,\u001b[0m \u001b[0mkey\u001b[0m\u001b[0;34m,\u001b[0m \u001b[0mvalue\u001b[0m\u001b[0;34m)\u001b[0m\u001b[0;34m:\u001b[0m\u001b[0;34m\u001b[0m\u001b[0;34m\u001b[0m\u001b[0m\n",
      "\u001b[0;32m~/.local/lib/python3.6/site-packages/pandas/core/frame.py\u001b[0m in \u001b[0;36m_set_item\u001b[0;34m(self, key, value)\u001b[0m\n\u001b[1;32m   2998\u001b[0m \u001b[0;34m\u001b[0m\u001b[0m\n\u001b[1;32m   2999\u001b[0m         \u001b[0mself\u001b[0m\u001b[0;34m.\u001b[0m\u001b[0m_ensure_valid_index\u001b[0m\u001b[0;34m(\u001b[0m\u001b[0mvalue\u001b[0m\u001b[0;34m)\u001b[0m\u001b[0;34m\u001b[0m\u001b[0;34m\u001b[0m\u001b[0m\n\u001b[0;32m-> 3000\u001b[0;31m         \u001b[0mvalue\u001b[0m \u001b[0;34m=\u001b[0m \u001b[0mself\u001b[0m\u001b[0;34m.\u001b[0m\u001b[0m_sanitize_column\u001b[0m\u001b[0;34m(\u001b[0m\u001b[0mkey\u001b[0m\u001b[0;34m,\u001b[0m \u001b[0mvalue\u001b[0m\u001b[0;34m)\u001b[0m\u001b[0;34m\u001b[0m\u001b[0;34m\u001b[0m\u001b[0m\n\u001b[0m\u001b[1;32m   3001\u001b[0m         \u001b[0mNDFrame\u001b[0m\u001b[0;34m.\u001b[0m\u001b[0m_set_item\u001b[0m\u001b[0;34m(\u001b[0m\u001b[0mself\u001b[0m\u001b[0;34m,\u001b[0m \u001b[0mkey\u001b[0m\u001b[0;34m,\u001b[0m \u001b[0mvalue\u001b[0m\u001b[0;34m)\u001b[0m\u001b[0;34m\u001b[0m\u001b[0;34m\u001b[0m\u001b[0m\n\u001b[1;32m   3002\u001b[0m \u001b[0;34m\u001b[0m\u001b[0m\n",
      "\u001b[0;32m~/.local/lib/python3.6/site-packages/pandas/core/frame.py\u001b[0m in \u001b[0;36m_sanitize_column\u001b[0;34m(self, key, value, broadcast)\u001b[0m\n\u001b[1;32m   3634\u001b[0m \u001b[0;34m\u001b[0m\u001b[0m\n\u001b[1;32m   3635\u001b[0m             \u001b[0;31m# turn me into an ndarray\u001b[0m\u001b[0;34m\u001b[0m\u001b[0;34m\u001b[0m\u001b[0;34m\u001b[0m\u001b[0m\n\u001b[0;32m-> 3636\u001b[0;31m             \u001b[0mvalue\u001b[0m \u001b[0;34m=\u001b[0m \u001b[0msanitize_index\u001b[0m\u001b[0;34m(\u001b[0m\u001b[0mvalue\u001b[0m\u001b[0;34m,\u001b[0m \u001b[0mself\u001b[0m\u001b[0;34m.\u001b[0m\u001b[0mindex\u001b[0m\u001b[0;34m,\u001b[0m \u001b[0mcopy\u001b[0m\u001b[0;34m=\u001b[0m\u001b[0;32mFalse\u001b[0m\u001b[0;34m)\u001b[0m\u001b[0;34m\u001b[0m\u001b[0;34m\u001b[0m\u001b[0m\n\u001b[0m\u001b[1;32m   3637\u001b[0m             \u001b[0;32mif\u001b[0m \u001b[0;32mnot\u001b[0m \u001b[0misinstance\u001b[0m\u001b[0;34m(\u001b[0m\u001b[0mvalue\u001b[0m\u001b[0;34m,\u001b[0m \u001b[0;34m(\u001b[0m\u001b[0mnp\u001b[0m\u001b[0;34m.\u001b[0m\u001b[0mndarray\u001b[0m\u001b[0;34m,\u001b[0m \u001b[0mIndex\u001b[0m\u001b[0;34m)\u001b[0m\u001b[0;34m)\u001b[0m\u001b[0;34m:\u001b[0m\u001b[0;34m\u001b[0m\u001b[0;34m\u001b[0m\u001b[0m\n\u001b[1;32m   3638\u001b[0m                 \u001b[0;32mif\u001b[0m \u001b[0misinstance\u001b[0m\u001b[0;34m(\u001b[0m\u001b[0mvalue\u001b[0m\u001b[0;34m,\u001b[0m \u001b[0mlist\u001b[0m\u001b[0;34m)\u001b[0m \u001b[0;32mand\u001b[0m \u001b[0mlen\u001b[0m\u001b[0;34m(\u001b[0m\u001b[0mvalue\u001b[0m\u001b[0;34m)\u001b[0m \u001b[0;34m>\u001b[0m \u001b[0;36m0\u001b[0m\u001b[0;34m:\u001b[0m\u001b[0;34m\u001b[0m\u001b[0;34m\u001b[0m\u001b[0m\n",
      "\u001b[0;32m~/.local/lib/python3.6/site-packages/pandas/core/internals/construction.py\u001b[0m in \u001b[0;36msanitize_index\u001b[0;34m(data, index, copy)\u001b[0m\n\u001b[1;32m    609\u001b[0m \u001b[0;34m\u001b[0m\u001b[0m\n\u001b[1;32m    610\u001b[0m     \u001b[0;32mif\u001b[0m \u001b[0mlen\u001b[0m\u001b[0;34m(\u001b[0m\u001b[0mdata\u001b[0m\u001b[0;34m)\u001b[0m \u001b[0;34m!=\u001b[0m \u001b[0mlen\u001b[0m\u001b[0;34m(\u001b[0m\u001b[0mindex\u001b[0m\u001b[0;34m)\u001b[0m\u001b[0;34m:\u001b[0m\u001b[0;34m\u001b[0m\u001b[0;34m\u001b[0m\u001b[0m\n\u001b[0;32m--> 611\u001b[0;31m         \u001b[0;32mraise\u001b[0m \u001b[0mValueError\u001b[0m\u001b[0;34m(\u001b[0m\u001b[0;34m\"Length of values does not match length of index\"\u001b[0m\u001b[0;34m)\u001b[0m\u001b[0;34m\u001b[0m\u001b[0;34m\u001b[0m\u001b[0m\n\u001b[0m\u001b[1;32m    612\u001b[0m \u001b[0;34m\u001b[0m\u001b[0m\n\u001b[1;32m    613\u001b[0m     \u001b[0;32mif\u001b[0m \u001b[0misinstance\u001b[0m\u001b[0;34m(\u001b[0m\u001b[0mdata\u001b[0m\u001b[0;34m,\u001b[0m \u001b[0mABCIndexClass\u001b[0m\u001b[0;34m)\u001b[0m \u001b[0;32mand\u001b[0m \u001b[0;32mnot\u001b[0m \u001b[0mcopy\u001b[0m\u001b[0;34m:\u001b[0m\u001b[0;34m\u001b[0m\u001b[0;34m\u001b[0m\u001b[0m\n",
      "\u001b[0;31mValueError\u001b[0m: Length of values does not match length of index"
     ]
    }
   ],
   "source": [
    "ksdf_year['success_ratio'] = success_timely\n",
    "ksdf_year.head"
   ]
  },
  {
   "cell_type": "code",
   "execution_count": 21,
   "metadata": {
    "_uuid": "d6a796edf9d0c7888505269d5701e376f2715caa"
   },
   "outputs": [
    {
     "data": {
      "text/plain": [
       "52200"
      ]
     },
     "execution_count": 21,
     "metadata": {},
     "output_type": "execute_result"
    }
   ],
   "source": [
    "ksdf[ksdf['year'] == 2017]['backers'].count()"
   ]
  },
  {
   "cell_type": "code",
   "execution_count": 22,
   "metadata": {
    "_uuid": "f1cf1f7cf6ed134bf661fe941e68e6a9972f0e6d"
   },
   "outputs": [],
   "source": [
    "backers_year = {}\n",
    "for year in range(2009, 2019):\n",
    "    backers_count = ksdf[ksdf['year'] == year]['backers'].sum()\n",
    "    backers_year[year] = backers_count\n",
    "\n",
    "ksdf_year['backers'] = pd.Series(backers_year)"
   ]
  },
  {
   "cell_type": "code",
   "execution_count": 23,
   "metadata": {
    "_uuid": "74e17b6bc88204692781c88767c5a1a9c0faf55b"
   },
   "outputs": [
    {
     "data": {
      "text/html": [
       "<div>\n",
       "<style scoped>\n",
       "    .dataframe tbody tr th:only-of-type {\n",
       "        vertical-align: middle;\n",
       "    }\n",
       "\n",
       "    .dataframe tbody tr th {\n",
       "        vertical-align: top;\n",
       "    }\n",
       "\n",
       "    .dataframe thead th {\n",
       "        text-align: right;\n",
       "    }\n",
       "</style>\n",
       "<table border=\"1\" class=\"dataframe\">\n",
       "  <thead>\n",
       "    <tr style=\"text-align: right;\">\n",
       "      <th></th>\n",
       "      <th>counts</th>\n",
       "      <th>backers</th>\n",
       "    </tr>\n",
       "  </thead>\n",
       "  <tbody>\n",
       "    <tr>\n",
       "      <th>2009</th>\n",
       "      <td>1329</td>\n",
       "      <td>43758</td>\n",
       "    </tr>\n",
       "    <tr>\n",
       "      <th>2010</th>\n",
       "      <td>10519</td>\n",
       "      <td>406875</td>\n",
       "    </tr>\n",
       "    <tr>\n",
       "      <th>2011</th>\n",
       "      <td>26237</td>\n",
       "      <td>1396473</td>\n",
       "    </tr>\n",
       "    <tr>\n",
       "      <th>2012</th>\n",
       "      <td>41165</td>\n",
       "      <td>4343786</td>\n",
       "    </tr>\n",
       "    <tr>\n",
       "      <th>2013</th>\n",
       "      <td>44851</td>\n",
       "      <td>6292568</td>\n",
       "    </tr>\n",
       "    <tr>\n",
       "      <th>2014</th>\n",
       "      <td>67745</td>\n",
       "      <td>6194576</td>\n",
       "    </tr>\n",
       "    <tr>\n",
       "      <th>2015</th>\n",
       "      <td>77300</td>\n",
       "      <td>7512058</td>\n",
       "    </tr>\n",
       "    <tr>\n",
       "      <th>2016</th>\n",
       "      <td>57184</td>\n",
       "      <td>7148604</td>\n",
       "    </tr>\n",
       "    <tr>\n",
       "      <th>2017</th>\n",
       "      <td>52200</td>\n",
       "      <td>6653360</td>\n",
       "    </tr>\n",
       "    <tr>\n",
       "      <th>2018</th>\n",
       "      <td>124</td>\n",
       "      <td>1161</td>\n",
       "    </tr>\n",
       "  </tbody>\n",
       "</table>\n",
       "</div>"
      ],
      "text/plain": [
       "      counts  backers\n",
       "2009    1329    43758\n",
       "2010   10519   406875\n",
       "2011   26237  1396473\n",
       "2012   41165  4343786\n",
       "2013   44851  6292568\n",
       "2014   67745  6194576\n",
       "2015   77300  7512058\n",
       "2016   57184  7148604\n",
       "2017   52200  6653360\n",
       "2018     124     1161"
      ]
     },
     "execution_count": 23,
     "metadata": {},
     "output_type": "execute_result"
    }
   ],
   "source": [
    "ksdf_year"
   ]
  },
  {
   "cell_type": "code",
   "execution_count": 24,
   "metadata": {
    "_uuid": "2e08d5ca48390df39a508f6398f33874fccd331a"
   },
   "outputs": [
    {
     "name": "stderr",
     "output_type": "stream",
     "text": [
      "/home/mosto/.local/lib/python3.6/site-packages/seaborn/_decorators.py:43: FutureWarning: Pass the following variable as a keyword arg: x. From version 0.12, the only valid positional argument will be `data`, and passing other arguments without an explicit keyword will result in an error or misinterpretation.\n",
      "  FutureWarning\n"
     ]
    },
    {
     "data": {
      "image/png": "[encoded data removed]",
      "text/plain": [
       "<Figure size 432x288 with 1 Axes>"
      ]
     },
     "metadata": {},
     "output_type": "display_data"
    }
   ],
   "source": [
    "# Cross-year proposed projects\n",
    "sns.set_style(\"whitegrid\")\n",
    "sns.barplot(ksdf_year['counts'].index, y= ksdf_year['counts'] ,\n",
    "            palette=\"Blues_d\", saturation = 0.5)\n",
    "sns.despine(right = True, top = True)"
   ]
  },
  {
   "cell_type": "code",
   "execution_count": 25,
   "metadata": {
    "_uuid": "ed0859b3b58c8fed9e3fd9f1c631e9667d45d777"
   },
   "outputs": [
    {
     "ename": "KeyError",
     "evalue": "'success_ratio'",
     "output_type": "error",
     "traceback": [
      "\u001b[0;31m---------------------------------------------------------------------------\u001b[0m",
      "\u001b[0;31mKeyError\u001b[0m                                  Traceback (most recent call last)",
      "\u001b[0;32m~/.local/lib/python3.6/site-packages/pandas/core/indexes/base.py\u001b[0m in \u001b[0;36mget_loc\u001b[0;34m(self, key, method, tolerance)\u001b[0m\n\u001b[1;32m   2645\u001b[0m             \u001b[0;32mtry\u001b[0m\u001b[0;34m:\u001b[0m\u001b[0;34m\u001b[0m\u001b[0;34m\u001b[0m\u001b[0m\n\u001b[0;32m-> 2646\u001b[0;31m                 \u001b[0;32mreturn\u001b[0m \u001b[0mself\u001b[0m\u001b[0;34m.\u001b[0m\u001b[0m_engine\u001b[0m\u001b[0;34m.\u001b[0m\u001b[0mget_loc\u001b[0m\u001b[0;34m(\u001b[0m\u001b[0mkey\u001b[0m\u001b[0;34m)\u001b[0m\u001b[0;34m\u001b[0m\u001b[0;34m\u001b[0m\u001b[0m\n\u001b[0m\u001b[1;32m   2647\u001b[0m             \u001b[0;32mexcept\u001b[0m \u001b[0mKeyError\u001b[0m\u001b[0;34m:\u001b[0m\u001b[0;34m\u001b[0m\u001b[0;34m\u001b[0m\u001b[0m\n",
      "\u001b[0;32mpandas/_libs/index.pyx\u001b[0m in \u001b[0;36mpandas._libs.index.IndexEngine.get_loc\u001b[0;34m()\u001b[0m\n",
      "\u001b[0;32mpandas/_libs/index.pyx\u001b[0m in \u001b[0;36mpandas._libs.index.IndexEngine.get_loc\u001b[0;34m()\u001b[0m\n",
      "\u001b[0;32mpandas/_libs/hashtable_class_helper.pxi\u001b[0m in \u001b[0;36mpandas._libs.hashtable.PyObjectHashTable.get_item\u001b[0;34m()\u001b[0m\n",
      "\u001b[0;32mpandas/_libs/hashtable_class_helper.pxi\u001b[0m in \u001b[0;36mpandas._libs.hashtable.PyObjectHashTable.get_item\u001b[0;34m()\u001b[0m\n",
      "\u001b[0;31mKeyError\u001b[0m: 'success_ratio'",
      "\nDuring handling of the above exception, another exception occurred:\n",
      "\u001b[0;31mKeyError\u001b[0m                                  Traceback (most recent call last)",
      "\u001b[0;32m<ipython-input-25-c0a0c47ff8d8>\u001b[0m in \u001b[0;36m<module>\u001b[0;34m\u001b[0m\n\u001b[1;32m      1\u001b[0m \u001b[0;31m# Cross-year success ratio\u001b[0m\u001b[0;34m\u001b[0m\u001b[0;34m\u001b[0m\u001b[0;34m\u001b[0m\u001b[0m\n\u001b[1;32m      2\u001b[0m \u001b[0msns\u001b[0m\u001b[0;34m.\u001b[0m\u001b[0mset_style\u001b[0m\u001b[0;34m(\u001b[0m\u001b[0;34m\"whitegrid\"\u001b[0m\u001b[0;34m)\u001b[0m\u001b[0;34m\u001b[0m\u001b[0;34m\u001b[0m\u001b[0m\n\u001b[0;32m----> 3\u001b[0;31m sns.barplot(ksdf_year['success_ratio'].index, y= ksdf_year['success_ratio'], data = ksdf_year,\n\u001b[0m\u001b[1;32m      4\u001b[0m             palette=\"Blues_d\", saturation = 0.5)\n\u001b[1;32m      5\u001b[0m \u001b[0msns\u001b[0m\u001b[0;34m.\u001b[0m\u001b[0mdespine\u001b[0m\u001b[0;34m(\u001b[0m\u001b[0mright\u001b[0m \u001b[0;34m=\u001b[0m \u001b[0;32mTrue\u001b[0m\u001b[0;34m,\u001b[0m \u001b[0mtop\u001b[0m \u001b[0;34m=\u001b[0m \u001b[0;32mTrue\u001b[0m\u001b[0;34m)\u001b[0m\u001b[0;34m\u001b[0m\u001b[0;34m\u001b[0m\u001b[0m\n",
      "\u001b[0;32m~/.local/lib/python3.6/site-packages/pandas/core/frame.py\u001b[0m in \u001b[0;36m__getitem__\u001b[0;34m(self, key)\u001b[0m\n\u001b[1;32m   2798\u001b[0m             \u001b[0;32mif\u001b[0m \u001b[0mself\u001b[0m\u001b[0;34m.\u001b[0m\u001b[0mcolumns\u001b[0m\u001b[0;34m.\u001b[0m\u001b[0mnlevels\u001b[0m \u001b[0;34m>\u001b[0m \u001b[0;36m1\u001b[0m\u001b[0;34m:\u001b[0m\u001b[0;34m\u001b[0m\u001b[0;34m\u001b[0m\u001b[0m\n\u001b[1;32m   2799\u001b[0m                 \u001b[0;32mreturn\u001b[0m \u001b[0mself\u001b[0m\u001b[0;34m.\u001b[0m\u001b[0m_getitem_multilevel\u001b[0m\u001b[0;34m(\u001b[0m\u001b[0mkey\u001b[0m\u001b[0;34m)\u001b[0m\u001b[0;34m\u001b[0m\u001b[0;34m\u001b[0m\u001b[0m\n\u001b[0;32m-> 2800\u001b[0;31m             \u001b[0mindexer\u001b[0m \u001b[0;34m=\u001b[0m \u001b[0mself\u001b[0m\u001b[0;34m.\u001b[0m\u001b[0mcolumns\u001b[0m\u001b[0;34m.\u001b[0m\u001b[0mget_loc\u001b[0m\u001b[0;34m(\u001b[0m\u001b[0mkey\u001b[0m\u001b[0;34m)\u001b[0m\u001b[0;34m\u001b[0m\u001b[0;34m\u001b[0m\u001b[0m\n\u001b[0m\u001b[1;32m   2801\u001b[0m             \u001b[0;32mif\u001b[0m \u001b[0mis_integer\u001b[0m\u001b[0;34m(\u001b[0m\u001b[0mindexer\u001b[0m\u001b[0;34m)\u001b[0m\u001b[0;34m:\u001b[0m\u001b[0;34m\u001b[0m\u001b[0;34m\u001b[0m\u001b[0m\n\u001b[1;32m   2802\u001b[0m                 \u001b[0mindexer\u001b[0m \u001b[0;34m=\u001b[0m \u001b[0;34m[\u001b[0m\u001b[0mindexer\u001b[0m\u001b[0;34m]\u001b[0m\u001b[0;34m\u001b[0m\u001b[0;34m\u001b[0m\u001b[0m\n",
      "\u001b[0;32m~/.local/lib/python3.6/site-packages/pandas/core/indexes/base.py\u001b[0m in \u001b[0;36mget_loc\u001b[0;34m(self, key, method, tolerance)\u001b[0m\n\u001b[1;32m   2646\u001b[0m                 \u001b[0;32mreturn\u001b[0m \u001b[0mself\u001b[0m\u001b[0;34m.\u001b[0m\u001b[0m_engine\u001b[0m\u001b[0;34m.\u001b[0m\u001b[0mget_loc\u001b[0m\u001b[0;34m(\u001b[0m\u001b[0mkey\u001b[0m\u001b[0;34m)\u001b[0m\u001b[0;34m\u001b[0m\u001b[0;34m\u001b[0m\u001b[0m\n\u001b[1;32m   2647\u001b[0m             \u001b[0;32mexcept\u001b[0m \u001b[0mKeyError\u001b[0m\u001b[0;34m:\u001b[0m\u001b[0;34m\u001b[0m\u001b[0;34m\u001b[0m\u001b[0m\n\u001b[0;32m-> 2648\u001b[0;31m                 \u001b[0;32mreturn\u001b[0m \u001b[0mself\u001b[0m\u001b[0;34m.\u001b[0m\u001b[0m_engine\u001b[0m\u001b[0;34m.\u001b[0m\u001b[0mget_loc\u001b[0m\u001b[0;34m(\u001b[0m\u001b[0mself\u001b[0m\u001b[0;34m.\u001b[0m\u001b[0m_maybe_cast_indexer\u001b[0m\u001b[0;34m(\u001b[0m\u001b[0mkey\u001b[0m\u001b[0;34m)\u001b[0m\u001b[0;34m)\u001b[0m\u001b[0;34m\u001b[0m\u001b[0;34m\u001b[0m\u001b[0m\n\u001b[0m\u001b[1;32m   2649\u001b[0m         \u001b[0mindexer\u001b[0m \u001b[0;34m=\u001b[0m \u001b[0mself\u001b[0m\u001b[0;34m.\u001b[0m\u001b[0mget_indexer\u001b[0m\u001b[0;34m(\u001b[0m\u001b[0;34m[\u001b[0m\u001b[0mkey\u001b[0m\u001b[0;34m]\u001b[0m\u001b[0;34m,\u001b[0m \u001b[0mmethod\u001b[0m\u001b[0;34m=\u001b[0m\u001b[0mmethod\u001b[0m\u001b[0;34m,\u001b[0m \u001b[0mtolerance\u001b[0m\u001b[0;34m=\u001b[0m\u001b[0mtolerance\u001b[0m\u001b[0;34m)\u001b[0m\u001b[0;34m\u001b[0m\u001b[0;34m\u001b[0m\u001b[0m\n\u001b[1;32m   2650\u001b[0m         \u001b[0;32mif\u001b[0m \u001b[0mindexer\u001b[0m\u001b[0;34m.\u001b[0m\u001b[0mndim\u001b[0m \u001b[0;34m>\u001b[0m \u001b[0;36m1\u001b[0m \u001b[0;32mor\u001b[0m \u001b[0mindexer\u001b[0m\u001b[0;34m.\u001b[0m\u001b[0msize\u001b[0m \u001b[0;34m>\u001b[0m \u001b[0;36m1\u001b[0m\u001b[0;34m:\u001b[0m\u001b[0;34m\u001b[0m\u001b[0;34m\u001b[0m\u001b[0m\n",
      "\u001b[0;32mpandas/_libs/index.pyx\u001b[0m in \u001b[0;36mpandas._libs.index.IndexEngine.get_loc\u001b[0;34m()\u001b[0m\n",
      "\u001b[0;32mpandas/_libs/index.pyx\u001b[0m in \u001b[0;36mpandas._libs.index.IndexEngine.get_loc\u001b[0;34m()\u001b[0m\n",
      "\u001b[0;32mpandas/_libs/hashtable_class_helper.pxi\u001b[0m in \u001b[0;36mpandas._libs.hashtable.PyObjectHashTable.get_item\u001b[0;34m()\u001b[0m\n",
      "\u001b[0;32mpandas/_libs/hashtable_class_helper.pxi\u001b[0m in \u001b[0;36mpandas._libs.hashtable.PyObjectHashTable.get_item\u001b[0;34m()\u001b[0m\n",
      "\u001b[0;31mKeyError\u001b[0m: 'success_ratio'"
     ]
    }
   ],
   "source": [
    "# Cross-year success ratio\n",
    "sns.set_style(\"whitegrid\")\n",
    "sns.barplot(ksdf_year['success_ratio'].index, y= ksdf_year['success_ratio'], data = ksdf_year,\n",
    "            palette=\"Blues_d\", saturation = 0.5)\n",
    "sns.despine(right = True, top = True)"
   ]
  },
  {
   "cell_type": "markdown",
   "metadata": {
    "_uuid": "ac71ff78a92e92bfbb3fcbff44a05c950f92266c"
   },
   "source": []
  },
  {
   "cell_type": "code",
   "execution_count": null,
   "metadata": {
    "_uuid": "f5d9febd6c6ce7f573714968cdb20c910a3e1009"
   },
   "outputs": [],
   "source": [
    "sns.set_style(\"whitegrid\")\n",
    "sns.barplot(ksdf_year['backers'].index, y= ksdf_year['backers'] ,\n",
    "            palette=\"Blues_d\", saturation = 0.5)\n",
    "sns.despine(right = True, top = True)"
   ]
  },
  {
   "cell_type": "markdown",
   "metadata": {
    "_uuid": "f41eea6120c90032b2275a411ed6aedd4d69a70b"
   },
   "source": [
    "#### 1.4 Statistics of pledged amount\n",
    "- Descripitive statistics of pledged amount\n",
    "- Pledged amount comparison by state (successful/ failed/ others)"
   ]
  },
  {
   "cell_type": "code",
   "execution_count": null,
   "metadata": {
    "_uuid": "be725520edca362bf652d5cec816d64b17dbf427"
   },
   "outputs": [],
   "source": [
    "sum_pledged = ksdf['usd_pledged_real'].sum()\n",
    "print (sum_pledged)"
   ]
  },
  {
   "cell_type": "code",
   "execution_count": null,
   "metadata": {
    "_uuid": "321b8e9fe835e6da837d5466cb18e5bd12b00565"
   },
   "outputs": [],
   "source": [
    "ksdf['usd_pledged_real'].describe()"
   ]
  },
  {
   "cell_type": "code",
   "execution_count": null,
   "metadata": {
    "_uuid": "d3e5f98b16e8703de5cbaa468af0ac3415105f01"
   },
   "outputs": [],
   "source": [
    "# Ratio of successful/ failed / others\n",
    "success_pledged = ksdf[ksdf['state'] == \"successful\"]['usd_pledged_real'].sum()\n",
    "fail_pledged = ksdf[ksdf['state'] == 'failed']['usd_pledged_real'].sum()\n",
    "others_pledged = (ksdf[ksdf['state'] == 'canceled']['usd_pledged_real'].sum() +\n",
    "                  ksdf[ksdf['state'] == 'undefined']['usd_pledged_real'].sum() +\n",
    "                  ksdf[ksdf['state'] == 'live']['usd_pledged_real'].sum() +\n",
    "                  ksdf[ksdf['state'] == 'suspended']['usd_pledged_real'].sum())\n",
    "\n",
    "print (success_pledged, success_pledged/ sum_pledged * 100, '%')\n",
    "print (fail_pledged, fail_pledged/ sum_pledged * 100, '%')\n",
    "print (others_pledged, others_pledged/ sum_pledged * 100, '%')"
   ]
  },
  {
   "cell_type": "code",
   "execution_count": null,
   "metadata": {
    "_uuid": "93ec43d3a21a010ee4ba704e5b25a3fd14c1d865"
   },
   "outputs": [],
   "source": [
    "squarify.plot(sizes=[3036889045.99, 261108466.05, 132263736.79], \n",
    "              label=[\"Successful (88.53%)\", \"Failed (7.61%)\", \"Others (3.86%)\",], color=[\"red\",\"blue\", \"green\"], alpha=.4 )\n",
    "plt.title('Pledged Amount', fontsize = 20)\n",
    "plt.axis('off')\n",
    "plt.show()"
   ]
  },
  {
   "cell_type": "code",
   "execution_count": null,
   "metadata": {
    "_uuid": "a2159a505e825bec3fb38624e533ef7b448aaa82"
   },
   "outputs": [],
   "source": [
    "success_projects = ksdf[ksdf['state'] == 'successful']['state'].count()\n",
    "fail_projects  = ksdf[ksdf['state'] == 'failed']['state'].count()\n",
    "others_projects  = (\n",
    "    ksdf[ksdf['state'] == 'canceled']['state'].count() +\n",
    "    ksdf[ksdf['state'] == 'live']['state'].count() +\n",
    "    ksdf[ksdf['state'] == 'undefined']['state'].count() +\n",
    "    ksdf[ksdf['state'] == 'suspended']['state'].count())\n",
    "\n",
    "print (\"Average pledged amount per successful project = \",success_pledged/success_projects)\n",
    "print (\"Average pledged amount per failed project = \",fail_pledged/ fail_projects)\n",
    "print (\"Average pledged amount per other project = \",others_pledged/ others_projects)"
   ]
  },
  {
   "cell_type": "code",
   "execution_count": null,
   "metadata": {
    "_uuid": "36fecd8dfb7bc411d4e6468037a4cc2517c7c4f3"
   },
   "outputs": [],
   "source": [
    "sns.set_style(\"whitegrid\")\n",
    "sns.barplot([\"Successful\", \"Failed\", \"Others\"],\n",
    "            y= [22670.7952312, 1320.60381678, 2814.96055825],\n",
    "            palette = \"Set1\",\n",
    "            saturation = 0.5)\n",
    "sns.despine(right = True, top = True)"
   ]
  },
  {
   "cell_type": "markdown",
   "metadata": {
    "_uuid": "6b3b31dcff900c75f2611e9c0e79ff5c82b44c5a",
    "collapsed": true
   },
   "source": []
  },
  {
   "cell_type": "markdown",
   "metadata": {
    "_uuid": "67b02f077e73ffe10fa127cb61abc189eb2a3228"
   },
   "source": [
    "## 2. Region\n",
    "- 2.1 Projects proposed across regions"
   ]
  },
  {
   "cell_type": "code",
   "execution_count": null,
   "metadata": {
    "_uuid": "957a1fe0012226c0e6c84a10a636df08a10392a1"
   },
   "outputs": [],
   "source": [
    "ksdf['country'].unique()"
   ]
  },
  {
   "cell_type": "code",
   "execution_count": null,
   "metadata": {
    "_uuid": "74c8a932d2fb879b008c3b8d17e56df6a3d3439e"
   },
   "outputs": [],
   "source": [
    "ksdf['country'].value_counts()"
   ]
  },
  {
   "cell_type": "code",
   "execution_count": null,
   "metadata": {
    "_uuid": "22773e2b4b610532f20848e5ac607792f5ed7de1"
   },
   "outputs": [],
   "source": [
    "sns.countplot(ksdf['country'], palette = 'Set1', order = ksdf['country'].value_counts().index)\n",
    "sns.despine(bottom = True, left = True)"
   ]
  },
  {
   "cell_type": "code",
   "execution_count": null,
   "metadata": {
    "_uuid": "cdfc422630f9c7355f65f8a743014a5ca992958c"
   },
   "outputs": [],
   "source": [
    "us = ksdf[ksdf['country'] == \"US\"]['country'].count()\n",
    "print (us/len(ksdf['country']) * 100, \"%\")"
   ]
  },
  {
   "cell_type": "markdown",
   "metadata": {
    "_uuid": "68a3d4810bbbd947a0f8804d7c3b125d4aaad094"
   },
   "source": []
  },
  {
   "cell_type": "markdown",
   "metadata": {
    "_uuid": "d603907a397a074ce65fd481c1ff295e10b05c3f"
   },
   "source": [
    "\n",
    "## 3. Caterogy\n",
    "* 3.1 Projects proposed across categories\n",
    "* 3.2 Pledged amount across categories\n",
    "* 3.3 Success rate across categories\n",
    "\n",
    "We will go through this part by creating a new dataframe **cate_df** to record some information, including:\n",
    "- **pledged_sum** -> Sum of the pledged money for each categories\n",
    "- **count** -> Project counts for each categories\n",
    "- **average_amount** -> Average pledged amount for each categories \n",
    "- **success_count** -> Successful projects counts for each categories\n",
    "- **success_rate** -> The ratio of success for each categories"
   ]
  },
  {
   "cell_type": "markdown",
   "metadata": {
    "_uuid": "b516c0fd1010f8a0b18d58f4c56d237e94f87fe7"
   },
   "source": [
    "Adding **pledged_sum**"
   ]
  },
  {
   "cell_type": "code",
   "execution_count": 101,
   "metadata": {
    "_uuid": "82cbc5185a36e34759dfa3d25e443723f78402c8"
   },
   "outputs": [
    {
     "ename": "KeyError",
     "evalue": "'main_category'",
     "output_type": "error",
     "traceback": [
      "\u001b[0;31m---------------------------------------------------------------------------\u001b[0m",
      "\u001b[0;31mKeyError\u001b[0m                                  Traceback (most recent call last)",
      "\u001b[0;32m~/miniconda3/envs/kickstarter/lib/python3.7/site-packages/pandas/core/indexes/base.py\u001b[0m in \u001b[0;36mget_loc\u001b[0;34m(self, key, method, tolerance)\u001b[0m\n\u001b[1;32m   2888\u001b[0m             \u001b[0;32mtry\u001b[0m\u001b[0;34m:\u001b[0m\u001b[0;34m\u001b[0m\u001b[0;34m\u001b[0m\u001b[0m\n\u001b[0;32m-> 2889\u001b[0;31m                 \u001b[0;32mreturn\u001b[0m \u001b[0mself\u001b[0m\u001b[0;34m.\u001b[0m\u001b[0m_engine\u001b[0m\u001b[0;34m.\u001b[0m\u001b[0mget_loc\u001b[0m\u001b[0;34m(\u001b[0m\u001b[0mcasted_key\u001b[0m\u001b[0;34m)\u001b[0m\u001b[0;34m\u001b[0m\u001b[0;34m\u001b[0m\u001b[0m\n\u001b[0m\u001b[1;32m   2890\u001b[0m             \u001b[0;32mexcept\u001b[0m \u001b[0mKeyError\u001b[0m \u001b[0;32mas\u001b[0m \u001b[0merr\u001b[0m\u001b[0;34m:\u001b[0m\u001b[0;34m\u001b[0m\u001b[0;34m\u001b[0m\u001b[0m\n",
      "\u001b[0;32mpandas/_libs/index.pyx\u001b[0m in \u001b[0;36mpandas._libs.index.IndexEngine.get_loc\u001b[0;34m()\u001b[0m\n",
      "\u001b[0;32mpandas/_libs/index.pyx\u001b[0m in \u001b[0;36mpandas._libs.index.IndexEngine.get_loc\u001b[0;34m()\u001b[0m\n",
      "\u001b[0;32mpandas/_libs/hashtable_class_helper.pxi\u001b[0m in \u001b[0;36mpandas._libs.hashtable.PyObjectHashTable.get_item\u001b[0;34m()\u001b[0m\n",
      "\u001b[0;32mpandas/_libs/hashtable_class_helper.pxi\u001b[0m in \u001b[0;36mpandas._libs.hashtable.PyObjectHashTable.get_item\u001b[0;34m()\u001b[0m\n",
      "\u001b[0;31mKeyError\u001b[0m: 'main_category'",
      "\nThe above exception was the direct cause of the following exception:\n",
      "\u001b[0;31mKeyError\u001b[0m                                  Traceback (most recent call last)",
      "\u001b[0;32m<ipython-input-101-18be65ba4eed>\u001b[0m in \u001b[0;36m<module>\u001b[0;34m\u001b[0m\n\u001b[1;32m      1\u001b[0m \u001b[0mpledged_sum\u001b[0m \u001b[0;34m=\u001b[0m \u001b[0;34m{\u001b[0m\u001b[0;34m}\u001b[0m\u001b[0;34m\u001b[0m\u001b[0;34m\u001b[0m\u001b[0m\n\u001b[0;32m----> 2\u001b[0;31m \u001b[0;32mfor\u001b[0m \u001b[0mcategory\u001b[0m \u001b[0;32min\u001b[0m \u001b[0mlist\u001b[0m\u001b[0;34m(\u001b[0m\u001b[0mset\u001b[0m\u001b[0;34m(\u001b[0m\u001b[0mksdf\u001b[0m\u001b[0;34m[\u001b[0m\u001b[0;34m'main_category'\u001b[0m\u001b[0;34m]\u001b[0m\u001b[0;34m)\u001b[0m\u001b[0;34m)\u001b[0m\u001b[0;34m:\u001b[0m\u001b[0;34m\u001b[0m\u001b[0;34m\u001b[0m\u001b[0m\n\u001b[0m\u001b[1;32m      3\u001b[0m     \u001b[0mamount\u001b[0m \u001b[0;34m=\u001b[0m \u001b[0mksdf\u001b[0m\u001b[0;34m[\u001b[0m\u001b[0mksdf\u001b[0m\u001b[0;34m[\u001b[0m\u001b[0;34m'main_category'\u001b[0m\u001b[0;34m]\u001b[0m \u001b[0;34m==\u001b[0m \u001b[0mcategory\u001b[0m\u001b[0;34m]\u001b[0m\u001b[0;34m[\u001b[0m\u001b[0;34m'usd_pledged_real'\u001b[0m\u001b[0;34m]\u001b[0m\u001b[0;34m.\u001b[0m\u001b[0msum\u001b[0m\u001b[0;34m(\u001b[0m\u001b[0;34m)\u001b[0m\u001b[0;34m\u001b[0m\u001b[0;34m\u001b[0m\u001b[0m\n\u001b[1;32m      4\u001b[0m     \u001b[0mpledged_sum\u001b[0m\u001b[0;34m[\u001b[0m\u001b[0mcategory\u001b[0m\u001b[0;34m]\u001b[0m \u001b[0;34m=\u001b[0m \u001b[0mamount\u001b[0m\u001b[0;34m\u001b[0m\u001b[0;34m\u001b[0m\u001b[0m\n\u001b[1;32m      5\u001b[0m \u001b[0;34m\u001b[0m\u001b[0m\n",
      "\u001b[0;32m~/miniconda3/envs/kickstarter/lib/python3.7/site-packages/pandas/core/frame.py\u001b[0m in \u001b[0;36m__getitem__\u001b[0;34m(self, key)\u001b[0m\n\u001b[1;32m   2900\u001b[0m             \u001b[0;32mif\u001b[0m \u001b[0mself\u001b[0m\u001b[0;34m.\u001b[0m\u001b[0mcolumns\u001b[0m\u001b[0;34m.\u001b[0m\u001b[0mnlevels\u001b[0m \u001b[0;34m>\u001b[0m \u001b[0;36m1\u001b[0m\u001b[0;34m:\u001b[0m\u001b[0;34m\u001b[0m\u001b[0;34m\u001b[0m\u001b[0m\n\u001b[1;32m   2901\u001b[0m                 \u001b[0;32mreturn\u001b[0m \u001b[0mself\u001b[0m\u001b[0;34m.\u001b[0m\u001b[0m_getitem_multilevel\u001b[0m\u001b[0;34m(\u001b[0m\u001b[0mkey\u001b[0m\u001b[0;34m)\u001b[0m\u001b[0;34m\u001b[0m\u001b[0;34m\u001b[0m\u001b[0m\n\u001b[0;32m-> 2902\u001b[0;31m             \u001b[0mindexer\u001b[0m \u001b[0;34m=\u001b[0m \u001b[0mself\u001b[0m\u001b[0;34m.\u001b[0m\u001b[0mcolumns\u001b[0m\u001b[0;34m.\u001b[0m\u001b[0mget_loc\u001b[0m\u001b[0;34m(\u001b[0m\u001b[0mkey\u001b[0m\u001b[0;34m)\u001b[0m\u001b[0;34m\u001b[0m\u001b[0;34m\u001b[0m\u001b[0m\n\u001b[0m\u001b[1;32m   2903\u001b[0m             \u001b[0;32mif\u001b[0m \u001b[0mis_integer\u001b[0m\u001b[0;34m(\u001b[0m\u001b[0mindexer\u001b[0m\u001b[0;34m)\u001b[0m\u001b[0;34m:\u001b[0m\u001b[0;34m\u001b[0m\u001b[0;34m\u001b[0m\u001b[0m\n\u001b[1;32m   2904\u001b[0m                 \u001b[0mindexer\u001b[0m \u001b[0;34m=\u001b[0m \u001b[0;34m[\u001b[0m\u001b[0mindexer\u001b[0m\u001b[0;34m]\u001b[0m\u001b[0;34m\u001b[0m\u001b[0;34m\u001b[0m\u001b[0m\n",
      "\u001b[0;32m~/miniconda3/envs/kickstarter/lib/python3.7/site-packages/pandas/core/indexes/base.py\u001b[0m in \u001b[0;36mget_loc\u001b[0;34m(self, key, method, tolerance)\u001b[0m\n\u001b[1;32m   2889\u001b[0m                 \u001b[0;32mreturn\u001b[0m \u001b[0mself\u001b[0m\u001b[0;34m.\u001b[0m\u001b[0m_engine\u001b[0m\u001b[0;34m.\u001b[0m\u001b[0mget_loc\u001b[0m\u001b[0;34m(\u001b[0m\u001b[0mcasted_key\u001b[0m\u001b[0;34m)\u001b[0m\u001b[0;34m\u001b[0m\u001b[0;34m\u001b[0m\u001b[0m\n\u001b[1;32m   2890\u001b[0m             \u001b[0;32mexcept\u001b[0m \u001b[0mKeyError\u001b[0m \u001b[0;32mas\u001b[0m \u001b[0merr\u001b[0m\u001b[0;34m:\u001b[0m\u001b[0;34m\u001b[0m\u001b[0;34m\u001b[0m\u001b[0m\n\u001b[0;32m-> 2891\u001b[0;31m                 \u001b[0;32mraise\u001b[0m \u001b[0mKeyError\u001b[0m\u001b[0;34m(\u001b[0m\u001b[0mkey\u001b[0m\u001b[0;34m)\u001b[0m \u001b[0;32mfrom\u001b[0m \u001b[0merr\u001b[0m\u001b[0;34m\u001b[0m\u001b[0;34m\u001b[0m\u001b[0m\n\u001b[0m\u001b[1;32m   2892\u001b[0m \u001b[0;34m\u001b[0m\u001b[0m\n\u001b[1;32m   2893\u001b[0m         \u001b[0;32mif\u001b[0m \u001b[0mtolerance\u001b[0m \u001b[0;32mis\u001b[0m \u001b[0;32mnot\u001b[0m \u001b[0;32mNone\u001b[0m\u001b[0;34m:\u001b[0m\u001b[0;34m\u001b[0m\u001b[0;34m\u001b[0m\u001b[0m\n",
      "\u001b[0;31mKeyError\u001b[0m: 'main_category'"
     ]
    }
   ],
   "source": [
    "pledged_sum = {}\n",
    "for category in list(set(ksdf['main_category'])):\n",
    "    amount = ksdf[ksdf['main_category'] == category]['usd_pledged_real'].sum()\n",
    "    pledged_sum[category] = amount\n",
    "\n",
    "# Create dataframe\n",
    "cate_df = pd.Series(pledged_sum)\n",
    "cate_df = pd.DataFrame(cate_df)\n",
    "cate_df = cate_df.rename(columns = {0:\"pledged_sum\"})\n",
    "\n",
    "cate_df.head()"
   ]
  },
  {
   "cell_type": "markdown",
   "metadata": {
    "_uuid": "5fa35f8dc78eaa49ed0c836c3d1566f9dee80ad8"
   },
   "source": [
    "Adding **count**"
   ]
  },
  {
   "cell_type": "code",
   "execution_count": null,
   "metadata": {
    "_uuid": "546126e93c6a7ee3807ba3f3c70bf9d6ad7c06b8"
   },
   "outputs": [],
   "source": [
    "cate_count = {}\n",
    "for category in list(set(ksdf['main_category'])):\n",
    "    count = ksdf[ksdf['main_category'] == category]['main_category'].count()\n",
    "    cate_count[category] = count\n",
    "    \n",
    "cate_df['count'] = pd.Series(cate_count)\n",
    "\n",
    "cate_df.head()"
   ]
  },
  {
   "cell_type": "markdown",
   "metadata": {
    "_uuid": "badc06dc067dc62a27b529571d877a5701e369bd"
   },
   "source": [
    "Adding **average_amount**"
   ]
  },
  {
   "cell_type": "code",
   "execution_count": null,
   "metadata": {
    "_uuid": "426e861db8c57dbb92d814d8d06aadf49124e14f"
   },
   "outputs": [],
   "source": [
    "cate_df['average_amount'] = cate_df['pledged_sum']/ cate_df['count']\n",
    "cate_df.head()"
   ]
  },
  {
   "cell_type": "markdown",
   "metadata": {
    "_uuid": "09ce426103bad6c357ab804ffe9368d345e6df6b"
   },
   "source": [
    "Adding **success_rate**"
   ]
  },
  {
   "cell_type": "code",
   "execution_count": null,
   "metadata": {
    "_uuid": "1f66f2a552e91243b6781f4a27beebdc129aa053"
   },
   "outputs": [],
   "source": [
    "success = {}\n",
    "for category in list(set(ksdf['main_category'])):\n",
    "    success_count = len(ksdf[(ksdf['main_category'] == category) & \n",
    "         (ksdf['state'] == \"successful\")])\n",
    "    success[category] = success_count\n",
    "\n",
    "cate_df[\"success_count\"] = pd.Series(success)\n",
    "cate_df.head()"
   ]
  },
  {
   "cell_type": "code",
   "execution_count": null,
   "metadata": {
    "_uuid": "e319b1c46da51ddb1b54783ae217514780374003"
   },
   "outputs": [],
   "source": [
    "cate_df[\"success_rate\"] = cate_df['success_count']/ cate_df['count']\n",
    "cate_df.head()"
   ]
  },
  {
   "cell_type": "code",
   "execution_count": null,
   "metadata": {
    "_uuid": "a8e75bfe1319a9b6abec53dfaddec6388edb8edd"
   },
   "outputs": [],
   "source": [
    "# pledged_sum plot\n",
    "cate_df = cate_df.sort_values('pledged_sum',  ascending = False)\n",
    "plt.subplots(figsize = (20,5))\n",
    "sns.set_style(\"whitegrid\")\n",
    "sns.barplot(cate_df['pledged_sum'].index, y= cate_df['pledged_sum'] ,\n",
    "            palette=\"Set1\",saturation = 0.5)\n",
    "sns.despine(right = True, top = True)"
   ]
  },
  {
   "cell_type": "code",
   "execution_count": null,
   "metadata": {
    "_uuid": "999a4e2e52f5befb3aab77bd2f114444450a4cb8"
   },
   "outputs": [],
   "source": [
    "# avarage amount plot\n",
    "cate_df = cate_df.sort_values('average_amount',  ascending = False)\n",
    "plt.subplots(figsize = (20,5))\n",
    "sns.set_style(\"whitegrid\")\n",
    "sns.barplot(cate_df['average_amount'].index, y= cate_df['average_amount'] ,\n",
    "            palette=\"Set1\",saturation = 0.5)\n",
    "sns.despine(right = True, top = True)"
   ]
  },
  {
   "cell_type": "code",
   "execution_count": null,
   "metadata": {
    "_uuid": "789fe98114fefe6c194ce53ffb1485f0579caa48"
   },
   "outputs": [],
   "source": [
    "# count plot\n",
    "cate_df = cate_df.sort_values('count',  ascending = False)\n",
    "plt.subplots(figsize = (20,5))\n",
    "sns.set_style(\"whitegrid\")\n",
    "sns.barplot(cate_df['count'].index, y= cate_df['count'] ,\n",
    "            palette=\"Set1\",saturation = 0.5)\n",
    "sns.despine(right = True, top = True)"
   ]
  },
  {
   "cell_type": "code",
   "execution_count": null,
   "metadata": {
    "_uuid": "4d2f803dbd9264f36bc6cdcdf24654ba129fea14"
   },
   "outputs": [],
   "source": [
    "# success rate plot\n",
    "cate_df = cate_df.sort_values('success_rate',  ascending = False)\n",
    "plt.subplots(figsize = (20,5))\n",
    "sns.set_style(\"whitegrid\")\n",
    "sns.barplot(cate_df['success_rate'].index, y= cate_df['success_rate'] ,\n",
    "            palette=\"Set1\",saturation = 0.5)\n",
    "sns.despine(right = True, top = True)"
   ]
  },
  {
   "cell_type": "markdown",
   "metadata": {
    "_uuid": "670e257cbb84aa9d5235d452fa9a77a819eeaf16"
   },
   "source": [
    "## 4. Backers\n",
    "* 4.1 Discover categories that attract most backers\n",
    "* 4.2 The distribution of backers\n",
    "* 4.3 Relationship between backers & pledged amounts"
   ]
  },
  {
   "cell_type": "code",
   "execution_count": null,
   "metadata": {
    "_uuid": "1c5f56b02256fd687654425e3166bbdee9169405"
   },
   "outputs": [],
   "source": [
    "back_cate = {}\n",
    "\n",
    "for category in set(ksdf['main_category']):\n",
    "    backers = ksdf[ksdf['main_category'] == category]['backers'].sum()\n",
    "    back_cate[category] = backers\n",
    "\n",
    "backers = pd.Series(back_cate)\n",
    "cate_df['backers'] = backers"
   ]
  },
  {
   "cell_type": "code",
   "execution_count": null,
   "metadata": {
    "_uuid": "94898489b21cb3bf1cb9d2657c4b4ebcbeb6acfb"
   },
   "outputs": [],
   "source": [
    "cate_df = cate_df.sort_values('backers',  ascending = False)\n",
    "plt.subplots(figsize = (20,5))\n",
    "sns.set_style(\"whitegrid\")\n",
    "sns.barplot(cate_df['backers'].index, y= cate_df['backers'] ,\n",
    "            palette=\"Set1\",saturation = 0.5)\n",
    "sns.despine(right = True, top = True)"
   ]
  },
  {
   "cell_type": "code",
   "execution_count": null,
   "metadata": {
    "_uuid": "2f8e8fc28fa294304dc1c5d4a4708b7c81e52878"
   },
   "outputs": [],
   "source": [
    "ksdf['backers'].quantile(list(np.arange(0,1,0.01))).plot(grid = 0, color = '#055968')"
   ]
  },
  {
   "cell_type": "code",
   "execution_count": null,
   "metadata": {
    "_uuid": "f9d98e8010530a088f87f60fb869724f4603945f"
   },
   "outputs": [],
   "source": [
    "sns.set_style(\"whitegrid\")\n",
    "sns.kdeplot(ksdf['backers'])\n",
    "sns.despine(right = True, top = True)"
   ]
  },
  {
   "cell_type": "markdown",
   "metadata": {
    "_uuid": "600794b481c096b5a6f0f7b2c2cf4613b73ad036",
    "collapsed": true
   },
   "source": [
    "### 5. Modeling\n",
    "* 5.1 Backers & pledged amount - `Linear Regression`\n",
    "    - Use **backers** to predict **usd_pledged_real**\n",
    "    - Retrieve projects that are not zero-pledged\n",
    "    - Model\n",
    "        - Input (X): **backers** (logarithm)\n",
    "        - Output (Y): **usd_pledged_real** (logarithm)\n",
    "        - Loss estimation: mean squared error\n",
    "* 5.2 Project state prediction - `Random Forest`\n",
    "- Data processing\n",
    "    - Encode **state** column to binary:\n",
    "        - successful -> 1\n",
    "        - failed -> 0\n",
    "        - else -> delete\n",
    "    - Concatenate new data set: `ksdf_rf`\n",
    "        - **main_category**\n",
    "        - **time** \n",
    "        - **state**\n",
    "    - Data Split:\n",
    "        - train 70%\n",
    "        - test 30%\n",
    "    - Define X and Y\n",
    "        - X:\n",
    "            - category (one-hot)\n",
    "            -  main_category (one-hot)\n",
    "            - time\n",
    "        - Y:\n",
    "            - success/ failed (1/0)"
   ]
  },
  {
   "cell_type": "code",
   "execution_count": null,
   "metadata": {
    "_uuid": "6d2fb70b77814a971e5d176f6e250b4db4b76d05"
   },
   "outputs": [],
   "source": [
    "# Select not zero-pledged projects\n",
    "non_zero = ksdf[ksdf['usd_pledged_real'] != 0]\n",
    "print (non_zero.shape)"
   ]
  },
  {
   "cell_type": "code",
   "execution_count": null,
   "metadata": {
    "_uuid": "c66fcd9c9ae145c1cacc61babd2a29bdef93c08b"
   },
   "outputs": [],
   "source": [
    "# Define X and Y\n",
    "X = ksdf[ksdf['usd_pledged_real'] != 0]['backers'].values\n",
    "Y = ksdf[ksdf['usd_pledged_real'] != 0]['usd_pledged_real'].values\n",
    "\n",
    "print (X.shape)\n",
    "print (Y.shape)"
   ]
  },
  {
   "cell_type": "code",
   "execution_count": null,
   "metadata": {
    "_uuid": "c7bae2576ad934bb3a4c6f2b0a5cc3a00aedc165"
   },
   "outputs": [],
   "source": [
    "X = X.reshape(326134,1)\n",
    "Y = Y.reshape(326134,1)"
   ]
  },
  {
   "cell_type": "code",
   "execution_count": null,
   "metadata": {
    "_uuid": "e54d4b3f1f2cb97c611922aa7ca297289e780d1c"
   },
   "outputs": [],
   "source": [
    "# Model fitting and visualization\n",
    "regr = linear_model.LinearRegression()\n",
    "regr.fit(np.log(X+1), np.log(Y+1))\n",
    "\n",
    "plt.scatter(np.log(X+1), np.log(Y+1))\n",
    "plt.plot(np.log(X+1), regr.predict(np.log(X+1)), color='red', linewidth=3)\n",
    "plt.show()"
   ]
  },
  {
   "cell_type": "code",
   "execution_count": null,
   "metadata": {
    "_uuid": "f1594d41ca65d8df3c479e6eae4d1ed4e018d826"
   },
   "outputs": [],
   "source": [
    "# Results: error and parameters\n",
    "\n",
    "Y_pred = regr.predict(np.log(X+1))\n",
    "Y_true = np.log(Y+1)\n",
    "\n",
    "print (\"error = \", sklearn.metrics.mean_squared_error(Y_true, Y_pred))\n",
    "print (\"coefficient = \", regr.coef_)\n",
    "print (\"intercept = \", regr.intercept_)"
   ]
  },
  {
   "cell_type": "markdown",
   "metadata": {
    "_uuid": "6b4bc3c936d1b0a675bc29a972ead187e16d8c95"
   },
   "source": [
    "Encode **state** column to binary\n",
    "* successful -> 1\n",
    "* failed -> 0\n",
    "* else -> delete"
   ]
  },
  {
   "cell_type": "code",
   "execution_count": null,
   "metadata": {
    "_uuid": "09e40d1288e1dd96fcd6dc55fb4867dbd28bcdd0"
   },
   "outputs": [],
   "source": [
    "print (ksdf['state'].value_counts())\n",
    "print ('')\n",
    "print (\"ksdf.shape = \", ksdf.shape)"
   ]
  },
  {
   "cell_type": "code",
   "execution_count": null,
   "metadata": {
    "_uuid": "863c3426f24582b7eb9e9566974601d7e1d17b12"
   },
   "outputs": [],
   "source": [
    "def state_change(cell_value):\n",
    "    if cell_value == 'successful':\n",
    "        return 1\n",
    "    \n",
    "    elif cell_value == 'failed':\n",
    "        return 0\n",
    "    \n",
    "    else:\n",
    "        return 'del'"
   ]
  },
  {
   "cell_type": "code",
   "execution_count": null,
   "metadata": {
    "_uuid": "4d9e9eab9d3f691a2441d819f3245c7a687af338"
   },
   "outputs": [],
   "source": [
    "ksdf['state'] = ksdf['state'].apply(state_change)\n",
    "print (ksdf[ksdf['state'] == 1].shape)\n",
    "print (ksdf[ksdf['state'] == 0].shape)\n",
    "print (ksdf[ksdf['state'] == 'del'].shape)\n",
    "print (ksdf[ksdf['state'] == 1].shape[0] + ksdf[ksdf['state'] == 0].shape[0])"
   ]
  },
  {
   "cell_type": "markdown",
   "metadata": {
    "_uuid": "ef8240c0b43174a2a62fab9a60055d42ebd1ead8"
   },
   "source": [
    "Concatenate new DataFrame\n",
    "* **main_category**\n",
    "* **time** \n",
    "* **state**"
   ]
  },
  {
   "cell_type": "code",
   "execution_count": null,
   "metadata": {
    "_uuid": "804d9c0b5ec2b9875346624d9e4461c3e85947e8"
   },
   "outputs": [],
   "source": [
    "ksdf_rf = ksdf.drop(ksdf[ksdf['state'] == 'del'].index)\n",
    "print (ksdf_rf.shape)"
   ]
  },
  {
   "cell_type": "code",
   "execution_count": null,
   "metadata": {
    "_uuid": "5115bc365353201426e1ff087730db7c95496ac4"
   },
   "outputs": [],
   "source": [
    "ksdf_rf = pd.concat([\n",
    "                  ksdf_rf['main_category'],\n",
    "                  ksdf_rf['time'],\n",
    "                  ksdf_rf['state']], axis = 1\n",
    "                 )\n",
    "\n",
    "print (ksdf_rf.shape)"
   ]
  },
  {
   "cell_type": "markdown",
   "metadata": {
    "_uuid": "1838346c43eb8020b145bd4c2b117eb0b097072a"
   },
   "source": [
    "Data Split:\n",
    "* Train: 70%\n",
    "* Test: 30%"
   ]
  },
  {
   "cell_type": "code",
   "execution_count": null,
   "metadata": {
    "_uuid": "74cd9b9d4d30ab3631ee8e1daf5f87fe11a2ca66"
   },
   "outputs": [],
   "source": [
    "train, test = sklearn.model_selection.train_test_split(ksdf_rf, test_size = 0.3, random_state = 42)\n",
    "\n",
    "print (\"Train shape = \", train.shape, \",\", len(train)/ len(ksdf_rf) * 100, \"%\")\n",
    "print (\"Test shape = \", test.shape, \",\", len(test)/ len(ksdf_rf) * 100, \"%\")"
   ]
  },
  {
   "cell_type": "markdown",
   "metadata": {
    "_uuid": "d21479614462afb9d895e7cc468b30e2cfa43a6b"
   },
   "source": [
    "Define X and Y"
   ]
  },
  {
   "cell_type": "code",
   "execution_count": null,
   "metadata": {
    "_uuid": "1c2ecb10e0113f1e84ed598e4f9c0553c6e50aa6"
   },
   "outputs": [],
   "source": [
    "X_train = pd.concat(\n",
    "    [\n",
    "     pd.get_dummies(train['main_category'], prefix = 'main_category'),\n",
    "     train[\"time\"]\n",
    "    ], axis=1)\n",
    "\n",
    "Y_train = train['state']"
   ]
  },
  {
   "cell_type": "code",
   "execution_count": null,
   "metadata": {
    "_uuid": "562f7ccb23ec31f09c2a3301d446de971a576c3e"
   },
   "outputs": [],
   "source": [
    "X_test = pd.concat(\n",
    "    [\n",
    "     pd.get_dummies(test['main_category'], prefix = 'main_category'),\n",
    "     test[\"time\"]\n",
    "    ], axis=1)\n",
    "\n",
    "Y_test = test['state']"
   ]
  },
  {
   "cell_type": "code",
   "execution_count": null,
   "metadata": {
    "_uuid": "c40ed52d2888952ebec103c5f8d29bd27bf64a62"
   },
   "outputs": [],
   "source": [
    "X_train = X_train.astype(int)\n",
    "Y_train = Y_train.astype(int)\n",
    "X_test = X_test.astype(int)\n",
    "Y_test = Y_test.astype(int)\n",
    "\n",
    "print (X_train.shape)\n",
    "print (Y_train.shape)\n",
    "print (X_test.shape)\n",
    "print (Y_test.shape)"
   ]
  },
  {
   "cell_type": "markdown",
   "metadata": {
    "_uuid": "341c5b991adf5c06548979e103255133f9503a66"
   },
   "source": [
    "Random Forest"
   ]
  },
  {
   "cell_type": "code",
   "execution_count": null,
   "metadata": {
    "_uuid": "47c8ac102668bb2bf886305c0684901553a94052"
   },
   "outputs": [],
   "source": [
    "for_record = {\n",
    "    'baseline':{},\n",
    "    'best_random1':{},\n",
    "    'best_random2':{},\n",
    "    'best_random3':{},\n",
    "    'grid1':{},\n",
    "    'grid2':{}\n",
    "}"
   ]
  },
  {
   "cell_type": "code",
   "execution_count": null,
   "metadata": {
    "_uuid": "607e248b6fd7298e9cb3860670419e584b3bd5d1"
   },
   "outputs": [],
   "source": [
    "start = time.time()\n",
    "rf = RandomForestClassifier(random_state = 42)\n",
    "rf.fit(X_train, Y_train)\n",
    "end = time.time()\n",
    "sec = end - start\n",
    "Y_pred = rf.predict(X_train)"
   ]
  },
  {
   "cell_type": "code",
   "execution_count": null,
   "metadata": {
    "_uuid": "0a88ae855c0b8ed5f5bd06cbd910e21db0007ef0"
   },
   "outputs": [],
   "source": [
    "for_record['baseline']['params'] = rf.get_params()\n",
    "for_record['baseline']['time'] = sec\n",
    "for_record['baseline'][\"train_score\"] = rf.score(X_train, Y_train)\n",
    "for_record['baseline']['f1'] = f1_score(Y_train, Y_pred, average = 'weighted')\n",
    "for_record['baseline']['test_score'] = rf.score(X_test, Y_test)"
   ]
  },
  {
   "cell_type": "markdown",
   "metadata": {
    "_uuid": "58b957d6eae30e83bfb1ef757bedc7961652f344"
   },
   "source": [
    "Randomized Search 1"
   ]
  },
  {
   "cell_type": "code",
   "execution_count": null,
   "metadata": {
    "_uuid": "aeb67e4b7ecfd888b4d02ee62ff203f1e4567cdb"
   },
   "outputs": [],
   "source": [
    "# Number of trees in random forest\n",
    "n_estimators = [int(x) for x in range(2, 100, 10)]\n",
    "# Number of features to consider at every split\n",
    "max_features = ['auto', 'sqrt']\n",
    "# Maximum number of levels in tree\n",
    "max_depth = [int(x) for x in range(2,50,10)]\n",
    "# Minimum number of samples required to split a node\n",
    "min_samples_split = [2, 5, 10]\n",
    "# Minimum number of samples required at each leaf node\n",
    "min_samples_leaf = [1, 2, 4]\n",
    "# Method of selecting samples for training each tree\n",
    "bootstrap = [True, False]\n",
    "# Create the random grid\n",
    "param_rand1 = {'n_estimators': n_estimators,\n",
    "               'max_features': max_features,\n",
    "               'max_depth': max_depth,\n",
    "               'min_samples_split': min_samples_split,\n",
    "               'min_samples_leaf': min_samples_leaf,\n",
    "               'bootstrap': bootstrap}\n",
    "\n",
    "# Random search of parameters, using 3 fold cross validation, \n",
    "# search across 100 different combinations, and use all available cores\n",
    "rf_random1 = RandomizedSearchCV(estimator = rf, param_distributions = param_rand1, n_iter = 10, cv = 3, verbose=2, random_state=42, n_jobs = -1)\n",
    "# Fit the random search model\n",
    "rf_random1.fit(X_train, Y_train)\n",
    "\n",
    "# Use best random parameters to train a new model\n",
    "start = time.time()\n",
    "rf_rand1 = RandomForestClassifier(bootstrap = rf_random1.best_params_['bootstrap'],\n",
    "                                 max_depth = rf_random1.best_params_['max_depth'],\n",
    "                                 max_features = rf_random1.best_params_['max_features'],\n",
    "                                 min_samples_leaf = rf_random1.best_params_['min_samples_leaf'],\n",
    "                                 min_samples_split = rf_random1.best_params_['min_samples_split'],\n",
    "                                 n_estimators = rf_random1.best_params_['n_estimators'],\n",
    "                                 random_state = 42, n_jobs = -1)\n",
    "\n",
    "rf_rand1.fit(X_train, Y_train)\n",
    "end = time.time()\n",
    "rand1_time = end - start\n",
    "Y_pred = rf_rand1.predict(X_train)\n",
    "\n",
    "for_record['best_random1']['params'] = rf_rand1.get_params()\n",
    "for_record['best_random1']['time'] = rand1_time\n",
    "for_record['best_random1'][\"train_score\"] = rf_rand1.score(X_train, Y_train)\n",
    "for_record['best_random1']['f1'] = f1_score(Y_train, Y_pred, average = 'weighted')\n",
    "for_record['best_random1']['test_score'] = rf_rand1.score(X_test, Y_test)"
   ]
  },
  {
   "cell_type": "markdown",
   "metadata": {
    "_uuid": "992530584ce57c394a5dfb16fa9d44a68c7d6f8a"
   },
   "source": [
    "Grid Search 1"
   ]
  },
  {
   "cell_type": "code",
   "execution_count": null,
   "metadata": {
    "_uuid": "7cd32bcd050bd9a6ba17138fc1491d462a714885"
   },
   "outputs": [],
   "source": [
    "# # Number of trees in random forest\n",
    "# n_estimators = [int(x) for x in range(55, 65, 2)]\n",
    "# # Number of features to consider at every split\n",
    "# max_features = ['auto', 'sqrt']\n",
    "# # Maximum number of levels in tree\n",
    "# max_depth = [int(x) for x in range(2, 20, 2)]\n",
    "# # Minimum number of samples required to split a node\n",
    "# min_samples_split = [2,5,10]\n",
    "# # Minimum number of samples required at each leaf node\n",
    "# min_samples_leaf = [1,2,4]\n",
    "# # Method of selecting samples for training each tree\n",
    "# bootstrap = [True,False]\n",
    "# # Create the random grid\n",
    "# param_grid1 = {'n_estimators': n_estimators,\n",
    "#                'max_features': max_features,\n",
    "#                'max_depth': max_depth,\n",
    "#                'min_samples_split': min_samples_split,\n",
    "#                'min_samples_leaf': min_samples_leaf,\n",
    "#                'bootstrap': bootstrap}\n",
    "\n",
    "# # Random search of parameters, using 3 fold cross validation, \n",
    "# # search across 100 different combinations, and use all available cores\n",
    "# rf_grid1 = GridSearchCV(estimator = rf, param_grid = param_grid1, cv = 3, verbose=2, n_jobs = -1)\n",
    "# # Fit the random search model\n",
    "# rf_grid1.fit(X_train, Y_train)\n",
    "\n",
    "# # Use best random parameters to train a new model\n",
    "# start = time.time()\n",
    "# rf_grid1 = RandomForestClassifier(bootstrap = rf_grid1.best_params_['bootstrap'],\n",
    "#                                  max_depth = rf_grid1.best_params_['max_depth'],\n",
    "#                                  max_features = rf_grid1.best_params_['max_features'],\n",
    "#                                  min_samples_leaf = rf_grid1.best_params_['min_samples_leaf'],\n",
    "#                                  min_samples_split = rf_grid1.best_params_['min_samples_split'],\n",
    "#                                  n_estimators = rf_grid1.best_params_['n_estimators'],\n",
    "#                                  random_state = 42, n_jobs = -1)\n",
    "\n",
    "# rf_grid1.fit(X_train, Y_train)\n",
    "# end = time.time()\n",
    "# grid1_time = end - start\n",
    "# Y_pred = rf_grid1.predict(X_train)\n",
    "\n",
    "# for_record['grid1']['params'] = rf_grid1.get_params()\n",
    "# for_record['grid1']['time'] = grid1_time\n",
    "# for_record['grid1'][\"train_score\"] = rf_grid1.score(X_train, Y_train)\n",
    "# for_record['grid1']['f1'] = f1_score(Y_train, Y_pred, average = 'weighted')\n",
    "# for_record['grid1']['test_score'] = rf_grid1.score(X_test, Y_test)"
   ]
  },
  {
   "cell_type": "markdown",
   "metadata": {
    "_uuid": "8a8a7d62c27bc9622099242d7003b2e11c81e2e5"
   },
   "source": [
    "Randomized Search 2"
   ]
  },
  {
   "cell_type": "code",
   "execution_count": null,
   "metadata": {
    "_uuid": "7ccf6c1afc69acfd0bf874229be2ebc4649761bd"
   },
   "outputs": [],
   "source": [
    "# Number of trees in random forest\n",
    "n_estimators = [int(x) for x in range(100, 200, 10)]\n",
    "# Number of features to consider at every split\n",
    "max_features = ['auto', 'sqrt']\n",
    "# Maximum number of levels in tree\n",
    "max_depth = [int(x) for x in range(50,100,10)]\n",
    "# Minimum number of samples required to split a node\n",
    "min_samples_split = [2, 5, 10]\n",
    "# Minimum number of samples required at each leaf node\n",
    "min_samples_leaf = [1, 2, 4]\n",
    "# Method of selecting samples for training each tree\n",
    "bootstrap = [True, False]\n",
    "# Create the random grid\n",
    "param_random2 = {'n_estimators': n_estimators,\n",
    "               'max_features': max_features,\n",
    "               'max_depth': max_depth,\n",
    "               'min_samples_split': min_samples_split,\n",
    "               'min_samples_leaf': min_samples_leaf,\n",
    "               'bootstrap': bootstrap}\n",
    "\n",
    "# Random search of parameters, using 3 fold cross validation, \n",
    "# search across 100 different combinations, and use all available cores\n",
    "rf_random2 = RandomizedSearchCV(estimator = rf, param_distributions = param_random2, n_iter = 10, cv = 3, verbose=2, random_state=42, n_jobs = -1)\n",
    "# Fit the random search model\n",
    "rf_random2.fit(X_train, Y_train)\n",
    "\n",
    "# Use best random parameters to train a new model\n",
    "start = time.time()\n",
    "rf_rand2 = RandomForestClassifier(bootstrap = rf_random2.best_params_['bootstrap'],\n",
    "                                 max_depth = rf_random2.best_params_['max_depth'],\n",
    "                                 max_features = rf_random2.best_params_['max_features'],\n",
    "                                 min_samples_leaf = rf_random2.best_params_['min_samples_leaf'],\n",
    "                                 min_samples_split = rf_random2.best_params_['min_samples_split'],\n",
    "                                 n_estimators = rf_random2.best_params_['n_estimators'],\n",
    "                                 random_state = 42, n_jobs = -1)\n",
    "\n",
    "rf_rand2.fit(X_train, Y_train)\n",
    "end = time.time()\n",
    "rand2_time = end - start\n",
    "Y_pred = rf_rand2.predict(X_train)\n",
    "for_record['best_random2']['params'] = rf_rand2.get_params()\n",
    "for_record['best_random2']['time'] = rand2_time\n",
    "for_record['best_random2'][\"train_score\"] = rf_rand2.score(X_train, Y_train)\n",
    "for_record['best_random2']['f1'] = f1_score(Y_train, Y_pred, average = 'weighted')\n",
    "for_record['best_random2']['test_score'] = rf_rand2.score(X_test, Y_test)"
   ]
  },
  {
   "cell_type": "markdown",
   "metadata": {
    "_uuid": "a61aa768c4f2627528df2cc4afe55ba9860981cb"
   },
   "source": [
    "Grid Search 2"
   ]
  },
  {
   "cell_type": "code",
   "execution_count": null,
   "metadata": {
    "_uuid": "e5a870633c6e993890447f6062355a06850bd814"
   },
   "outputs": [],
   "source": [
    "# # Number of trees in random forest\n",
    "# n_estimators = [int(x) for x in range(100, 150, 2)]\n",
    "# # Number of features to consider at every split\n",
    "# max_features = 'auto'\n",
    "# # Maximum number of levels in tree\n",
    "# max_depth = [int(x) for x in range(2, 20, 2)]\n",
    "# # Minimum number of samples required to split a node\n",
    "# min_samples_split = 5\n",
    "# # Minimum number of samples required at each leaf node\n",
    "# min_samples_leaf = 2\n",
    "# # Method of selecting samples for training each tree\n",
    "# bootstrap = False\n",
    "# # Create the random grid\n",
    "# param_grid1 = {'n_estimators': n_estimators,\n",
    "#                'max_features': max_features,\n",
    "#                'max_depth': max_depth,\n",
    "#                'min_samples_split': min_samples_split,\n",
    "#                'min_samples_leaf': min_samples_leaf,\n",
    "#                'bootstrap': bootstrap}"
   ]
  },
  {
   "cell_type": "markdown",
   "metadata": {
    "_uuid": "e169c61205bfa0d8b45bbde02fc7bccd55f4944d",
    "collapsed": true
   },
   "source": [
    "Randomized Search 3"
   ]
  },
  {
   "cell_type": "code",
   "execution_count": null,
   "metadata": {
    "_uuid": "1e403a3a0c417385fc447a2028cf21de1aa858d9"
   },
   "outputs": [],
   "source": [
    "# Number of trees in random forest\n",
    "n_estimators = [int(x) for x in range(201, 300, 10)]\n",
    "# Number of features to consider at every split\n",
    "max_features = ['auto', 'sqrt']\n",
    "# Maximum number of levels in tree\n",
    "max_depth = [int(x) for x in range(100,150,10)]\n",
    "# Minimum number of samples required to split a node\n",
    "min_samples_split = [2, 5, 10]\n",
    "# Minimum number of samples required at each leaf node\n",
    "min_samples_leaf = [1, 2, 4]\n",
    "# Method of selecting samples for training each tree\n",
    "bootstrap = [True, False]\n",
    "# Create the random grid\n",
    "param_random3 = {'n_estimators': n_estimators,\n",
    "               'max_features': max_features,\n",
    "               'max_depth': max_depth,\n",
    "               'min_samples_split': min_samples_split,\n",
    "               'min_samples_leaf': min_samples_leaf,\n",
    "               'bootstrap': bootstrap}\n",
    "\n",
    "# Random search of parameters, using 3 fold cross validation, \n",
    "# search across 100 different combinations, and use all available cores\n",
    "rf_random3 = RandomizedSearchCV(estimator = rf, param_distributions = param_random3, n_iter = 10, cv = 3, verbose=2, random_state=42, n_jobs = -1)\n",
    "# Fit the random search model\n",
    "rf_random3.fit(X_train, Y_train)\n",
    "\n",
    "# Use best random parameters to train a new model\n",
    "start = time.time()\n",
    "rf_rand3 = RandomForestClassifier(bootstrap = rf_random3.best_params_['bootstrap'],\n",
    "                                 max_depth = rf_random3.best_params_['max_depth'],\n",
    "                                 max_features = rf_random3.best_params_['max_features'],\n",
    "                                 min_samples_leaf = rf_random3.best_params_['min_samples_leaf'],\n",
    "                                 min_samples_split = rf_random3.best_params_['min_samples_split'],\n",
    "                                 n_estimators = rf_random3.best_params_['n_estimators'],\n",
    "                                 random_state = 42, n_jobs = -1)\n",
    "\n",
    "rf_rand3.fit(X_train, Y_train)\n",
    "end = time.time()\n",
    "rand3_time = end - start\n",
    "Y_pred = rf_rand3.predict(X_train)\n",
    "for_record['best_random3']['params'] = rf_rand3.get_params()\n",
    "for_record['best_random3']['time'] = rand3_time\n",
    "for_record['best_random3'][\"train_score\"] = rf_rand3.score(X_train, Y_train)\n",
    "for_record['best_random3']['f1'] = f1_score(Y_train, Y_pred, average = 'weighted')\n",
    "for_record['best_random3']['test_score'] = rf_rand3.score(X_test, Y_test)"
   ]
  },
  {
   "cell_type": "code",
   "execution_count": null,
   "metadata": {
    "_uuid": "b7afeec86ecee3290f86d52235dc98b43d88f5dd"
   },
   "outputs": [],
   "source": [
    "print (for_record['best_random1']['test_score'])\n",
    "print (for_record['best_random2']['test_score'])\n",
    "print (for_record['best_random3']['test_score'])"
   ]
  },
  {
   "cell_type": "code",
   "execution_count": null,
   "metadata": {
    "_uuid": "821c67c17281644801969ac2898552dafbc01117"
   },
   "outputs": [],
   "source": []
  }
 ],
 "metadata": {
  "kernelspec": {
   "display_name": "Python 3",
   "language": "python",
   "name": "python3"
  },
  "language_info": {
   "codemirror_mode": {
    "name": "ipython",
    "version": 3
   },
   "file_extension": ".py",
   "mimetype": "text/x-python",
   "name": "python",
   "nbconvert_exporter": "python",
   "pygments_lexer": "ipython3",
   "version": "3.7.9"
  },
  "toc": {
   "base_numbering": 1,
   "nav_menu": {},
   "number_sections": true,
   "sideBar": true,
   "skip_h1_title": false,
   "title_cell": "Table of Contents",
   "title_sidebar": "Contents",
   "toc_cell": false,
   "toc_position": {},
   "toc_section_display": true,
   "toc_window_display": false
  }
 },
 "nbformat": 4,
 "nbformat_minor": 1
}
