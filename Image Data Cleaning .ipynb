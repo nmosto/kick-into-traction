{
 "cells": [
  {
   "cell_type": "code",
   "execution_count": 250,
   "metadata": {},
   "outputs": [],
   "source": [
    "# Load required libraries\n",
    "import numpy as np\n",
    "import pandas as pd\n",
    "import joblib\n",
    "import time\n",
    "from IPython.core.display import clear_output"
   ]
  },
  {
   "cell_type": "code",
   "execution_count": 340,
   "metadata": {},
   "outputs": [],
   "source": [
    "datafile = '/home/mosto/Documents/insight/kickstarter-project/web_robots_data_to_08-2020_processed.pkl'"
   ]
  },
  {
   "cell_type": "code",
   "execution_count": 341,
   "metadata": {},
   "outputs": [],
   "source": [
    "features_table = '/home/mosto/Documents/insight/kickstarter-project/features_full_1.pkl'"
   ]
  },
  {
   "cell_type": "markdown",
   "metadata": {},
   "source": [
    "Load the table containing already-parsed Web Robots data."
   ]
  },
  {
   "cell_type": "code",
   "execution_count": 342,
   "metadata": {},
   "outputs": [],
   "source": [
    "# Load table containing processed image features data\n",
    "features = joblib.load(features_table)"
   ]
  },
  {
   "cell_type": "code",
   "execution_count": 343,
   "metadata": {},
   "outputs": [],
   "source": [
    "# Load table containing Web Robots data\n",
    "df = joblib.load(datafile)"
   ]
  },
  {
   "cell_type": "markdown",
   "metadata": {},
   "source": [
    "The parsed data includes:\n",
    "\n",
    "- `name` - project's name\n",
    "- `category` - project's category as defined by Kickstarter\n",
    "- `hyperlink` - project's web page URL\n",
    "- `currency` - type of currency used for fundraising\n",
    "- `pledged` - total amount of money pledged by backers over the course of the project\n",
    "- `goal` - funding goal set by the creator\n",
    "- `location` - creator's location information\n",
    "\n",
    "Let's select the projects that only use U.S. dollars to ensure we're working with projects written in American English."
   ]
  },
  {
   "cell_type": "code",
   "execution_count": 344,
   "metadata": {},
   "outputs": [],
   "source": [
    "# Select projects described in American English\n",
    "df_USD = df[df['currency'] == 'USD']"
   ]
  },
  {
   "cell_type": "code",
   "execution_count": 345,
   "metadata": {},
   "outputs": [],
   "source": [
    "# Take a random sample of the Web Robots data using a seed value to ensure\n",
    "# repeatability\n",
    "seed = np.random.seed(74)\n",
    "df_sample = df_USD.sample(50000)"
   ]
  },
  {
   "cell_type": "markdown",
   "metadata": {},
   "source": [
    "Since the Web Robots data contains nearly 200,000 projects, we'll select a random sample for image scraping datasets."
   ]
  },
  {
   "cell_type": "code",
   "execution_count": 346,
   "metadata": {},
   "outputs": [
    {
     "data": {
      "text/plain": [
       "(50000,)"
      ]
     },
     "execution_count": 346,
     "metadata": {},
     "output_type": "execute_result"
    }
   ],
   "source": [
    "df_sample.index.shape"
   ]
  },
  {
   "cell_type": "code",
   "execution_count": 347,
   "metadata": {},
   "outputs": [
    {
     "data": {
      "text/plain": [
       "(10000, 17)"
      ]
     },
     "execution_count": 347,
     "metadata": {},
     "output_type": "execute_result"
    }
   ],
   "source": [
    "df1_sample=df_sample.iloc[:10000]\n",
    "df1_sample.shape"
   ]
  },
  {
   "cell_type": "code",
   "execution_count": 305,
   "metadata": {},
   "outputs": [
    {
     "data": {
      "text/plain": [
       "94899.0"
      ]
     },
     "execution_count": 305,
     "metadata": {},
     "output_type": "execute_result"
    }
   ],
   "source": [
    "features.iloc[0]['image']"
   ]
  },
  {
   "cell_type": "code",
   "execution_count": 348,
   "metadata": {
    "scrolled": false
   },
   "outputs": [
    {
     "name": "stderr",
     "output_type": "stream",
     "text": [
      "/home/mosto/miniconda3/envs/kickstarter/lib/python3.7/site-packages/pandas/core/indexing.py:1745: SettingWithCopyWarning: \n",
      "A value is trying to be set on a copy of a slice from a DataFrame.\n",
      "Try using .loc[row_indexer,col_indexer] = value instead\n",
      "\n",
      "See the caveats in the documentation: https://pandas.pydata.org/pandas-docs/stable/user_guide/indexing.html#returning-a-view-versus-a-copy\n",
      "  isetter(ilocs[0], value)\n"
     ]
    },
    {
     "data": {
      "text/html": [
       "<div>\n",
       "<style scoped>\n",
       "    .dataframe tbody tr th:only-of-type {\n",
       "        vertical-align: middle;\n",
       "    }\n",
       "\n",
       "    .dataframe tbody tr th {\n",
       "        vertical-align: top;\n",
       "    }\n",
       "\n",
       "    .dataframe thead th {\n",
       "        text-align: right;\n",
       "    }\n",
       "</style>\n",
       "<table border=\"1\" class=\"dataframe\">\n",
       "  <thead>\n",
       "    <tr style=\"text-align: right;\">\n",
       "      <th></th>\n",
       "      <th>name</th>\n",
       "      <th>id</th>\n",
       "      <th>blurb</th>\n",
       "      <th>category</th>\n",
       "      <th>url</th>\n",
       "      <th>currency</th>\n",
       "      <th>pledged</th>\n",
       "      <th>goal</th>\n",
       "      <th>state</th>\n",
       "      <th>location</th>\n",
       "      <th>creator_id</th>\n",
       "      <th>launched_at</th>\n",
       "      <th>deadline</th>\n",
       "      <th>backers</th>\n",
       "      <th>staff_pick</th>\n",
       "      <th>creator_name</th>\n",
       "      <th>created_at</th>\n",
       "    </tr>\n",
       "  </thead>\n",
       "  <tbody>\n",
       "    <tr>\n",
       "      <th>3990</th>\n",
       "      <td>Glow Girls start up fund</td>\n",
       "      <td>2896853</td>\n",
       "      <td>We are raising funds for Marketing purposes su...</td>\n",
       "      <td>DIY</td>\n",
       "      <td>https://www.kickstarter.com/projects/165542940...</td>\n",
       "      <td>USD</td>\n",
       "      <td>541</td>\n",
       "      <td>500</td>\n",
       "      <td>1</td>\n",
       "      <td>Seattle, WA</td>\n",
       "      <td>1655429407</td>\n",
       "      <td>1488242943</td>\n",
       "      <td>1490831343</td>\n",
       "      <td>12</td>\n",
       "      <td>0.0</td>\n",
       "      <td>Claudia</td>\n",
       "      <td>1.488210e+09</td>\n",
       "    </tr>\n",
       "    <tr>\n",
       "      <th>124723</th>\n",
       "      <td>Studio for Artists</td>\n",
       "      <td>2738647</td>\n",
       "      <td>Unexpected health issues has taken it's toll o...</td>\n",
       "      <td>Painting</td>\n",
       "      <td>https://www.kickstarter.com/projects/117655044...</td>\n",
       "      <td>USD</td>\n",
       "      <td>50</td>\n",
       "      <td>5000</td>\n",
       "      <td>0</td>\n",
       "      <td>Naples, FL</td>\n",
       "      <td>1176550444</td>\n",
       "      <td>1477960965</td>\n",
       "      <td>1480528140</td>\n",
       "      <td>1</td>\n",
       "      <td>0.0</td>\n",
       "      <td>Arthur Morehead</td>\n",
       "      <td>1.477769e+09</td>\n",
       "    </tr>\n",
       "    <tr>\n",
       "      <th>52182</th>\n",
       "      <td>Quickstarter: Mechanized Fabrications-What is ...</td>\n",
       "      <td>3736756</td>\n",
       "      <td>A look into a world lost to progress, and the ...</td>\n",
       "      <td>Comic Books</td>\n",
       "      <td>https://www.kickstarter.com/projects/mechanize...</td>\n",
       "      <td>USD</td>\n",
       "      <td>317</td>\n",
       "      <td>300</td>\n",
       "      <td>1</td>\n",
       "      <td>Alexandria, VA</td>\n",
       "      <td>385588855</td>\n",
       "      <td>1559061039</td>\n",
       "      <td>1560789039</td>\n",
       "      <td>11</td>\n",
       "      <td>0.0</td>\n",
       "      <td>Sebastian J</td>\n",
       "      <td>1.558452e+09</td>\n",
       "    </tr>\n",
       "    <tr>\n",
       "      <th>43468</th>\n",
       "      <td>Photography Business launch for Joseph in Nair...</td>\n",
       "      <td>3778504</td>\n",
       "      <td>Joseph Koya is launching his photography busin...</td>\n",
       "      <td>Places</td>\n",
       "      <td>https://www.kickstarter.com/projects/kingkoya/...</td>\n",
       "      <td>USD</td>\n",
       "      <td>111</td>\n",
       "      <td>1000</td>\n",
       "      <td>0</td>\n",
       "      <td>Nairobi, Kenya</td>\n",
       "      <td>1760691886</td>\n",
       "      <td>1564473990</td>\n",
       "      <td>1569657990</td>\n",
       "      <td>3</td>\n",
       "      <td>0.0</td>\n",
       "      <td>Jospeph (posted by Doug)</td>\n",
       "      <td>1.563865e+09</td>\n",
       "    </tr>\n",
       "    <tr>\n",
       "      <th>41219</th>\n",
       "      <td>Bokeh Fire: Lenses for Everyone</td>\n",
       "      <td>1465799</td>\n",
       "      <td>A simple monthly lens rental service for photo...</td>\n",
       "      <td>Camera Equipment</td>\n",
       "      <td>https://www.kickstarter.com/projects/panok/bok...</td>\n",
       "      <td>USD</td>\n",
       "      <td>21219</td>\n",
       "      <td>20000</td>\n",
       "      <td>1</td>\n",
       "      <td>Philadelphia, PA</td>\n",
       "      <td>131591379</td>\n",
       "      <td>1415854680</td>\n",
       "      <td>1418508000</td>\n",
       "      <td>124</td>\n",
       "      <td>0.0</td>\n",
       "      <td>Pano K</td>\n",
       "      <td>1.414168e+09</td>\n",
       "    </tr>\n",
       "  </tbody>\n",
       "</table>\n",
       "</div>"
      ],
      "text/plain": [
       "                                                     name       id  \\\n",
       "3990                             Glow Girls start up fund  2896853   \n",
       "124723                                 Studio for Artists  2738647   \n",
       "52182   Quickstarter: Mechanized Fabrications-What is ...  3736756   \n",
       "43468   Photography Business launch for Joseph in Nair...  3778504   \n",
       "41219                     Bokeh Fire: Lenses for Everyone  1465799   \n",
       "\n",
       "                                                    blurb          category  \\\n",
       "3990    We are raising funds for Marketing purposes su...               DIY   \n",
       "124723  Unexpected health issues has taken it's toll o...          Painting   \n",
       "52182   A look into a world lost to progress, and the ...       Comic Books   \n",
       "43468   Joseph Koya is launching his photography busin...            Places   \n",
       "41219   A simple monthly lens rental service for photo...  Camera Equipment   \n",
       "\n",
       "                                                      url currency pledged  \\\n",
       "3990    https://www.kickstarter.com/projects/165542940...      USD     541   \n",
       "124723  https://www.kickstarter.com/projects/117655044...      USD      50   \n",
       "52182   https://www.kickstarter.com/projects/mechanize...      USD     317   \n",
       "43468   https://www.kickstarter.com/projects/kingkoya/...      USD     111   \n",
       "41219   https://www.kickstarter.com/projects/panok/bok...      USD   21219   \n",
       "\n",
       "         goal  state          location  creator_id launched_at    deadline  \\\n",
       "3990      500      1       Seattle, WA  1655429407  1488242943  1490831343   \n",
       "124723   5000      0        Naples, FL  1176550444  1477960965  1480528140   \n",
       "52182     300      1    Alexandria, VA   385588855  1559061039  1560789039   \n",
       "43468    1000      0    Nairobi, Kenya  1760691886  1564473990  1569657990   \n",
       "41219   20000      1  Philadelphia, PA   131591379  1415854680  1418508000   \n",
       "\n",
       "       backers  staff_pick              creator_name    created_at  \n",
       "3990        12         0.0                   Claudia  1.488210e+09  \n",
       "124723       1         0.0           Arthur Morehead  1.477769e+09  \n",
       "52182       11         0.0               Sebastian J  1.558452e+09  \n",
       "43468        3         0.0  Jospeph (posted by Doug)  1.563865e+09  \n",
       "41219      124         0.0                    Pano K  1.414168e+09  "
      ]
     },
     "execution_count": 348,
     "metadata": {},
     "output_type": "execute_result"
    }
   ],
   "source": [
    "# Label encode the sucess and faile states\n",
    "cleanup_nums = {'state':{'successful':1, 'failed':0, 'live':2, 'canceled':0}, 'staff_pick':{False:0, True:1}}\n",
    "df1_sample.replace(cleanup_nums, inplace=True)\n",
    "df1_sample.head()"
   ]
  },
  {
   "cell_type": "code",
   "execution_count": 349,
   "metadata": {},
   "outputs": [
    {
     "name": "stderr",
     "output_type": "stream",
     "text": [
      "/home/mosto/miniconda3/envs/kickstarter/lib/python3.7/site-packages/ipykernel_launcher.py:2: SettingWithCopyWarning: \n",
      "A value is trying to be set on a copy of a slice from a DataFrame.\n",
      "Try using .loc[row_indexer,col_indexer] = value instead\n",
      "\n",
      "See the caveats in the documentation: https://pandas.pydata.org/pandas-docs/stable/user_guide/indexing.html#returning-a-view-versus-a-copy\n",
      "  \n",
      "/home/mosto/miniconda3/envs/kickstarter/lib/python3.7/site-packages/ipykernel_launcher.py:3: SettingWithCopyWarning: \n",
      "A value is trying to be set on a copy of a slice from a DataFrame.\n",
      "Try using .loc[row_indexer,col_indexer] = value instead\n",
      "\n",
      "See the caveats in the documentation: https://pandas.pydata.org/pandas-docs/stable/user_guide/indexing.html#returning-a-view-versus-a-copy\n",
      "  This is separate from the ipykernel package so we can avoid doing imports until\n",
      "/home/mosto/miniconda3/envs/kickstarter/lib/python3.7/site-packages/ipykernel_launcher.py:4: SettingWithCopyWarning: \n",
      "A value is trying to be set on a copy of a slice from a DataFrame.\n",
      "Try using .loc[row_indexer,col_indexer] = value instead\n",
      "\n",
      "See the caveats in the documentation: https://pandas.pydata.org/pandas-docs/stable/user_guide/indexing.html#returning-a-view-versus-a-copy\n",
      "  after removing the cwd from sys.path.\n",
      "/home/mosto/miniconda3/envs/kickstarter/lib/python3.7/site-packages/ipykernel_launcher.py:5: SettingWithCopyWarning: \n",
      "A value is trying to be set on a copy of a slice from a DataFrame.\n",
      "Try using .loc[row_indexer,col_indexer] = value instead\n",
      "\n",
      "See the caveats in the documentation: https://pandas.pydata.org/pandas-docs/stable/user_guide/indexing.html#returning-a-view-versus-a-copy\n",
      "  \"\"\"\n",
      "/home/mosto/miniconda3/envs/kickstarter/lib/python3.7/site-packages/ipykernel_launcher.py:6: SettingWithCopyWarning: \n",
      "A value is trying to be set on a copy of a slice from a DataFrame.\n",
      "Try using .loc[row_indexer,col_indexer] = value instead\n",
      "\n",
      "See the caveats in the documentation: https://pandas.pydata.org/pandas-docs/stable/user_guide/indexing.html#returning-a-view-versus-a-copy\n",
      "  \n",
      "/home/mosto/miniconda3/envs/kickstarter/lib/python3.7/site-packages/ipykernel_launcher.py:7: SettingWithCopyWarning: \n",
      "A value is trying to be set on a copy of a slice from a DataFrame.\n",
      "Try using .loc[row_indexer,col_indexer] = value instead\n",
      "\n",
      "See the caveats in the documentation: https://pandas.pydata.org/pandas-docs/stable/user_guide/indexing.html#returning-a-view-versus-a-copy\n",
      "  import sys\n",
      "/home/mosto/miniconda3/envs/kickstarter/lib/python3.7/site-packages/ipykernel_launcher.py:8: SettingWithCopyWarning: \n",
      "A value is trying to be set on a copy of a slice from a DataFrame.\n",
      "Try using .loc[row_indexer,col_indexer] = value instead\n",
      "\n",
      "See the caveats in the documentation: https://pandas.pydata.org/pandas-docs/stable/user_guide/indexing.html#returning-a-view-versus-a-copy\n",
      "  \n"
     ]
    }
   ],
   "source": [
    "# Change objects to numbers in dataframes for merging\n",
    "df1_sample['state'] = pd.to_numeric(df1_sample['state'])\n",
    "df1_sample['pledged'] = pd.to_numeric(df1_sample['pledged'])\n",
    "df1_sample['goal'] = pd.to_numeric(df1_sample['goal'])\n",
    "df1_sample['backers'] = pd.to_numeric(df1_sample['goal'])\n",
    "df1_sample['staff_pick'] = pd.to_numeric(df1_sample['staff_pick'])\n",
    "df1_sample['launched_at'] = pd.to_numeric(df1_sample['launched_at'])\n",
    "df1_sample['deadline'] = pd.to_numeric(df1_sample['deadline'])\n",
    "\n",
    "\n",
    "features['image'] = pd.to_numeric(features['image'])"
   ]
  },
  {
   "cell_type": "code",
   "execution_count": null,
   "metadata": {},
   "outputs": [],
   "source": []
  },
  {
   "cell_type": "code",
   "execution_count": 350,
   "metadata": {},
   "outputs": [
    {
     "name": "stdout",
     "output_type": "stream",
     "text": [
      "<class 'pandas.core.frame.DataFrame'>\n",
      "Int64Index: 10000 entries, 3990 to 120086\n",
      "Data columns (total 17 columns):\n",
      " #   Column        Non-Null Count  Dtype  \n",
      "---  ------        --------------  -----  \n",
      " 0   name          10000 non-null  object \n",
      " 1   id            10000 non-null  object \n",
      " 2   blurb         10000 non-null  object \n",
      " 3   category      10000 non-null  object \n",
      " 4   url           10000 non-null  object \n",
      " 5   currency      10000 non-null  object \n",
      " 6   pledged       10000 non-null  float64\n",
      " 7   goal          10000 non-null  float64\n",
      " 8   state         10000 non-null  int64  \n",
      " 9   location      9987 non-null   object \n",
      " 10  creator_id    9987 non-null   object \n",
      " 11  launched_at   9987 non-null   float64\n",
      " 12  deadline      9987 non-null   float64\n",
      " 13  backers       10000 non-null  float64\n",
      " 14  staff_pick    9987 non-null   float64\n",
      " 15  creator_name  9987 non-null   object \n",
      " 16  created_at    9987 non-null   float64\n",
      "dtypes: float64(7), int64(1), object(9)\n",
      "memory usage: 1.4+ MB\n"
     ]
    }
   ],
   "source": [
    "df1_sample.info()"
   ]
  },
  {
   "cell_type": "code",
   "execution_count": 267,
   "metadata": {},
   "outputs": [
    {
     "data": {
      "text/plain": [
       "'https://www.kickstarter.com/projects/1718416050/a-maze-me-custom-hand-designed-name-mazes?ref=discovery_category_newest'"
      ]
     },
     "execution_count": 267,
     "metadata": {},
     "output_type": "execute_result"
    }
   ],
   "source": []
  },
  {
   "cell_type": "code",
   "execution_count": 315,
   "metadata": {},
   "outputs": [],
   "source": [
    "keys=df1_sample.index\n",
    "state=df1_sample.state\n",
    "pledged=df1_sample.pledged\n",
    "goal=df1_sample.goal\n",
    "backers=df1_sample.backers\n",
    "staff_pick=df1_sample.staff_pick\n",
    "launched_at=df1_sample.launched_at\n",
    "deadline=df1_sample.deadline\n",
    "category=df1_sample.category\n",
    "dictionary = dict(zip(keys,state))"
   ]
  },
  {
   "cell_type": "code",
   "execution_count": 351,
   "metadata": {},
   "outputs": [],
   "source": [
    "d = {'image':keys, 'state':values, 'pledged':pledged, 'goal':goal, 'backers':backers, 'staff_pick':staff_pick,\n",
    "        'launched_at':launched_at, 'deadline':deadline, 'category':category}"
   ]
  },
  {
   "cell_type": "code",
   "execution_count": 352,
   "metadata": {},
   "outputs": [
    {
     "data": {
      "text/html": [
       "<div>\n",
       "<style scoped>\n",
       "    .dataframe tbody tr th:only-of-type {\n",
       "        vertical-align: middle;\n",
       "    }\n",
       "\n",
       "    .dataframe tbody tr th {\n",
       "        vertical-align: top;\n",
       "    }\n",
       "\n",
       "    .dataframe thead th {\n",
       "        text-align: right;\n",
       "    }\n",
       "</style>\n",
       "<table border=\"1\" class=\"dataframe\">\n",
       "  <thead>\n",
       "    <tr style=\"text-align: right;\">\n",
       "      <th></th>\n",
       "      <th>image</th>\n",
       "      <th>state</th>\n",
       "      <th>pledged</th>\n",
       "      <th>goal</th>\n",
       "      <th>backers</th>\n",
       "      <th>staff_pick</th>\n",
       "      <th>launched_at</th>\n",
       "      <th>deadline</th>\n",
       "      <th>category</th>\n",
       "    </tr>\n",
       "  </thead>\n",
       "  <tbody>\n",
       "    <tr>\n",
       "      <th>3990</th>\n",
       "      <td>3990</td>\n",
       "      <td>1</td>\n",
       "      <td>541.0</td>\n",
       "      <td>500.0</td>\n",
       "      <td>500.0</td>\n",
       "      <td>0.0</td>\n",
       "      <td>1.488243e+09</td>\n",
       "      <td>1.490831e+09</td>\n",
       "      <td>DIY</td>\n",
       "    </tr>\n",
       "    <tr>\n",
       "      <th>124723</th>\n",
       "      <td>124723</td>\n",
       "      <td>0</td>\n",
       "      <td>50.0</td>\n",
       "      <td>5000.0</td>\n",
       "      <td>5000.0</td>\n",
       "      <td>0.0</td>\n",
       "      <td>1.477961e+09</td>\n",
       "      <td>1.480528e+09</td>\n",
       "      <td>Painting</td>\n",
       "    </tr>\n",
       "    <tr>\n",
       "      <th>52182</th>\n",
       "      <td>52182</td>\n",
       "      <td>1</td>\n",
       "      <td>317.0</td>\n",
       "      <td>300.0</td>\n",
       "      <td>300.0</td>\n",
       "      <td>0.0</td>\n",
       "      <td>1.559061e+09</td>\n",
       "      <td>1.560789e+09</td>\n",
       "      <td>Comic Books</td>\n",
       "    </tr>\n",
       "    <tr>\n",
       "      <th>43468</th>\n",
       "      <td>43468</td>\n",
       "      <td>0</td>\n",
       "      <td>111.0</td>\n",
       "      <td>1000.0</td>\n",
       "      <td>1000.0</td>\n",
       "      <td>0.0</td>\n",
       "      <td>1.564474e+09</td>\n",
       "      <td>1.569658e+09</td>\n",
       "      <td>Places</td>\n",
       "    </tr>\n",
       "    <tr>\n",
       "      <th>41219</th>\n",
       "      <td>41219</td>\n",
       "      <td>1</td>\n",
       "      <td>21219.0</td>\n",
       "      <td>20000.0</td>\n",
       "      <td>20000.0</td>\n",
       "      <td>0.0</td>\n",
       "      <td>1.415855e+09</td>\n",
       "      <td>1.418508e+09</td>\n",
       "      <td>Camera Equipment</td>\n",
       "    </tr>\n",
       "  </tbody>\n",
       "</table>\n",
       "</div>"
      ],
      "text/plain": [
       "         image  state  pledged     goal  backers  staff_pick   launched_at  \\\n",
       "3990      3990      1    541.0    500.0    500.0         0.0  1.488243e+09   \n",
       "124723  124723      0     50.0   5000.0   5000.0         0.0  1.477961e+09   \n",
       "52182    52182      1    317.0    300.0    300.0         0.0  1.559061e+09   \n",
       "43468    43468      0    111.0   1000.0   1000.0         0.0  1.564474e+09   \n",
       "41219    41219      1  21219.0  20000.0  20000.0         0.0  1.415855e+09   \n",
       "\n",
       "            deadline          category  \n",
       "3990    1.490831e+09               DIY  \n",
       "124723  1.480528e+09          Painting  \n",
       "52182   1.560789e+09       Comic Books  \n",
       "43468   1.569658e+09            Places  \n",
       "41219   1.418508e+09  Camera Equipment  "
      ]
     },
     "execution_count": 352,
     "metadata": {},
     "output_type": "execute_result"
    }
   ],
   "source": [
    "df2 = pd.DataFrame(data=d)\n",
    "df2.head()"
   ]
  },
  {
   "cell_type": "code",
   "execution_count": 353,
   "metadata": {},
   "outputs": [
    {
     "data": {
      "text/plain": [
       "(4929, 21)"
      ]
     },
     "execution_count": 353,
     "metadata": {},
     "output_type": "execute_result"
    }
   ],
   "source": [
    "left_merged = pd.merge(features, df2,\n",
    "                        how=\"left\", on=[\"image\"])\n",
    "left_merged.head()\n",
    "left_merged.shape\n"
   ]
  },
  {
   "cell_type": "code",
   "execution_count": 336,
   "metadata": {},
   "outputs": [
    {
     "data": {
      "text/html": [
       "<div>\n",
       "<style scoped>\n",
       "    .dataframe tbody tr th:only-of-type {\n",
       "        vertical-align: middle;\n",
       "    }\n",
       "\n",
       "    .dataframe tbody tr th {\n",
       "        vertical-align: top;\n",
       "    }\n",
       "\n",
       "    .dataframe thead th {\n",
       "        text-align: right;\n",
       "    }\n",
       "</style>\n",
       "<table border=\"1\" class=\"dataframe\">\n",
       "  <thead>\n",
       "    <tr style=\"text-align: right;\">\n",
       "      <th></th>\n",
       "      <th>image</th>\n",
       "      <th>dullness</th>\n",
       "      <th>brightness</th>\n",
       "      <th>average_pixel_width</th>\n",
       "      <th>state</th>\n",
       "      <th>pledged</th>\n",
       "      <th>goal</th>\n",
       "      <th>backers</th>\n",
       "      <th>staff_pick</th>\n",
       "      <th>launched_at</th>\n",
       "      <th>deadline</th>\n",
       "      <th>category</th>\n",
       "    </tr>\n",
       "  </thead>\n",
       "  <tbody>\n",
       "    <tr>\n",
       "      <th>20</th>\n",
       "      <td>75751</td>\n",
       "      <td>0.0</td>\n",
       "      <td>0.0</td>\n",
       "      <td>0.699906</td>\n",
       "      <td>1</td>\n",
       "      <td>3892.0</td>\n",
       "      <td>1000.0</td>\n",
       "      <td>1000.0</td>\n",
       "      <td>1.0</td>\n",
       "      <td>1.433860e+09</td>\n",
       "      <td>1.436452e+09</td>\n",
       "      <td>Pop</td>\n",
       "    </tr>\n",
       "  </tbody>\n",
       "</table>\n",
       "</div>"
      ],
      "text/plain": [
       "    image  dullness  brightness  average_pixel_width  state  pledged    goal  \\\n",
       "20  75751       0.0         0.0             0.699906      1   3892.0  1000.0   \n",
       "\n",
       "    backers  staff_pick   launched_at      deadline category  \n",
       "20   1000.0         1.0  1.433860e+09  1.436452e+09      Pop  "
      ]
     },
     "execution_count": 336,
     "metadata": {},
     "output_type": "execute_result"
    }
   ],
   "source": [
    "left_merged.loc[left_merged['image']==75751]"
   ]
  },
  {
   "cell_type": "code",
   "execution_count": 355,
   "metadata": {},
   "outputs": [
    {
     "data": {
      "text/html": [
       "<div>\n",
       "<style scoped>\n",
       "    .dataframe tbody tr th:only-of-type {\n",
       "        vertical-align: middle;\n",
       "    }\n",
       "\n",
       "    .dataframe tbody tr th {\n",
       "        vertical-align: top;\n",
       "    }\n",
       "\n",
       "    .dataframe thead th {\n",
       "        text-align: right;\n",
       "    }\n",
       "</style>\n",
       "<table border=\"1\" class=\"dataframe\">\n",
       "  <thead>\n",
       "    <tr style=\"text-align: right;\">\n",
       "      <th></th>\n",
       "      <th>image</th>\n",
       "      <th>dullness</th>\n",
       "      <th>brightness</th>\n",
       "      <th>average_pixel_width</th>\n",
       "      <th>average_color</th>\n",
       "      <th>average_red</th>\n",
       "      <th>average_green</th>\n",
       "      <th>average_blue</th>\n",
       "      <th>image_size</th>\n",
       "      <th>temp_size</th>\n",
       "      <th>...</th>\n",
       "      <th>height</th>\n",
       "      <th>blurrness</th>\n",
       "      <th>state</th>\n",
       "      <th>pledged</th>\n",
       "      <th>goal</th>\n",
       "      <th>backers</th>\n",
       "      <th>staff_pick</th>\n",
       "      <th>launched_at</th>\n",
       "      <th>deadline</th>\n",
       "      <th>category</th>\n",
       "    </tr>\n",
       "  </thead>\n",
       "  <tbody>\n",
       "    <tr>\n",
       "      <th>0</th>\n",
       "      <td>94899</td>\n",
       "      <td>0.00</td>\n",
       "      <td>60.88</td>\n",
       "      <td>0.768534</td>\n",
       "      <td>[240.86637708875867, 212.18375311957465, 138.9...</td>\n",
       "      <td>0.944574</td>\n",
       "      <td>0.832093</td>\n",
       "      <td>0.545000</td>\n",
       "      <td>39944</td>\n",
       "      <td>(1024, 576)</td>\n",
       "      <td>...</td>\n",
       "      <td>576</td>\n",
       "      <td>166.027659</td>\n",
       "      <td>0</td>\n",
       "      <td>60.00</td>\n",
       "      <td>5000.0</td>\n",
       "      <td>5000.0</td>\n",
       "      <td>0.0</td>\n",
       "      <td>1.302576e+09</td>\n",
       "      <td>1.306464e+09</td>\n",
       "      <td>Graphic Design</td>\n",
       "    </tr>\n",
       "    <tr>\n",
       "      <th>1</th>\n",
       "      <td>162481</td>\n",
       "      <td>0.00</td>\n",
       "      <td>0.00</td>\n",
       "      <td>5.192227</td>\n",
       "      <td>[118.4811774359809, 128.5906219482422, 125.515...</td>\n",
       "      <td>0.464632</td>\n",
       "      <td>0.504277</td>\n",
       "      <td>0.492219</td>\n",
       "      <td>165701</td>\n",
       "      <td>(1024, 576)</td>\n",
       "      <td>...</td>\n",
       "      <td>576</td>\n",
       "      <td>791.188786</td>\n",
       "      <td>0</td>\n",
       "      <td>326.00</td>\n",
       "      <td>1000.0</td>\n",
       "      <td>1000.0</td>\n",
       "      <td>0.0</td>\n",
       "      <td>1.303708e+09</td>\n",
       "      <td>1.306300e+09</td>\n",
       "      <td>Electronic Music</td>\n",
       "    </tr>\n",
       "    <tr>\n",
       "      <th>2</th>\n",
       "      <td>201573</td>\n",
       "      <td>0.00</td>\n",
       "      <td>0.00</td>\n",
       "      <td>5.105082</td>\n",
       "      <td>[102.67853122287326, 92.08284335666232, 180.79...</td>\n",
       "      <td>0.402661</td>\n",
       "      <td>0.361109</td>\n",
       "      <td>0.708983</td>\n",
       "      <td>140637</td>\n",
       "      <td>(1024, 576)</td>\n",
       "      <td>...</td>\n",
       "      <td>576</td>\n",
       "      <td>196.583446</td>\n",
       "      <td>0</td>\n",
       "      <td>215.00</td>\n",
       "      <td>500.0</td>\n",
       "      <td>500.0</td>\n",
       "      <td>0.0</td>\n",
       "      <td>1.578081e+09</td>\n",
       "      <td>1.580612e+09</td>\n",
       "      <td>Crochet</td>\n",
       "    </tr>\n",
       "    <tr>\n",
       "      <th>3</th>\n",
       "      <td>159292</td>\n",
       "      <td>0.00</td>\n",
       "      <td>0.00</td>\n",
       "      <td>2.721759</td>\n",
       "      <td>[75.76579604633861, 110.38401914242864, 143.18...</td>\n",
       "      <td>0.297121</td>\n",
       "      <td>0.432879</td>\n",
       "      <td>0.561527</td>\n",
       "      <td>250948</td>\n",
       "      <td>(1552, 873)</td>\n",
       "      <td>...</td>\n",
       "      <td>873</td>\n",
       "      <td>24.676342</td>\n",
       "      <td>1</td>\n",
       "      <td>407.01</td>\n",
       "      <td>300.0</td>\n",
       "      <td>300.0</td>\n",
       "      <td>0.0</td>\n",
       "      <td>1.311861e+09</td>\n",
       "      <td>1.313108e+09</td>\n",
       "      <td>Conceptual Art</td>\n",
       "    </tr>\n",
       "    <tr>\n",
       "      <th>4</th>\n",
       "      <td>68557</td>\n",
       "      <td>7.93</td>\n",
       "      <td>0.00</td>\n",
       "      <td>0.367261</td>\n",
       "      <td>[89.36553211464201, 97.02202309254733, 109.570...</td>\n",
       "      <td>0.350453</td>\n",
       "      <td>0.380479</td>\n",
       "      <td>0.429687</td>\n",
       "      <td>963059</td>\n",
       "      <td>(1552, 873)</td>\n",
       "      <td>...</td>\n",
       "      <td>873</td>\n",
       "      <td>2.093685</td>\n",
       "      <td>1</td>\n",
       "      <td>14041.00</td>\n",
       "      <td>12000.0</td>\n",
       "      <td>12000.0</td>\n",
       "      <td>1.0</td>\n",
       "      <td>1.401988e+09</td>\n",
       "      <td>1.405099e+09</td>\n",
       "      <td>World Music</td>\n",
       "    </tr>\n",
       "  </tbody>\n",
       "</table>\n",
       "<p>5 rows × 21 columns</p>\n",
       "</div>"
      ],
      "text/plain": [
       "    image  dullness  brightness  average_pixel_width  \\\n",
       "0   94899      0.00       60.88             0.768534   \n",
       "1  162481      0.00        0.00             5.192227   \n",
       "2  201573      0.00        0.00             5.105082   \n",
       "3  159292      0.00        0.00             2.721759   \n",
       "4   68557      7.93        0.00             0.367261   \n",
       "\n",
       "                                       average_color  average_red  \\\n",
       "0  [240.86637708875867, 212.18375311957465, 138.9...     0.944574   \n",
       "1  [118.4811774359809, 128.5906219482422, 125.515...     0.464632   \n",
       "2  [102.67853122287326, 92.08284335666232, 180.79...     0.402661   \n",
       "3  [75.76579604633861, 110.38401914242864, 143.18...     0.297121   \n",
       "4  [89.36553211464201, 97.02202309254733, 109.570...     0.350453   \n",
       "\n",
       "   average_green  average_blue  image_size    temp_size  ...  height  \\\n",
       "0       0.832093      0.545000       39944  (1024, 576)  ...     576   \n",
       "1       0.504277      0.492219      165701  (1024, 576)  ...     576   \n",
       "2       0.361109      0.708983      140637  (1024, 576)  ...     576   \n",
       "3       0.432879      0.561527      250948  (1552, 873)  ...     873   \n",
       "4       0.380479      0.429687      963059  (1552, 873)  ...     873   \n",
       "\n",
       "    blurrness  state   pledged     goal  backers  staff_pick   launched_at  \\\n",
       "0  166.027659      0     60.00   5000.0   5000.0         0.0  1.302576e+09   \n",
       "1  791.188786      0    326.00   1000.0   1000.0         0.0  1.303708e+09   \n",
       "2  196.583446      0    215.00    500.0    500.0         0.0  1.578081e+09   \n",
       "3   24.676342      1    407.01    300.0    300.0         0.0  1.311861e+09   \n",
       "4    2.093685      1  14041.00  12000.0  12000.0         1.0  1.401988e+09   \n",
       "\n",
       "       deadline          category  \n",
       "0  1.306464e+09    Graphic Design  \n",
       "1  1.306300e+09  Electronic Music  \n",
       "2  1.580612e+09           Crochet  \n",
       "3  1.313108e+09    Conceptual Art  \n",
       "4  1.405099e+09       World Music  \n",
       "\n",
       "[5 rows x 21 columns]"
      ]
     },
     "execution_count": 355,
     "metadata": {},
     "output_type": "execute_result"
    }
   ],
   "source": [
    "features_with_state=left_merged\n",
    "features_with_state.head()"
   ]
  },
  {
   "cell_type": "code",
   "execution_count": 282,
   "metadata": {},
   "outputs": [
    {
     "data": {
      "text/plain": [
       "'https://www.kickstarter.com/projects/1718416050/a-maze-me-custom-hand-designed-name-mazes?ref=discovery_category_newest'"
      ]
     },
     "execution_count": 282,
     "metadata": {},
     "output_type": "execute_result"
    }
   ],
   "source": [
    "# Sanity Check that images match and campaign success/fail state is correct\n",
    "\n",
    "df1_sample.loc[148087]['url']"
   ]
  },
  {
   "cell_type": "code",
   "execution_count": 285,
   "metadata": {},
   "outputs": [
    {
     "data": {
      "text/plain": [
       "'https://www.kickstarter.com/projects/1544059256/choose-and-fund-wfmus-first-and-last-billboard?ref=discovery_category_newest'"
      ]
     },
     "execution_count": 285,
     "metadata": {},
     "output_type": "execute_result"
    }
   ],
   "source": [
    "# Sanity Check that images match and campaign success/fail state is correct\n",
    "\n",
    "df1_sample.loc[90626]['url']"
   ]
  },
  {
   "cell_type": "code",
   "execution_count": 286,
   "metadata": {},
   "outputs": [
    {
     "data": {
      "text/plain": [
       "'https://www.kickstarter.com/projects/davidchen/david-chens-first-cello-ep?ref=discovery_category_newest'"
      ]
     },
     "execution_count": 286,
     "metadata": {},
     "output_type": "execute_result"
    }
   ],
   "source": [
    "# Sanity Check that images match and campaign success/fail state is correct\n",
    "\n",
    "df1_sample.loc[75751]['url']"
   ]
  },
  {
   "cell_type": "code",
   "execution_count": 356,
   "metadata": {},
   "outputs": [
    {
     "data": {
      "text/plain": [
       "['/home/mosto/Documents/insight/kickstarter-project/features_with_state_1.pkl']"
      ]
     },
     "execution_count": 356,
     "metadata": {},
     "output_type": "execute_result"
    }
   ],
   "source": [
    "# Serialize the data table containing the scraped HTML for each project\n",
    "joblib.dump(features_with_state, '/home/mosto/Documents/insight/kickstarter-project/features_with_state_1.pkl')"
   ]
  },
  {
   "cell_type": "code",
   "execution_count": null,
   "metadata": {},
   "outputs": [],
   "source": []
  }
 ],
 "metadata": {
  "kernelspec": {
   "display_name": "Python 3",
   "language": "python",
   "name": "python3"
  },
  "language_info": {
   "codemirror_mode": {
    "name": "ipython",
    "version": 3
   },
   "file_extension": ".py",
   "mimetype": "text/x-python",
   "name": "python",
   "nbconvert_exporter": "python",
   "pygments_lexer": "ipython3",
   "version": "3.7.9"
  }
 },
 "nbformat": 4,
 "nbformat_minor": 2
}
