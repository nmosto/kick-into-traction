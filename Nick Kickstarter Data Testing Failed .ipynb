{
 "cells": [
  {
   "cell_type": "code",
   "execution_count": 1,
   "metadata": {},
   "outputs": [],
   "source": [
    "import seaborn as sns"
   ]
  },
  {
   "cell_type": "code",
   "execution_count": 2,
   "metadata": {
    "_cell_guid": "b1076dfc-b9ad-4769-8c92-a6c4dae69d19",
    "_uuid": "8f2839f25d086af736a60e9eeb907d3b93b6e0e5"
   },
   "outputs": [],
   "source": [
    "import matplotlib.pyplot as plt\n",
    "%matplotlib inline\n",
    "import numpy as np\n",
    "import pandas as pd\n",
    "import seaborn as sns\n",
    "import sklearn\n",
    "from sklearn import linear_model\n",
    "from sklearn.ensemble import RandomForestClassifier\n",
    "from sklearn.metrics import f1_score\n",
    "from sklearn.model_selection import RandomizedSearchCV \n",
    "from sklearn.model_selection import GridSearchCV\n",
    "import squarify\n",
    "import time\n",
    "import os\n",
    "from PIL import Image, ImageDraw\n",
    "import imgkit"
   ]
  },
  {
   "cell_type": "markdown",
   "metadata": {
    "_uuid": "974c218f0fc80b002d6dbcbc224b7e97d1eaaf59"
   },
   "source": [
    "--------"
   ]
  },
  {
   "cell_type": "markdown",
   "metadata": {
    "_uuid": "3318fa3b6a265ee6e5e8f9ee4e57112cb0cdf17d"
   },
   "source": [
    "## 1. General"
   ]
  },
  {
   "cell_type": "markdown",
   "metadata": {
    "_uuid": "a6196595a8f1fdb7c2ade352c9ba926d66dc3027"
   },
   "source": [
    "#### 1.1 Handling weird values\n",
    "- Check decriptive statistics\n",
    "- Check missing values"
   ]
  },
  {
   "cell_type": "code",
   "execution_count": 3,
   "metadata": {
    "_uuid": "624b5d9082c8f506f00803c45bb3e0310e1da097"
   },
   "outputs": [
    {
     "data": {
      "text/html": [
       "<div>\n",
       "<style scoped>\n",
       "    .dataframe tbody tr th:only-of-type {\n",
       "        vertical-align: middle;\n",
       "    }\n",
       "\n",
       "    .dataframe tbody tr th {\n",
       "        vertical-align: top;\n",
       "    }\n",
       "\n",
       "    .dataframe thead th {\n",
       "        text-align: right;\n",
       "    }\n",
       "</style>\n",
       "<table border=\"1\" class=\"dataframe\">\n",
       "  <thead>\n",
       "    <tr style=\"text-align: right;\">\n",
       "      <th></th>\n",
       "      <th>Unnamed: 0</th>\n",
       "      <th>id</th>\n",
       "      <th>backers_count</th>\n",
       "      <th>blurb</th>\n",
       "      <th>currency</th>\n",
       "      <th>goal</th>\n",
       "      <th>launched_at</th>\n",
       "      <th>deadline</th>\n",
       "      <th>location.country</th>\n",
       "      <th>name</th>\n",
       "      <th>...</th>\n",
       "      <th>days_to_deadline</th>\n",
       "      <th>goal_USD</th>\n",
       "      <th>category_name</th>\n",
       "      <th>category_slug</th>\n",
       "      <th>blurb_length</th>\n",
       "      <th>location_type</th>\n",
       "      <th>location_country</th>\n",
       "      <th>location_state</th>\n",
       "      <th>location_displayable_name</th>\n",
       "      <th>binary_state</th>\n",
       "    </tr>\n",
       "  </thead>\n",
       "  <tbody>\n",
       "    <tr>\n",
       "      <th>0</th>\n",
       "      <td>0</td>\n",
       "      <td>857125548</td>\n",
       "      <td>1</td>\n",
       "      <td>Exploring paint and its place in a digital world.</td>\n",
       "      <td>USD</td>\n",
       "      <td>2000.0</td>\n",
       "      <td>2015-03-19 22:34:57</td>\n",
       "      <td>2015-04-30 23:12:00</td>\n",
       "      <td>US</td>\n",
       "      <td>Remix</td>\n",
       "      <td>...</td>\n",
       "      <td>42</td>\n",
       "      <td>2000.0000</td>\n",
       "      <td>Digital Art</td>\n",
       "      <td>art</td>\n",
       "      <td>9</td>\n",
       "      <td>Town</td>\n",
       "      <td>US</td>\n",
       "      <td>NY</td>\n",
       "      <td>New York, NY</td>\n",
       "      <td>failed</td>\n",
       "    </tr>\n",
       "    <tr>\n",
       "      <th>1</th>\n",
       "      <td>1</td>\n",
       "      <td>1038659700</td>\n",
       "      <td>2</td>\n",
       "      <td>Mike Fassio wants a side-by-side photo of me a...</td>\n",
       "      <td>USD</td>\n",
       "      <td>10.0</td>\n",
       "      <td>2014-07-17 01:55:07</td>\n",
       "      <td>2014-07-27 01:55:07</td>\n",
       "      <td>US</td>\n",
       "      <td>Photo of Grant and Hazel eating cake with bare...</td>\n",
       "      <td>...</td>\n",
       "      <td>10</td>\n",
       "      <td>10.0000</td>\n",
       "      <td>Digital Art</td>\n",
       "      <td>art</td>\n",
       "      <td>21</td>\n",
       "      <td>Town</td>\n",
       "      <td>US</td>\n",
       "      <td>WA</td>\n",
       "      <td>Seattle, WA</td>\n",
       "      <td>failed</td>\n",
       "    </tr>\n",
       "    <tr>\n",
       "      <th>2</th>\n",
       "      <td>2</td>\n",
       "      <td>1238331911</td>\n",
       "      <td>0</td>\n",
       "      <td>I need your help to get a nice graphics tablet...</td>\n",
       "      <td>USD</td>\n",
       "      <td>900.0</td>\n",
       "      <td>2014-07-30 16:29:13</td>\n",
       "      <td>2014-08-29 16:29:13</td>\n",
       "      <td>US</td>\n",
       "      <td>Minecraft Digital Art/Animations</td>\n",
       "      <td>...</td>\n",
       "      <td>30</td>\n",
       "      <td>900.0000</td>\n",
       "      <td>Digital Art</td>\n",
       "      <td>art</td>\n",
       "      <td>12</td>\n",
       "      <td>Town</td>\n",
       "      <td>US</td>\n",
       "      <td>VA</td>\n",
       "      <td>Moneta, VA</td>\n",
       "      <td>failed</td>\n",
       "    </tr>\n",
       "    <tr>\n",
       "      <th>3</th>\n",
       "      <td>3</td>\n",
       "      <td>189217262</td>\n",
       "      <td>0</td>\n",
       "      <td>I want to create a Nature Photograph Series of...</td>\n",
       "      <td>USD</td>\n",
       "      <td>900.0</td>\n",
       "      <td>2015-05-11 16:09:11</td>\n",
       "      <td>2015-05-31 16:09:11</td>\n",
       "      <td>US</td>\n",
       "      <td>Sacramento Nature Photograph Series</td>\n",
       "      <td>...</td>\n",
       "      <td>20</td>\n",
       "      <td>900.0000</td>\n",
       "      <td>Digital Art</td>\n",
       "      <td>art</td>\n",
       "      <td>17</td>\n",
       "      <td>Town</td>\n",
       "      <td>US</td>\n",
       "      <td>CA</td>\n",
       "      <td>Sacramento, CA</td>\n",
       "      <td>failed</td>\n",
       "    </tr>\n",
       "    <tr>\n",
       "      <th>4</th>\n",
       "      <td>4</td>\n",
       "      <td>1260075071</td>\n",
       "      <td>1</td>\n",
       "      <td>I want to bring colour to the world in my own ...</td>\n",
       "      <td>GBP</td>\n",
       "      <td>15000.0</td>\n",
       "      <td>2015-02-06 21:52:02</td>\n",
       "      <td>2015-03-08 20:52:02</td>\n",
       "      <td>GB</td>\n",
       "      <td>North Africa art project - my dream</td>\n",
       "      <td>...</td>\n",
       "      <td>30</td>\n",
       "      <td>22801.6545</td>\n",
       "      <td>Digital Art</td>\n",
       "      <td>art</td>\n",
       "      <td>26</td>\n",
       "      <td>County</td>\n",
       "      <td>GB</td>\n",
       "      <td>England</td>\n",
       "      <td>Essex, UK</td>\n",
       "      <td>failed</td>\n",
       "    </tr>\n",
       "  </tbody>\n",
       "</table>\n",
       "<p>5 rows × 30 columns</p>\n",
       "</div>"
      ],
      "text/plain": [
       "   Unnamed: 0          id  backers_count  \\\n",
       "0           0   857125548              1   \n",
       "1           1  1038659700              2   \n",
       "2           2  1238331911              0   \n",
       "3           3   189217262              0   \n",
       "4           4  1260075071              1   \n",
       "\n",
       "                                               blurb currency     goal  \\\n",
       "0  Exploring paint and its place in a digital world.      USD   2000.0   \n",
       "1  Mike Fassio wants a side-by-side photo of me a...      USD     10.0   \n",
       "2  I need your help to get a nice graphics tablet...      USD    900.0   \n",
       "3  I want to create a Nature Photograph Series of...      USD    900.0   \n",
       "4  I want to bring colour to the world in my own ...      GBP  15000.0   \n",
       "\n",
       "           launched_at             deadline location.country  \\\n",
       "0  2015-03-19 22:34:57  2015-04-30 23:12:00               US   \n",
       "1  2014-07-17 01:55:07  2014-07-27 01:55:07               US   \n",
       "2  2014-07-30 16:29:13  2014-08-29 16:29:13               US   \n",
       "3  2015-05-11 16:09:11  2015-05-31 16:09:11               US   \n",
       "4  2015-02-06 21:52:02  2015-03-08 20:52:02               GB   \n",
       "\n",
       "                                                name  ...  days_to_deadline  \\\n",
       "0                                              Remix  ...                42   \n",
       "1  Photo of Grant and Hazel eating cake with bare...  ...                10   \n",
       "2                   Minecraft Digital Art/Animations  ...                30   \n",
       "3                Sacramento Nature Photograph Series  ...                20   \n",
       "4                North Africa art project - my dream  ...                30   \n",
       "\n",
       "     goal_USD  category_name  category_slug  blurb_length location_type  \\\n",
       "0   2000.0000    Digital Art            art             9          Town   \n",
       "1     10.0000    Digital Art            art            21          Town   \n",
       "2    900.0000    Digital Art            art            12          Town   \n",
       "3    900.0000    Digital Art            art            17          Town   \n",
       "4  22801.6545    Digital Art            art            26        County   \n",
       "\n",
       "   location_country  location_state  location_displayable_name  binary_state  \n",
       "0                US              NY               New York, NY        failed  \n",
       "1                US              WA                Seattle, WA        failed  \n",
       "2                US              VA                 Moneta, VA        failed  \n",
       "3                US              CA             Sacramento, CA        failed  \n",
       "4                GB         England                  Essex, UK        failed  \n",
       "\n",
       "[5 rows x 30 columns]"
      ]
     },
     "execution_count": 3,
     "metadata": {},
     "output_type": "execute_result"
    }
   ],
   "source": [
    "ksdf = pd.read_csv('/home/mosto/Documents/insight/kickstarter-project/datasets_273211_566171_kickstarter.csv', sep=',', engine='python')\n",
    "ksdf.head()"
   ]
  },
  {
   "cell_type": "code",
   "execution_count": null,
   "metadata": {
    "_uuid": "beaecdd7a3f0c3d2c046d76d86dd4eeeeb4aae8b",
    "scrolled": true
   },
   "outputs": [],
   "source": [
    "ksdf.describe()"
   ]
  },
  {
   "cell_type": "code",
   "execution_count": 4,
   "metadata": {},
   "outputs": [],
   "source": [
    "import pandas as pd\n",
    "from sklearn.compose import make_column_transformer\n",
    "from sklearn.preprocessing import OneHotEncoder\n",
    "from sklearn.linear_model import LogisticRegression\n",
    "from sklearn.pipeline import make_pipeline\n",
    "from sklearn.model_selection import cross_val_score"
   ]
  },
  {
   "cell_type": "code",
   "execution_count": 5,
   "metadata": {},
   "outputs": [],
   "source": [
    "df = ksdf"
   ]
  },
  {
   "cell_type": "code",
   "execution_count": 6,
   "metadata": {},
   "outputs": [
    {
     "data": {
      "text/plain": [
       "0             failed\n",
       "1             failed\n",
       "2             failed\n",
       "3             failed\n",
       "4             failed\n",
       "             ...    \n",
       "430933    successful\n",
       "430934    successful\n",
       "430935        failed\n",
       "430936        failed\n",
       "430937    successful\n",
       "Name: binary_state, Length: 430938, dtype: object"
      ]
     },
     "execution_count": 6,
     "metadata": {},
     "output_type": "execute_result"
    }
   ],
   "source": [
    "df.binary_state"
   ]
  },
  {
   "cell_type": "code",
   "execution_count": 7,
   "metadata": {},
   "outputs": [],
   "source": [
    "cleanup_nums = {'failed':0,'successful':1}"
   ]
  },
  {
   "cell_type": "code",
   "execution_count": 8,
   "metadata": {},
   "outputs": [],
   "source": [
    "df.binary_state.replace(cleanup_nums, inplace=True)"
   ]
  },
  {
   "cell_type": "code",
   "execution_count": 9,
   "metadata": {},
   "outputs": [],
   "source": [
    "# Add pledged_ratio column\n",
    "df['pledged_ratio'] = df['usd_pledged']/ df['goal_USD']"
   ]
  },
  {
   "cell_type": "code",
   "execution_count": 10,
   "metadata": {},
   "outputs": [
    {
     "data": {
      "text/plain": [
       "(174996, 31)"
      ]
     },
     "execution_count": 10,
     "metadata": {},
     "output_type": "execute_result"
    }
   ],
   "source": [
    "# Make dataframe with only failed campaigns \n",
    "df=df[df['binary_state'] == 0]\n",
    "# Use only USD to try and filter out for english \n",
    "df=df[df['currency'] == 'USD']\n",
    "df.shape"
   ]
  },
  {
   "cell_type": "code",
   "execution_count": 11,
   "metadata": {},
   "outputs": [],
   "source": [
    "df.pledged_ratio = (df.pledged_ratio > 0.25) * 1"
   ]
  },
  {
   "cell_type": "code",
   "execution_count": 12,
   "metadata": {},
   "outputs": [
    {
     "data": {
      "text/html": [
       "<div>\n",
       "<style scoped>\n",
       "    .dataframe tbody tr th:only-of-type {\n",
       "        vertical-align: middle;\n",
       "    }\n",
       "\n",
       "    .dataframe tbody tr th {\n",
       "        vertical-align: top;\n",
       "    }\n",
       "\n",
       "    .dataframe thead th {\n",
       "        text-align: right;\n",
       "    }\n",
       "</style>\n",
       "<table border=\"1\" class=\"dataframe\">\n",
       "  <thead>\n",
       "    <tr style=\"text-align: right;\">\n",
       "      <th></th>\n",
       "      <th>Unnamed: 0</th>\n",
       "      <th>id</th>\n",
       "      <th>backers_count</th>\n",
       "      <th>blurb</th>\n",
       "      <th>currency</th>\n",
       "      <th>goal</th>\n",
       "      <th>launched_at</th>\n",
       "      <th>deadline</th>\n",
       "      <th>location.country</th>\n",
       "      <th>name</th>\n",
       "      <th>...</th>\n",
       "      <th>goal_USD</th>\n",
       "      <th>category_name</th>\n",
       "      <th>category_slug</th>\n",
       "      <th>blurb_length</th>\n",
       "      <th>location_type</th>\n",
       "      <th>location_country</th>\n",
       "      <th>location_state</th>\n",
       "      <th>location_displayable_name</th>\n",
       "      <th>binary_state</th>\n",
       "      <th>pledged_ratio</th>\n",
       "    </tr>\n",
       "  </thead>\n",
       "  <tbody>\n",
       "    <tr>\n",
       "      <th>0</th>\n",
       "      <td>0</td>\n",
       "      <td>857125548</td>\n",
       "      <td>1</td>\n",
       "      <td>Exploring paint and its place in a digital world.</td>\n",
       "      <td>USD</td>\n",
       "      <td>2000.0</td>\n",
       "      <td>2015-03-19 22:34:57</td>\n",
       "      <td>2015-04-30 23:12:00</td>\n",
       "      <td>US</td>\n",
       "      <td>Remix</td>\n",
       "      <td>...</td>\n",
       "      <td>2000.0</td>\n",
       "      <td>Digital Art</td>\n",
       "      <td>art</td>\n",
       "      <td>9</td>\n",
       "      <td>Town</td>\n",
       "      <td>US</td>\n",
       "      <td>NY</td>\n",
       "      <td>New York, NY</td>\n",
       "      <td>0</td>\n",
       "      <td>0</td>\n",
       "    </tr>\n",
       "    <tr>\n",
       "      <th>1</th>\n",
       "      <td>1</td>\n",
       "      <td>1038659700</td>\n",
       "      <td>2</td>\n",
       "      <td>Mike Fassio wants a side-by-side photo of me a...</td>\n",
       "      <td>USD</td>\n",
       "      <td>10.0</td>\n",
       "      <td>2014-07-17 01:55:07</td>\n",
       "      <td>2014-07-27 01:55:07</td>\n",
       "      <td>US</td>\n",
       "      <td>Photo of Grant and Hazel eating cake with bare...</td>\n",
       "      <td>...</td>\n",
       "      <td>10.0</td>\n",
       "      <td>Digital Art</td>\n",
       "      <td>art</td>\n",
       "      <td>21</td>\n",
       "      <td>Town</td>\n",
       "      <td>US</td>\n",
       "      <td>WA</td>\n",
       "      <td>Seattle, WA</td>\n",
       "      <td>0</td>\n",
       "      <td>1</td>\n",
       "    </tr>\n",
       "    <tr>\n",
       "      <th>2</th>\n",
       "      <td>2</td>\n",
       "      <td>1238331911</td>\n",
       "      <td>0</td>\n",
       "      <td>I need your help to get a nice graphics tablet...</td>\n",
       "      <td>USD</td>\n",
       "      <td>900.0</td>\n",
       "      <td>2014-07-30 16:29:13</td>\n",
       "      <td>2014-08-29 16:29:13</td>\n",
       "      <td>US</td>\n",
       "      <td>Minecraft Digital Art/Animations</td>\n",
       "      <td>...</td>\n",
       "      <td>900.0</td>\n",
       "      <td>Digital Art</td>\n",
       "      <td>art</td>\n",
       "      <td>12</td>\n",
       "      <td>Town</td>\n",
       "      <td>US</td>\n",
       "      <td>VA</td>\n",
       "      <td>Moneta, VA</td>\n",
       "      <td>0</td>\n",
       "      <td>0</td>\n",
       "    </tr>\n",
       "    <tr>\n",
       "      <th>3</th>\n",
       "      <td>3</td>\n",
       "      <td>189217262</td>\n",
       "      <td>0</td>\n",
       "      <td>I want to create a Nature Photograph Series of...</td>\n",
       "      <td>USD</td>\n",
       "      <td>900.0</td>\n",
       "      <td>2015-05-11 16:09:11</td>\n",
       "      <td>2015-05-31 16:09:11</td>\n",
       "      <td>US</td>\n",
       "      <td>Sacramento Nature Photograph Series</td>\n",
       "      <td>...</td>\n",
       "      <td>900.0</td>\n",
       "      <td>Digital Art</td>\n",
       "      <td>art</td>\n",
       "      <td>17</td>\n",
       "      <td>Town</td>\n",
       "      <td>US</td>\n",
       "      <td>CA</td>\n",
       "      <td>Sacramento, CA</td>\n",
       "      <td>0</td>\n",
       "      <td>0</td>\n",
       "    </tr>\n",
       "    <tr>\n",
       "      <th>6</th>\n",
       "      <td>6</td>\n",
       "      <td>1653837117</td>\n",
       "      <td>2</td>\n",
       "      <td>Help me raise money to get a drawing tablet</td>\n",
       "      <td>USD</td>\n",
       "      <td>2900.0</td>\n",
       "      <td>2015-04-06 16:09:42</td>\n",
       "      <td>2015-05-16 16:09:42</td>\n",
       "      <td>US</td>\n",
       "      <td>I love Drawing</td>\n",
       "      <td>...</td>\n",
       "      <td>2900.0</td>\n",
       "      <td>Digital Art</td>\n",
       "      <td>art</td>\n",
       "      <td>9</td>\n",
       "      <td>Town</td>\n",
       "      <td>US</td>\n",
       "      <td>CA</td>\n",
       "      <td>San Diego, CA</td>\n",
       "      <td>0</td>\n",
       "      <td>0</td>\n",
       "    </tr>\n",
       "  </tbody>\n",
       "</table>\n",
       "<p>5 rows × 31 columns</p>\n",
       "</div>"
      ],
      "text/plain": [
       "   Unnamed: 0          id  backers_count  \\\n",
       "0           0   857125548              1   \n",
       "1           1  1038659700              2   \n",
       "2           2  1238331911              0   \n",
       "3           3   189217262              0   \n",
       "6           6  1653837117              2   \n",
       "\n",
       "                                               blurb currency    goal  \\\n",
       "0  Exploring paint and its place in a digital world.      USD  2000.0   \n",
       "1  Mike Fassio wants a side-by-side photo of me a...      USD    10.0   \n",
       "2  I need your help to get a nice graphics tablet...      USD   900.0   \n",
       "3  I want to create a Nature Photograph Series of...      USD   900.0   \n",
       "6        Help me raise money to get a drawing tablet      USD  2900.0   \n",
       "\n",
       "           launched_at             deadline location.country  \\\n",
       "0  2015-03-19 22:34:57  2015-04-30 23:12:00               US   \n",
       "1  2014-07-17 01:55:07  2014-07-27 01:55:07               US   \n",
       "2  2014-07-30 16:29:13  2014-08-29 16:29:13               US   \n",
       "3  2015-05-11 16:09:11  2015-05-31 16:09:11               US   \n",
       "6  2015-04-06 16:09:42  2015-05-16 16:09:42               US   \n",
       "\n",
       "                                                name  ...  goal_USD  \\\n",
       "0                                              Remix  ...    2000.0   \n",
       "1  Photo of Grant and Hazel eating cake with bare...  ...      10.0   \n",
       "2                   Minecraft Digital Art/Animations  ...     900.0   \n",
       "3                Sacramento Nature Photograph Series  ...     900.0   \n",
       "6                                     I love Drawing  ...    2900.0   \n",
       "\n",
       "  category_name  category_slug  blurb_length  location_type location_country  \\\n",
       "0   Digital Art            art             9           Town               US   \n",
       "1   Digital Art            art            21           Town               US   \n",
       "2   Digital Art            art            12           Town               US   \n",
       "3   Digital Art            art            17           Town               US   \n",
       "6   Digital Art            art             9           Town               US   \n",
       "\n",
       "   location_state  location_displayable_name  binary_state  pledged_ratio  \n",
       "0              NY               New York, NY             0              0  \n",
       "1              WA                Seattle, WA             0              1  \n",
       "2              VA                 Moneta, VA             0              0  \n",
       "3              CA             Sacramento, CA             0              0  \n",
       "6              CA              San Diego, CA             0              0  \n",
       "\n",
       "[5 rows x 31 columns]"
      ]
     },
     "execution_count": 12,
     "metadata": {},
     "output_type": "execute_result"
    }
   ],
   "source": [
    "df.head()"
   ]
  },
  {
   "cell_type": "code",
   "execution_count": 80,
   "metadata": {},
   "outputs": [],
   "source": [
    "X = df.loc[:,['backers_count']]\n",
    "y = df.pledged_ratio"
   ]
  },
  {
   "cell_type": "code",
   "execution_count": 81,
   "metadata": {},
   "outputs": [
    {
     "name": "stdout",
     "output_type": "stream",
     "text": [
      "(174996, 1)\n",
      "(174996,)\n"
     ]
    }
   ],
   "source": [
    "print(X.shape)\n",
    "print(y.shape)"
   ]
  },
  {
   "cell_type": "code",
   "execution_count": 82,
   "metadata": {},
   "outputs": [],
   "source": [
    "from sklearn.linear_model import LogisticRegression\n",
    "logreg = LogisticRegression(solver='lbfgs')"
   ]
  },
  {
   "cell_type": "code",
   "execution_count": 83,
   "metadata": {},
   "outputs": [
    {
     "data": {
      "text/plain": [
       "0.8590654147669525"
      ]
     },
     "execution_count": 83,
     "metadata": {},
     "output_type": "execute_result"
    }
   ],
   "source": [
    "from sklearn.model_selection import cross_val_score\n",
    "cross_val_score(LogisticRegression(max_iter=10000), X, y, cv=5, scoring='accuracy').mean()"
   ]
  },
  {
   "cell_type": "code",
   "execution_count": 17,
   "metadata": {},
   "outputs": [
    {
     "data": {
      "text/plain": [
       "0    0.821424\n",
       "1    0.178576\n",
       "Name: pledged_ratio, dtype: float64"
      ]
     },
     "execution_count": 17,
     "metadata": {},
     "output_type": "execute_result"
    }
   ],
   "source": [
    "y.value_counts(normalize=True)"
   ]
  },
  {
   "cell_type": "code",
   "execution_count": 18,
   "metadata": {},
   "outputs": [],
   "source": [
    "# dummy encoding of categorical features\n",
    "from sklearn.preprocessing import OneHotEncoder\n",
    "ohe = OneHotEncoder(sparse=False)"
   ]
  },
  {
   "cell_type": "code",
   "execution_count": 19,
   "metadata": {},
   "outputs": [
    {
     "data": {
      "text/plain": [
       "array([[1., 0., 0., ..., 0., 0., 0.],\n",
       "       [1., 0., 0., ..., 0., 0., 0.],\n",
       "       [1., 0., 0., ..., 0., 0., 0.],\n",
       "       ...,\n",
       "       [0., 1., 0., ..., 0., 0., 0.],\n",
       "       [0., 1., 0., ..., 0., 0., 0.],\n",
       "       [0., 1., 0., ..., 0., 0., 0.]])"
      ]
     },
     "execution_count": 19,
     "metadata": {},
     "output_type": "execute_result"
    }
   ],
   "source": [
    "ohe.fit_transform(df[['category_slug']])"
   ]
  },
  {
   "cell_type": "code",
   "execution_count": 20,
   "metadata": {},
   "outputs": [
    {
     "data": {
      "text/plain": [
       "[array(['art', 'comics', 'crafts', 'dance', 'design', 'fashion',\n",
       "        'film & video', 'food', 'games', 'journalism', 'music',\n",
       "        'photography', 'publishing', 'technology', 'theater'], dtype=object)]"
      ]
     },
     "execution_count": 20,
     "metadata": {},
     "output_type": "execute_result"
    }
   ],
   "source": [
    "ohe.categories_"
   ]
  },
  {
   "cell_type": "code",
   "execution_count": 28,
   "metadata": {},
   "outputs": [],
   "source": [
    "X = df.loc[:,['days_to_deadline','goal','category_slug','blurb_length','month','day','backers_count']]"
   ]
  },
  {
   "cell_type": "code",
   "execution_count": 29,
   "metadata": {},
   "outputs": [
    {
     "data": {
      "text/html": [
       "<div>\n",
       "<style scoped>\n",
       "    .dataframe tbody tr th:only-of-type {\n",
       "        vertical-align: middle;\n",
       "    }\n",
       "\n",
       "    .dataframe tbody tr th {\n",
       "        vertical-align: top;\n",
       "    }\n",
       "\n",
       "    .dataframe thead th {\n",
       "        text-align: right;\n",
       "    }\n",
       "</style>\n",
       "<table border=\"1\" class=\"dataframe\">\n",
       "  <thead>\n",
       "    <tr style=\"text-align: right;\">\n",
       "      <th></th>\n",
       "      <th>days_to_deadline</th>\n",
       "      <th>goal</th>\n",
       "      <th>category_slug</th>\n",
       "      <th>blurb_length</th>\n",
       "      <th>month</th>\n",
       "      <th>day</th>\n",
       "      <th>backers_count</th>\n",
       "    </tr>\n",
       "  </thead>\n",
       "  <tbody>\n",
       "    <tr>\n",
       "      <th>0</th>\n",
       "      <td>42</td>\n",
       "      <td>2000.0</td>\n",
       "      <td>art</td>\n",
       "      <td>9</td>\n",
       "      <td>3</td>\n",
       "      <td>19</td>\n",
       "      <td>1</td>\n",
       "    </tr>\n",
       "    <tr>\n",
       "      <th>1</th>\n",
       "      <td>10</td>\n",
       "      <td>10.0</td>\n",
       "      <td>art</td>\n",
       "      <td>21</td>\n",
       "      <td>7</td>\n",
       "      <td>17</td>\n",
       "      <td>2</td>\n",
       "    </tr>\n",
       "    <tr>\n",
       "      <th>2</th>\n",
       "      <td>30</td>\n",
       "      <td>900.0</td>\n",
       "      <td>art</td>\n",
       "      <td>12</td>\n",
       "      <td>7</td>\n",
       "      <td>30</td>\n",
       "      <td>0</td>\n",
       "    </tr>\n",
       "    <tr>\n",
       "      <th>3</th>\n",
       "      <td>20</td>\n",
       "      <td>900.0</td>\n",
       "      <td>art</td>\n",
       "      <td>17</td>\n",
       "      <td>5</td>\n",
       "      <td>11</td>\n",
       "      <td>0</td>\n",
       "    </tr>\n",
       "    <tr>\n",
       "      <th>6</th>\n",
       "      <td>40</td>\n",
       "      <td>2900.0</td>\n",
       "      <td>art</td>\n",
       "      <td>9</td>\n",
       "      <td>4</td>\n",
       "      <td>6</td>\n",
       "      <td>2</td>\n",
       "    </tr>\n",
       "  </tbody>\n",
       "</table>\n",
       "</div>"
      ],
      "text/plain": [
       "   days_to_deadline    goal category_slug  blurb_length  month  day  \\\n",
       "0                42  2000.0           art             9      3   19   \n",
       "1                10    10.0           art            21      7   17   \n",
       "2                30   900.0           art            12      7   30   \n",
       "3                20   900.0           art            17      5   11   \n",
       "6                40  2900.0           art             9      4    6   \n",
       "\n",
       "   backers_count  \n",
       "0              1  \n",
       "1              2  \n",
       "2              0  \n",
       "3              0  \n",
       "6              2  "
      ]
     },
     "execution_count": 29,
     "metadata": {},
     "output_type": "execute_result"
    }
   ],
   "source": [
    "X.head()"
   ]
  },
  {
   "cell_type": "code",
   "execution_count": 30,
   "metadata": {},
   "outputs": [],
   "source": [
    "# use when different features need different preprocessing\n",
    "from sklearn.compose import make_column_transformer"
   ]
  },
  {
   "cell_type": "code",
   "execution_count": 31,
   "metadata": {},
   "outputs": [],
   "source": [
    "column_trans = make_column_transformer(\n",
    "    (OneHotEncoder(), ['category_slug']),\n",
    "    remainder='passthrough')"
   ]
  },
  {
   "cell_type": "code",
   "execution_count": 32,
   "metadata": {},
   "outputs": [
    {
     "data": {
      "text/plain": [
       "array([[  1.,   0.,   0., ...,   3.,  19.,   1.],\n",
       "       [  1.,   0.,   0., ...,   7.,  17.,   2.],\n",
       "       [  1.,   0.,   0., ...,   7.,  30.,   0.],\n",
       "       ...,\n",
       "       [  0.,   1.,   0., ...,   6.,  12.,  43.],\n",
       "       [  0.,   1.,   0., ...,   6.,   7., 260.],\n",
       "       [  0.,   1.,   0., ...,   6.,   4.,   7.]])"
      ]
     },
     "execution_count": 32,
     "metadata": {},
     "output_type": "execute_result"
    }
   ],
   "source": [
    "column_trans.fit_transform(X)"
   ]
  },
  {
   "cell_type": "code",
   "execution_count": 33,
   "metadata": {},
   "outputs": [],
   "source": [
    "# chain sequential steps together\n",
    "from sklearn.pipeline import make_pipeline"
   ]
  },
  {
   "cell_type": "code",
   "execution_count": 34,
   "metadata": {},
   "outputs": [],
   "source": [
    "pipe = make_pipeline(column_trans, LogisticRegression(max_iter=10000))"
   ]
  },
  {
   "cell_type": "code",
   "execution_count": 35,
   "metadata": {},
   "outputs": [
    {
     "data": {
      "text/plain": [
       "0.8900947187878838"
      ]
     },
     "execution_count": 35,
     "metadata": {},
     "output_type": "execute_result"
    }
   ],
   "source": [
    "# cross-validate the entire process\n",
    "# thus, preprocessing occurs within each fold of cross-validation\n",
    "cross_val_score(pipe, X, y, cv=5, scoring='accuracy').mean()"
   ]
  },
  {
   "cell_type": "code",
   "execution_count": 75,
   "metadata": {},
   "outputs": [
    {
     "data": {
      "text/html": [
       "<div>\n",
       "<style scoped>\n",
       "    .dataframe tbody tr th:only-of-type {\n",
       "        vertical-align: middle;\n",
       "    }\n",
       "\n",
       "    .dataframe tbody tr th {\n",
       "        vertical-align: top;\n",
       "    }\n",
       "\n",
       "    .dataframe thead th {\n",
       "        text-align: right;\n",
       "    }\n",
       "</style>\n",
       "<table border=\"1\" class=\"dataframe\">\n",
       "  <thead>\n",
       "    <tr style=\"text-align: right;\">\n",
       "      <th></th>\n",
       "      <th>days_to_deadline</th>\n",
       "      <th>goal</th>\n",
       "      <th>category_slug</th>\n",
       "      <th>blurb_length</th>\n",
       "      <th>month</th>\n",
       "      <th>day</th>\n",
       "      <th>backers_count</th>\n",
       "    </tr>\n",
       "  </thead>\n",
       "  <tbody>\n",
       "    <tr>\n",
       "      <th>162385</th>\n",
       "      <td>24</td>\n",
       "      <td>1645.0</td>\n",
       "      <td>publishing</td>\n",
       "      <td>20</td>\n",
       "      <td>7</td>\n",
       "      <td>21</td>\n",
       "      <td>13</td>\n",
       "    </tr>\n",
       "  </tbody>\n",
       "</table>\n",
       "</div>"
      ],
      "text/plain": [
       "        days_to_deadline    goal category_slug  blurb_length  month  day  \\\n",
       "162385                24  1645.0    publishing            20      7   21   \n",
       "\n",
       "        backers_count  \n",
       "162385             13  "
      ]
     },
     "execution_count": 75,
     "metadata": {},
     "output_type": "execute_result"
    }
   ],
   "source": [
    "#Predicts on New Data\n",
    "X_new = X.sample(1, random_state=99)\n",
    "X_new"
   ]
  },
  {
   "cell_type": "code",
   "execution_count": 76,
   "metadata": {},
   "outputs": [
    {
     "data": {
      "text/plain": [
       "162385    publishing\n",
       "Name: category_slug, dtype: object"
      ]
     },
     "execution_count": 76,
     "metadata": {},
     "output_type": "execute_result"
    }
   ],
   "source": [
    "X_new.category_slug"
   ]
  },
  {
   "cell_type": "code",
   "execution_count": 73,
   "metadata": {},
   "outputs": [
    {
     "data": {
      "text/plain": [
       "Pipeline(steps=[('columntransformer',\n",
       "                 ColumnTransformer(remainder='passthrough',\n",
       "                                   transformers=[('onehotencoder',\n",
       "                                                  OneHotEncoder(),\n",
       "                                                  ['category_slug'])])),\n",
       "                ('logisticregression', LogisticRegression(max_iter=10000))])"
      ]
     },
     "execution_count": 73,
     "metadata": {},
     "output_type": "execute_result"
    }
   ],
   "source": [
    "pipe.fit(X, y)"
   ]
  },
  {
   "cell_type": "code",
   "execution_count": 61,
   "metadata": {},
   "outputs": [
    {
     "data": {
      "text/plain": [
       "array([0, 0, 1, 0, 0, 0, 1, 0, 1, 0, 0, 0, 0, 0, 0, 0, 0, 0, 0, 0],\n",
       "      dtype=int64)"
      ]
     },
     "execution_count": 61,
     "metadata": {},
     "output_type": "execute_result"
    }
   ],
   "source": [
    "p=np.array(pipe.predict(X_new))\n",
    "p"
   ]
  },
  {
   "cell_type": "code",
   "execution_count": 54,
   "metadata": {},
   "outputs": [
    {
     "data": {
      "text/plain": [
       "Int64Index([289553, 408986, 380114, 100835, 424607, 407364, 127049, 266741,\n",
       "            389791, 321194, 263960,    185, 365934, 212638,  50507, 407278,\n",
       "            342036,  64756,  12084,  50314],\n",
       "           dtype='int64')"
      ]
     },
     "execution_count": 54,
     "metadata": {},
     "output_type": "execute_result"
    }
   ],
   "source": [
    "#Validation \n",
    "X_new.index"
   ]
  },
  {
   "cell_type": "code",
   "execution_count": 60,
   "metadata": {},
   "outputs": [
    {
     "data": {
      "text/plain": [
       "array([0, 0, 1, 0, 0, 0, 0, 0, 1, 0, 0, 0, 0, 0, 0, 1, 0, 0, 0, 0],\n",
       "      dtype=int64)"
      ]
     },
     "execution_count": 60,
     "metadata": {},
     "output_type": "execute_result"
    }
   ],
   "source": [
    "v=np.array(df.loc[X_new.index].pledged_ratio)\n",
    "v"
   ]
  },
  {
   "cell_type": "code",
   "execution_count": 65,
   "metadata": {},
   "outputs": [
    {
     "data": {
      "text/plain": [
       "2"
      ]
     },
     "execution_count": 65,
     "metadata": {},
     "output_type": "execute_result"
    }
   ],
   "source": [
    "np.sum(p!=v)"
   ]
  },
  {
   "cell_type": "code",
   "execution_count": 66,
   "metadata": {},
   "outputs": [
    {
     "data": {
      "text/plain": [
       "(array([ 6, 15]),)"
      ]
     },
     "execution_count": 66,
     "metadata": {},
     "output_type": "execute_result"
    }
   ],
   "source": [
    "np.where(p!=v)"
   ]
  },
  {
   "cell_type": "code",
   "execution_count": null,
   "metadata": {},
   "outputs": [],
   "source": [
    "#let's look at the different categories\n",
    "print(ksdf['category_name'].value_counts())"
   ]
  },
  {
   "cell_type": "code",
   "execution_count": null,
   "metadata": {},
   "outputs": [],
   "source": []
  },
  {
   "cell_type": "code",
   "execution_count": null,
   "metadata": {},
   "outputs": [],
   "source": [
    "print(ksdf['category_name'].value_counts().count())"
   ]
  },
  {
   "cell_type": "code",
   "execution_count": null,
   "metadata": {},
   "outputs": [],
   "source": [
    "print(ksdf['category_slug'].value_counts().count())"
   ]
  },
  {
   "cell_type": "code",
   "execution_count": null,
   "metadata": {},
   "outputs": [],
   "source": [
    "category_count=ksdf['category_name'].value_counts()\n",
    "category_count"
   ]
  },
  {
   "cell_type": "code",
   "execution_count": null,
   "metadata": {},
   "outputs": [],
   "source": [
    "#Make a copy df which will have the select categories encoded \n",
    "cat_encoded_ksdf=ksdf.copy()"
   ]
  },
  {
   "cell_type": "code",
   "execution_count": null,
   "metadata": {},
   "outputs": [],
   "source": [
    "#encoding category_name\n",
    "print('number of categories: '+str(ksdf['category_name'].value_counts().count()))\n",
    "labels = ksdf['category_name'].astype('category').cat.categories.tolist()\n",
    "replace_map_comp_cat = {'category_name' : {k: v for k,v in zip(labels,list(range(1,len(labels)+1)))}}\n",
    "cat_encoded_ksdf.replace(replace_map_comp, inplace=True)\n",
    "#print(replace_map_comp_cat)"
   ]
  },
  {
   "cell_type": "code",
   "execution_count": null,
   "metadata": {},
   "outputs": [],
   "source": [
    "#encoding slug\n",
    "print('number of categories: '+str(ksdf['category_slug'].value_counts().count()))\n",
    "labels = ksdf['category_slug'].astype('category').cat.categories.tolist()\n",
    "replace_map_comp_slug = {'category_slug' : {k: v for k,v in zip(labels,list(range(1,len(labels)+1)))}}\n",
    "cat_encoded_ksdf.replace(replace_map_comp_slug, inplace=True)\n",
    "print(replace_map_comp_slug)"
   ]
  },
  {
   "cell_type": "code",
   "execution_count": null,
   "metadata": {},
   "outputs": [],
   "source": [
    "#encoding location_state\n",
    "print('number of categories: '+str(ksdf['location_state'].value_counts().count()))\n",
    "labels = ksdf['location_state'].astype('category').cat.categories.tolist()\n",
    "replace_map_comp_loc = {'location_state' : {k: v for k,v in zip(labels,list(range(1,len(labels)+1)))}}\n",
    "cat_encoded_ksdf.replace(replace_map_comp_loc, inplace=True)\n",
    "#print(replace_map_comp_loc)"
   ]
  },
  {
   "cell_type": "code",
   "execution_count": null,
   "metadata": {},
   "outputs": [],
   "source": [
    "#encoding binary_state .. success or failed\n",
    "print('number of categories: '+str(ksdf['binary_state'].value_counts().count()))\n",
    "labels = ksdf['binary_state'].astype('category').cat.categories.tolist()\n",
    "replace_map_comp_state = {'binary_state' : {k: v for k,v in zip(labels,list(range(1,len(labels)+1)))}}\n",
    "cat_encoded_ksdf.replace(replace_map_comp_state, inplace=True)\n",
    "print(replace_map_comp_state)"
   ]
  },
  {
   "cell_type": "code",
   "execution_count": null,
   "metadata": {},
   "outputs": [],
   "source": [
    "#Visualize Category Histogram of all campaigns \n",
    "%matplotlib inline\n",
    "import seaborn as sns\n",
    "import matplotlib.pyplot as plt\n",
    "\n",
    "plt.figure(figsize=(50,5))\n",
    "category_count = ksdf['category_name'].value_counts()\n",
    "sns.set(style=\"darkgrid\")\n",
    "chart=sns.barplot(category_count.index, category_count.values, alpha=1)\n",
    "#sns.set(rc={'figure.figsize':(20,8.27)})\n",
    "plt.title('Frequency Distribution of Categories')\n",
    "plt.ylabel('Number of Occurrences', fontsize=12)\n",
    "plt.xlabel('Categories', fontsize=12)\n",
    "chart.set_xticklabels(chart.get_xticklabels(), rotation=90)\n",
    "plt.show()"
   ]
  },
  {
   "cell_type": "code",
   "execution_count": null,
   "metadata": {},
   "outputs": [],
   "source": [
    "# Add pledged_ratio column\n",
    "cat_encoded_ksdf['pledged_ratio'] = cat_encoded_ksdf['usd_pledged']/ cat_encoded_ksdf['goal_USD']"
   ]
  },
  {
   "cell_type": "code",
   "execution_count": null,
   "metadata": {},
   "outputs": [],
   "source": [
    "table=cat_encoded_ksdf.info(verbose=True)"
   ]
  },
  {
   "cell_type": "code",
   "execution_count": 79,
   "metadata": {},
   "outputs": [
    {
     "ename": "NameError",
     "evalue": "name 'publishing' is not defined",
     "output_type": "error",
     "traceback": [
      "\u001b[0;31m---------------------------------------------------------------------------\u001b[0m",
      "\u001b[0;31mNameError\u001b[0m                                 Traceback (most recent call last)",
      "\u001b[0;32m<ipython-input-79-dd16d38d98d5>\u001b[0m in \u001b[0;36m<module>\u001b[0;34m\u001b[0m\n\u001b[0;32m----> 1\u001b[0;31m \u001b[0;34m[\u001b[0m\u001b[0mpublishing\u001b[0m\u001b[0;34m.\u001b[0m\u001b[0mdtype\u001b[0m\u001b[0;34m(\u001b[0m\u001b[0mobject\u001b[0m\u001b[0;34m)\u001b[0m\u001b[0;34m]\u001b[0m\u001b[0;34m\u001b[0m\u001b[0;34m\u001b[0m\u001b[0m\n\u001b[0m",
      "\u001b[0;31mNameError\u001b[0m: name 'publishing' is not defined"
     ]
    }
   ],
   "source": [
    "[publishing.dtype(object)]"
   ]
  },
  {
   "cell_type": "code",
   "execution_count": null,
   "metadata": {},
   "outputs": [],
   "source": [
    "#Let's grab the column names we might care about\n",
    "names=['pledged_ratio','usd_pledged','goal_USD','blurb_length','days_to_deadline','backers_count','month','day','hour','category_name','category_slug','location_state']"
   ]
  },
  {
   "cell_type": "code",
   "execution_count": null,
   "metadata": {},
   "outputs": [],
   "source": [
    "cat_encoded_ksdf=ksdf.copy()\n",
    "cat_encoded_ksdf.head()"
   ]
  },
  {
   "cell_type": "code",
   "execution_count": null,
   "metadata": {},
   "outputs": [],
   "source": [
    "cat_encoded_ksdf.replace(replace_map_comp, inplace=True)"
   ]
  },
  {
   "cell_type": "code",
   "execution_count": null,
   "metadata": {},
   "outputs": [],
   "source": [
    "cat_encoded_ksdf"
   ]
  },
  {
   "cell_type": "code",
   "execution_count": null,
   "metadata": {},
   "outputs": [],
   "source": [
    "cat_encoded_ksdf.head()"
   ]
  },
  {
   "cell_type": "code",
   "execution_count": null,
   "metadata": {
    "_uuid": "e88ae38e3ee6a2665e75f26ab773f7723d2063ce",
    "scrolled": true
   },
   "outputs": [],
   "source": [
    "ksdf.isnull().sum()"
   ]
  },
  {
   "cell_type": "code",
   "execution_count": null,
   "metadata": {},
   "outputs": [],
   "source": [
    "ksdf['backers_count'].max()"
   ]
  },
  {
   "cell_type": "code",
   "execution_count": null,
   "metadata": {},
   "outputs": [],
   "source": [
    "ksdf['backers_count'].hist(range=[0, 100])\n"
   ]
  },
  {
   "cell_type": "code",
   "execution_count": null,
   "metadata": {},
   "outputs": [],
   "source": [
    "ksdf['usd_pledged'].hist(range=[0,10000])"
   ]
  },
  {
   "cell_type": "code",
   "execution_count": null,
   "metadata": {},
   "outputs": [],
   "source": [
    "ksdf['backers_count'].shape"
   ]
  },
  {
   "cell_type": "markdown",
   "metadata": {
    "_uuid": "f165adbf4a9dc085e032f46f7d3f39dd30be5d80"
   },
   "source": [
    "According to the description of data:\n",
    "- **usd pledged** -> USD conversion made by KS for the pledged value\n",
    "- **usd_pledged_real** ->  USD conversion made by fixer.io api\n",
    "\n",
    "We will use **usd_pledged_real** for further analysis"
   ]
  },
  {
   "cell_type": "code",
   "execution_count": null,
   "metadata": {
    "_uuid": "9622796ec3749329bbc3cc5b929bd2a76e552b27"
   },
   "outputs": [],
   "source": [
    "# Check missing values in the column \"name\"\n",
    "ksdf[pd.isnull(ksdf['name'])].index"
   ]
  },
  {
   "cell_type": "code",
   "execution_count": null,
   "metadata": {
    "_uuid": "64ec4370f3280dcc9575a69527493317577f5a4a"
   },
   "outputs": [],
   "source": [
    "ksdf[ksdf.index == 14749]\n",
    "#ksdf[ksdf.index == 51866]"
   ]
  },
  {
   "cell_type": "code",
   "execution_count": null,
   "metadata": {},
   "outputs": [],
   "source": [
    "ksfailed=ksdf[ksdf['binary_state'] == 'failed']\n",
    "ksfailed=ksfailed[ksfailed['currency'] == 'USD']\n",
    "ksfailed.shape"
   ]
  },
  {
   "cell_type": "code",
   "execution_count": null,
   "metadata": {},
   "outputs": [],
   "source": []
  },
  {
   "cell_type": "code",
   "execution_count": null,
   "metadata": {},
   "outputs": [],
   "source": [
    "ksfailed=ksfailed[ksfailed['currency'] == 'USD']"
   ]
  },
  {
   "cell_type": "code",
   "execution_count": null,
   "metadata": {},
   "outputs": [],
   "source": [
    "ksfailed.head()"
   ]
  },
  {
   "cell_type": "code",
   "execution_count": null,
   "metadata": {},
   "outputs": [],
   "source": [
    "# Add pledged_ratio column\n",
    "ksfailed['pledged_ratio'] = ksfailed['usd_pledged']/ ksfailed['goal_USD']"
   ]
  },
  {
   "cell_type": "code",
   "execution_count": null,
   "metadata": {},
   "outputs": [],
   "source": [
    "ksfailed['pledged_ratio'].hist()"
   ]
  },
  {
   "cell_type": "code",
   "execution_count": null,
   "metadata": {},
   "outputs": [],
   "source": [
    "ksfailed['pledged_ratio'].plot(kind= 'density')\n",
    "plt.show()"
   ]
  },
  {
   "cell_type": "code",
   "execution_count": null,
   "metadata": {},
   "outputs": [],
   "source": [
    "names=['pledged_ratio','usd_pledged','goal_USD','blurb_length','days_to_deadline','backers_count']"
   ]
  },
  {
   "cell_type": "code",
   "execution_count": null,
   "metadata": {},
   "outputs": [],
   "source": [
    "len(names)"
   ]
  },
  {
   "cell_type": "code",
   "execution_count": null,
   "metadata": {},
   "outputs": [],
   "source": [
    "data=ksfailed_analysis=ksfailed[['pledged_ratio','usd_pledged','goal_USD','blurb_length','days_to_deadline','backers_count','month','day','hour',]].copy()"
   ]
  },
  {
   "cell_type": "code",
   "execution_count": null,
   "metadata": {},
   "outputs": [],
   "source": [
    "plt.figure(figsize=(50,50))\n",
    "chart=pd.plotting.scatter_matrix(data)\n",
    "#chart.set_xticklabels(chart.get_xticklabels(), rotation=90)\n",
    "#chart.set_yticklabels(chart.get_yticklabels(), rotation=90)\n",
    "plt.show"
   ]
  },
  {
   "cell_type": "code",
   "execution_count": null,
   "metadata": {},
   "outputs": [],
   "source": [
    "correlations = data.corr()\n",
    "fig = plt.figure()\n",
    "ax = fig.add_subplot(111)\n",
    "cax = ax.matshow(correlations, vmin=-1, vmax=1)\n",
    "fig.colorbar(cax)\n",
    "ticks = np.arange(0,6,1)\n",
    "ax.set_xticks(ticks)\n",
    "ax.set_yticks(ticks)\n",
    "ax.set_xticklabels(names)\n",
    "ax.set_yticklabels(names)\n",
    "plt.show()"
   ]
  },
  {
   "cell_type": "markdown",
   "metadata": {
    "_uuid": "13b940bdee21d3ded574f812b21db084ed8d0828"
   },
   "source": [
    "Even though there are some missing values in **name**, those are real projects. We will keep them."
   ]
  },
  {
   "cell_type": "code",
   "execution_count": null,
   "metadata": {},
   "outputs": [],
   "source": [
    "ksfailed['backers_count'].sort_values(ascending=False)"
   ]
  },
  {
   "cell_type": "code",
   "execution_count": null,
   "metadata": {},
   "outputs": [],
   "source": [
    "ksfailed['backers_count'].plot(kind= 'density')\n",
    "plt.show()"
   ]
  },
  {
   "cell_type": "markdown",
   "metadata": {
    "_uuid": "4d5de7423faad5c238543f892d9011e811659e5d"
   },
   "source": [
    "#### 1.2 Modify data columns\n",
    "- According to previous cell, I will drop **usd pledged** columns\n",
    "- Add **pledged_ratio** column that follows the rule:\n",
    " > pledged_ratio = usd_pledged_real/ usd_goal_real\n",
    "- Retrieve **year** & **date** and transform the information as a new column **time** that follows the rule:\n",
    "> `(year - 2009) * 12 + month`\n",
    ">>Since 2009 seems to be the first year that contains meaningful data, we will use this alorithm to get timely manner information\n",
    "- Generate a new dataframe **ksdf_year** for cross-year comparison"
   ]
  },
  {
   "cell_type": "code",
   "execution_count": null,
   "metadata": {
    "_uuid": "adef541019e811c8e3ba4f5c81c8acc4a8de72fc"
   },
   "outputs": [],
   "source": [
    "# Delete usdf pledged column\n",
    "ksdf.drop(['usd pledged'], axis = 1, inplace = True)"
   ]
  },
  {
   "cell_type": "code",
   "execution_count": null,
   "metadata": {
    "_uuid": "98a31498dfd10db016346e93c08220935523b26f"
   },
   "outputs": [],
   "source": [
    "# Add pledged_ratio column\n",
    "ksdf['pledged_ratio'] = ksdf['usd_pledged_real']/ ksdf['usd_goal_real']"
   ]
  },
  {
   "cell_type": "code",
   "execution_count": null,
   "metadata": {
    "_uuid": "858e0a3491d096f389b4b250b96d932ff7445782"
   },
   "outputs": [],
   "source": [
    "def year_cut(string):\n",
    "    return string[0:4]\n",
    "\n",
    "def month_cut(string):\n",
    "    return string[5:7]\n",
    "\n",
    "ksdf['year'] = ksdf['launched_at'].apply(year_cut)\n",
    "ksdf['month'] = ksdf['launched_at'].apply(month_cut)\n",
    "\n",
    "ksdf['year'] = ksdf['year'].astype(int)\n",
    "ksdf['month'] = ksdf['month'].astype(int)\n",
    "ksdf['time'] = (ksdf['year'].values - 2009)*12 + (ksdf['month']).astype(int)"
   ]
  },
  {
   "cell_type": "code",
   "execution_count": null,
   "metadata": {
    "_uuid": "3b44badabb9602a86f3c7495d59324200a535e8c"
   },
   "outputs": [],
   "source": [
    "print (ksdf.columns)"
   ]
  },
  {
   "cell_type": "code",
   "execution_count": null,
   "metadata": {
    "_uuid": "ce895910c73b48ee419de8715f2c8f0a5213653e"
   },
   "outputs": [],
   "source": [
    "ksdf['year'].value_counts()"
   ]
  },
  {
   "cell_type": "code",
   "execution_count": null,
   "metadata": {
    "_uuid": "c8b08e95f41f96b33dd981ed78ce68d5c44a4cb2"
   },
   "outputs": [],
   "source": [
    "ksdf_year = {}\n",
    "for year in range(2009, 2020):\n",
    "    ksdf_year[year] = ksdf[ksdf['year'] == year]['year'].count()"
   ]
  },
  {
   "cell_type": "code",
   "execution_count": null,
   "metadata": {
    "_uuid": "0b4b46108c9bead023548dbefa9a074560cab984"
   },
   "outputs": [],
   "source": [
    "ksdf_year = pd.Series(ksdf_year)\n",
    "ksdf_year = pd.DataFrame(ksdf_year)\n",
    "ksdf_year = ksdf_year.rename(columns = {0: \"counts\"})\n",
    "ksdf_year"
   ]
  },
  {
   "cell_type": "markdown",
   "metadata": {
    "_uuid": "08caf39bb8378cdfadb908dba6b64a0102827ca1"
   },
   "source": []
  },
  {
   "cell_type": "markdown",
   "metadata": {
    "_uuid": "ebfe6252b046e0103f005f82859a6f1b84dd7bf6"
   },
   "source": [
    "#### 1.3 Number of projects proposed/  successful rate\n",
    "- Overall number of proposed projects\n",
    "- Overall successful rate\n",
    "- Cross year comparison of above 2 items"
   ]
  },
  {
   "cell_type": "code",
   "execution_count": null,
   "metadata": {
    "_uuid": "4c6789feb3b6d25cf8679f112411580d053306a2"
   },
   "outputs": [],
   "source": [
    "ksdf['binary_state'].value_counts()"
   ]
  },
  {
   "cell_type": "code",
   "execution_count": null,
   "metadata": {},
   "outputs": [],
   "source": [
    "total=np.sum(ksdf['binary_state'].value_counts())\n",
    "total"
   ]
  },
  {
   "cell_type": "code",
   "execution_count": null,
   "metadata": {},
   "outputs": [],
   "source": [
    "f_ratio=ksdf['binary_state'].value_counts()[0]/total\n",
    "s_ratio=ksdf['binary_state'].value_counts()[1]/total"
   ]
  },
  {
   "cell_type": "code",
   "execution_count": null,
   "metadata": {},
   "outputs": [],
   "source": [
    "plt.pie(ksdf['binary_state'].value_counts(),labels=['Failed '+str(np.round(f_ratio*100,1))+'%','Successful '+str(np.round(s_ratio*100,1))+'%'])\n",
    "plt.savefig('pie.png')"
   ]
  },
  {
   "cell_type": "code",
   "execution_count": null,
   "metadata": {},
   "outputs": [],
   "source": [
    "173721/430938"
   ]
  },
  {
   "cell_type": "code",
   "execution_count": null,
   "metadata": {
    "_uuid": "aeed9af5ca0c48d18819062cf5ebdfcc651558ee"
   },
   "outputs": [],
   "source": [
    "squarify.plot(sizes=[197719,133956, (38779 + 3562 + 2799 + 1846)], \n",
    "              label=[\"Failed (52.22%)\", \"Successful (35.38%)\", \"Others (10.24%)\",], color=[\"blue\",\"red\",\"green\"], alpha=.4 )\n",
    "plt.title('State of Campaigns 2009-2017', fontsize = 20)\n",
    "plt.axis('off')\n",
    "plt.show()"
   ]
  },
  {
   "cell_type": "code",
   "execution_count": null,
   "metadata": {
    "_uuid": "faaf5cad177a20f31a17e8a81fd9a7bb12d5992a",
    "scrolled": true
   },
   "outputs": [],
   "source": [
    "success_timely = []\n",
    "\n",
    "for year in range(2009, 2019):\n",
    "    success = len (ksdf[(ksdf['year'] == year) & (ksdf['state'] == 'successful')]['state'])\n",
    "    overall = len (ksdf[ksdf['year'] == year]['year'])\n",
    "    ratio = success/ overall\n",
    "    success_timely.append(ratio)\n",
    "    print (\"Year = \",year, ratio * 100, '%')"
   ]
  },
  {
   "cell_type": "code",
   "execution_count": null,
   "metadata": {},
   "outputs": [],
   "source": [
    "failed_timely = []\n",
    "\n",
    "for year in range(2009, 2019):\n",
    "    success = len (ksdf[(ksdf['year'] == year) & (ksdf['state'] == 'failed')]['state'])\n",
    "    overall = len (ksdf[ksdf['year'] == year]['year'])\n",
    "    ratio = success/ overall\n",
    "    success_timely.append(ratio)\n",
    "    print (\"Year = \",year, ratio * 100, '%')"
   ]
  },
  {
   "cell_type": "code",
   "execution_count": null,
   "metadata": {
    "_uuid": "0ab9f88893d7d492d916bc5454da5f09443e0955"
   },
   "outputs": [],
   "source": [
    "ksdf[ksdf['year'] == 2018]['state'].value_counts()"
   ]
  },
  {
   "cell_type": "code",
   "execution_count": null,
   "metadata": {
    "_uuid": "25c511453b820b3811a72ad7b1f7ff357474c900"
   },
   "outputs": [],
   "source": [
    "ksdf_year['success_ratio'] = success_timely\n",
    "ksdf_year.head"
   ]
  },
  {
   "cell_type": "code",
   "execution_count": null,
   "metadata": {
    "_uuid": "d6a796edf9d0c7888505269d5701e376f2715caa"
   },
   "outputs": [],
   "source": [
    "ksdf[ksdf['year'] == 2017]['backers'].count()"
   ]
  },
  {
   "cell_type": "code",
   "execution_count": null,
   "metadata": {
    "_uuid": "f1cf1f7cf6ed134bf661fe941e68e6a9972f0e6d"
   },
   "outputs": [],
   "source": [
    "backers_year = {}\n",
    "for year in range(2009, 2019):\n",
    "    backers_count = ksdf[ksdf['year'] == year]['backers'].sum()\n",
    "    backers_year[year] = backers_count\n",
    "\n",
    "ksdf_year['backers'] = pd.Series(backers_year)"
   ]
  },
  {
   "cell_type": "code",
   "execution_count": null,
   "metadata": {
    "_uuid": "74e17b6bc88204692781c88767c5a1a9c0faf55b"
   },
   "outputs": [],
   "source": [
    "ksdf_year"
   ]
  },
  {
   "cell_type": "code",
   "execution_count": null,
   "metadata": {
    "_uuid": "2e08d5ca48390df39a508f6398f33874fccd331a"
   },
   "outputs": [],
   "source": [
    "# Cross-year proposed projects\n",
    "sns.set_style(\"whitegrid\")\n",
    "sns.barplot(ksdf_year['counts'].index, y= ksdf_year['counts'] ,\n",
    "            palette=\"Blues_d\", saturation = 0.5)\n",
    "sns.despine(right = True, top = True)"
   ]
  },
  {
   "cell_type": "code",
   "execution_count": null,
   "metadata": {
    "_uuid": "ed0859b3b58c8fed9e3fd9f1c631e9667d45d777"
   },
   "outputs": [],
   "source": [
    "# Cross-year success ratio\n",
    "sns.set_style(\"whitegrid\")\n",
    "sns.barplot(ksdf_year['success_ratio'].index, y= ksdf_year['success_ratio'], data = ksdf_year,\n",
    "            palette=\"Blues_d\", saturation = 0.5)\n",
    "sns.despine(right = True, top = True)"
   ]
  },
  {
   "cell_type": "markdown",
   "metadata": {
    "_uuid": "ac71ff78a92e92bfbb3fcbff44a05c950f92266c"
   },
   "source": []
  },
  {
   "cell_type": "code",
   "execution_count": null,
   "metadata": {
    "_uuid": "f5d9febd6c6ce7f573714968cdb20c910a3e1009"
   },
   "outputs": [],
   "source": [
    "sns.set_style(\"whitegrid\")\n",
    "sns.barplot(ksdf_year['backers'].index, y= ksdf_year['backers'] ,\n",
    "            palette=\"Blues_d\", saturation = 0.5)\n",
    "sns.despine(right = True, top = True)"
   ]
  },
  {
   "cell_type": "markdown",
   "metadata": {
    "_uuid": "f41eea6120c90032b2275a411ed6aedd4d69a70b"
   },
   "source": [
    "#### 1.4 Statistics of pledged amount\n",
    "- Descripitive statistics of pledged amount\n",
    "- Pledged amount comparison by state (successful/ failed/ others)"
   ]
  },
  {
   "cell_type": "code",
   "execution_count": null,
   "metadata": {
    "_uuid": "be725520edca362bf652d5cec816d64b17dbf427"
   },
   "outputs": [],
   "source": [
    "sum_pledged = ksdf['usd_pledged_real'].sum()\n",
    "print (sum_pledged)"
   ]
  },
  {
   "cell_type": "code",
   "execution_count": null,
   "metadata": {
    "_uuid": "321b8e9fe835e6da837d5466cb18e5bd12b00565"
   },
   "outputs": [],
   "source": [
    "ksdf['usd_pledged_real'].describe()"
   ]
  },
  {
   "cell_type": "code",
   "execution_count": null,
   "metadata": {
    "_uuid": "d3e5f98b16e8703de5cbaa468af0ac3415105f01"
   },
   "outputs": [],
   "source": [
    "# Ratio of successful/ failed / others\n",
    "success_pledged = ksdf[ksdf['state'] == \"successful\"]['usd_pledged_real'].sum()\n",
    "fail_pledged = ksdf[ksdf['state'] == 'failed']['usd_pledged_real'].sum()\n",
    "others_pledged = (ksdf[ksdf['state'] == 'canceled']['usd_pledged_real'].sum() +\n",
    "                  ksdf[ksdf['state'] == 'undefined']['usd_pledged_real'].sum() +\n",
    "                  ksdf[ksdf['state'] == 'live']['usd_pledged_real'].sum() +\n",
    "                  ksdf[ksdf['state'] == 'suspended']['usd_pledged_real'].sum())\n",
    "\n",
    "print (success_pledged, success_pledged/ sum_pledged * 100, '%')\n",
    "print (fail_pledged, fail_pledged/ sum_pledged * 100, '%')\n",
    "print (others_pledged, others_pledged/ sum_pledged * 100, '%')"
   ]
  },
  {
   "cell_type": "code",
   "execution_count": null,
   "metadata": {
    "_uuid": "93ec43d3a21a010ee4ba704e5b25a3fd14c1d865"
   },
   "outputs": [],
   "source": [
    "squarify.plot(sizes=[3036889045.99, 261108466.05, 132263736.79], \n",
    "              label=[\"Successful (88.53%)\", \"Failed (7.61%)\", \"Others (3.86%)\",], color=[\"red\",\"blue\", \"green\"], alpha=.4 )\n",
    "plt.title('Pledged Amount', fontsize = 20)\n",
    "plt.axis('off')\n",
    "plt.show()"
   ]
  },
  {
   "cell_type": "code",
   "execution_count": null,
   "metadata": {
    "_uuid": "a2159a505e825bec3fb38624e533ef7b448aaa82"
   },
   "outputs": [],
   "source": [
    "success_projects = ksdf[ksdf['state'] == 'successful']['state'].count()\n",
    "fail_projects  = ksdf[ksdf['state'] == 'failed']['state'].count()\n",
    "others_projects  = (\n",
    "    ksdf[ksdf['state'] == 'canceled']['state'].count() +\n",
    "    ksdf[ksdf['state'] == 'live']['state'].count() +\n",
    "    ksdf[ksdf['state'] == 'undefined']['state'].count() +\n",
    "    ksdf[ksdf['state'] == 'suspended']['state'].count())\n",
    "\n",
    "print (\"Average pledged amount per successful project = \",success_pledged/success_projects)\n",
    "print (\"Average pledged amount per failed project = \",fail_pledged/ fail_projects)\n",
    "print (\"Average pledged amount per other project = \",others_pledged/ others_projects)"
   ]
  },
  {
   "cell_type": "code",
   "execution_count": null,
   "metadata": {
    "_uuid": "36fecd8dfb7bc411d4e6468037a4cc2517c7c4f3"
   },
   "outputs": [],
   "source": [
    "sns.set_style(\"whitegrid\")\n",
    "sns.barplot([\"Successful\", \"Failed\", \"Others\"],\n",
    "            y= [22670.7952312, 1320.60381678, 2814.96055825],\n",
    "            palette = \"Set1\",\n",
    "            saturation = 0.5)\n",
    "sns.despine(right = True, top = True)"
   ]
  },
  {
   "cell_type": "markdown",
   "metadata": {
    "_uuid": "6b3b31dcff900c75f2611e9c0e79ff5c82b44c5a",
    "collapsed": true
   },
   "source": []
  },
  {
   "cell_type": "markdown",
   "metadata": {
    "_uuid": "67b02f077e73ffe10fa127cb61abc189eb2a3228"
   },
   "source": [
    "## 2. Region\n",
    "- 2.1 Projects proposed across regions"
   ]
  },
  {
   "cell_type": "code",
   "execution_count": null,
   "metadata": {
    "_uuid": "957a1fe0012226c0e6c84a10a636df08a10392a1"
   },
   "outputs": [],
   "source": [
    "ksdf['country'].unique()"
   ]
  },
  {
   "cell_type": "code",
   "execution_count": null,
   "metadata": {
    "_uuid": "74c8a932d2fb879b008c3b8d17e56df6a3d3439e"
   },
   "outputs": [],
   "source": [
    "ksdf['country'].value_counts()"
   ]
  },
  {
   "cell_type": "code",
   "execution_count": null,
   "metadata": {
    "_uuid": "22773e2b4b610532f20848e5ac607792f5ed7de1"
   },
   "outputs": [],
   "source": [
    "sns.countplot(ksdf['country'], palette = 'Set1', order = ksdf['country'].value_counts().index)\n",
    "sns.despine(bottom = True, left = True)"
   ]
  },
  {
   "cell_type": "code",
   "execution_count": null,
   "metadata": {
    "_uuid": "cdfc422630f9c7355f65f8a743014a5ca992958c"
   },
   "outputs": [],
   "source": [
    "us = ksdf[ksdf['country'] == \"US\"]['country'].count()\n",
    "print (us/len(ksdf['country']) * 100, \"%\")"
   ]
  },
  {
   "cell_type": "markdown",
   "metadata": {
    "_uuid": "68a3d4810bbbd947a0f8804d7c3b125d4aaad094"
   },
   "source": []
  },
  {
   "cell_type": "markdown",
   "metadata": {
    "_uuid": "d603907a397a074ce65fd481c1ff295e10b05c3f"
   },
   "source": [
    "\n",
    "## 3. Caterogy\n",
    "* 3.1 Projects proposed across categories\n",
    "* 3.2 Pledged amount across categories\n",
    "* 3.3 Success rate across categories\n",
    "\n",
    "We will go through this part by creating a new dataframe **cate_df** to record some information, including:\n",
    "- **pledged_sum** -> Sum of the pledged money for each categories\n",
    "- **count** -> Project counts for each categories\n",
    "- **average_amount** -> Average pledged amount for each categories \n",
    "- **success_count** -> Successful projects counts for each categories\n",
    "- **success_rate** -> The ratio of success for each categories"
   ]
  },
  {
   "cell_type": "markdown",
   "metadata": {
    "_uuid": "b516c0fd1010f8a0b18d58f4c56d237e94f87fe7"
   },
   "source": [
    "Adding **pledged_sum**"
   ]
  },
  {
   "cell_type": "code",
   "execution_count": null,
   "metadata": {
    "_uuid": "82cbc5185a36e34759dfa3d25e443723f78402c8"
   },
   "outputs": [],
   "source": [
    "pledged_sum = {}\n",
    "for category in list(set(ksdf['main_category'])):\n",
    "    amount = ksdf[ksdf['main_category'] == category]['usd_pledged_real'].sum()\n",
    "    pledged_sum[category] = amount\n",
    "\n",
    "# Create dataframe\n",
    "cate_df = pd.Series(pledged_sum)\n",
    "cate_df = pd.DataFrame(cate_df)\n",
    "cate_df = cate_df.rename(columns = {0:\"pledged_sum\"})\n",
    "\n",
    "cate_df.head()"
   ]
  },
  {
   "cell_type": "markdown",
   "metadata": {
    "_uuid": "5fa35f8dc78eaa49ed0c836c3d1566f9dee80ad8"
   },
   "source": [
    "Adding **count**"
   ]
  },
  {
   "cell_type": "code",
   "execution_count": null,
   "metadata": {
    "_uuid": "546126e93c6a7ee3807ba3f3c70bf9d6ad7c06b8"
   },
   "outputs": [],
   "source": [
    "cate_count = {}\n",
    "for category in list(set(ksdf['main_category'])):\n",
    "    count = ksdf[ksdf['main_category'] == category]['main_category'].count()\n",
    "    cate_count[category] = count\n",
    "    \n",
    "cate_df['count'] = pd.Series(cate_count)\n",
    "\n",
    "cate_df.head()"
   ]
  },
  {
   "cell_type": "markdown",
   "metadata": {
    "_uuid": "badc06dc067dc62a27b529571d877a5701e369bd"
   },
   "source": [
    "Adding **average_amount**"
   ]
  },
  {
   "cell_type": "code",
   "execution_count": null,
   "metadata": {
    "_uuid": "426e861db8c57dbb92d814d8d06aadf49124e14f"
   },
   "outputs": [],
   "source": [
    "cate_df['average_amount'] = cate_df['pledged_sum']/ cate_df['count']\n",
    "cate_df.head()"
   ]
  },
  {
   "cell_type": "markdown",
   "metadata": {
    "_uuid": "09ce426103bad6c357ab804ffe9368d345e6df6b"
   },
   "source": [
    "Adding **success_rate**"
   ]
  },
  {
   "cell_type": "code",
   "execution_count": null,
   "metadata": {
    "_uuid": "1f66f2a552e91243b6781f4a27beebdc129aa053"
   },
   "outputs": [],
   "source": [
    "success = {}\n",
    "for category in list(set(ksdf['main_category'])):\n",
    "    success_count = len(ksdf[(ksdf['main_category'] == category) & \n",
    "         (ksdf['state'] == \"successful\")])\n",
    "    success[category] = success_count\n",
    "\n",
    "cate_df[\"success_count\"] = pd.Series(success)\n",
    "cate_df.head()"
   ]
  },
  {
   "cell_type": "code",
   "execution_count": null,
   "metadata": {
    "_uuid": "e319b1c46da51ddb1b54783ae217514780374003"
   },
   "outputs": [],
   "source": [
    "cate_df[\"success_rate\"] = cate_df['success_count']/ cate_df['count']\n",
    "cate_df.head()"
   ]
  },
  {
   "cell_type": "code",
   "execution_count": null,
   "metadata": {
    "_uuid": "a8e75bfe1319a9b6abec53dfaddec6388edb8edd"
   },
   "outputs": [],
   "source": [
    "# pledged_sum plot\n",
    "cate_df = cate_df.sort_values('pledged_sum',  ascending = False)\n",
    "plt.subplots(figsize = (20,5))\n",
    "sns.set_style(\"whitegrid\")\n",
    "sns.barplot(cate_df['pledged_sum'].index, y= cate_df['pledged_sum'] ,\n",
    "            palette=\"Set1\",saturation = 0.5)\n",
    "sns.despine(right = True, top = True)"
   ]
  },
  {
   "cell_type": "code",
   "execution_count": null,
   "metadata": {
    "_uuid": "999a4e2e52f5befb3aab77bd2f114444450a4cb8"
   },
   "outputs": [],
   "source": [
    "# avarage amount plot\n",
    "cate_df = cate_df.sort_values('average_amount',  ascending = False)\n",
    "plt.subplots(figsize = (20,5))\n",
    "sns.set_style(\"whitegrid\")\n",
    "sns.barplot(cate_df['average_amount'].index, y= cate_df['average_amount'] ,\n",
    "            palette=\"Set1\",saturation = 0.5)\n",
    "sns.despine(right = True, top = True)"
   ]
  },
  {
   "cell_type": "code",
   "execution_count": null,
   "metadata": {
    "_uuid": "789fe98114fefe6c194ce53ffb1485f0579caa48"
   },
   "outputs": [],
   "source": [
    "# count plot\n",
    "cate_df = cate_df.sort_values('count',  ascending = False)\n",
    "plt.subplots(figsize = (20,5))\n",
    "sns.set_style(\"whitegrid\")\n",
    "sns.barplot(cate_df['count'].index, y= cate_df['count'] ,\n",
    "            palette=\"Set1\",saturation = 0.5)\n",
    "sns.despine(right = True, top = True)"
   ]
  },
  {
   "cell_type": "code",
   "execution_count": null,
   "metadata": {
    "_uuid": "4d2f803dbd9264f36bc6cdcdf24654ba129fea14"
   },
   "outputs": [],
   "source": [
    "# success rate plot\n",
    "cate_df = cate_df.sort_values('success_rate',  ascending = False)\n",
    "plt.subplots(figsize = (20,5))\n",
    "sns.set_style(\"whitegrid\")\n",
    "sns.barplot(cate_df['success_rate'].index, y= cate_df['success_rate'] ,\n",
    "            palette=\"Set1\",saturation = 0.5)\n",
    "sns.despine(right = True, top = True)"
   ]
  },
  {
   "cell_type": "markdown",
   "metadata": {
    "_uuid": "670e257cbb84aa9d5235d452fa9a77a819eeaf16"
   },
   "source": [
    "## 4. Backers\n",
    "* 4.1 Discover categories that attract most backers\n",
    "* 4.2 The distribution of backers\n",
    "* 4.3 Relationship between backers & pledged amounts"
   ]
  },
  {
   "cell_type": "code",
   "execution_count": null,
   "metadata": {
    "_uuid": "1c5f56b02256fd687654425e3166bbdee9169405"
   },
   "outputs": [],
   "source": [
    "back_cate = {}\n",
    "\n",
    "for category in set(ksdf['main_category']):\n",
    "    backers = ksdf[ksdf['main_category'] == category]['backers'].sum()\n",
    "    back_cate[category] = backers\n",
    "\n",
    "backers = pd.Series(back_cate)\n",
    "cate_df['backers'] = backers"
   ]
  },
  {
   "cell_type": "code",
   "execution_count": null,
   "metadata": {
    "_uuid": "94898489b21cb3bf1cb9d2657c4b4ebcbeb6acfb"
   },
   "outputs": [],
   "source": [
    "cate_df = cate_df.sort_values('backers',  ascending = False)\n",
    "plt.subplots(figsize = (20,5))\n",
    "sns.set_style(\"whitegrid\")\n",
    "sns.barplot(cate_df['backers'].index, y= cate_df['backers'] ,\n",
    "            palette=\"Set1\",saturation = 0.5)\n",
    "sns.despine(right = True, top = True)"
   ]
  },
  {
   "cell_type": "code",
   "execution_count": null,
   "metadata": {
    "_uuid": "2f8e8fc28fa294304dc1c5d4a4708b7c81e52878"
   },
   "outputs": [],
   "source": [
    "ksdf['backers'].quantile(list(np.arange(0,1,0.01))).plot(grid = 0, color = '#055968')"
   ]
  },
  {
   "cell_type": "code",
   "execution_count": null,
   "metadata": {
    "_uuid": "f9d98e8010530a088f87f60fb869724f4603945f"
   },
   "outputs": [],
   "source": [
    "sns.set_style(\"whitegrid\")\n",
    "sns.kdeplot(ksdf['backers'])\n",
    "sns.despine(right = True, top = True)"
   ]
  },
  {
   "cell_type": "markdown",
   "metadata": {
    "_uuid": "600794b481c096b5a6f0f7b2c2cf4613b73ad036",
    "collapsed": true
   },
   "source": [
    "### 5. Modeling\n",
    "* 5.1 Backers & pledged amount - `Linear Regression`\n",
    "    - Use **backers** to predict **usd_pledged_real**\n",
    "    - Retrieve projects that are not zero-pledged\n",
    "    - Model\n",
    "        - Input (X): **backers** (logarithm)\n",
    "        - Output (Y): **usd_pledged_real** (logarithm)\n",
    "        - Loss estimation: mean squared error\n",
    "* 5.2 Project state prediction - `Random Forest`\n",
    "- Data processing\n",
    "    - Encode **state** column to binary:\n",
    "        - successful -> 1\n",
    "        - failed -> 0\n",
    "        - else -> delete\n",
    "    - Concatenate new data set: `ksdf_rf`\n",
    "        - **main_category**\n",
    "        - **time** \n",
    "        - **state**\n",
    "    - Data Split:\n",
    "        - train 70%\n",
    "        - test 30%\n",
    "    - Define X and Y\n",
    "        - X:\n",
    "            - category (one-hot)\n",
    "            -  main_category (one-hot)\n",
    "            - time\n",
    "        - Y:\n",
    "            - success/ failed (1/0)"
   ]
  },
  {
   "cell_type": "code",
   "execution_count": null,
   "metadata": {
    "_uuid": "6d2fb70b77814a971e5d176f6e250b4db4b76d05"
   },
   "outputs": [],
   "source": [
    "# Select not zero-pledged projects\n",
    "non_zero = ksdf[ksdf['usd_pledged_real'] != 0]\n",
    "print (non_zero.shape)"
   ]
  },
  {
   "cell_type": "code",
   "execution_count": null,
   "metadata": {
    "_uuid": "c66fcd9c9ae145c1cacc61babd2a29bdef93c08b"
   },
   "outputs": [],
   "source": [
    "# Define X and Y\n",
    "X = ksdf[ksdf['usd_pledged_real'] != 0]['backers'].values\n",
    "Y = ksdf[ksdf['usd_pledged_real'] != 0]['usd_pledged_real'].values\n",
    "\n",
    "print (X.shape)\n",
    "print (Y.shape)"
   ]
  },
  {
   "cell_type": "code",
   "execution_count": null,
   "metadata": {
    "_uuid": "c7bae2576ad934bb3a4c6f2b0a5cc3a00aedc165"
   },
   "outputs": [],
   "source": [
    "X = X.reshape(326134,1)\n",
    "Y = Y.reshape(326134,1)"
   ]
  },
  {
   "cell_type": "code",
   "execution_count": null,
   "metadata": {
    "_uuid": "e54d4b3f1f2cb97c611922aa7ca297289e780d1c"
   },
   "outputs": [],
   "source": [
    "# Model fitting and visualization\n",
    "regr = linear_model.LinearRegression()\n",
    "regr.fit(np.log(X+1), np.log(Y+1))\n",
    "\n",
    "plt.scatter(np.log(X+1), np.log(Y+1))\n",
    "plt.plot(np.log(X+1), regr.predict(np.log(X+1)), color='red', linewidth=3)\n",
    "plt.show()"
   ]
  },
  {
   "cell_type": "code",
   "execution_count": null,
   "metadata": {
    "_uuid": "f1594d41ca65d8df3c479e6eae4d1ed4e018d826"
   },
   "outputs": [],
   "source": [
    "# Results: error and parameters\n",
    "\n",
    "Y_pred = regr.predict(np.log(X+1))\n",
    "Y_true = np.log(Y+1)\n",
    "\n",
    "print (\"error = \", sklearn.metrics.mean_squared_error(Y_true, Y_pred))\n",
    "print (\"coefficient = \", regr.coef_)\n",
    "print (\"intercept = \", regr.intercept_)"
   ]
  },
  {
   "cell_type": "markdown",
   "metadata": {
    "_uuid": "6b4bc3c936d1b0a675bc29a972ead187e16d8c95"
   },
   "source": [
    "Encode **state** column to binary\n",
    "* successful -> 1\n",
    "* failed -> 0\n",
    "* else -> delete"
   ]
  },
  {
   "cell_type": "code",
   "execution_count": null,
   "metadata": {
    "_uuid": "09e40d1288e1dd96fcd6dc55fb4867dbd28bcdd0"
   },
   "outputs": [],
   "source": [
    "print (ksdf['state'].value_counts())\n",
    "print ('')\n",
    "print (\"ksdf.shape = \", ksdf.shape)"
   ]
  },
  {
   "cell_type": "code",
   "execution_count": null,
   "metadata": {
    "_uuid": "863c3426f24582b7eb9e9566974601d7e1d17b12"
   },
   "outputs": [],
   "source": [
    "def state_change(cell_value):\n",
    "    if cell_value == 'successful':\n",
    "        return 1\n",
    "    \n",
    "    elif cell_value == 'failed':\n",
    "        return 0\n",
    "    \n",
    "    else:\n",
    "        return 'del'"
   ]
  },
  {
   "cell_type": "code",
   "execution_count": null,
   "metadata": {
    "_uuid": "4d9e9eab9d3f691a2441d819f3245c7a687af338"
   },
   "outputs": [],
   "source": [
    "ksdf['state'] = ksdf['state'].apply(state_change)\n",
    "print (ksdf[ksdf['state'] == 1].shape)\n",
    "print (ksdf[ksdf['state'] == 0].shape)\n",
    "print (ksdf[ksdf['state'] == 'del'].shape)\n",
    "print (ksdf[ksdf['state'] == 1].shape[0] + ksdf[ksdf['state'] == 0].shape[0])"
   ]
  },
  {
   "cell_type": "markdown",
   "metadata": {
    "_uuid": "ef8240c0b43174a2a62fab9a60055d42ebd1ead8"
   },
   "source": [
    "Concatenate new DataFrame\n",
    "* **main_category**\n",
    "* **time** \n",
    "* **state**"
   ]
  },
  {
   "cell_type": "code",
   "execution_count": null,
   "metadata": {
    "_uuid": "804d9c0b5ec2b9875346624d9e4461c3e85947e8"
   },
   "outputs": [],
   "source": [
    "ksdf_rf = ksdf.drop(ksdf[ksdf['state'] == 'del'].index)\n",
    "print (ksdf_rf.shape)"
   ]
  },
  {
   "cell_type": "code",
   "execution_count": null,
   "metadata": {
    "_uuid": "5115bc365353201426e1ff087730db7c95496ac4"
   },
   "outputs": [],
   "source": [
    "ksdf_rf = pd.concat([\n",
    "                  ksdf_rf['main_category'],\n",
    "                  ksdf_rf['time'],\n",
    "                  ksdf_rf['state']], axis = 1\n",
    "                 )\n",
    "\n",
    "print (ksdf_rf.shape)"
   ]
  },
  {
   "cell_type": "markdown",
   "metadata": {
    "_uuid": "1838346c43eb8020b145bd4c2b117eb0b097072a"
   },
   "source": [
    "Data Split:\n",
    "* Train: 70%\n",
    "* Test: 30%"
   ]
  },
  {
   "cell_type": "code",
   "execution_count": null,
   "metadata": {
    "_uuid": "74cd9b9d4d30ab3631ee8e1daf5f87fe11a2ca66"
   },
   "outputs": [],
   "source": [
    "train, test = sklearn.model_selection.train_test_split(ksdf_rf, test_size = 0.3, random_state = 42)\n",
    "\n",
    "print (\"Train shape = \", train.shape, \",\", len(train)/ len(ksdf_rf) * 100, \"%\")\n",
    "print (\"Test shape = \", test.shape, \",\", len(test)/ len(ksdf_rf) * 100, \"%\")"
   ]
  },
  {
   "cell_type": "markdown",
   "metadata": {
    "_uuid": "d21479614462afb9d895e7cc468b30e2cfa43a6b"
   },
   "source": [
    "Define X and Y"
   ]
  },
  {
   "cell_type": "code",
   "execution_count": null,
   "metadata": {
    "_uuid": "1c2ecb10e0113f1e84ed598e4f9c0553c6e50aa6"
   },
   "outputs": [],
   "source": [
    "X_train = pd.concat(\n",
    "    [\n",
    "     pd.get_dummies(train['main_category'], prefix = 'main_category'),\n",
    "     train[\"time\"]\n",
    "    ], axis=1)\n",
    "\n",
    "Y_train = train['state']"
   ]
  },
  {
   "cell_type": "code",
   "execution_count": null,
   "metadata": {
    "_uuid": "562f7ccb23ec31f09c2a3301d446de971a576c3e"
   },
   "outputs": [],
   "source": [
    "X_test = pd.concat(\n",
    "    [\n",
    "     pd.get_dummies(test['main_category'], prefix = 'main_category'),\n",
    "     test[\"time\"]\n",
    "    ], axis=1)\n",
    "\n",
    "Y_test = test['state']"
   ]
  },
  {
   "cell_type": "code",
   "execution_count": null,
   "metadata": {
    "_uuid": "c40ed52d2888952ebec103c5f8d29bd27bf64a62"
   },
   "outputs": [],
   "source": [
    "X_train = X_train.astype(int)\n",
    "Y_train = Y_train.astype(int)\n",
    "X_test = X_test.astype(int)\n",
    "Y_test = Y_test.astype(int)\n",
    "\n",
    "print (X_train.shape)\n",
    "print (Y_train.shape)\n",
    "print (X_test.shape)\n",
    "print (Y_test.shape)"
   ]
  },
  {
   "cell_type": "markdown",
   "metadata": {
    "_uuid": "341c5b991adf5c06548979e103255133f9503a66"
   },
   "source": [
    "Random Forest"
   ]
  },
  {
   "cell_type": "code",
   "execution_count": null,
   "metadata": {
    "_uuid": "47c8ac102668bb2bf886305c0684901553a94052"
   },
   "outputs": [],
   "source": [
    "for_record = {\n",
    "    'baseline':{},\n",
    "    'best_random1':{},\n",
    "    'best_random2':{},\n",
    "    'best_random3':{},\n",
    "    'grid1':{},\n",
    "    'grid2':{}\n",
    "}"
   ]
  },
  {
   "cell_type": "code",
   "execution_count": null,
   "metadata": {
    "_uuid": "607e248b6fd7298e9cb3860670419e584b3bd5d1"
   },
   "outputs": [],
   "source": [
    "start = time.time()\n",
    "rf = RandomForestClassifier(random_state = 42)\n",
    "rf.fit(X_train, Y_train)\n",
    "end = time.time()\n",
    "sec = end - start\n",
    "Y_pred = rf.predict(X_train)"
   ]
  },
  {
   "cell_type": "code",
   "execution_count": null,
   "metadata": {
    "_uuid": "0a88ae855c0b8ed5f5bd06cbd910e21db0007ef0"
   },
   "outputs": [],
   "source": [
    "for_record['baseline']['params'] = rf.get_params()\n",
    "for_record['baseline']['time'] = sec\n",
    "for_record['baseline'][\"train_score\"] = rf.score(X_train, Y_train)\n",
    "for_record['baseline']['f1'] = f1_score(Y_train, Y_pred, average = 'weighted')\n",
    "for_record['baseline']['test_score'] = rf.score(X_test, Y_test)"
   ]
  },
  {
   "cell_type": "markdown",
   "metadata": {
    "_uuid": "58b957d6eae30e83bfb1ef757bedc7961652f344"
   },
   "source": [
    "Randomized Search 1"
   ]
  },
  {
   "cell_type": "code",
   "execution_count": null,
   "metadata": {
    "_uuid": "aeb67e4b7ecfd888b4d02ee62ff203f1e4567cdb"
   },
   "outputs": [],
   "source": [
    "# Number of trees in random forest\n",
    "n_estimators = [int(x) for x in range(2, 100, 10)]\n",
    "# Number of features to consider at every split\n",
    "max_features = ['auto', 'sqrt']\n",
    "# Maximum number of levels in tree\n",
    "max_depth = [int(x) for x in range(2,50,10)]\n",
    "# Minimum number of samples required to split a node\n",
    "min_samples_split = [2, 5, 10]\n",
    "# Minimum number of samples required at each leaf node\n",
    "min_samples_leaf = [1, 2, 4]\n",
    "# Method of selecting samples for training each tree\n",
    "bootstrap = [True, False]\n",
    "# Create the random grid\n",
    "param_rand1 = {'n_estimators': n_estimators,\n",
    "               'max_features': max_features,\n",
    "               'max_depth': max_depth,\n",
    "               'min_samples_split': min_samples_split,\n",
    "               'min_samples_leaf': min_samples_leaf,\n",
    "               'bootstrap': bootstrap}\n",
    "\n",
    "# Random search of parameters, using 3 fold cross validation, \n",
    "# search across 100 different combinations, and use all available cores\n",
    "rf_random1 = RandomizedSearchCV(estimator = rf, param_distributions = param_rand1, n_iter = 10, cv = 3, verbose=2, random_state=42, n_jobs = -1)\n",
    "# Fit the random search model\n",
    "rf_random1.fit(X_train, Y_train)\n",
    "\n",
    "# Use best random parameters to train a new model\n",
    "start = time.time()\n",
    "rf_rand1 = RandomForestClassifier(bootstrap = rf_random1.best_params_['bootstrap'],\n",
    "                                 max_depth = rf_random1.best_params_['max_depth'],\n",
    "                                 max_features = rf_random1.best_params_['max_features'],\n",
    "                                 min_samples_leaf = rf_random1.best_params_['min_samples_leaf'],\n",
    "                                 min_samples_split = rf_random1.best_params_['min_samples_split'],\n",
    "                                 n_estimators = rf_random1.best_params_['n_estimators'],\n",
    "                                 random_state = 42, n_jobs = -1)\n",
    "\n",
    "rf_rand1.fit(X_train, Y_train)\n",
    "end = time.time()\n",
    "rand1_time = end - start\n",
    "Y_pred = rf_rand1.predict(X_train)\n",
    "\n",
    "for_record['best_random1']['params'] = rf_rand1.get_params()\n",
    "for_record['best_random1']['time'] = rand1_time\n",
    "for_record['best_random1'][\"train_score\"] = rf_rand1.score(X_train, Y_train)\n",
    "for_record['best_random1']['f1'] = f1_score(Y_train, Y_pred, average = 'weighted')\n",
    "for_record['best_random1']['test_score'] = rf_rand1.score(X_test, Y_test)"
   ]
  },
  {
   "cell_type": "markdown",
   "metadata": {
    "_uuid": "992530584ce57c394a5dfb16fa9d44a68c7d6f8a"
   },
   "source": [
    "Grid Search 1"
   ]
  },
  {
   "cell_type": "code",
   "execution_count": null,
   "metadata": {
    "_uuid": "7cd32bcd050bd9a6ba17138fc1491d462a714885"
   },
   "outputs": [],
   "source": [
    "# # Number of trees in random forest\n",
    "# n_estimators = [int(x) for x in range(55, 65, 2)]\n",
    "# # Number of features to consider at every split\n",
    "# max_features = ['auto', 'sqrt']\n",
    "# # Maximum number of levels in tree\n",
    "# max_depth = [int(x) for x in range(2, 20, 2)]\n",
    "# # Minimum number of samples required to split a node\n",
    "# min_samples_split = [2,5,10]\n",
    "# # Minimum number of samples required at each leaf node\n",
    "# min_samples_leaf = [1,2,4]\n",
    "# # Method of selecting samples for training each tree\n",
    "# bootstrap = [True,False]\n",
    "# # Create the random grid\n",
    "# param_grid1 = {'n_estimators': n_estimators,\n",
    "#                'max_features': max_features,\n",
    "#                'max_depth': max_depth,\n",
    "#                'min_samples_split': min_samples_split,\n",
    "#                'min_samples_leaf': min_samples_leaf,\n",
    "#                'bootstrap': bootstrap}\n",
    "\n",
    "# # Random search of parameters, using 3 fold cross validation, \n",
    "# # search across 100 different combinations, and use all available cores\n",
    "# rf_grid1 = GridSearchCV(estimator = rf, param_grid = param_grid1, cv = 3, verbose=2, n_jobs = -1)\n",
    "# # Fit the random search model\n",
    "# rf_grid1.fit(X_train, Y_train)\n",
    "\n",
    "# # Use best random parameters to train a new model\n",
    "# start = time.time()\n",
    "# rf_grid1 = RandomForestClassifier(bootstrap = rf_grid1.best_params_['bootstrap'],\n",
    "#                                  max_depth = rf_grid1.best_params_['max_depth'],\n",
    "#                                  max_features = rf_grid1.best_params_['max_features'],\n",
    "#                                  min_samples_leaf = rf_grid1.best_params_['min_samples_leaf'],\n",
    "#                                  min_samples_split = rf_grid1.best_params_['min_samples_split'],\n",
    "#                                  n_estimators = rf_grid1.best_params_['n_estimators'],\n",
    "#                                  random_state = 42, n_jobs = -1)\n",
    "\n",
    "# rf_grid1.fit(X_train, Y_train)\n",
    "# end = time.time()\n",
    "# grid1_time = end - start\n",
    "# Y_pred = rf_grid1.predict(X_train)\n",
    "\n",
    "# for_record['grid1']['params'] = rf_grid1.get_params()\n",
    "# for_record['grid1']['time'] = grid1_time\n",
    "# for_record['grid1'][\"train_score\"] = rf_grid1.score(X_train, Y_train)\n",
    "# for_record['grid1']['f1'] = f1_score(Y_train, Y_pred, average = 'weighted')\n",
    "# for_record['grid1']['test_score'] = rf_grid1.score(X_test, Y_test)"
   ]
  },
  {
   "cell_type": "markdown",
   "metadata": {
    "_uuid": "8a8a7d62c27bc9622099242d7003b2e11c81e2e5"
   },
   "source": [
    "Randomized Search 2"
   ]
  },
  {
   "cell_type": "code",
   "execution_count": null,
   "metadata": {
    "_uuid": "7ccf6c1afc69acfd0bf874229be2ebc4649761bd"
   },
   "outputs": [],
   "source": [
    "# Number of trees in random forest\n",
    "n_estimators = [int(x) for x in range(100, 200, 10)]\n",
    "# Number of features to consider at every split\n",
    "max_features = ['auto', 'sqrt']\n",
    "# Maximum number of levels in tree\n",
    "max_depth = [int(x) for x in range(50,100,10)]\n",
    "# Minimum number of samples required to split a node\n",
    "min_samples_split = [2, 5, 10]\n",
    "# Minimum number of samples required at each leaf node\n",
    "min_samples_leaf = [1, 2, 4]\n",
    "# Method of selecting samples for training each tree\n",
    "bootstrap = [True, False]\n",
    "# Create the random grid\n",
    "param_random2 = {'n_estimators': n_estimators,\n",
    "               'max_features': max_features,\n",
    "               'max_depth': max_depth,\n",
    "               'min_samples_split': min_samples_split,\n",
    "               'min_samples_leaf': min_samples_leaf,\n",
    "               'bootstrap': bootstrap}\n",
    "\n",
    "# Random search of parameters, using 3 fold cross validation, \n",
    "# search across 100 different combinations, and use all available cores\n",
    "rf_random2 = RandomizedSearchCV(estimator = rf, param_distributions = param_random2, n_iter = 10, cv = 3, verbose=2, random_state=42, n_jobs = -1)\n",
    "# Fit the random search model\n",
    "rf_random2.fit(X_train, Y_train)\n",
    "\n",
    "# Use best random parameters to train a new model\n",
    "start = time.time()\n",
    "rf_rand2 = RandomForestClassifier(bootstrap = rf_random2.best_params_['bootstrap'],\n",
    "                                 max_depth = rf_random2.best_params_['max_depth'],\n",
    "                                 max_features = rf_random2.best_params_['max_features'],\n",
    "                                 min_samples_leaf = rf_random2.best_params_['min_samples_leaf'],\n",
    "                                 min_samples_split = rf_random2.best_params_['min_samples_split'],\n",
    "                                 n_estimators = rf_random2.best_params_['n_estimators'],\n",
    "                                 random_state = 42, n_jobs = -1)\n",
    "\n",
    "rf_rand2.fit(X_train, Y_train)\n",
    "end = time.time()\n",
    "rand2_time = end - start\n",
    "Y_pred = rf_rand2.predict(X_train)\n",
    "for_record['best_random2']['params'] = rf_rand2.get_params()\n",
    "for_record['best_random2']['time'] = rand2_time\n",
    "for_record['best_random2'][\"train_score\"] = rf_rand2.score(X_train, Y_train)\n",
    "for_record['best_random2']['f1'] = f1_score(Y_train, Y_pred, average = 'weighted')\n",
    "for_record['best_random2']['test_score'] = rf_rand2.score(X_test, Y_test)"
   ]
  },
  {
   "cell_type": "markdown",
   "metadata": {
    "_uuid": "a61aa768c4f2627528df2cc4afe55ba9860981cb"
   },
   "source": [
    "Grid Search 2"
   ]
  },
  {
   "cell_type": "code",
   "execution_count": null,
   "metadata": {
    "_uuid": "e5a870633c6e993890447f6062355a06850bd814"
   },
   "outputs": [],
   "source": [
    "# # Number of trees in random forest\n",
    "# n_estimators = [int(x) for x in range(100, 150, 2)]\n",
    "# # Number of features to consider at every split\n",
    "# max_features = 'auto'\n",
    "# # Maximum number of levels in tree\n",
    "# max_depth = [int(x) for x in range(2, 20, 2)]\n",
    "# # Minimum number of samples required to split a node\n",
    "# min_samples_split = 5\n",
    "# # Minimum number of samples required at each leaf node\n",
    "# min_samples_leaf = 2\n",
    "# # Method of selecting samples for training each tree\n",
    "# bootstrap = False\n",
    "# # Create the random grid\n",
    "# param_grid1 = {'n_estimators': n_estimators,\n",
    "#                'max_features': max_features,\n",
    "#                'max_depth': max_depth,\n",
    "#                'min_samples_split': min_samples_split,\n",
    "#                'min_samples_leaf': min_samples_leaf,\n",
    "#                'bootstrap': bootstrap}"
   ]
  },
  {
   "cell_type": "markdown",
   "metadata": {
    "_uuid": "e169c61205bfa0d8b45bbde02fc7bccd55f4944d",
    "collapsed": true
   },
   "source": [
    "Randomized Search 3"
   ]
  },
  {
   "cell_type": "code",
   "execution_count": null,
   "metadata": {
    "_uuid": "1e403a3a0c417385fc447a2028cf21de1aa858d9"
   },
   "outputs": [],
   "source": [
    "# Number of trees in random forest\n",
    "n_estimators = [int(x) for x in range(201, 300, 10)]\n",
    "# Number of features to consider at every split\n",
    "max_features = ['auto', 'sqrt']\n",
    "# Maximum number of levels in tree\n",
    "max_depth = [int(x) for x in range(100,150,10)]\n",
    "# Minimum number of samples required to split a node\n",
    "min_samples_split = [2, 5, 10]\n",
    "# Minimum number of samples required at each leaf node\n",
    "min_samples_leaf = [1, 2, 4]\n",
    "# Method of selecting samples for training each tree\n",
    "bootstrap = [True, False]\n",
    "# Create the random grid\n",
    "param_random3 = {'n_estimators': n_estimators,\n",
    "               'max_features': max_features,\n",
    "               'max_depth': max_depth,\n",
    "               'min_samples_split': min_samples_split,\n",
    "               'min_samples_leaf': min_samples_leaf,\n",
    "               'bootstrap': bootstrap}\n",
    "\n",
    "# Random search of parameters, using 3 fold cross validation, \n",
    "# search across 100 different combinations, and use all available cores\n",
    "rf_random3 = RandomizedSearchCV(estimator = rf, param_distributions = param_random3, n_iter = 10, cv = 3, verbose=2, random_state=42, n_jobs = -1)\n",
    "# Fit the random search model\n",
    "rf_random3.fit(X_train, Y_train)\n",
    "\n",
    "# Use best random parameters to train a new model\n",
    "start = time.time()\n",
    "rf_rand3 = RandomForestClassifier(bootstrap = rf_random3.best_params_['bootstrap'],\n",
    "                                 max_depth = rf_random3.best_params_['max_depth'],\n",
    "                                 max_features = rf_random3.best_params_['max_features'],\n",
    "                                 min_samples_leaf = rf_random3.best_params_['min_samples_leaf'],\n",
    "                                 min_samples_split = rf_random3.best_params_['min_samples_split'],\n",
    "                                 n_estimators = rf_random3.best_params_['n_estimators'],\n",
    "                                 random_state = 42, n_jobs = -1)\n",
    "\n",
    "rf_rand3.fit(X_train, Y_train)\n",
    "end = time.time()\n",
    "rand3_time = end - start\n",
    "Y_pred = rf_rand3.predict(X_train)\n",
    "for_record['best_random3']['params'] = rf_rand3.get_params()\n",
    "for_record['best_random3']['time'] = rand3_time\n",
    "for_record['best_random3'][\"train_score\"] = rf_rand3.score(X_train, Y_train)\n",
    "for_record['best_random3']['f1'] = f1_score(Y_train, Y_pred, average = 'weighted')\n",
    "for_record['best_random3']['test_score'] = rf_rand3.score(X_test, Y_test)"
   ]
  },
  {
   "cell_type": "code",
   "execution_count": null,
   "metadata": {
    "_uuid": "b7afeec86ecee3290f86d52235dc98b43d88f5dd"
   },
   "outputs": [],
   "source": [
    "print (for_record['best_random1']['test_score'])\n",
    "print (for_record['best_random2']['test_score'])\n",
    "print (for_record['best_random3']['test_score'])"
   ]
  },
  {
   "cell_type": "code",
   "execution_count": null,
   "metadata": {
    "_uuid": "821c67c17281644801969ac2898552dafbc01117"
   },
   "outputs": [],
   "source": []
  }
 ],
 "metadata": {
  "kernelspec": {
   "display_name": "Python 3",
   "language": "python",
   "name": "python3"
  },
  "language_info": {
   "codemirror_mode": {
    "name": "ipython",
    "version": 3
   },
   "file_extension": ".py",
   "mimetype": "text/x-python",
   "name": "python",
   "nbconvert_exporter": "python",
   "pygments_lexer": "ipython3",
   "version": "3.7.9"
  },
  "toc": {
   "base_numbering": 1,
   "nav_menu": {},
   "number_sections": true,
   "sideBar": true,
   "skip_h1_title": false,
   "title_cell": "Table of Contents",
   "title_sidebar": "Contents",
   "toc_cell": false,
   "toc_position": {},
   "toc_section_display": true,
   "toc_window_display": false
  }
 },
 "nbformat": 4,
 "nbformat_minor": 1
}
