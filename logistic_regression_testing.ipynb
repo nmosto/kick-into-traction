{
 "cells": [
  {
   "cell_type": "code",
   "execution_count": 1,
   "metadata": {},
   "outputs": [],
   "source": [
    "import seaborn as sns"
   ]
  },
  {
   "cell_type": "code",
   "execution_count": 50,
   "metadata": {
    "_cell_guid": "b1076dfc-b9ad-4769-8c92-a6c4dae69d19",
    "_uuid": "8f2839f25d086af736a60e9eeb907d3b93b6e0e5"
   },
   "outputs": [],
   "source": [
    "import matplotlib.pyplot as plt\n",
    "%matplotlib inline\n",
    "import numpy as np\n",
    "import pandas as pd\n",
    "import seaborn as sns\n",
    "import sklearn\n",
    "from sklearn import linear_model\n",
    "from sklearn.ensemble import RandomForestClassifier\n",
    "from sklearn.metrics import f1_score\n",
    "from sklearn.model_selection import RandomizedSearchCV \n",
    "from sklearn.model_selection import GridSearchCV\n",
    "from sklearn.linear_model import LogisticRegression\n",
    "from sklearn.preprocessing import StandardScaler\n",
    "import squarify\n",
    "import time\n",
    "import os\n",
    "from PIL import Image, ImageDraw\n",
    "import imgkit\n",
    "import joblib"
   ]
  },
  {
   "cell_type": "markdown",
   "metadata": {
    "_uuid": "974c218f0fc80b002d6dbcbc224b7e97d1eaaf59"
   },
   "source": [
    "--------"
   ]
  },
  {
   "cell_type": "markdown",
   "metadata": {
    "_uuid": "3318fa3b6a265ee6e5e8f9ee4e57112cb0cdf17d"
   },
   "source": [
    "## 1. General"
   ]
  },
  {
   "cell_type": "markdown",
   "metadata": {
    "_uuid": "a6196595a8f1fdb7c2ade352c9ba926d66dc3027"
   },
   "source": [
    "#### 1.1 Handling weird values\n",
    "- Check decriptive statistics\n",
    "- Check missing values"
   ]
  },
  {
   "cell_type": "code",
   "execution_count": 7,
   "metadata": {},
   "outputs": [],
   "source": [
    "features_table = '/home/mosto/Documents/insight/kickstarter-project/features_with_state_1.pkl'"
   ]
  },
  {
   "cell_type": "code",
   "execution_count": 8,
   "metadata": {},
   "outputs": [],
   "source": [
    "# Load table containing processed image features data\n",
    "features = joblib.load(features_table)"
   ]
  },
  {
   "cell_type": "code",
   "execution_count": null,
   "metadata": {},
   "outputs": [],
   "source": [
    "#Drop the states = 2"
   ]
  },
  {
   "cell_type": "code",
   "execution_count": 23,
   "metadata": {
    "_uuid": "624b5d9082c8f506f00803c45bb3e0310e1da097"
   },
   "outputs": [],
   "source": [
    "ksdf = features[features.state !=2]"
   ]
  },
  {
   "cell_type": "code",
   "execution_count": null,
   "metadata": {},
   "outputs": [],
   "source": []
  },
  {
   "cell_type": "code",
   "execution_count": 24,
   "metadata": {
    "_uuid": "beaecdd7a3f0c3d2c046d76d86dd4eeeeb4aae8b",
    "scrolled": true
   },
   "outputs": [
    {
     "data": {
      "text/html": [
       "<div>\n",
       "<style scoped>\n",
       "    .dataframe tbody tr th:only-of-type {\n",
       "        vertical-align: middle;\n",
       "    }\n",
       "\n",
       "    .dataframe tbody tr th {\n",
       "        vertical-align: top;\n",
       "    }\n",
       "\n",
       "    .dataframe thead th {\n",
       "        text-align: right;\n",
       "    }\n",
       "</style>\n",
       "<table border=\"1\" class=\"dataframe\">\n",
       "  <thead>\n",
       "    <tr style=\"text-align: right;\">\n",
       "      <th></th>\n",
       "      <th>image</th>\n",
       "      <th>dullness</th>\n",
       "      <th>brightness</th>\n",
       "      <th>average_pixel_width</th>\n",
       "      <th>average_red</th>\n",
       "      <th>average_green</th>\n",
       "      <th>average_blue</th>\n",
       "      <th>image_size</th>\n",
       "      <th>width</th>\n",
       "      <th>height</th>\n",
       "      <th>blurrness</th>\n",
       "      <th>state</th>\n",
       "      <th>pledged</th>\n",
       "      <th>goal</th>\n",
       "      <th>backers</th>\n",
       "      <th>staff_pick</th>\n",
       "      <th>launched_at</th>\n",
       "      <th>deadline</th>\n",
       "      <th>pledged_ratio</th>\n",
       "    </tr>\n",
       "  </thead>\n",
       "  <tbody>\n",
       "    <tr>\n",
       "      <th>count</th>\n",
       "      <td>4827.000000</td>\n",
       "      <td>4816.000000</td>\n",
       "      <td>4816.000000</td>\n",
       "      <td>4827.000000</td>\n",
       "      <td>4827.000000</td>\n",
       "      <td>4827.000000</td>\n",
       "      <td>4827.000000</td>\n",
       "      <td>4.827000e+03</td>\n",
       "      <td>4827.000000</td>\n",
       "      <td>4827.000000</td>\n",
       "      <td>4827.000000</td>\n",
       "      <td>4827.000000</td>\n",
       "      <td>4.827000e+03</td>\n",
       "      <td>4.827000e+03</td>\n",
       "      <td>4.827000e+03</td>\n",
       "      <td>4820.000000</td>\n",
       "      <td>4.820000e+03</td>\n",
       "      <td>4.820000e+03</td>\n",
       "      <td>4827.000000</td>\n",
       "    </tr>\n",
       "    <tr>\n",
       "      <th>mean</th>\n",
       "      <td>103433.787238</td>\n",
       "      <td>23.442498</td>\n",
       "      <td>23.015813</td>\n",
       "      <td>2.638360</td>\n",
       "      <td>0.453060</td>\n",
       "      <td>0.477974</td>\n",
       "      <td>0.512464</td>\n",
       "      <td>3.517488e+05</td>\n",
       "      <td>1309.180236</td>\n",
       "      <td>741.166563</td>\n",
       "      <td>714.369429</td>\n",
       "      <td>0.595608</td>\n",
       "      <td>1.455470e+04</td>\n",
       "      <td>3.383846e+04</td>\n",
       "      <td>3.383846e+04</td>\n",
       "      <td>0.139627</td>\n",
       "      <td>1.468026e+09</td>\n",
       "      <td>1.470861e+09</td>\n",
       "      <td>8.555094</td>\n",
       "    </tr>\n",
       "    <tr>\n",
       "      <th>std</th>\n",
       "      <td>59965.465613</td>\n",
       "      <td>32.563777</td>\n",
       "      <td>32.429927</td>\n",
       "      <td>1.606658</td>\n",
       "      <td>0.227695</td>\n",
       "      <td>0.221191</td>\n",
       "      <td>0.222770</td>\n",
       "      <td>4.421389e+05</td>\n",
       "      <td>281.728492</td>\n",
       "      <td>154.304015</td>\n",
       "      <td>1302.080146</td>\n",
       "      <td>0.490825</td>\n",
       "      <td>8.031302e+04</td>\n",
       "      <td>5.176305e+05</td>\n",
       "      <td>5.176305e+05</td>\n",
       "      <td>0.346635</td>\n",
       "      <td>7.505398e+07</td>\n",
       "      <td>7.501499e+07</td>\n",
       "      <td>344.949066</td>\n",
       "    </tr>\n",
       "    <tr>\n",
       "      <th>min</th>\n",
       "      <td>36.000000</td>\n",
       "      <td>0.000000</td>\n",
       "      <td>0.000000</td>\n",
       "      <td>0.000000</td>\n",
       "      <td>0.000000</td>\n",
       "      <td>0.000000</td>\n",
       "      <td>0.000000</td>\n",
       "      <td>5.266000e+03</td>\n",
       "      <td>218.000000</td>\n",
       "      <td>218.000000</td>\n",
       "      <td>0.000000</td>\n",
       "      <td>0.000000</td>\n",
       "      <td>0.000000e+00</td>\n",
       "      <td>1.000000e+00</td>\n",
       "      <td>1.000000e+00</td>\n",
       "      <td>0.000000</td>\n",
       "      <td>1.247411e+09</td>\n",
       "      <td>1.250222e+09</td>\n",
       "      <td>0.000000</td>\n",
       "    </tr>\n",
       "    <tr>\n",
       "      <th>25%</th>\n",
       "      <td>51426.000000</td>\n",
       "      <td>0.000000</td>\n",
       "      <td>0.000000</td>\n",
       "      <td>1.415988</td>\n",
       "      <td>0.280990</td>\n",
       "      <td>0.317072</td>\n",
       "      <td>0.351952</td>\n",
       "      <td>1.207725e+05</td>\n",
       "      <td>1024.000000</td>\n",
       "      <td>576.000000</td>\n",
       "      <td>94.209451</td>\n",
       "      <td>0.000000</td>\n",
       "      <td>1.310000e+02</td>\n",
       "      <td>1.525000e+03</td>\n",
       "      <td>1.525000e+03</td>\n",
       "      <td>0.000000</td>\n",
       "      <td>1.413881e+09</td>\n",
       "      <td>1.416594e+09</td>\n",
       "      <td>0.027875</td>\n",
       "    </tr>\n",
       "    <tr>\n",
       "      <th>50%</th>\n",
       "      <td>102982.000000</td>\n",
       "      <td>3.512500</td>\n",
       "      <td>3.082500</td>\n",
       "      <td>2.360919</td>\n",
       "      <td>0.431062</td>\n",
       "      <td>0.465169</td>\n",
       "      <td>0.508067</td>\n",
       "      <td>2.020430e+05</td>\n",
       "      <td>1552.000000</td>\n",
       "      <td>873.000000</td>\n",
       "      <td>299.696610</td>\n",
       "      <td>1.000000</td>\n",
       "      <td>1.910000e+03</td>\n",
       "      <td>5.000000e+03</td>\n",
       "      <td>5.000000e+03</td>\n",
       "      <td>0.000000</td>\n",
       "      <td>1.462789e+09</td>\n",
       "      <td>1.465805e+09</td>\n",
       "      <td>1.025412</td>\n",
       "    </tr>\n",
       "    <tr>\n",
       "      <th>75%</th>\n",
       "      <td>155382.500000</td>\n",
       "      <td>42.600000</td>\n",
       "      <td>39.797500</td>\n",
       "      <td>3.558059</td>\n",
       "      <td>0.612346</td>\n",
       "      <td>0.631576</td>\n",
       "      <td>0.670090</td>\n",
       "      <td>3.459480e+05</td>\n",
       "      <td>1552.000000</td>\n",
       "      <td>873.000000</td>\n",
       "      <td>797.060621</td>\n",
       "      <td>1.000000</td>\n",
       "      <td>7.807000e+03</td>\n",
       "      <td>1.400000e+04</td>\n",
       "      <td>1.400000e+04</td>\n",
       "      <td>0.000000</td>\n",
       "      <td>1.531783e+09</td>\n",
       "      <td>1.534456e+09</td>\n",
       "      <td>1.267000</td>\n",
       "    </tr>\n",
       "    <tr>\n",
       "      <th>max</th>\n",
       "      <td>207963.000000</td>\n",
       "      <td>100.000000</td>\n",
       "      <td>100.000000</td>\n",
       "      <td>11.160414</td>\n",
       "      <td>1.000000</td>\n",
       "      <td>1.000000</td>\n",
       "      <td>1.000000</td>\n",
       "      <td>3.561173e+06</td>\n",
       "      <td>1552.000000</td>\n",
       "      <td>1176.000000</td>\n",
       "      <td>28280.366870</td>\n",
       "      <td>1.000000</td>\n",
       "      <td>2.966439e+06</td>\n",
       "      <td>3.000000e+07</td>\n",
       "      <td>3.000000e+07</td>\n",
       "      <td>1.000000</td>\n",
       "      <td>1.596225e+09</td>\n",
       "      <td>1.597274e+09</td>\n",
       "      <td>23036.067000</td>\n",
       "    </tr>\n",
       "  </tbody>\n",
       "</table>\n",
       "</div>"
      ],
      "text/plain": [
       "               image     dullness   brightness  average_pixel_width  \\\n",
       "count    4827.000000  4816.000000  4816.000000          4827.000000   \n",
       "mean   103433.787238    23.442498    23.015813             2.638360   \n",
       "std     59965.465613    32.563777    32.429927             1.606658   \n",
       "min        36.000000     0.000000     0.000000             0.000000   \n",
       "25%     51426.000000     0.000000     0.000000             1.415988   \n",
       "50%    102982.000000     3.512500     3.082500             2.360919   \n",
       "75%    155382.500000    42.600000    39.797500             3.558059   \n",
       "max    207963.000000   100.000000   100.000000            11.160414   \n",
       "\n",
       "       average_red  average_green  average_blue    image_size        width  \\\n",
       "count  4827.000000    4827.000000   4827.000000  4.827000e+03  4827.000000   \n",
       "mean      0.453060       0.477974      0.512464  3.517488e+05  1309.180236   \n",
       "std       0.227695       0.221191      0.222770  4.421389e+05   281.728492   \n",
       "min       0.000000       0.000000      0.000000  5.266000e+03   218.000000   \n",
       "25%       0.280990       0.317072      0.351952  1.207725e+05  1024.000000   \n",
       "50%       0.431062       0.465169      0.508067  2.020430e+05  1552.000000   \n",
       "75%       0.612346       0.631576      0.670090  3.459480e+05  1552.000000   \n",
       "max       1.000000       1.000000      1.000000  3.561173e+06  1552.000000   \n",
       "\n",
       "            height     blurrness        state       pledged          goal  \\\n",
       "count  4827.000000   4827.000000  4827.000000  4.827000e+03  4.827000e+03   \n",
       "mean    741.166563    714.369429     0.595608  1.455470e+04  3.383846e+04   \n",
       "std     154.304015   1302.080146     0.490825  8.031302e+04  5.176305e+05   \n",
       "min     218.000000      0.000000     0.000000  0.000000e+00  1.000000e+00   \n",
       "25%     576.000000     94.209451     0.000000  1.310000e+02  1.525000e+03   \n",
       "50%     873.000000    299.696610     1.000000  1.910000e+03  5.000000e+03   \n",
       "75%     873.000000    797.060621     1.000000  7.807000e+03  1.400000e+04   \n",
       "max    1176.000000  28280.366870     1.000000  2.966439e+06  3.000000e+07   \n",
       "\n",
       "            backers   staff_pick   launched_at      deadline  pledged_ratio  \n",
       "count  4.827000e+03  4820.000000  4.820000e+03  4.820000e+03    4827.000000  \n",
       "mean   3.383846e+04     0.139627  1.468026e+09  1.470861e+09       8.555094  \n",
       "std    5.176305e+05     0.346635  7.505398e+07  7.501499e+07     344.949066  \n",
       "min    1.000000e+00     0.000000  1.247411e+09  1.250222e+09       0.000000  \n",
       "25%    1.525000e+03     0.000000  1.413881e+09  1.416594e+09       0.027875  \n",
       "50%    5.000000e+03     0.000000  1.462789e+09  1.465805e+09       1.025412  \n",
       "75%    1.400000e+04     0.000000  1.531783e+09  1.534456e+09       1.267000  \n",
       "max    3.000000e+07     1.000000  1.596225e+09  1.597274e+09   23036.067000  "
      ]
     },
     "execution_count": 24,
     "metadata": {},
     "output_type": "execute_result"
    }
   ],
   "source": [
    "ksdf.describe()"
   ]
  },
  {
   "cell_type": "code",
   "execution_count": 25,
   "metadata": {},
   "outputs": [
    {
     "name": "stdout",
     "output_type": "stream",
     "text": [
      "<class 'pandas.core.frame.DataFrame'>\n",
      "Int64Index: 4827 entries, 0 to 4928\n",
      "Data columns (total 22 columns):\n",
      " #   Column               Non-Null Count  Dtype  \n",
      "---  ------               --------------  -----  \n",
      " 0   image                4827 non-null   int64  \n",
      " 1   dullness             4816 non-null   float64\n",
      " 2   brightness           4816 non-null   float64\n",
      " 3   average_pixel_width  4827 non-null   float64\n",
      " 4   average_color        4827 non-null   object \n",
      " 5   average_red          4827 non-null   float64\n",
      " 6   average_green        4827 non-null   float64\n",
      " 7   average_blue         4827 non-null   float64\n",
      " 8   image_size           4827 non-null   int64  \n",
      " 9   temp_size            4827 non-null   object \n",
      " 10  width                4827 non-null   int64  \n",
      " 11  height               4827 non-null   int64  \n",
      " 12  blurrness            4827 non-null   float64\n",
      " 13  state                4827 non-null   int64  \n",
      " 14  pledged              4827 non-null   float64\n",
      " 15  goal                 4827 non-null   float64\n",
      " 16  backers              4827 non-null   float64\n",
      " 17  staff_pick           4820 non-null   float64\n",
      " 18  launched_at          4820 non-null   float64\n",
      " 19  deadline             4820 non-null   float64\n",
      " 20  category             4827 non-null   object \n",
      " 21  pledged_ratio        4827 non-null   float64\n",
      "dtypes: float64(14), int64(5), object(3)\n",
      "memory usage: 867.4+ KB\n"
     ]
    }
   ],
   "source": [
    "ksdf.info()"
   ]
  },
  {
   "cell_type": "code",
   "execution_count": null,
   "metadata": {},
   "outputs": [],
   "source": []
  },
  {
   "cell_type": "code",
   "execution_count": 13,
   "metadata": {},
   "outputs": [],
   "source": [
    "import pandas as pd\n",
    "from sklearn.compose import make_column_transformer\n",
    "from sklearn.preprocessing import OneHotEncoder\n",
    "from sklearn.linear_model import LogisticRegression\n",
    "from sklearn.pipeline import make_pipeline\n",
    "from sklearn.model_selection import cross_val_score"
   ]
  },
  {
   "cell_type": "code",
   "execution_count": 41,
   "metadata": {},
   "outputs": [],
   "source": [
    "#Remove rows with null values\n",
    "df = ksdf\n",
    "df = df.dropna(how='any',axis=0)"
   ]
  },
  {
   "cell_type": "code",
   "execution_count": null,
   "metadata": {},
   "outputs": [],
   "source": []
  },
  {
   "cell_type": "code",
   "execution_count": 52,
   "metadata": {},
   "outputs": [],
   "source": [
    "# Add columns: pledged_ratio, aspect ratio\n",
    "df['pledged_ratio'] = df['pledged']/ df['goal']\n",
    "df['aspect_ratio'] = df['width']/ df['height']"
   ]
  },
  {
   "cell_type": "code",
   "execution_count": 55,
   "metadata": {},
   "outputs": [],
   "source": [
    "X = df.loc[:,['dullness','brightness','average_pixel_width','average_red','average_green','average_blue','image_size','width','height','blurrness','aspect_ratio']]\n",
    "y = df.state"
   ]
  },
  {
   "cell_type": "code",
   "execution_count": 56,
   "metadata": {},
   "outputs": [
    {
     "name": "stdout",
     "output_type": "stream",
     "text": [
      "(4809, 11)\n",
      "(4809,)\n"
     ]
    }
   ],
   "source": [
    "print(X.shape)\n",
    "print(y.shape)"
   ]
  },
  {
   "cell_type": "code",
   "execution_count": 57,
   "metadata": {},
   "outputs": [
    {
     "data": {
      "text/html": [
       "<div>\n",
       "<style scoped>\n",
       "    .dataframe tbody tr th:only-of-type {\n",
       "        vertical-align: middle;\n",
       "    }\n",
       "\n",
       "    .dataframe tbody tr th {\n",
       "        vertical-align: top;\n",
       "    }\n",
       "\n",
       "    .dataframe thead th {\n",
       "        text-align: right;\n",
       "    }\n",
       "</style>\n",
       "<table border=\"1\" class=\"dataframe\">\n",
       "  <thead>\n",
       "    <tr style=\"text-align: right;\">\n",
       "      <th></th>\n",
       "      <th>image</th>\n",
       "      <th>dullness</th>\n",
       "      <th>brightness</th>\n",
       "      <th>average_pixel_width</th>\n",
       "      <th>average_color</th>\n",
       "      <th>average_red</th>\n",
       "      <th>average_green</th>\n",
       "      <th>average_blue</th>\n",
       "      <th>image_size</th>\n",
       "      <th>temp_size</th>\n",
       "      <th>...</th>\n",
       "      <th>blurrness</th>\n",
       "      <th>state</th>\n",
       "      <th>pledged</th>\n",
       "      <th>goal</th>\n",
       "      <th>backers</th>\n",
       "      <th>staff_pick</th>\n",
       "      <th>launched_at</th>\n",
       "      <th>deadline</th>\n",
       "      <th>category</th>\n",
       "      <th>pledged_ratio</th>\n",
       "    </tr>\n",
       "  </thead>\n",
       "  <tbody>\n",
       "    <tr>\n",
       "      <th>0</th>\n",
       "      <td>94899</td>\n",
       "      <td>0.00</td>\n",
       "      <td>60.88</td>\n",
       "      <td>0.768534</td>\n",
       "      <td>[240.86637708875867, 212.18375311957465, 138.9...</td>\n",
       "      <td>0.944574</td>\n",
       "      <td>0.832093</td>\n",
       "      <td>0.545000</td>\n",
       "      <td>39944</td>\n",
       "      <td>(1024, 576)</td>\n",
       "      <td>...</td>\n",
       "      <td>166.027659</td>\n",
       "      <td>0</td>\n",
       "      <td>60.00</td>\n",
       "      <td>5000.0</td>\n",
       "      <td>5000.0</td>\n",
       "      <td>0.0</td>\n",
       "      <td>1.302576e+09</td>\n",
       "      <td>1.306464e+09</td>\n",
       "      <td>Graphic Design</td>\n",
       "      <td>0.012000</td>\n",
       "    </tr>\n",
       "    <tr>\n",
       "      <th>1</th>\n",
       "      <td>162481</td>\n",
       "      <td>0.00</td>\n",
       "      <td>0.00</td>\n",
       "      <td>5.192227</td>\n",
       "      <td>[118.4811774359809, 128.5906219482422, 125.515...</td>\n",
       "      <td>0.464632</td>\n",
       "      <td>0.504277</td>\n",
       "      <td>0.492219</td>\n",
       "      <td>165701</td>\n",
       "      <td>(1024, 576)</td>\n",
       "      <td>...</td>\n",
       "      <td>791.188786</td>\n",
       "      <td>0</td>\n",
       "      <td>326.00</td>\n",
       "      <td>1000.0</td>\n",
       "      <td>1000.0</td>\n",
       "      <td>0.0</td>\n",
       "      <td>1.303708e+09</td>\n",
       "      <td>1.306300e+09</td>\n",
       "      <td>Electronic Music</td>\n",
       "      <td>0.326000</td>\n",
       "    </tr>\n",
       "    <tr>\n",
       "      <th>2</th>\n",
       "      <td>201573</td>\n",
       "      <td>0.00</td>\n",
       "      <td>0.00</td>\n",
       "      <td>5.105082</td>\n",
       "      <td>[102.67853122287326, 92.08284335666232, 180.79...</td>\n",
       "      <td>0.402661</td>\n",
       "      <td>0.361109</td>\n",
       "      <td>0.708983</td>\n",
       "      <td>140637</td>\n",
       "      <td>(1024, 576)</td>\n",
       "      <td>...</td>\n",
       "      <td>196.583446</td>\n",
       "      <td>0</td>\n",
       "      <td>215.00</td>\n",
       "      <td>500.0</td>\n",
       "      <td>500.0</td>\n",
       "      <td>0.0</td>\n",
       "      <td>1.578081e+09</td>\n",
       "      <td>1.580612e+09</td>\n",
       "      <td>Crochet</td>\n",
       "      <td>0.430000</td>\n",
       "    </tr>\n",
       "    <tr>\n",
       "      <th>3</th>\n",
       "      <td>159292</td>\n",
       "      <td>0.00</td>\n",
       "      <td>0.00</td>\n",
       "      <td>2.721759</td>\n",
       "      <td>[75.76579604633861, 110.38401914242864, 143.18...</td>\n",
       "      <td>0.297121</td>\n",
       "      <td>0.432879</td>\n",
       "      <td>0.561527</td>\n",
       "      <td>250948</td>\n",
       "      <td>(1552, 873)</td>\n",
       "      <td>...</td>\n",
       "      <td>24.676342</td>\n",
       "      <td>1</td>\n",
       "      <td>407.01</td>\n",
       "      <td>300.0</td>\n",
       "      <td>300.0</td>\n",
       "      <td>0.0</td>\n",
       "      <td>1.311861e+09</td>\n",
       "      <td>1.313108e+09</td>\n",
       "      <td>Conceptual Art</td>\n",
       "      <td>1.356700</td>\n",
       "    </tr>\n",
       "    <tr>\n",
       "      <th>4</th>\n",
       "      <td>68557</td>\n",
       "      <td>7.93</td>\n",
       "      <td>0.00</td>\n",
       "      <td>0.367261</td>\n",
       "      <td>[89.36553211464201, 97.02202309254733, 109.570...</td>\n",
       "      <td>0.350453</td>\n",
       "      <td>0.380479</td>\n",
       "      <td>0.429687</td>\n",
       "      <td>963059</td>\n",
       "      <td>(1552, 873)</td>\n",
       "      <td>...</td>\n",
       "      <td>2.093685</td>\n",
       "      <td>1</td>\n",
       "      <td>14041.00</td>\n",
       "      <td>12000.0</td>\n",
       "      <td>12000.0</td>\n",
       "      <td>1.0</td>\n",
       "      <td>1.401988e+09</td>\n",
       "      <td>1.405099e+09</td>\n",
       "      <td>World Music</td>\n",
       "      <td>1.170083</td>\n",
       "    </tr>\n",
       "  </tbody>\n",
       "</table>\n",
       "<p>5 rows × 22 columns</p>\n",
       "</div>"
      ],
      "text/plain": [
       "    image  dullness  brightness  average_pixel_width  \\\n",
       "0   94899      0.00       60.88             0.768534   \n",
       "1  162481      0.00        0.00             5.192227   \n",
       "2  201573      0.00        0.00             5.105082   \n",
       "3  159292      0.00        0.00             2.721759   \n",
       "4   68557      7.93        0.00             0.367261   \n",
       "\n",
       "                                       average_color  average_red  \\\n",
       "0  [240.86637708875867, 212.18375311957465, 138.9...     0.944574   \n",
       "1  [118.4811774359809, 128.5906219482422, 125.515...     0.464632   \n",
       "2  [102.67853122287326, 92.08284335666232, 180.79...     0.402661   \n",
       "3  [75.76579604633861, 110.38401914242864, 143.18...     0.297121   \n",
       "4  [89.36553211464201, 97.02202309254733, 109.570...     0.350453   \n",
       "\n",
       "   average_green  average_blue  image_size    temp_size  ...   blurrness  \\\n",
       "0       0.832093      0.545000       39944  (1024, 576)  ...  166.027659   \n",
       "1       0.504277      0.492219      165701  (1024, 576)  ...  791.188786   \n",
       "2       0.361109      0.708983      140637  (1024, 576)  ...  196.583446   \n",
       "3       0.432879      0.561527      250948  (1552, 873)  ...   24.676342   \n",
       "4       0.380479      0.429687      963059  (1552, 873)  ...    2.093685   \n",
       "\n",
       "   state   pledged     goal  backers  staff_pick   launched_at      deadline  \\\n",
       "0      0     60.00   5000.0   5000.0         0.0  1.302576e+09  1.306464e+09   \n",
       "1      0    326.00   1000.0   1000.0         0.0  1.303708e+09  1.306300e+09   \n",
       "2      0    215.00    500.0    500.0         0.0  1.578081e+09  1.580612e+09   \n",
       "3      1    407.01    300.0    300.0         0.0  1.311861e+09  1.313108e+09   \n",
       "4      1  14041.00  12000.0  12000.0         1.0  1.401988e+09  1.405099e+09   \n",
       "\n",
       "           category  pledged_ratio  \n",
       "0    Graphic Design       0.012000  \n",
       "1  Electronic Music       0.326000  \n",
       "2           Crochet       0.430000  \n",
       "3    Conceptual Art       1.356700  \n",
       "4       World Music       1.170083  \n",
       "\n",
       "[5 rows x 22 columns]"
      ]
     },
     "execution_count": 57,
     "metadata": {},
     "output_type": "execute_result"
    }
   ],
   "source": [
    "ksdf.head()"
   ]
  },
  {
   "cell_type": "code",
   "execution_count": 58,
   "metadata": {},
   "outputs": [
    {
     "name": "stdout",
     "output_type": "stream",
     "text": [
      "<class 'pandas.core.frame.DataFrame'>\n",
      "Int64Index: 4809 entries, 0 to 4928\n",
      "Data columns (total 11 columns):\n",
      " #   Column               Non-Null Count  Dtype  \n",
      "---  ------               --------------  -----  \n",
      " 0   dullness             4809 non-null   float64\n",
      " 1   brightness           4809 non-null   float64\n",
      " 2   average_pixel_width  4809 non-null   float64\n",
      " 3   average_red          4809 non-null   float64\n",
      " 4   average_green        4809 non-null   float64\n",
      " 5   average_blue         4809 non-null   float64\n",
      " 6   image_size           4809 non-null   int64  \n",
      " 7   width                4809 non-null   int64  \n",
      " 8   height               4809 non-null   int64  \n",
      " 9   blurrness            4809 non-null   float64\n",
      " 10  aspect_ratio         4809 non-null   float64\n",
      "dtypes: float64(8), int64(3)\n",
      "memory usage: 450.8 KB\n"
     ]
    }
   ],
   "source": [
    "X.info()"
   ]
  },
  {
   "cell_type": "code",
   "execution_count": 59,
   "metadata": {},
   "outputs": [],
   "source": [
    "from sklearn.linear_model import LogisticRegression\n",
    "logreg = LogisticRegression(solver='lbfgs')"
   ]
  },
  {
   "cell_type": "code",
   "execution_count": 60,
   "metadata": {},
   "outputs": [
    {
     "data": {
      "text/plain": [
       "0.7080646242977149"
      ]
     },
     "execution_count": 60,
     "metadata": {},
     "output_type": "execute_result"
    }
   ],
   "source": [
    "from sklearn.model_selection import cross_val_score\n",
    "cross_val_score(LogisticRegression(max_iter=10000), X, y, cv=5, scoring='accuracy').mean()"
   ]
  },
  {
   "cell_type": "code",
   "execution_count": 61,
   "metadata": {},
   "outputs": [
    {
     "data": {
      "text/plain": [
       "1    0.595134\n",
       "0    0.404866\n",
       "Name: state, dtype: float64"
      ]
     },
     "execution_count": 61,
     "metadata": {},
     "output_type": "execute_result"
    }
   ],
   "source": [
    "y.value_counts(normalize=True)"
   ]
  },
  {
   "cell_type": "code",
   "execution_count": 62,
   "metadata": {},
   "outputs": [
    {
     "data": {
      "text/plain": [
       "Text(0.5, 0, 'Relative Feature Importance')"
      ]
     },
     "execution_count": 62,
     "metadata": {},
     "output_type": "execute_result"
    },
    {
     "data": {
      "image/png": "[encoded data removed]",
      "text/plain": [
       "<Figure size 432x288 with 1 Axes>"
      ]
     },
     "metadata": {
      "needs_background": "light"
     },
     "output_type": "display_data"
    }
   ],
   "source": [
    "scaler = StandardScaler()\n",
    "scaler.fit(X) \n",
    "X_scaled = pd.DataFrame(scaler.transform(X),columns = X.columns)\n",
    "\n",
    "clf = LogisticRegression(random_state = 0)\n",
    "clf.fit(X_scaled, y)\n",
    "\n",
    "feature_importance = abs(clf.coef_[0])\n",
    "feature_importance = 100.0 * (feature_importance / feature_importance.max())\n",
    "sorted_idx = np.argsort(feature_importance)\n",
    "pos = np.arange(sorted_idx.shape[0]) + .5\n",
    "\n",
    "featfig = plt.figure()\n",
    "featax = featfig.add_subplot(1, 1, 1)\n",
    "featax.barh(pos, feature_importance[sorted_idx], align='center')\n",
    "featax.set_yticks(pos)\n",
    "featax.set_yticklabels(np.array(X.columns)[sorted_idx], fontsize=8)\n",
    "featax.set_xlabel('Relative Feature Importance')"
   ]
  },
  {
   "cell_type": "code",
   "execution_count": 18,
   "metadata": {},
   "outputs": [],
   "source": [
    "# dummy encoding of categorical features\n",
    "from sklearn.preprocessing import OneHotEncoder\n",
    "ohe = OneHotEncoder(sparse=False)"
   ]
  },
  {
   "cell_type": "code",
   "execution_count": 19,
   "metadata": {},
   "outputs": [
    {
     "data": {
      "text/plain": [
       "array([[1., 0., 0., ..., 0., 0., 0.],\n",
       "       [1., 0., 0., ..., 0., 0., 0.],\n",
       "       [1., 0., 0., ..., 0., 0., 0.],\n",
       "       ...,\n",
       "       [0., 1., 0., ..., 0., 0., 0.],\n",
       "       [0., 1., 0., ..., 0., 0., 0.],\n",
       "       [0., 1., 0., ..., 0., 0., 0.]])"
      ]
     },
     "execution_count": 19,
     "metadata": {},
     "output_type": "execute_result"
    }
   ],
   "source": [
    "ohe.fit_transform(df[['category_slug']])"
   ]
  },
  {
   "cell_type": "code",
   "execution_count": 20,
   "metadata": {},
   "outputs": [
    {
     "data": {
      "text/plain": [
       "[array(['art', 'comics', 'crafts', 'dance', 'design', 'fashion',\n",
       "        'film & video', 'food', 'games', 'journalism', 'music',\n",
       "        'photography', 'publishing', 'technology', 'theater'], dtype=object)]"
      ]
     },
     "execution_count": 20,
     "metadata": {},
     "output_type": "execute_result"
    }
   ],
   "source": [
    "ohe.categories_"
   ]
  },
  {
   "cell_type": "code",
   "execution_count": 28,
   "metadata": {},
   "outputs": [],
   "source": [
    "X = df.loc[:,['days_to_deadline','goal','category_slug','blurb_length','month','day','backers_count']]"
   ]
  },
  {
   "cell_type": "code",
   "execution_count": 29,
   "metadata": {},
   "outputs": [
    {
     "data": {
      "text/html": [
       "<div>\n",
       "<style scoped>\n",
       "    .dataframe tbody tr th:only-of-type {\n",
       "        vertical-align: middle;\n",
       "    }\n",
       "\n",
       "    .dataframe tbody tr th {\n",
       "        vertical-align: top;\n",
       "    }\n",
       "\n",
       "    .dataframe thead th {\n",
       "        text-align: right;\n",
       "    }\n",
       "</style>\n",
       "<table border=\"1\" class=\"dataframe\">\n",
       "  <thead>\n",
       "    <tr style=\"text-align: right;\">\n",
       "      <th></th>\n",
       "      <th>days_to_deadline</th>\n",
       "      <th>goal</th>\n",
       "      <th>category_slug</th>\n",
       "      <th>blurb_length</th>\n",
       "      <th>month</th>\n",
       "      <th>day</th>\n",
       "      <th>backers_count</th>\n",
       "    </tr>\n",
       "  </thead>\n",
       "  <tbody>\n",
       "    <tr>\n",
       "      <th>0</th>\n",
       "      <td>42</td>\n",
       "      <td>2000.0</td>\n",
       "      <td>art</td>\n",
       "      <td>9</td>\n",
       "      <td>3</td>\n",
       "      <td>19</td>\n",
       "      <td>1</td>\n",
       "    </tr>\n",
       "    <tr>\n",
       "      <th>1</th>\n",
       "      <td>10</td>\n",
       "      <td>10.0</td>\n",
       "      <td>art</td>\n",
       "      <td>21</td>\n",
       "      <td>7</td>\n",
       "      <td>17</td>\n",
       "      <td>2</td>\n",
       "    </tr>\n",
       "    <tr>\n",
       "      <th>2</th>\n",
       "      <td>30</td>\n",
       "      <td>900.0</td>\n",
       "      <td>art</td>\n",
       "      <td>12</td>\n",
       "      <td>7</td>\n",
       "      <td>30</td>\n",
       "      <td>0</td>\n",
       "    </tr>\n",
       "    <tr>\n",
       "      <th>3</th>\n",
       "      <td>20</td>\n",
       "      <td>900.0</td>\n",
       "      <td>art</td>\n",
       "      <td>17</td>\n",
       "      <td>5</td>\n",
       "      <td>11</td>\n",
       "      <td>0</td>\n",
       "    </tr>\n",
       "    <tr>\n",
       "      <th>6</th>\n",
       "      <td>40</td>\n",
       "      <td>2900.0</td>\n",
       "      <td>art</td>\n",
       "      <td>9</td>\n",
       "      <td>4</td>\n",
       "      <td>6</td>\n",
       "      <td>2</td>\n",
       "    </tr>\n",
       "  </tbody>\n",
       "</table>\n",
       "</div>"
      ],
      "text/plain": [
       "   days_to_deadline    goal category_slug  blurb_length  month  day  \\\n",
       "0                42  2000.0           art             9      3   19   \n",
       "1                10    10.0           art            21      7   17   \n",
       "2                30   900.0           art            12      7   30   \n",
       "3                20   900.0           art            17      5   11   \n",
       "6                40  2900.0           art             9      4    6   \n",
       "\n",
       "   backers_count  \n",
       "0              1  \n",
       "1              2  \n",
       "2              0  \n",
       "3              0  \n",
       "6              2  "
      ]
     },
     "execution_count": 29,
     "metadata": {},
     "output_type": "execute_result"
    }
   ],
   "source": [
    "X.head()"
   ]
  },
  {
   "cell_type": "code",
   "execution_count": 30,
   "metadata": {},
   "outputs": [],
   "source": [
    "# use when different features need different preprocessing\n",
    "from sklearn.compose import make_column_transformer"
   ]
  },
  {
   "cell_type": "code",
   "execution_count": 31,
   "metadata": {},
   "outputs": [],
   "source": [
    "column_trans = make_column_transformer(\n",
    "    (OneHotEncoder(), ['category_slug']),\n",
    "    remainder='passthrough')"
   ]
  },
  {
   "cell_type": "code",
   "execution_count": 32,
   "metadata": {},
   "outputs": [
    {
     "data": {
      "text/plain": [
       "array([[  1.,   0.,   0., ...,   3.,  19.,   1.],\n",
       "       [  1.,   0.,   0., ...,   7.,  17.,   2.],\n",
       "       [  1.,   0.,   0., ...,   7.,  30.,   0.],\n",
       "       ...,\n",
       "       [  0.,   1.,   0., ...,   6.,  12.,  43.],\n",
       "       [  0.,   1.,   0., ...,   6.,   7., 260.],\n",
       "       [  0.,   1.,   0., ...,   6.,   4.,   7.]])"
      ]
     },
     "execution_count": 32,
     "metadata": {},
     "output_type": "execute_result"
    }
   ],
   "source": [
    "column_trans.fit_transform(X)"
   ]
  },
  {
   "cell_type": "code",
   "execution_count": 33,
   "metadata": {},
   "outputs": [],
   "source": [
    "# chain sequential steps together\n",
    "from sklearn.pipeline import make_pipeline"
   ]
  },
  {
   "cell_type": "code",
   "execution_count": 34,
   "metadata": {},
   "outputs": [],
   "source": [
    "pipe = make_pipeline(column_trans, LogisticRegression(max_iter=10000))"
   ]
  },
  {
   "cell_type": "code",
   "execution_count": 35,
   "metadata": {},
   "outputs": [
    {
     "data": {
      "text/plain": [
       "0.8900947187878838"
      ]
     },
     "execution_count": 35,
     "metadata": {},
     "output_type": "execute_result"
    }
   ],
   "source": [
    "# cross-validate the entire process\n",
    "# thus, preprocessing occurs within each fold of cross-validation\n",
    "cross_val_score(pipe, X, y, cv=5, scoring='accuracy').mean()"
   ]
  },
  {
   "cell_type": "code",
   "execution_count": 75,
   "metadata": {},
   "outputs": [
    {
     "data": {
      "text/html": [
       "<div>\n",
       "<style scoped>\n",
       "    .dataframe tbody tr th:only-of-type {\n",
       "        vertical-align: middle;\n",
       "    }\n",
       "\n",
       "    .dataframe tbody tr th {\n",
       "        vertical-align: top;\n",
       "    }\n",
       "\n",
       "    .dataframe thead th {\n",
       "        text-align: right;\n",
       "    }\n",
       "</style>\n",
       "<table border=\"1\" class=\"dataframe\">\n",
       "  <thead>\n",
       "    <tr style=\"text-align: right;\">\n",
       "      <th></th>\n",
       "      <th>days_to_deadline</th>\n",
       "      <th>goal</th>\n",
       "      <th>category_slug</th>\n",
       "      <th>blurb_length</th>\n",
       "      <th>month</th>\n",
       "      <th>day</th>\n",
       "      <th>backers_count</th>\n",
       "    </tr>\n",
       "  </thead>\n",
       "  <tbody>\n",
       "    <tr>\n",
       "      <th>162385</th>\n",
       "      <td>24</td>\n",
       "      <td>1645.0</td>\n",
       "      <td>publishing</td>\n",
       "      <td>20</td>\n",
       "      <td>7</td>\n",
       "      <td>21</td>\n",
       "      <td>13</td>\n",
       "    </tr>\n",
       "  </tbody>\n",
       "</table>\n",
       "</div>"
      ],
      "text/plain": [
       "        days_to_deadline    goal category_slug  blurb_length  month  day  \\\n",
       "162385                24  1645.0    publishing            20      7   21   \n",
       "\n",
       "        backers_count  \n",
       "162385             13  "
      ]
     },
     "execution_count": 75,
     "metadata": {},
     "output_type": "execute_result"
    }
   ],
   "source": [
    "#Predicts on New Data\n",
    "X_new = X.sample(1, random_state=99)\n",
    "X_new"
   ]
  },
  {
   "cell_type": "code",
   "execution_count": 76,
   "metadata": {},
   "outputs": [
    {
     "data": {
      "text/plain": [
       "162385    publishing\n",
       "Name: category_slug, dtype: object"
      ]
     },
     "execution_count": 76,
     "metadata": {},
     "output_type": "execute_result"
    }
   ],
   "source": [
    "X_new.category_slug"
   ]
  },
  {
   "cell_type": "code",
   "execution_count": 73,
   "metadata": {},
   "outputs": [
    {
     "data": {
      "text/plain": [
       "Pipeline(steps=[('columntransformer',\n",
       "                 ColumnTransformer(remainder='passthrough',\n",
       "                                   transformers=[('onehotencoder',\n",
       "                                                  OneHotEncoder(),\n",
       "                                                  ['category_slug'])])),\n",
       "                ('logisticregression', LogisticRegression(max_iter=10000))])"
      ]
     },
     "execution_count": 73,
     "metadata": {},
     "output_type": "execute_result"
    }
   ],
   "source": [
    "pipe.fit(X, y)"
   ]
  },
  {
   "cell_type": "code",
   "execution_count": 61,
   "metadata": {},
   "outputs": [
    {
     "data": {
      "text/plain": [
       "array([0, 0, 1, 0, 0, 0, 1, 0, 1, 0, 0, 0, 0, 0, 0, 0, 0, 0, 0, 0],\n",
       "      dtype=int64)"
      ]
     },
     "execution_count": 61,
     "metadata": {},
     "output_type": "execute_result"
    }
   ],
   "source": [
    "p=np.array(pipe.predict(X_new))\n",
    "p"
   ]
  },
  {
   "cell_type": "code",
   "execution_count": 54,
   "metadata": {},
   "outputs": [
    {
     "data": {
      "text/plain": [
       "Int64Index([289553, 408986, 380114, 100835, 424607, 407364, 127049, 266741,\n",
       "            389791, 321194, 263960,    185, 365934, 212638,  50507, 407278,\n",
       "            342036,  64756,  12084,  50314],\n",
       "           dtype='int64')"
      ]
     },
     "execution_count": 54,
     "metadata": {},
     "output_type": "execute_result"
    }
   ],
   "source": [
    "#Validation \n",
    "X_new.index"
   ]
  },
  {
   "cell_type": "code",
   "execution_count": 60,
   "metadata": {},
   "outputs": [
    {
     "data": {
      "text/plain": [
       "array([0, 0, 1, 0, 0, 0, 0, 0, 1, 0, 0, 0, 0, 0, 0, 1, 0, 0, 0, 0],\n",
       "      dtype=int64)"
      ]
     },
     "execution_count": 60,
     "metadata": {},
     "output_type": "execute_result"
    }
   ],
   "source": [
    "v=np.array(df.loc[X_new.index].pledged_ratio)\n",
    "v"
   ]
  },
  {
   "cell_type": "code",
   "execution_count": 65,
   "metadata": {},
   "outputs": [
    {
     "data": {
      "text/plain": [
       "2"
      ]
     },
     "execution_count": 65,
     "metadata": {},
     "output_type": "execute_result"
    }
   ],
   "source": [
    "np.sum(p!=v)"
   ]
  },
  {
   "cell_type": "code",
   "execution_count": 66,
   "metadata": {},
   "outputs": [
    {
     "data": {
      "text/plain": [
       "(array([ 6, 15]),)"
      ]
     },
     "execution_count": 66,
     "metadata": {},
     "output_type": "execute_result"
    }
   ],
   "source": [
    "np.where(p!=v)"
   ]
  },
  {
   "cell_type": "code",
   "execution_count": null,
   "metadata": {},
   "outputs": [],
   "source": [
    "#let's look at the different categories\n",
    "print(ksdf['category_name'].value_counts())"
   ]
  },
  {
   "cell_type": "code",
   "execution_count": null,
   "metadata": {},
   "outputs": [],
   "source": []
  },
  {
   "cell_type": "code",
   "execution_count": null,
   "metadata": {},
   "outputs": [],
   "source": [
    "print(ksdf['category_name'].value_counts().count())"
   ]
  },
  {
   "cell_type": "code",
   "execution_count": null,
   "metadata": {},
   "outputs": [],
   "source": [
    "print(ksdf['category_slug'].value_counts().count())"
   ]
  },
  {
   "cell_type": "code",
   "execution_count": null,
   "metadata": {},
   "outputs": [],
   "source": [
    "category_count=ksdf['category_name'].value_counts()\n",
    "category_count"
   ]
  },
  {
   "cell_type": "code",
   "execution_count": null,
   "metadata": {},
   "outputs": [],
   "source": [
    "#Make a copy df which will have the select categories encoded \n",
    "cat_encoded_ksdf=ksdf.copy()"
   ]
  },
  {
   "cell_type": "code",
   "execution_count": null,
   "metadata": {},
   "outputs": [],
   "source": [
    "#encoding category_name\n",
    "print('number of categories: '+str(ksdf['category_name'].value_counts().count()))\n",
    "labels = ksdf['category_name'].astype('category').cat.categories.tolist()\n",
    "replace_map_comp_cat = {'category_name' : {k: v for k,v in zip(labels,list(range(1,len(labels)+1)))}}\n",
    "cat_encoded_ksdf.replace(replace_map_comp, inplace=True)\n",
    "#print(replace_map_comp_cat)"
   ]
  },
  {
   "cell_type": "code",
   "execution_count": null,
   "metadata": {},
   "outputs": [],
   "source": [
    "#encoding slug\n",
    "print('number of categories: '+str(ksdf['category_slug'].value_counts().count()))\n",
    "labels = ksdf['category_slug'].astype('category').cat.categories.tolist()\n",
    "replace_map_comp_slug = {'category_slug' : {k: v for k,v in zip(labels,list(range(1,len(labels)+1)))}}\n",
    "cat_encoded_ksdf.replace(replace_map_comp_slug, inplace=True)\n",
    "print(replace_map_comp_slug)"
   ]
  },
  {
   "cell_type": "code",
   "execution_count": null,
   "metadata": {},
   "outputs": [],
   "source": [
    "#encoding location_state\n",
    "print('number of categories: '+str(ksdf['location_state'].value_counts().count()))\n",
    "labels = ksdf['location_state'].astype('category').cat.categories.tolist()\n",
    "replace_map_comp_loc = {'location_state' : {k: v for k,v in zip(labels,list(range(1,len(labels)+1)))}}\n",
    "cat_encoded_ksdf.replace(replace_map_comp_loc, inplace=True)\n",
    "#print(replace_map_comp_loc)"
   ]
  },
  {
   "cell_type": "code",
   "execution_count": null,
   "metadata": {},
   "outputs": [],
   "source": [
    "#encoding binary_state .. success or failed\n",
    "print('number of categories: '+str(ksdf['binary_state'].value_counts().count()))\n",
    "labels = ksdf['binary_state'].astype('category').cat.categories.tolist()\n",
    "replace_map_comp_state = {'binary_state' : {k: v for k,v in zip(labels,list(range(1,len(labels)+1)))}}\n",
    "cat_encoded_ksdf.replace(replace_map_comp_state, inplace=True)\n",
    "print(replace_map_comp_state)"
   ]
  },
  {
   "cell_type": "code",
   "execution_count": null,
   "metadata": {},
   "outputs": [],
   "source": [
    "#Visualize Category Histogram of all campaigns \n",
    "%matplotlib inline\n",
    "import seaborn as sns\n",
    "import matplotlib.pyplot as plt\n",
    "\n",
    "plt.figure(figsize=(50,5))\n",
    "category_count = ksdf['category_name'].value_counts()\n",
    "sns.set(style=\"darkgrid\")\n",
    "chart=sns.barplot(category_count.index, category_count.values, alpha=1)\n",
    "#sns.set(rc={'figure.figsize':(20,8.27)})\n",
    "plt.title('Frequency Distribution of Categories')\n",
    "plt.ylabel('Number of Occurrences', fontsize=12)\n",
    "plt.xlabel('Categories', fontsize=12)\n",
    "chart.set_xticklabels(chart.get_xticklabels(), rotation=90)\n",
    "plt.show()"
   ]
  },
  {
   "cell_type": "code",
   "execution_count": null,
   "metadata": {},
   "outputs": [],
   "source": [
    "# Add pledged_ratio column\n",
    "cat_encoded_ksdf['pledged_ratio'] = cat_encoded_ksdf['usd_pledged']/ cat_encoded_ksdf['goal_USD']"
   ]
  },
  {
   "cell_type": "code",
   "execution_count": null,
   "metadata": {},
   "outputs": [],
   "source": [
    "table=cat_encoded_ksdf.info(verbose=True)"
   ]
  },
  {
   "cell_type": "code",
   "execution_count": 79,
   "metadata": {},
   "outputs": [
    {
     "ename": "NameError",
     "evalue": "name 'publishing' is not defined",
     "output_type": "error",
     "traceback": [
      "\u001b[0;31m---------------------------------------------------------------------------\u001b[0m",
      "\u001b[0;31mNameError\u001b[0m                                 Traceback (most recent call last)",
      "\u001b[0;32m<ipython-input-79-dd16d38d98d5>\u001b[0m in \u001b[0;36m<module>\u001b[0;34m\u001b[0m\n\u001b[0;32m----> 1\u001b[0;31m \u001b[0;34m[\u001b[0m\u001b[0mpublishing\u001b[0m\u001b[0;34m.\u001b[0m\u001b[0mdtype\u001b[0m\u001b[0;34m(\u001b[0m\u001b[0mobject\u001b[0m\u001b[0;34m)\u001b[0m\u001b[0;34m]\u001b[0m\u001b[0;34m\u001b[0m\u001b[0;34m\u001b[0m\u001b[0m\n\u001b[0m",
      "\u001b[0;31mNameError\u001b[0m: name 'publishing' is not defined"
     ]
    }
   ],
   "source": [
    "[publishing.dtype(object)]"
   ]
  },
  {
   "cell_type": "code",
   "execution_count": null,
   "metadata": {},
   "outputs": [],
   "source": [
    "#Let's grab the column names we might care about\n",
    "names=['pledged_ratio','usd_pledged','goal_USD','blurb_length','days_to_deadline','backers_count','month','day','hour','category_name','category_slug','location_state']"
   ]
  },
  {
   "cell_type": "code",
   "execution_count": null,
   "metadata": {},
   "outputs": [],
   "source": [
    "cat_encoded_ksdf=ksdf.copy()\n",
    "cat_encoded_ksdf.head()"
   ]
  },
  {
   "cell_type": "code",
   "execution_count": null,
   "metadata": {},
   "outputs": [],
   "source": [
    "cat_encoded_ksdf.replace(replace_map_comp, inplace=True)"
   ]
  },
  {
   "cell_type": "code",
   "execution_count": null,
   "metadata": {},
   "outputs": [],
   "source": [
    "cat_encoded_ksdf"
   ]
  },
  {
   "cell_type": "code",
   "execution_count": null,
   "metadata": {},
   "outputs": [],
   "source": [
    "cat_encoded_ksdf.head()"
   ]
  },
  {
   "cell_type": "code",
   "execution_count": null,
   "metadata": {
    "_uuid": "e88ae38e3ee6a2665e75f26ab773f7723d2063ce",
    "scrolled": true
   },
   "outputs": [],
   "source": [
    "ksdf.isnull().sum()"
   ]
  },
  {
   "cell_type": "code",
   "execution_count": null,
   "metadata": {},
   "outputs": [],
   "source": [
    "ksdf['backers_count'].max()"
   ]
  },
  {
   "cell_type": "code",
   "execution_count": null,
   "metadata": {},
   "outputs": [],
   "source": [
    "ksdf['backers_count'].hist(range=[0, 100])\n"
   ]
  },
  {
   "cell_type": "code",
   "execution_count": null,
   "metadata": {},
   "outputs": [],
   "source": [
    "ksdf['usd_pledged'].hist(range=[0,10000])"
   ]
  },
  {
   "cell_type": "code",
   "execution_count": null,
   "metadata": {},
   "outputs": [],
   "source": [
    "ksdf['backers_count'].shape"
   ]
  },
  {
   "cell_type": "markdown",
   "metadata": {
    "_uuid": "f165adbf4a9dc085e032f46f7d3f39dd30be5d80"
   },
   "source": [
    "According to the description of data:\n",
    "- **usd pledged** -> USD conversion made by KS for the pledged value\n",
    "- **usd_pledged_real** ->  USD conversion made by fixer.io api\n",
    "\n",
    "We will use **usd_pledged_real** for further analysis"
   ]
  },
  {
   "cell_type": "code",
   "execution_count": null,
   "metadata": {
    "_uuid": "9622796ec3749329bbc3cc5b929bd2a76e552b27"
   },
   "outputs": [],
   "source": [
    "# Check missing values in the column \"name\"\n",
    "ksdf[pd.isnull(ksdf['name'])].index"
   ]
  },
  {
   "cell_type": "code",
   "execution_count": null,
   "metadata": {
    "_uuid": "64ec4370f3280dcc9575a69527493317577f5a4a"
   },
   "outputs": [],
   "source": [
    "ksdf[ksdf.index == 14749]\n",
    "#ksdf[ksdf.index == 51866]"
   ]
  },
  {
   "cell_type": "code",
   "execution_count": null,
   "metadata": {},
   "outputs": [],
   "source": [
    "ksfailed=ksdf[ksdf['binary_state'] == 'failed']\n",
    "ksfailed=ksfailed[ksfailed['currency'] == 'USD']\n",
    "ksfailed.shape"
   ]
  },
  {
   "cell_type": "code",
   "execution_count": null,
   "metadata": {},
   "outputs": [],
   "source": []
  },
  {
   "cell_type": "code",
   "execution_count": null,
   "metadata": {},
   "outputs": [],
   "source": [
    "ksfailed=ksfailed[ksfailed['currency'] == 'USD']"
   ]
  },
  {
   "cell_type": "code",
   "execution_count": null,
   "metadata": {},
   "outputs": [],
   "source": [
    "ksfailed.head()"
   ]
  },
  {
   "cell_type": "code",
   "execution_count": null,
   "metadata": {},
   "outputs": [],
   "source": [
    "# Add pledged_ratio column\n",
    "ksfailed['pledged_ratio'] = ksfailed['usd_pledged']/ ksfailed['goal_USD']"
   ]
  },
  {
   "cell_type": "code",
   "execution_count": null,
   "metadata": {},
   "outputs": [],
   "source": [
    "ksfailed['pledged_ratio'].hist()"
   ]
  },
  {
   "cell_type": "code",
   "execution_count": null,
   "metadata": {},
   "outputs": [],
   "source": [
    "ksfailed['pledged_ratio'].plot(kind= 'density')\n",
    "plt.show()"
   ]
  },
  {
   "cell_type": "code",
   "execution_count": null,
   "metadata": {},
   "outputs": [],
   "source": [
    "names=['pledged_ratio','usd_pledged','goal_USD','blurb_length','days_to_deadline','backers_count']"
   ]
  },
  {
   "cell_type": "code",
   "execution_count": null,
   "metadata": {},
   "outputs": [],
   "source": [
    "len(names)"
   ]
  },
  {
   "cell_type": "code",
   "execution_count": null,
   "metadata": {},
   "outputs": [],
   "source": [
    "data=ksfailed_analysis=ksfailed[['pledged_ratio','usd_pledged','goal_USD','blurb_length','days_to_deadline','backers_count','month','day','hour',]].copy()"
   ]
  },
  {
   "cell_type": "code",
   "execution_count": null,
   "metadata": {},
   "outputs": [],
   "source": [
    "plt.figure(figsize=(50,50))\n",
    "chart=pd.plotting.scatter_matrix(data)\n",
    "#chart.set_xticklabels(chart.get_xticklabels(), rotation=90)\n",
    "#chart.set_yticklabels(chart.get_yticklabels(), rotation=90)\n",
    "plt.show"
   ]
  },
  {
   "cell_type": "code",
   "execution_count": null,
   "metadata": {},
   "outputs": [],
   "source": [
    "correlations = data.corr()\n",
    "fig = plt.figure()\n",
    "ax = fig.add_subplot(111)\n",
    "cax = ax.matshow(correlations, vmin=-1, vmax=1)\n",
    "fig.colorbar(cax)\n",
    "ticks = np.arange(0,6,1)\n",
    "ax.set_xticks(ticks)\n",
    "ax.set_yticks(ticks)\n",
    "ax.set_xticklabels(names)\n",
    "ax.set_yticklabels(names)\n",
    "plt.show()"
   ]
  },
  {
   "cell_type": "markdown",
   "metadata": {
    "_uuid": "13b940bdee21d3ded574f812b21db084ed8d0828"
   },
   "source": [
    "Even though there are some missing values in **name**, those are real projects. We will keep them."
   ]
  },
  {
   "cell_type": "code",
   "execution_count": null,
   "metadata": {},
   "outputs": [],
   "source": [
    "ksfailed['backers_count'].sort_values(ascending=False)"
   ]
  },
  {
   "cell_type": "code",
   "execution_count": null,
   "metadata": {},
   "outputs": [],
   "source": [
    "ksfailed['backers_count'].plot(kind= 'density')\n",
    "plt.show()"
   ]
  },
  {
   "cell_type": "markdown",
   "metadata": {
    "_uuid": "4d5de7423faad5c238543f892d9011e811659e5d"
   },
   "source": [
    "#### 1.2 Modify data columns\n",
    "- According to previous cell, I will drop **usd pledged** columns\n",
    "- Add **pledged_ratio** column that follows the rule:\n",
    " > pledged_ratio = usd_pledged_real/ usd_goal_real\n",
    "- Retrieve **year** & **date** and transform the information as a new column **time** that follows the rule:\n",
    "> `(year - 2009) * 12 + month`\n",
    ">>Since 2009 seems to be the first year that contains meaningful data, we will use this alorithm to get timely manner information\n",
    "- Generate a new dataframe **ksdf_year** for cross-year comparison"
   ]
  },
  {
   "cell_type": "code",
   "execution_count": null,
   "metadata": {
    "_uuid": "adef541019e811c8e3ba4f5c81c8acc4a8de72fc"
   },
   "outputs": [],
   "source": [
    "# Delete usdf pledged column\n",
    "ksdf.drop(['usd pledged'], axis = 1, inplace = True)"
   ]
  },
  {
   "cell_type": "code",
   "execution_count": null,
   "metadata": {
    "_uuid": "98a31498dfd10db016346e93c08220935523b26f"
   },
   "outputs": [],
   "source": [
    "# Add pledged_ratio column\n",
    "ksdf['pledged_ratio'] = ksdf['usd_pledged_real']/ ksdf['usd_goal_real']"
   ]
  },
  {
   "cell_type": "code",
   "execution_count": null,
   "metadata": {
    "_uuid": "858e0a3491d096f389b4b250b96d932ff7445782"
   },
   "outputs": [],
   "source": [
    "def year_cut(string):\n",
    "    return string[0:4]\n",
    "\n",
    "def month_cut(string):\n",
    "    return string[5:7]\n",
    "\n",
    "ksdf['year'] = ksdf['launched_at'].apply(year_cut)\n",
    "ksdf['month'] = ksdf['launched_at'].apply(month_cut)\n",
    "\n",
    "ksdf['year'] = ksdf['year'].astype(int)\n",
    "ksdf['month'] = ksdf['month'].astype(int)\n",
    "ksdf['time'] = (ksdf['year'].values - 2009)*12 + (ksdf['month']).astype(int)"
   ]
  },
  {
   "cell_type": "code",
   "execution_count": null,
   "metadata": {
    "_uuid": "3b44badabb9602a86f3c7495d59324200a535e8c"
   },
   "outputs": [],
   "source": [
    "print (ksdf.columns)"
   ]
  },
  {
   "cell_type": "code",
   "execution_count": null,
   "metadata": {
    "_uuid": "ce895910c73b48ee419de8715f2c8f0a5213653e"
   },
   "outputs": [],
   "source": [
    "ksdf['year'].value_counts()"
   ]
  },
  {
   "cell_type": "code",
   "execution_count": null,
   "metadata": {
    "_uuid": "c8b08e95f41f96b33dd981ed78ce68d5c44a4cb2"
   },
   "outputs": [],
   "source": [
    "ksdf_year = {}\n",
    "for year in range(2009, 2020):\n",
    "    ksdf_year[year] = ksdf[ksdf['year'] == year]['year'].count()"
   ]
  },
  {
   "cell_type": "code",
   "execution_count": null,
   "metadata": {
    "_uuid": "0b4b46108c9bead023548dbefa9a074560cab984"
   },
   "outputs": [],
   "source": [
    "ksdf_year = pd.Series(ksdf_year)\n",
    "ksdf_year = pd.DataFrame(ksdf_year)\n",
    "ksdf_year = ksdf_year.rename(columns = {0: \"counts\"})\n",
    "ksdf_year"
   ]
  },
  {
   "cell_type": "markdown",
   "metadata": {
    "_uuid": "08caf39bb8378cdfadb908dba6b64a0102827ca1"
   },
   "source": []
  },
  {
   "cell_type": "markdown",
   "metadata": {
    "_uuid": "ebfe6252b046e0103f005f82859a6f1b84dd7bf6"
   },
   "source": [
    "#### 1.3 Number of projects proposed/  successful rate\n",
    "- Overall number of proposed projects\n",
    "- Overall successful rate\n",
    "- Cross year comparison of above 2 items"
   ]
  },
  {
   "cell_type": "code",
   "execution_count": null,
   "metadata": {
    "_uuid": "4c6789feb3b6d25cf8679f112411580d053306a2"
   },
   "outputs": [],
   "source": [
    "ksdf['binary_state'].value_counts()"
   ]
  },
  {
   "cell_type": "code",
   "execution_count": null,
   "metadata": {},
   "outputs": [],
   "source": [
    "total=np.sum(ksdf['binary_state'].value_counts())\n",
    "total"
   ]
  },
  {
   "cell_type": "code",
   "execution_count": null,
   "metadata": {},
   "outputs": [],
   "source": [
    "f_ratio=ksdf['binary_state'].value_counts()[0]/total\n",
    "s_ratio=ksdf['binary_state'].value_counts()[1]/total"
   ]
  },
  {
   "cell_type": "code",
   "execution_count": null,
   "metadata": {},
   "outputs": [],
   "source": [
    "plt.pie(ksdf['binary_state'].value_counts(),labels=['Failed '+str(np.round(f_ratio*100,1))+'%','Successful '+str(np.round(s_ratio*100,1))+'%'])\n",
    "plt.savefig('pie.png')"
   ]
  },
  {
   "cell_type": "code",
   "execution_count": null,
   "metadata": {},
   "outputs": [],
   "source": [
    "173721/430938"
   ]
  },
  {
   "cell_type": "code",
   "execution_count": null,
   "metadata": {
    "_uuid": "aeed9af5ca0c48d18819062cf5ebdfcc651558ee"
   },
   "outputs": [],
   "source": [
    "squarify.plot(sizes=[197719,133956, (38779 + 3562 + 2799 + 1846)], \n",
    "              label=[\"Failed (52.22%)\", \"Successful (35.38%)\", \"Others (10.24%)\",], color=[\"blue\",\"red\",\"green\"], alpha=.4 )\n",
    "plt.title('State of Campaigns 2009-2017', fontsize = 20)\n",
    "plt.axis('off')\n",
    "plt.show()"
   ]
  },
  {
   "cell_type": "code",
   "execution_count": null,
   "metadata": {
    "_uuid": "faaf5cad177a20f31a17e8a81fd9a7bb12d5992a",
    "scrolled": true
   },
   "outputs": [],
   "source": [
    "success_timely = []\n",
    "\n",
    "for year in range(2009, 2019):\n",
    "    success = len (ksdf[(ksdf['year'] == year) & (ksdf['state'] == 'successful')]['state'])\n",
    "    overall = len (ksdf[ksdf['year'] == year]['year'])\n",
    "    ratio = success/ overall\n",
    "    success_timely.append(ratio)\n",
    "    print (\"Year = \",year, ratio * 100, '%')"
   ]
  },
  {
   "cell_type": "code",
   "execution_count": null,
   "metadata": {},
   "outputs": [],
   "source": [
    "failed_timely = []\n",
    "\n",
    "for year in range(2009, 2019):\n",
    "    success = len (ksdf[(ksdf['year'] == year) & (ksdf['state'] == 'failed')]['state'])\n",
    "    overall = len (ksdf[ksdf['year'] == year]['year'])\n",
    "    ratio = success/ overall\n",
    "    success_timely.append(ratio)\n",
    "    print (\"Year = \",year, ratio * 100, '%')"
   ]
  },
  {
   "cell_type": "code",
   "execution_count": null,
   "metadata": {
    "_uuid": "0ab9f88893d7d492d916bc5454da5f09443e0955"
   },
   "outputs": [],
   "source": [
    "ksdf[ksdf['year'] == 2018]['state'].value_counts()"
   ]
  },
  {
   "cell_type": "code",
   "execution_count": null,
   "metadata": {
    "_uuid": "25c511453b820b3811a72ad7b1f7ff357474c900"
   },
   "outputs": [],
   "source": [
    "ksdf_year['success_ratio'] = success_timely\n",
    "ksdf_year.head"
   ]
  },
  {
   "cell_type": "code",
   "execution_count": null,
   "metadata": {
    "_uuid": "d6a796edf9d0c7888505269d5701e376f2715caa"
   },
   "outputs": [],
   "source": [
    "ksdf[ksdf['year'] == 2017]['backers'].count()"
   ]
  },
  {
   "cell_type": "code",
   "execution_count": null,
   "metadata": {
    "_uuid": "f1cf1f7cf6ed134bf661fe941e68e6a9972f0e6d"
   },
   "outputs": [],
   "source": [
    "backers_year = {}\n",
    "for year in range(2009, 2019):\n",
    "    backers_count = ksdf[ksdf['year'] == year]['backers'].sum()\n",
    "    backers_year[year] = backers_count\n",
    "\n",
    "ksdf_year['backers'] = pd.Series(backers_year)"
   ]
  },
  {
   "cell_type": "code",
   "execution_count": null,
   "metadata": {
    "_uuid": "74e17b6bc88204692781c88767c5a1a9c0faf55b"
   },
   "outputs": [],
   "source": [
    "ksdf_year"
   ]
  },
  {
   "cell_type": "code",
   "execution_count": null,
   "metadata": {
    "_uuid": "2e08d5ca48390df39a508f6398f33874fccd331a"
   },
   "outputs": [],
   "source": [
    "# Cross-year proposed projects\n",
    "sns.set_style(\"whitegrid\")\n",
    "sns.barplot(ksdf_year['counts'].index, y= ksdf_year['counts'] ,\n",
    "            palette=\"Blues_d\", saturation = 0.5)\n",
    "sns.despine(right = True, top = True)"
   ]
  },
  {
   "cell_type": "code",
   "execution_count": null,
   "metadata": {
    "_uuid": "ed0859b3b58c8fed9e3fd9f1c631e9667d45d777"
   },
   "outputs": [],
   "source": [
    "# Cross-year success ratio\n",
    "sns.set_style(\"whitegrid\")\n",
    "sns.barplot(ksdf_year['success_ratio'].index, y= ksdf_year['success_ratio'], data = ksdf_year,\n",
    "            palette=\"Blues_d\", saturation = 0.5)\n",
    "sns.despine(right = True, top = True)"
   ]
  },
  {
   "cell_type": "markdown",
   "metadata": {
    "_uuid": "ac71ff78a92e92bfbb3fcbff44a05c950f92266c"
   },
   "source": []
  },
  {
   "cell_type": "code",
   "execution_count": null,
   "metadata": {
    "_uuid": "f5d9febd6c6ce7f573714968cdb20c910a3e1009"
   },
   "outputs": [],
   "source": [
    "sns.set_style(\"whitegrid\")\n",
    "sns.barplot(ksdf_year['backers'].index, y= ksdf_year['backers'] ,\n",
    "            palette=\"Blues_d\", saturation = 0.5)\n",
    "sns.despine(right = True, top = True)"
   ]
  },
  {
   "cell_type": "markdown",
   "metadata": {
    "_uuid": "f41eea6120c90032b2275a411ed6aedd4d69a70b"
   },
   "source": [
    "#### 1.4 Statistics of pledged amount\n",
    "- Descripitive statistics of pledged amount\n",
    "- Pledged amount comparison by state (successful/ failed/ others)"
   ]
  },
  {
   "cell_type": "code",
   "execution_count": null,
   "metadata": {
    "_uuid": "be725520edca362bf652d5cec816d64b17dbf427"
   },
   "outputs": [],
   "source": [
    "sum_pledged = ksdf['usd_pledged_real'].sum()\n",
    "print (sum_pledged)"
   ]
  },
  {
   "cell_type": "code",
   "execution_count": null,
   "metadata": {
    "_uuid": "321b8e9fe835e6da837d5466cb18e5bd12b00565"
   },
   "outputs": [],
   "source": [
    "ksdf['usd_pledged_real'].describe()"
   ]
  },
  {
   "cell_type": "code",
   "execution_count": null,
   "metadata": {
    "_uuid": "d3e5f98b16e8703de5cbaa468af0ac3415105f01"
   },
   "outputs": [],
   "source": [
    "# Ratio of successful/ failed / others\n",
    "success_pledged = ksdf[ksdf['state'] == \"successful\"]['usd_pledged_real'].sum()\n",
    "fail_pledged = ksdf[ksdf['state'] == 'failed']['usd_pledged_real'].sum()\n",
    "others_pledged = (ksdf[ksdf['state'] == 'canceled']['usd_pledged_real'].sum() +\n",
    "                  ksdf[ksdf['state'] == 'undefined']['usd_pledged_real'].sum() +\n",
    "                  ksdf[ksdf['state'] == 'live']['usd_pledged_real'].sum() +\n",
    "                  ksdf[ksdf['state'] == 'suspended']['usd_pledged_real'].sum())\n",
    "\n",
    "print (success_pledged, success_pledged/ sum_pledged * 100, '%')\n",
    "print (fail_pledged, fail_pledged/ sum_pledged * 100, '%')\n",
    "print (others_pledged, others_pledged/ sum_pledged * 100, '%')"
   ]
  },
  {
   "cell_type": "code",
   "execution_count": null,
   "metadata": {
    "_uuid": "93ec43d3a21a010ee4ba704e5b25a3fd14c1d865"
   },
   "outputs": [],
   "source": [
    "squarify.plot(sizes=[3036889045.99, 261108466.05, 132263736.79], \n",
    "              label=[\"Successful (88.53%)\", \"Failed (7.61%)\", \"Others (3.86%)\",], color=[\"red\",\"blue\", \"green\"], alpha=.4 )\n",
    "plt.title('Pledged Amount', fontsize = 20)\n",
    "plt.axis('off')\n",
    "plt.show()"
   ]
  },
  {
   "cell_type": "code",
   "execution_count": null,
   "metadata": {
    "_uuid": "a2159a505e825bec3fb38624e533ef7b448aaa82"
   },
   "outputs": [],
   "source": [
    "success_projects = ksdf[ksdf['state'] == 'successful']['state'].count()\n",
    "fail_projects  = ksdf[ksdf['state'] == 'failed']['state'].count()\n",
    "others_projects  = (\n",
    "    ksdf[ksdf['state'] == 'canceled']['state'].count() +\n",
    "    ksdf[ksdf['state'] == 'live']['state'].count() +\n",
    "    ksdf[ksdf['state'] == 'undefined']['state'].count() +\n",
    "    ksdf[ksdf['state'] == 'suspended']['state'].count())\n",
    "\n",
    "print (\"Average pledged amount per successful project = \",success_pledged/success_projects)\n",
    "print (\"Average pledged amount per failed project = \",fail_pledged/ fail_projects)\n",
    "print (\"Average pledged amount per other project = \",others_pledged/ others_projects)"
   ]
  },
  {
   "cell_type": "code",
   "execution_count": null,
   "metadata": {
    "_uuid": "36fecd8dfb7bc411d4e6468037a4cc2517c7c4f3"
   },
   "outputs": [],
   "source": [
    "sns.set_style(\"whitegrid\")\n",
    "sns.barplot([\"Successful\", \"Failed\", \"Others\"],\n",
    "            y= [22670.7952312, 1320.60381678, 2814.96055825],\n",
    "            palette = \"Set1\",\n",
    "            saturation = 0.5)\n",
    "sns.despine(right = True, top = True)"
   ]
  },
  {
   "cell_type": "markdown",
   "metadata": {
    "_uuid": "6b3b31dcff900c75f2611e9c0e79ff5c82b44c5a",
    "collapsed": true
   },
   "source": []
  },
  {
   "cell_type": "markdown",
   "metadata": {
    "_uuid": "67b02f077e73ffe10fa127cb61abc189eb2a3228"
   },
   "source": [
    "## 2. Region\n",
    "- 2.1 Projects proposed across regions"
   ]
  },
  {
   "cell_type": "code",
   "execution_count": null,
   "metadata": {
    "_uuid": "957a1fe0012226c0e6c84a10a636df08a10392a1"
   },
   "outputs": [],
   "source": [
    "ksdf['country'].unique()"
   ]
  },
  {
   "cell_type": "code",
   "execution_count": null,
   "metadata": {
    "_uuid": "74c8a932d2fb879b008c3b8d17e56df6a3d3439e"
   },
   "outputs": [],
   "source": [
    "ksdf['country'].value_counts()"
   ]
  },
  {
   "cell_type": "code",
   "execution_count": null,
   "metadata": {
    "_uuid": "22773e2b4b610532f20848e5ac607792f5ed7de1"
   },
   "outputs": [],
   "source": [
    "sns.countplot(ksdf['country'], palette = 'Set1', order = ksdf['country'].value_counts().index)\n",
    "sns.despine(bottom = True, left = True)"
   ]
  },
  {
   "cell_type": "code",
   "execution_count": null,
   "metadata": {
    "_uuid": "cdfc422630f9c7355f65f8a743014a5ca992958c"
   },
   "outputs": [],
   "source": [
    "us = ksdf[ksdf['country'] == \"US\"]['country'].count()\n",
    "print (us/len(ksdf['country']) * 100, \"%\")"
   ]
  },
  {
   "cell_type": "markdown",
   "metadata": {
    "_uuid": "68a3d4810bbbd947a0f8804d7c3b125d4aaad094"
   },
   "source": []
  },
  {
   "cell_type": "markdown",
   "metadata": {
    "_uuid": "d603907a397a074ce65fd481c1ff295e10b05c3f"
   },
   "source": [
    "\n",
    "## 3. Caterogy\n",
    "* 3.1 Projects proposed across categories\n",
    "* 3.2 Pledged amount across categories\n",
    "* 3.3 Success rate across categories\n",
    "\n",
    "We will go through this part by creating a new dataframe **cate_df** to record some information, including:\n",
    "- **pledged_sum** -> Sum of the pledged money for each categories\n",
    "- **count** -> Project counts for each categories\n",
    "- **average_amount** -> Average pledged amount for each categories \n",
    "- **success_count** -> Successful projects counts for each categories\n",
    "- **success_rate** -> The ratio of success for each categories"
   ]
  },
  {
   "cell_type": "markdown",
   "metadata": {
    "_uuid": "b516c0fd1010f8a0b18d58f4c56d237e94f87fe7"
   },
   "source": [
    "Adding **pledged_sum**"
   ]
  },
  {
   "cell_type": "code",
   "execution_count": null,
   "metadata": {
    "_uuid": "82cbc5185a36e34759dfa3d25e443723f78402c8"
   },
   "outputs": [],
   "source": [
    "pledged_sum = {}\n",
    "for category in list(set(ksdf['main_category'])):\n",
    "    amount = ksdf[ksdf['main_category'] == category]['usd_pledged_real'].sum()\n",
    "    pledged_sum[category] = amount\n",
    "\n",
    "# Create dataframe\n",
    "cate_df = pd.Series(pledged_sum)\n",
    "cate_df = pd.DataFrame(cate_df)\n",
    "cate_df = cate_df.rename(columns = {0:\"pledged_sum\"})\n",
    "\n",
    "cate_df.head()"
   ]
  },
  {
   "cell_type": "markdown",
   "metadata": {
    "_uuid": "5fa35f8dc78eaa49ed0c836c3d1566f9dee80ad8"
   },
   "source": [
    "Adding **count**"
   ]
  },
  {
   "cell_type": "code",
   "execution_count": null,
   "metadata": {
    "_uuid": "546126e93c6a7ee3807ba3f3c70bf9d6ad7c06b8"
   },
   "outputs": [],
   "source": [
    "cate_count = {}\n",
    "for category in list(set(ksdf['main_category'])):\n",
    "    count = ksdf[ksdf['main_category'] == category]['main_category'].count()\n",
    "    cate_count[category] = count\n",
    "    \n",
    "cate_df['count'] = pd.Series(cate_count)\n",
    "\n",
    "cate_df.head()"
   ]
  },
  {
   "cell_type": "markdown",
   "metadata": {
    "_uuid": "badc06dc067dc62a27b529571d877a5701e369bd"
   },
   "source": [
    "Adding **average_amount**"
   ]
  },
  {
   "cell_type": "code",
   "execution_count": null,
   "metadata": {
    "_uuid": "426e861db8c57dbb92d814d8d06aadf49124e14f"
   },
   "outputs": [],
   "source": [
    "cate_df['average_amount'] = cate_df['pledged_sum']/ cate_df['count']\n",
    "cate_df.head()"
   ]
  },
  {
   "cell_type": "markdown",
   "metadata": {
    "_uuid": "09ce426103bad6c357ab804ffe9368d345e6df6b"
   },
   "source": [
    "Adding **success_rate**"
   ]
  },
  {
   "cell_type": "code",
   "execution_count": null,
   "metadata": {
    "_uuid": "1f66f2a552e91243b6781f4a27beebdc129aa053"
   },
   "outputs": [],
   "source": [
    "success = {}\n",
    "for category in list(set(ksdf['main_category'])):\n",
    "    success_count = len(ksdf[(ksdf['main_category'] == category) & \n",
    "         (ksdf['state'] == \"successful\")])\n",
    "    success[category] = success_count\n",
    "\n",
    "cate_df[\"success_count\"] = pd.Series(success)\n",
    "cate_df.head()"
   ]
  },
  {
   "cell_type": "code",
   "execution_count": null,
   "metadata": {
    "_uuid": "e319b1c46da51ddb1b54783ae217514780374003"
   },
   "outputs": [],
   "source": [
    "cate_df[\"success_rate\"] = cate_df['success_count']/ cate_df['count']\n",
    "cate_df.head()"
   ]
  },
  {
   "cell_type": "code",
   "execution_count": null,
   "metadata": {
    "_uuid": "a8e75bfe1319a9b6abec53dfaddec6388edb8edd"
   },
   "outputs": [],
   "source": [
    "# pledged_sum plot\n",
    "cate_df = cate_df.sort_values('pledged_sum',  ascending = False)\n",
    "plt.subplots(figsize = (20,5))\n",
    "sns.set_style(\"whitegrid\")\n",
    "sns.barplot(cate_df['pledged_sum'].index, y= cate_df['pledged_sum'] ,\n",
    "            palette=\"Set1\",saturation = 0.5)\n",
    "sns.despine(right = True, top = True)"
   ]
  },
  {
   "cell_type": "code",
   "execution_count": null,
   "metadata": {
    "_uuid": "999a4e2e52f5befb3aab77bd2f114444450a4cb8"
   },
   "outputs": [],
   "source": [
    "# avarage amount plot\n",
    "cate_df = cate_df.sort_values('average_amount',  ascending = False)\n",
    "plt.subplots(figsize = (20,5))\n",
    "sns.set_style(\"whitegrid\")\n",
    "sns.barplot(cate_df['average_amount'].index, y= cate_df['average_amount'] ,\n",
    "            palette=\"Set1\",saturation = 0.5)\n",
    "sns.despine(right = True, top = True)"
   ]
  },
  {
   "cell_type": "code",
   "execution_count": null,
   "metadata": {
    "_uuid": "789fe98114fefe6c194ce53ffb1485f0579caa48"
   },
   "outputs": [],
   "source": [
    "# count plot\n",
    "cate_df = cate_df.sort_values('count',  ascending = False)\n",
    "plt.subplots(figsize = (20,5))\n",
    "sns.set_style(\"whitegrid\")\n",
    "sns.barplot(cate_df['count'].index, y= cate_df['count'] ,\n",
    "            palette=\"Set1\",saturation = 0.5)\n",
    "sns.despine(right = True, top = True)"
   ]
  },
  {
   "cell_type": "code",
   "execution_count": null,
   "metadata": {
    "_uuid": "4d2f803dbd9264f36bc6cdcdf24654ba129fea14"
   },
   "outputs": [],
   "source": [
    "# success rate plot\n",
    "cate_df = cate_df.sort_values('success_rate',  ascending = False)\n",
    "plt.subplots(figsize = (20,5))\n",
    "sns.set_style(\"whitegrid\")\n",
    "sns.barplot(cate_df['success_rate'].index, y= cate_df['success_rate'] ,\n",
    "            palette=\"Set1\",saturation = 0.5)\n",
    "sns.despine(right = True, top = True)"
   ]
  },
  {
   "cell_type": "markdown",
   "metadata": {
    "_uuid": "670e257cbb84aa9d5235d452fa9a77a819eeaf16"
   },
   "source": [
    "## 4. Backers\n",
    "* 4.1 Discover categories that attract most backers\n",
    "* 4.2 The distribution of backers\n",
    "* 4.3 Relationship between backers & pledged amounts"
   ]
  },
  {
   "cell_type": "code",
   "execution_count": null,
   "metadata": {
    "_uuid": "1c5f56b02256fd687654425e3166bbdee9169405"
   },
   "outputs": [],
   "source": [
    "back_cate = {}\n",
    "\n",
    "for category in set(ksdf['main_category']):\n",
    "    backers = ksdf[ksdf['main_category'] == category]['backers'].sum()\n",
    "    back_cate[category] = backers\n",
    "\n",
    "backers = pd.Series(back_cate)\n",
    "cate_df['backers'] = backers"
   ]
  },
  {
   "cell_type": "code",
   "execution_count": null,
   "metadata": {
    "_uuid": "94898489b21cb3bf1cb9d2657c4b4ebcbeb6acfb"
   },
   "outputs": [],
   "source": [
    "cate_df = cate_df.sort_values('backers',  ascending = False)\n",
    "plt.subplots(figsize = (20,5))\n",
    "sns.set_style(\"whitegrid\")\n",
    "sns.barplot(cate_df['backers'].index, y= cate_df['backers'] ,\n",
    "            palette=\"Set1\",saturation = 0.5)\n",
    "sns.despine(right = True, top = True)"
   ]
  },
  {
   "cell_type": "code",
   "execution_count": null,
   "metadata": {
    "_uuid": "2f8e8fc28fa294304dc1c5d4a4708b7c81e52878"
   },
   "outputs": [],
   "source": [
    "ksdf['backers'].quantile(list(np.arange(0,1,0.01))).plot(grid = 0, color = '#055968')"
   ]
  },
  {
   "cell_type": "code",
   "execution_count": null,
   "metadata": {
    "_uuid": "f9d98e8010530a088f87f60fb869724f4603945f"
   },
   "outputs": [],
   "source": [
    "sns.set_style(\"whitegrid\")\n",
    "sns.kdeplot(ksdf['backers'])\n",
    "sns.despine(right = True, top = True)"
   ]
  },
  {
   "cell_type": "markdown",
   "metadata": {
    "_uuid": "600794b481c096b5a6f0f7b2c2cf4613b73ad036",
    "collapsed": true
   },
   "source": [
    "### 5. Modeling\n",
    "* 5.1 Backers & pledged amount - `Linear Regression`\n",
    "    - Use **backers** to predict **usd_pledged_real**\n",
    "    - Retrieve projects that are not zero-pledged\n",
    "    - Model\n",
    "        - Input (X): **backers** (logarithm)\n",
    "        - Output (Y): **usd_pledged_real** (logarithm)\n",
    "        - Loss estimation: mean squared error\n",
    "* 5.2 Project state prediction - `Random Forest`\n",
    "- Data processing\n",
    "    - Encode **state** column to binary:\n",
    "        - successful -> 1\n",
    "        - failed -> 0\n",
    "        - else -> delete\n",
    "    - Concatenate new data set: `ksdf_rf`\n",
    "        - **main_category**\n",
    "        - **time** \n",
    "        - **state**\n",
    "    - Data Split:\n",
    "        - train 70%\n",
    "        - test 30%\n",
    "    - Define X and Y\n",
    "        - X:\n",
    "            - category (one-hot)\n",
    "            -  main_category (one-hot)\n",
    "            - time\n",
    "        - Y:\n",
    "            - success/ failed (1/0)"
   ]
  },
  {
   "cell_type": "code",
   "execution_count": null,
   "metadata": {
    "_uuid": "6d2fb70b77814a971e5d176f6e250b4db4b76d05"
   },
   "outputs": [],
   "source": [
    "# Select not zero-pledged projects\n",
    "non_zero = ksdf[ksdf['usd_pledged_real'] != 0]\n",
    "print (non_zero.shape)"
   ]
  },
  {
   "cell_type": "code",
   "execution_count": null,
   "metadata": {
    "_uuid": "c66fcd9c9ae145c1cacc61babd2a29bdef93c08b"
   },
   "outputs": [],
   "source": [
    "# Define X and Y\n",
    "X = ksdf[ksdf['usd_pledged_real'] != 0]['backers'].values\n",
    "Y = ksdf[ksdf['usd_pledged_real'] != 0]['usd_pledged_real'].values\n",
    "\n",
    "print (X.shape)\n",
    "print (Y.shape)"
   ]
  },
  {
   "cell_type": "code",
   "execution_count": null,
   "metadata": {
    "_uuid": "c7bae2576ad934bb3a4c6f2b0a5cc3a00aedc165"
   },
   "outputs": [],
   "source": [
    "X = X.reshape(326134,1)\n",
    "Y = Y.reshape(326134,1)"
   ]
  },
  {
   "cell_type": "code",
   "execution_count": null,
   "metadata": {
    "_uuid": "e54d4b3f1f2cb97c611922aa7ca297289e780d1c"
   },
   "outputs": [],
   "source": [
    "# Model fitting and visualization\n",
    "regr = linear_model.LinearRegression()\n",
    "regr.fit(np.log(X+1), np.log(Y+1))\n",
    "\n",
    "plt.scatter(np.log(X+1), np.log(Y+1))\n",
    "plt.plot(np.log(X+1), regr.predict(np.log(X+1)), color='red', linewidth=3)\n",
    "plt.show()"
   ]
  },
  {
   "cell_type": "code",
   "execution_count": null,
   "metadata": {
    "_uuid": "f1594d41ca65d8df3c479e6eae4d1ed4e018d826"
   },
   "outputs": [],
   "source": [
    "# Results: error and parameters\n",
    "\n",
    "Y_pred = regr.predict(np.log(X+1))\n",
    "Y_true = np.log(Y+1)\n",
    "\n",
    "print (\"error = \", sklearn.metrics.mean_squared_error(Y_true, Y_pred))\n",
    "print (\"coefficient = \", regr.coef_)\n",
    "print (\"intercept = \", regr.intercept_)"
   ]
  },
  {
   "cell_type": "markdown",
   "metadata": {
    "_uuid": "6b4bc3c936d1b0a675bc29a972ead187e16d8c95"
   },
   "source": [
    "Encode **state** column to binary\n",
    "* successful -> 1\n",
    "* failed -> 0\n",
    "* else -> delete"
   ]
  },
  {
   "cell_type": "code",
   "execution_count": null,
   "metadata": {
    "_uuid": "09e40d1288e1dd96fcd6dc55fb4867dbd28bcdd0"
   },
   "outputs": [],
   "source": [
    "print (ksdf['state'].value_counts())\n",
    "print ('')\n",
    "print (\"ksdf.shape = \", ksdf.shape)"
   ]
  },
  {
   "cell_type": "code",
   "execution_count": null,
   "metadata": {
    "_uuid": "863c3426f24582b7eb9e9566974601d7e1d17b12"
   },
   "outputs": [],
   "source": [
    "def state_change(cell_value):\n",
    "    if cell_value == 'successful':\n",
    "        return 1\n",
    "    \n",
    "    elif cell_value == 'failed':\n",
    "        return 0\n",
    "    \n",
    "    else:\n",
    "        return 'del'"
   ]
  },
  {
   "cell_type": "code",
   "execution_count": null,
   "metadata": {
    "_uuid": "4d9e9eab9d3f691a2441d819f3245c7a687af338"
   },
   "outputs": [],
   "source": [
    "ksdf['state'] = ksdf['state'].apply(state_change)\n",
    "print (ksdf[ksdf['state'] == 1].shape)\n",
    "print (ksdf[ksdf['state'] == 0].shape)\n",
    "print (ksdf[ksdf['state'] == 'del'].shape)\n",
    "print (ksdf[ksdf['state'] == 1].shape[0] + ksdf[ksdf['state'] == 0].shape[0])"
   ]
  },
  {
   "cell_type": "markdown",
   "metadata": {
    "_uuid": "ef8240c0b43174a2a62fab9a60055d42ebd1ead8"
   },
   "source": [
    "Concatenate new DataFrame\n",
    "* **main_category**\n",
    "* **time** \n",
    "* **state**"
   ]
  },
  {
   "cell_type": "code",
   "execution_count": null,
   "metadata": {
    "_uuid": "804d9c0b5ec2b9875346624d9e4461c3e85947e8"
   },
   "outputs": [],
   "source": [
    "ksdf_rf = ksdf.drop(ksdf[ksdf['state'] == 'del'].index)\n",
    "print (ksdf_rf.shape)"
   ]
  },
  {
   "cell_type": "code",
   "execution_count": null,
   "metadata": {
    "_uuid": "5115bc365353201426e1ff087730db7c95496ac4"
   },
   "outputs": [],
   "source": [
    "ksdf_rf = pd.concat([\n",
    "                  ksdf_rf['main_category'],\n",
    "                  ksdf_rf['time'],\n",
    "                  ksdf_rf['state']], axis = 1\n",
    "                 )\n",
    "\n",
    "print (ksdf_rf.shape)"
   ]
  },
  {
   "cell_type": "markdown",
   "metadata": {
    "_uuid": "1838346c43eb8020b145bd4c2b117eb0b097072a"
   },
   "source": [
    "Data Split:\n",
    "* Train: 70%\n",
    "* Test: 30%"
   ]
  },
  {
   "cell_type": "code",
   "execution_count": null,
   "metadata": {
    "_uuid": "74cd9b9d4d30ab3631ee8e1daf5f87fe11a2ca66"
   },
   "outputs": [],
   "source": [
    "train, test = sklearn.model_selection.train_test_split(ksdf_rf, test_size = 0.3, random_state = 42)\n",
    "\n",
    "print (\"Train shape = \", train.shape, \",\", len(train)/ len(ksdf_rf) * 100, \"%\")\n",
    "print (\"Test shape = \", test.shape, \",\", len(test)/ len(ksdf_rf) * 100, \"%\")"
   ]
  },
  {
   "cell_type": "markdown",
   "metadata": {
    "_uuid": "d21479614462afb9d895e7cc468b30e2cfa43a6b"
   },
   "source": [
    "Define X and Y"
   ]
  },
  {
   "cell_type": "code",
   "execution_count": null,
   "metadata": {
    "_uuid": "1c2ecb10e0113f1e84ed598e4f9c0553c6e50aa6"
   },
   "outputs": [],
   "source": [
    "X_train = pd.concat(\n",
    "    [\n",
    "     pd.get_dummies(train['main_category'], prefix = 'main_category'),\n",
    "     train[\"time\"]\n",
    "    ], axis=1)\n",
    "\n",
    "Y_train = train['state']"
   ]
  },
  {
   "cell_type": "code",
   "execution_count": null,
   "metadata": {
    "_uuid": "562f7ccb23ec31f09c2a3301d446de971a576c3e"
   },
   "outputs": [],
   "source": [
    "X_test = pd.concat(\n",
    "    [\n",
    "     pd.get_dummies(test['main_category'], prefix = 'main_category'),\n",
    "     test[\"time\"]\n",
    "    ], axis=1)\n",
    "\n",
    "Y_test = test['state']"
   ]
  },
  {
   "cell_type": "code",
   "execution_count": null,
   "metadata": {
    "_uuid": "c40ed52d2888952ebec103c5f8d29bd27bf64a62"
   },
   "outputs": [],
   "source": [
    "X_train = X_train.astype(int)\n",
    "Y_train = Y_train.astype(int)\n",
    "X_test = X_test.astype(int)\n",
    "Y_test = Y_test.astype(int)\n",
    "\n",
    "print (X_train.shape)\n",
    "print (Y_train.shape)\n",
    "print (X_test.shape)\n",
    "print (Y_test.shape)"
   ]
  },
  {
   "cell_type": "markdown",
   "metadata": {
    "_uuid": "341c5b991adf5c06548979e103255133f9503a66"
   },
   "source": [
    "Random Forest"
   ]
  },
  {
   "cell_type": "code",
   "execution_count": null,
   "metadata": {
    "_uuid": "47c8ac102668bb2bf886305c0684901553a94052"
   },
   "outputs": [],
   "source": [
    "for_record = {\n",
    "    'baseline':{},\n",
    "    'best_random1':{},\n",
    "    'best_random2':{},\n",
    "    'best_random3':{},\n",
    "    'grid1':{},\n",
    "    'grid2':{}\n",
    "}"
   ]
  },
  {
   "cell_type": "code",
   "execution_count": null,
   "metadata": {
    "_uuid": "607e248b6fd7298e9cb3860670419e584b3bd5d1"
   },
   "outputs": [],
   "source": [
    "start = time.time()\n",
    "rf = RandomForestClassifier(random_state = 42)\n",
    "rf.fit(X_train, Y_train)\n",
    "end = time.time()\n",
    "sec = end - start\n",
    "Y_pred = rf.predict(X_train)"
   ]
  },
  {
   "cell_type": "code",
   "execution_count": null,
   "metadata": {
    "_uuid": "0a88ae855c0b8ed5f5bd06cbd910e21db0007ef0"
   },
   "outputs": [],
   "source": [
    "for_record['baseline']['params'] = rf.get_params()\n",
    "for_record['baseline']['time'] = sec\n",
    "for_record['baseline'][\"train_score\"] = rf.score(X_train, Y_train)\n",
    "for_record['baseline']['f1'] = f1_score(Y_train, Y_pred, average = 'weighted')\n",
    "for_record['baseline']['test_score'] = rf.score(X_test, Y_test)"
   ]
  },
  {
   "cell_type": "markdown",
   "metadata": {
    "_uuid": "58b957d6eae30e83bfb1ef757bedc7961652f344"
   },
   "source": [
    "Randomized Search 1"
   ]
  },
  {
   "cell_type": "code",
   "execution_count": null,
   "metadata": {
    "_uuid": "aeb67e4b7ecfd888b4d02ee62ff203f1e4567cdb"
   },
   "outputs": [],
   "source": [
    "# Number of trees in random forest\n",
    "n_estimators = [int(x) for x in range(2, 100, 10)]\n",
    "# Number of features to consider at every split\n",
    "max_features = ['auto', 'sqrt']\n",
    "# Maximum number of levels in tree\n",
    "max_depth = [int(x) for x in range(2,50,10)]\n",
    "# Minimum number of samples required to split a node\n",
    "min_samples_split = [2, 5, 10]\n",
    "# Minimum number of samples required at each leaf node\n",
    "min_samples_leaf = [1, 2, 4]\n",
    "# Method of selecting samples for training each tree\n",
    "bootstrap = [True, False]\n",
    "# Create the random grid\n",
    "param_rand1 = {'n_estimators': n_estimators,\n",
    "               'max_features': max_features,\n",
    "               'max_depth': max_depth,\n",
    "               'min_samples_split': min_samples_split,\n",
    "               'min_samples_leaf': min_samples_leaf,\n",
    "               'bootstrap': bootstrap}\n",
    "\n",
    "# Random search of parameters, using 3 fold cross validation, \n",
    "# search across 100 different combinations, and use all available cores\n",
    "rf_random1 = RandomizedSearchCV(estimator = rf, param_distributions = param_rand1, n_iter = 10, cv = 3, verbose=2, random_state=42, n_jobs = -1)\n",
    "# Fit the random search model\n",
    "rf_random1.fit(X_train, Y_train)\n",
    "\n",
    "# Use best random parameters to train a new model\n",
    "start = time.time()\n",
    "rf_rand1 = RandomForestClassifier(bootstrap = rf_random1.best_params_['bootstrap'],\n",
    "                                 max_depth = rf_random1.best_params_['max_depth'],\n",
    "                                 max_features = rf_random1.best_params_['max_features'],\n",
    "                                 min_samples_leaf = rf_random1.best_params_['min_samples_leaf'],\n",
    "                                 min_samples_split = rf_random1.best_params_['min_samples_split'],\n",
    "                                 n_estimators = rf_random1.best_params_['n_estimators'],\n",
    "                                 random_state = 42, n_jobs = -1)\n",
    "\n",
    "rf_rand1.fit(X_train, Y_train)\n",
    "end = time.time()\n",
    "rand1_time = end - start\n",
    "Y_pred = rf_rand1.predict(X_train)\n",
    "\n",
    "for_record['best_random1']['params'] = rf_rand1.get_params()\n",
    "for_record['best_random1']['time'] = rand1_time\n",
    "for_record['best_random1'][\"train_score\"] = rf_rand1.score(X_train, Y_train)\n",
    "for_record['best_random1']['f1'] = f1_score(Y_train, Y_pred, average = 'weighted')\n",
    "for_record['best_random1']['test_score'] = rf_rand1.score(X_test, Y_test)"
   ]
  },
  {
   "cell_type": "markdown",
   "metadata": {
    "_uuid": "992530584ce57c394a5dfb16fa9d44a68c7d6f8a"
   },
   "source": [
    "Grid Search 1"
   ]
  },
  {
   "cell_type": "code",
   "execution_count": null,
   "metadata": {
    "_uuid": "7cd32bcd050bd9a6ba17138fc1491d462a714885"
   },
   "outputs": [],
   "source": [
    "# # Number of trees in random forest\n",
    "# n_estimators = [int(x) for x in range(55, 65, 2)]\n",
    "# # Number of features to consider at every split\n",
    "# max_features = ['auto', 'sqrt']\n",
    "# # Maximum number of levels in tree\n",
    "# max_depth = [int(x) for x in range(2, 20, 2)]\n",
    "# # Minimum number of samples required to split a node\n",
    "# min_samples_split = [2,5,10]\n",
    "# # Minimum number of samples required at each leaf node\n",
    "# min_samples_leaf = [1,2,4]\n",
    "# # Method of selecting samples for training each tree\n",
    "# bootstrap = [True,False]\n",
    "# # Create the random grid\n",
    "# param_grid1 = {'n_estimators': n_estimators,\n",
    "#                'max_features': max_features,\n",
    "#                'max_depth': max_depth,\n",
    "#                'min_samples_split': min_samples_split,\n",
    "#                'min_samples_leaf': min_samples_leaf,\n",
    "#                'bootstrap': bootstrap}\n",
    "\n",
    "# # Random search of parameters, using 3 fold cross validation, \n",
    "# # search across 100 different combinations, and use all available cores\n",
    "# rf_grid1 = GridSearchCV(estimator = rf, param_grid = param_grid1, cv = 3, verbose=2, n_jobs = -1)\n",
    "# # Fit the random search model\n",
    "# rf_grid1.fit(X_train, Y_train)\n",
    "\n",
    "# # Use best random parameters to train a new model\n",
    "# start = time.time()\n",
    "# rf_grid1 = RandomForestClassifier(bootstrap = rf_grid1.best_params_['bootstrap'],\n",
    "#                                  max_depth = rf_grid1.best_params_['max_depth'],\n",
    "#                                  max_features = rf_grid1.best_params_['max_features'],\n",
    "#                                  min_samples_leaf = rf_grid1.best_params_['min_samples_leaf'],\n",
    "#                                  min_samples_split = rf_grid1.best_params_['min_samples_split'],\n",
    "#                                  n_estimators = rf_grid1.best_params_['n_estimators'],\n",
    "#                                  random_state = 42, n_jobs = -1)\n",
    "\n",
    "# rf_grid1.fit(X_train, Y_train)\n",
    "# end = time.time()\n",
    "# grid1_time = end - start\n",
    "# Y_pred = rf_grid1.predict(X_train)\n",
    "\n",
    "# for_record['grid1']['params'] = rf_grid1.get_params()\n",
    "# for_record['grid1']['time'] = grid1_time\n",
    "# for_record['grid1'][\"train_score\"] = rf_grid1.score(X_train, Y_train)\n",
    "# for_record['grid1']['f1'] = f1_score(Y_train, Y_pred, average = 'weighted')\n",
    "# for_record['grid1']['test_score'] = rf_grid1.score(X_test, Y_test)"
   ]
  },
  {
   "cell_type": "markdown",
   "metadata": {
    "_uuid": "8a8a7d62c27bc9622099242d7003b2e11c81e2e5"
   },
   "source": [
    "Randomized Search 2"
   ]
  },
  {
   "cell_type": "code",
   "execution_count": null,
   "metadata": {
    "_uuid": "7ccf6c1afc69acfd0bf874229be2ebc4649761bd"
   },
   "outputs": [],
   "source": [
    "# Number of trees in random forest\n",
    "n_estimators = [int(x) for x in range(100, 200, 10)]\n",
    "# Number of features to consider at every split\n",
    "max_features = ['auto', 'sqrt']\n",
    "# Maximum number of levels in tree\n",
    "max_depth = [int(x) for x in range(50,100,10)]\n",
    "# Minimum number of samples required to split a node\n",
    "min_samples_split = [2, 5, 10]\n",
    "# Minimum number of samples required at each leaf node\n",
    "min_samples_leaf = [1, 2, 4]\n",
    "# Method of selecting samples for training each tree\n",
    "bootstrap = [True, False]\n",
    "# Create the random grid\n",
    "param_random2 = {'n_estimators': n_estimators,\n",
    "               'max_features': max_features,\n",
    "               'max_depth': max_depth,\n",
    "               'min_samples_split': min_samples_split,\n",
    "               'min_samples_leaf': min_samples_leaf,\n",
    "               'bootstrap': bootstrap}\n",
    "\n",
    "# Random search of parameters, using 3 fold cross validation, \n",
    "# search across 100 different combinations, and use all available cores\n",
    "rf_random2 = RandomizedSearchCV(estimator = rf, param_distributions = param_random2, n_iter = 10, cv = 3, verbose=2, random_state=42, n_jobs = -1)\n",
    "# Fit the random search model\n",
    "rf_random2.fit(X_train, Y_train)\n",
    "\n",
    "# Use best random parameters to train a new model\n",
    "start = time.time()\n",
    "rf_rand2 = RandomForestClassifier(bootstrap = rf_random2.best_params_['bootstrap'],\n",
    "                                 max_depth = rf_random2.best_params_['max_depth'],\n",
    "                                 max_features = rf_random2.best_params_['max_features'],\n",
    "                                 min_samples_leaf = rf_random2.best_params_['min_samples_leaf'],\n",
    "                                 min_samples_split = rf_random2.best_params_['min_samples_split'],\n",
    "                                 n_estimators = rf_random2.best_params_['n_estimators'],\n",
    "                                 random_state = 42, n_jobs = -1)\n",
    "\n",
    "rf_rand2.fit(X_train, Y_train)\n",
    "end = time.time()\n",
    "rand2_time = end - start\n",
    "Y_pred = rf_rand2.predict(X_train)\n",
    "for_record['best_random2']['params'] = rf_rand2.get_params()\n",
    "for_record['best_random2']['time'] = rand2_time\n",
    "for_record['best_random2'][\"train_score\"] = rf_rand2.score(X_train, Y_train)\n",
    "for_record['best_random2']['f1'] = f1_score(Y_train, Y_pred, average = 'weighted')\n",
    "for_record['best_random2']['test_score'] = rf_rand2.score(X_test, Y_test)"
   ]
  },
  {
   "cell_type": "markdown",
   "metadata": {
    "_uuid": "a61aa768c4f2627528df2cc4afe55ba9860981cb"
   },
   "source": [
    "Grid Search 2"
   ]
  },
  {
   "cell_type": "code",
   "execution_count": null,
   "metadata": {
    "_uuid": "e5a870633c6e993890447f6062355a06850bd814"
   },
   "outputs": [],
   "source": [
    "# # Number of trees in random forest\n",
    "# n_estimators = [int(x) for x in range(100, 150, 2)]\n",
    "# # Number of features to consider at every split\n",
    "# max_features = 'auto'\n",
    "# # Maximum number of levels in tree\n",
    "# max_depth = [int(x) for x in range(2, 20, 2)]\n",
    "# # Minimum number of samples required to split a node\n",
    "# min_samples_split = 5\n",
    "# # Minimum number of samples required at each leaf node\n",
    "# min_samples_leaf = 2\n",
    "# # Method of selecting samples for training each tree\n",
    "# bootstrap = False\n",
    "# # Create the random grid\n",
    "# param_grid1 = {'n_estimators': n_estimators,\n",
    "#                'max_features': max_features,\n",
    "#                'max_depth': max_depth,\n",
    "#                'min_samples_split': min_samples_split,\n",
    "#                'min_samples_leaf': min_samples_leaf,\n",
    "#                'bootstrap': bootstrap}"
   ]
  },
  {
   "cell_type": "markdown",
   "metadata": {
    "_uuid": "e169c61205bfa0d8b45bbde02fc7bccd55f4944d",
    "collapsed": true
   },
   "source": [
    "Randomized Search 3"
   ]
  },
  {
   "cell_type": "code",
   "execution_count": null,
   "metadata": {
    "_uuid": "1e403a3a0c417385fc447a2028cf21de1aa858d9"
   },
   "outputs": [],
   "source": [
    "# Number of trees in random forest\n",
    "n_estimators = [int(x) for x in range(201, 300, 10)]\n",
    "# Number of features to consider at every split\n",
    "max_features = ['auto', 'sqrt']\n",
    "# Maximum number of levels in tree\n",
    "max_depth = [int(x) for x in range(100,150,10)]\n",
    "# Minimum number of samples required to split a node\n",
    "min_samples_split = [2, 5, 10]\n",
    "# Minimum number of samples required at each leaf node\n",
    "min_samples_leaf = [1, 2, 4]\n",
    "# Method of selecting samples for training each tree\n",
    "bootstrap = [True, False]\n",
    "# Create the random grid\n",
    "param_random3 = {'n_estimators': n_estimators,\n",
    "               'max_features': max_features,\n",
    "               'max_depth': max_depth,\n",
    "               'min_samples_split': min_samples_split,\n",
    "               'min_samples_leaf': min_samples_leaf,\n",
    "               'bootstrap': bootstrap}\n",
    "\n",
    "# Random search of parameters, using 3 fold cross validation, \n",
    "# search across 100 different combinations, and use all available cores\n",
    "rf_random3 = RandomizedSearchCV(estimator = rf, param_distributions = param_random3, n_iter = 10, cv = 3, verbose=2, random_state=42, n_jobs = -1)\n",
    "# Fit the random search model\n",
    "rf_random3.fit(X_train, Y_train)\n",
    "\n",
    "# Use best random parameters to train a new model\n",
    "start = time.time()\n",
    "rf_rand3 = RandomForestClassifier(bootstrap = rf_random3.best_params_['bootstrap'],\n",
    "                                 max_depth = rf_random3.best_params_['max_depth'],\n",
    "                                 max_features = rf_random3.best_params_['max_features'],\n",
    "                                 min_samples_leaf = rf_random3.best_params_['min_samples_leaf'],\n",
    "                                 min_samples_split = rf_random3.best_params_['min_samples_split'],\n",
    "                                 n_estimators = rf_random3.best_params_['n_estimators'],\n",
    "                                 random_state = 42, n_jobs = -1)\n",
    "\n",
    "rf_rand3.fit(X_train, Y_train)\n",
    "end = time.time()\n",
    "rand3_time = end - start\n",
    "Y_pred = rf_rand3.predict(X_train)\n",
    "for_record['best_random3']['params'] = rf_rand3.get_params()\n",
    "for_record['best_random3']['time'] = rand3_time\n",
    "for_record['best_random3'][\"train_score\"] = rf_rand3.score(X_train, Y_train)\n",
    "for_record['best_random3']['f1'] = f1_score(Y_train, Y_pred, average = 'weighted')\n",
    "for_record['best_random3']['test_score'] = rf_rand3.score(X_test, Y_test)"
   ]
  },
  {
   "cell_type": "code",
   "execution_count": null,
   "metadata": {
    "_uuid": "b7afeec86ecee3290f86d52235dc98b43d88f5dd"
   },
   "outputs": [],
   "source": [
    "print (for_record['best_random1']['test_score'])\n",
    "print (for_record['best_random2']['test_score'])\n",
    "print (for_record['best_random3']['test_score'])"
   ]
  },
  {
   "cell_type": "code",
   "execution_count": null,
   "metadata": {
    "_uuid": "821c67c17281644801969ac2898552dafbc01117"
   },
   "outputs": [],
   "source": []
  }
 ],
 "metadata": {
  "kernelspec": {
   "display_name": "Python 3",
   "language": "python",
   "name": "python3"
  },
  "language_info": {
   "codemirror_mode": {
    "name": "ipython",
    "version": 3
   },
   "file_extension": ".py",
   "mimetype": "text/x-python",
   "name": "python",
   "nbconvert_exporter": "python",
   "pygments_lexer": "ipython3",
   "version": "3.7.9"
  },
  "toc": {
   "base_numbering": 1,
   "nav_menu": {},
   "number_sections": true,
   "sideBar": true,
   "skip_h1_title": false,
   "title_cell": "Table of Contents",
   "title_sidebar": "Contents",
   "toc_cell": false,
   "toc_position": {},
   "toc_section_display": true,
   "toc_window_display": false
  }
 },
 "nbformat": 4,
 "nbformat_minor": 1
}
