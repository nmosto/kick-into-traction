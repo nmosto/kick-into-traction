{
 "cells": [
  {
   "cell_type": "markdown",
   "metadata": {},
   "source": [
    "# Intro\n",
    "\n",
    "**Objective**: Create an organized features dataset merging elements from the web-scrapped web_robots_data dataset and my engineered strucral image features \n",
    "\n",
    "**Data**\n",
    "\n",
    "Web_robots_data metadata for kickstarter.com campaigns - source: \n",
    "\n",
    "https://webrobots.io/kickstarter-datasets/\n",
    "\n",
    "Low-level strucural image features:\n",
    "\n",
    "Two files of structural image features to be combined. These were genereated using functions from folder in this repository called image-feature-engineering and then saved in a pandas dataframe structures in:\n",
    "\n",
    "    features_full_w_dom_color_df1p1.pkl\n",
    "    features_full_w_dom_color_df1p2.pkl\n",
    "\n",
    "\n",
    "Author: Nicholas Mostovych"
   ]
  },
  {
   "cell_type": "markdown",
   "metadata": {},
   "source": [
    "# Imports"
   ]
  },
  {
   "cell_type": "code",
   "execution_count": 2,
   "metadata": {},
   "outputs": [],
   "source": [
    "# Load required libraries\n",
    "import numpy as np\n",
    "import pandas as pd\n",
    "import joblib\n",
    "import time\n",
    "\n",
    "## Interactive env\n",
    "import warnings\n",
    "warnings.filterwarnings('ignore')\n",
    "from IPython.core.display import clear_output"
   ]
  },
  {
   "cell_type": "code",
   "execution_count": 3,
   "metadata": {},
   "outputs": [],
   "source": [
    "# Webscrapped meta-data\n",
    "datafile = '/home/mosto/Documents/insight/kickstarter-project/web_robots_data_to_08-2020_processed.pkl'"
   ]
  },
  {
   "cell_type": "code",
   "execution_count": 9,
   "metadata": {},
   "outputs": [],
   "source": [
    "# My engineered image features\n",
    "features_table_df1p1 = '/home/mosto/Documents/insight/kickstarter-project/features_full_w_dom_color_df1p1.pkl'\n",
    "features_table_df1p2 = '/home/mosto/Documents/insight/kickstarter-project/features_full_w_dom_color_df1p2.pkl'"
   ]
  },
  {
   "cell_type": "code",
   "execution_count": 10,
   "metadata": {},
   "outputs": [],
   "source": [
    "# Load table containing processed image features data\n",
    "features_df1p1 = joblib.load(features_table_df1p1)\n",
    "features_df1p2 = joblib.load(features_table_df1p2)"
   ]
  },
  {
   "cell_type": "code",
   "execution_count": 6,
   "metadata": {},
   "outputs": [],
   "source": [
    "# Load table containing Web Robots data\n",
    "df = joblib.load(datafile)"
   ]
  },
  {
   "cell_type": "markdown",
   "metadata": {},
   "source": [
    "# Data Review"
   ]
  },
  {
   "cell_type": "code",
   "execution_count": 8,
   "metadata": {},
   "outputs": [
    {
     "data": {
      "text/html": [
       "<div>\n",
       "<style scoped>\n",
       "    .dataframe tbody tr th:only-of-type {\n",
       "        vertical-align: middle;\n",
       "    }\n",
       "\n",
       "    .dataframe tbody tr th {\n",
       "        vertical-align: top;\n",
       "    }\n",
       "\n",
       "    .dataframe thead th {\n",
       "        text-align: right;\n",
       "    }\n",
       "</style>\n",
       "<table border=\"1\" class=\"dataframe\">\n",
       "  <thead>\n",
       "    <tr style=\"text-align: right;\">\n",
       "      <th></th>\n",
       "      <th>name</th>\n",
       "      <th>id</th>\n",
       "      <th>blurb</th>\n",
       "      <th>category</th>\n",
       "      <th>url</th>\n",
       "      <th>currency</th>\n",
       "      <th>pledged</th>\n",
       "      <th>goal</th>\n",
       "      <th>state</th>\n",
       "      <th>location</th>\n",
       "      <th>creator_id</th>\n",
       "      <th>launched_at</th>\n",
       "      <th>deadline</th>\n",
       "      <th>backers</th>\n",
       "      <th>staff_pick</th>\n",
       "      <th>creator_name</th>\n",
       "      <th>created_at</th>\n",
       "    </tr>\n",
       "  </thead>\n",
       "  <tbody>\n",
       "    <tr>\n",
       "      <th>0</th>\n",
       "      <td>Print 1000 Copies of The DENA Magazine Issue #...</td>\n",
       "      <td>551250</td>\n",
       "      <td>Be a part of history as we become the living d...</td>\n",
       "      <td>Periodicals</td>\n",
       "      <td>https://www.kickstarter.com/projects/105349506...</td>\n",
       "      <td>USD</td>\n",
       "      <td>0</td>\n",
       "      <td>2900</td>\n",
       "      <td>failed</td>\n",
       "      <td>Pasadena, CA</td>\n",
       "      <td>1053495067</td>\n",
       "      <td>1368125818</td>\n",
       "      <td>1372640400</td>\n",
       "      <td>0</td>\n",
       "      <td>False</td>\n",
       "      <td>Jason Hardin</td>\n",
       "      <td>1.367192e+09</td>\n",
       "    </tr>\n",
       "    <tr>\n",
       "      <th>1</th>\n",
       "      <td>Hopskeller Brewing Company -- Community Beer G...</td>\n",
       "      <td>1284652</td>\n",
       "      <td>Be a part of the Hopskeller family and let's b...</td>\n",
       "      <td>Small Batch</td>\n",
       "      <td>https://www.kickstarter.com/projects/hopskelle...</td>\n",
       "      <td>USD</td>\n",
       "      <td>21832</td>\n",
       "      <td>20000</td>\n",
       "      <td>successful</td>\n",
       "      <td>Waterloo, IL</td>\n",
       "      <td>1799737223</td>\n",
       "      <td>1452897383</td>\n",
       "      <td>1455489383</td>\n",
       "      <td>117</td>\n",
       "      <td>False</td>\n",
       "      <td>Matthew Schweizer</td>\n",
       "      <td>1.407877e+09</td>\n",
       "    </tr>\n",
       "    <tr>\n",
       "      <th>2</th>\n",
       "      <td>Southern Fusion Bbq Food Truck</td>\n",
       "      <td>3003776</td>\n",
       "      <td>I'm a looking to start my own food truck. I ha...</td>\n",
       "      <td>Food Trucks</td>\n",
       "      <td>https://www.kickstarter.com/projects/622491845...</td>\n",
       "      <td>USD</td>\n",
       "      <td>1</td>\n",
       "      <td>10000</td>\n",
       "      <td>failed</td>\n",
       "      <td>Tampa, FL</td>\n",
       "      <td>622491845</td>\n",
       "      <td>1495109582</td>\n",
       "      <td>1498881540</td>\n",
       "      <td>1</td>\n",
       "      <td>False</td>\n",
       "      <td>Russel Short</td>\n",
       "      <td>1.495024e+09</td>\n",
       "    </tr>\n",
       "    <tr>\n",
       "      <th>3</th>\n",
       "      <td>Help the Green Boys release their second album...</td>\n",
       "      <td>532135</td>\n",
       "      <td>The Green Boys are finished recording their se...</td>\n",
       "      <td>Country &amp; Folk</td>\n",
       "      <td>https://www.kickstarter.com/projects/112702461...</td>\n",
       "      <td>USD</td>\n",
       "      <td>4213</td>\n",
       "      <td>3000</td>\n",
       "      <td>successful</td>\n",
       "      <td>Richmond, VA</td>\n",
       "      <td>112702461</td>\n",
       "      <td>1366404388</td>\n",
       "      <td>1368244740</td>\n",
       "      <td>105</td>\n",
       "      <td>False</td>\n",
       "      <td>The Green Boys</td>\n",
       "      <td>1.365637e+09</td>\n",
       "    </tr>\n",
       "    <tr>\n",
       "      <th>4</th>\n",
       "      <td>Creative Lighting with Yongnuo SpeedLights</td>\n",
       "      <td>1062669</td>\n",
       "      <td>I push the limits into what can be achieved wi...</td>\n",
       "      <td>Photobooks</td>\n",
       "      <td>https://www.kickstarter.com/projects/152187118...</td>\n",
       "      <td>USD</td>\n",
       "      <td>1</td>\n",
       "      <td>2000</td>\n",
       "      <td>failed</td>\n",
       "      <td>Minneapolis, MN</td>\n",
       "      <td>1521871187</td>\n",
       "      <td>1402605560</td>\n",
       "      <td>1405197560</td>\n",
       "      <td>1</td>\n",
       "      <td>False</td>\n",
       "      <td>Peter Chang</td>\n",
       "      <td>1.402425e+09</td>\n",
       "    </tr>\n",
       "  </tbody>\n",
       "</table>\n",
       "</div>"
      ],
      "text/plain": [
       "                                                name       id  \\\n",
       "0  Print 1000 Copies of The DENA Magazine Issue #...   551250   \n",
       "1  Hopskeller Brewing Company -- Community Beer G...  1284652   \n",
       "2                     Southern Fusion Bbq Food Truck  3003776   \n",
       "3  Help the Green Boys release their second album...   532135   \n",
       "4         Creative Lighting with Yongnuo SpeedLights  1062669   \n",
       "\n",
       "                                               blurb        category  \\\n",
       "0  Be a part of history as we become the living d...     Periodicals   \n",
       "1  Be a part of the Hopskeller family and let's b...     Small Batch   \n",
       "2  I'm a looking to start my own food truck. I ha...     Food Trucks   \n",
       "3  The Green Boys are finished recording their se...  Country & Folk   \n",
       "4  I push the limits into what can be achieved wi...      Photobooks   \n",
       "\n",
       "                                                 url currency pledged   goal  \\\n",
       "0  https://www.kickstarter.com/projects/105349506...      USD       0   2900   \n",
       "1  https://www.kickstarter.com/projects/hopskelle...      USD   21832  20000   \n",
       "2  https://www.kickstarter.com/projects/622491845...      USD       1  10000   \n",
       "3  https://www.kickstarter.com/projects/112702461...      USD    4213   3000   \n",
       "4  https://www.kickstarter.com/projects/152187118...      USD       1   2000   \n",
       "\n",
       "        state         location  creator_id launched_at    deadline backers  \\\n",
       "0      failed     Pasadena, CA  1053495067  1368125818  1372640400       0   \n",
       "1  successful     Waterloo, IL  1799737223  1452897383  1455489383     117   \n",
       "2      failed        Tampa, FL   622491845  1495109582  1498881540       1   \n",
       "3  successful     Richmond, VA   112702461  1366404388  1368244740     105   \n",
       "4      failed  Minneapolis, MN  1521871187  1402605560  1405197560       1   \n",
       "\n",
       "  staff_pick       creator_name    created_at  \n",
       "0      False       Jason Hardin  1.367192e+09  \n",
       "1      False  Matthew Schweizer  1.407877e+09  \n",
       "2      False       Russel Short  1.495024e+09  \n",
       "3      False     The Green Boys  1.365637e+09  \n",
       "4      False        Peter Chang  1.402425e+09  "
      ]
     },
     "execution_count": 8,
     "metadata": {},
     "output_type": "execute_result"
    }
   ],
   "source": [
    "# Look at Metadata\n",
    "df.head()"
   ]
  },
  {
   "cell_type": "code",
   "execution_count": 11,
   "metadata": {},
   "outputs": [
    {
     "name": "stdout",
     "output_type": "stream",
     "text": [
      "<class 'pandas.core.frame.DataFrame'>\n",
      "Int64Index: 4929 entries, 0 to 4956\n",
      "Data columns (total 17 columns):\n",
      " #   Column               Non-Null Count  Dtype  \n",
      "---  ------               --------------  -----  \n",
      " 0   image                4929 non-null   object \n",
      " 1   dullness             4917 non-null   float64\n",
      " 2   brightness           4917 non-null   float64\n",
      " 3   average_pixel_width  4929 non-null   float64\n",
      " 4   average_color        4929 non-null   object \n",
      " 5   average_red          4929 non-null   float64\n",
      " 6   average_green        4929 non-null   float64\n",
      " 7   average_blue         4929 non-null   float64\n",
      " 8   image_size           4929 non-null   int64  \n",
      " 9   temp_size            4929 non-null   object \n",
      " 10  width                4929 non-null   int64  \n",
      " 11  height               4929 non-null   int64  \n",
      " 12  blurrness            4929 non-null   float64\n",
      " 13  dominant_color       4929 non-null   object \n",
      " 14  dominant_red         4929 non-null   float64\n",
      " 15  dominant_green       4929 non-null   float64\n",
      " 16  dominant_blue        4929 non-null   float64\n",
      "dtypes: float64(10), int64(3), object(4)\n",
      "memory usage: 693.1+ KB\n"
     ]
    }
   ],
   "source": [
    "# look at structural features data\n",
    "features_df1p1.info()"
   ]
  },
  {
   "cell_type": "code",
   "execution_count": 12,
   "metadata": {},
   "outputs": [
    {
     "name": "stdout",
     "output_type": "stream",
     "text": [
      "<class 'pandas.core.frame.DataFrame'>\n",
      "Int64Index: 4929 entries, 0 to 4956\n",
      "Data columns (total 17 columns):\n",
      " #   Column               Non-Null Count  Dtype  \n",
      "---  ------               --------------  -----  \n",
      " 0   image                4929 non-null   object \n",
      " 1   dullness             4917 non-null   float64\n",
      " 2   brightness           4917 non-null   float64\n",
      " 3   average_pixel_width  4929 non-null   float64\n",
      " 4   average_color        4929 non-null   object \n",
      " 5   average_red          4929 non-null   float64\n",
      " 6   average_green        4929 non-null   float64\n",
      " 7   average_blue         4929 non-null   float64\n",
      " 8   image_size           4929 non-null   int64  \n",
      " 9   temp_size            4929 non-null   object \n",
      " 10  width                4929 non-null   int64  \n",
      " 11  height               4929 non-null   int64  \n",
      " 12  blurrness            4929 non-null   float64\n",
      " 13  dominant_color       4929 non-null   object \n",
      " 14  dominant_red         4929 non-null   float64\n",
      " 15  dominant_green       4929 non-null   float64\n",
      " 16  dominant_blue        4929 non-null   float64\n",
      "dtypes: float64(10), int64(3), object(4)\n",
      "memory usage: 693.1+ KB\n"
     ]
    }
   ],
   "source": [
    "# look at structural features data\n",
    "features_df1p1.info()"
   ]
  },
  {
   "cell_type": "markdown",
   "metadata": {},
   "source": [
    "# Data Organization"
   ]
  },
  {
   "cell_type": "code",
   "execution_count": 13,
   "metadata": {},
   "outputs": [],
   "source": [
    "# Merge stuctural features data\n",
    "features = features_df1p1.copy()\n",
    "features = features.append(features_df1p2, ignore_index=True)"
   ]
  },
  {
   "cell_type": "code",
   "execution_count": 15,
   "metadata": {},
   "outputs": [
    {
     "data": {
      "text/plain": [
       "(10000, 17)"
      ]
     },
     "execution_count": 15,
     "metadata": {},
     "output_type": "execute_result"
    }
   ],
   "source": [
    "# Obtain subset of images that were scrapped from the large web robots dataset\n",
    "'''\n",
    "A subset of images was randomly sampled from the large web robots dataset and then\n",
    "the images were downloaded from Kickstarter.com. These randomly selected images are\n",
    "specified using the random seed number of 74 and then this dataset looks at the first\n",
    "10000 images of this dataset\n",
    "'''\n",
    "\n",
    "# Select projects in USD\n",
    "df_USD = df[df['currency'] == 'USD']\n",
    "# Take a random sample of the Web Robots data using a seed value to ensure repeatability\n",
    "seed = np.random.seed(74)\n",
    "df_sample = df_USD.sample(50000)\n",
    "df1_sample=df_sample.iloc[:10000]\n",
    "df1_sample.shape"
   ]
  },
  {
   "cell_type": "code",
   "execution_count": 16,
   "metadata": {},
   "outputs": [
    {
     "data": {
      "text/html": [
       "<div>\n",
       "<style scoped>\n",
       "    .dataframe tbody tr th:only-of-type {\n",
       "        vertical-align: middle;\n",
       "    }\n",
       "\n",
       "    .dataframe tbody tr th {\n",
       "        vertical-align: top;\n",
       "    }\n",
       "\n",
       "    .dataframe thead th {\n",
       "        text-align: right;\n",
       "    }\n",
       "</style>\n",
       "<table border=\"1\" class=\"dataframe\">\n",
       "  <thead>\n",
       "    <tr style=\"text-align: right;\">\n",
       "      <th></th>\n",
       "      <th>name</th>\n",
       "      <th>id</th>\n",
       "      <th>blurb</th>\n",
       "      <th>category</th>\n",
       "      <th>url</th>\n",
       "      <th>currency</th>\n",
       "      <th>pledged</th>\n",
       "      <th>goal</th>\n",
       "      <th>state</th>\n",
       "      <th>location</th>\n",
       "      <th>creator_id</th>\n",
       "      <th>launched_at</th>\n",
       "      <th>deadline</th>\n",
       "      <th>backers</th>\n",
       "      <th>staff_pick</th>\n",
       "      <th>creator_name</th>\n",
       "      <th>created_at</th>\n",
       "    </tr>\n",
       "  </thead>\n",
       "  <tbody>\n",
       "    <tr>\n",
       "      <th>3990</th>\n",
       "      <td>Glow Girls start up fund</td>\n",
       "      <td>2896853</td>\n",
       "      <td>We are raising funds for Marketing purposes su...</td>\n",
       "      <td>DIY</td>\n",
       "      <td>https://www.kickstarter.com/projects/165542940...</td>\n",
       "      <td>USD</td>\n",
       "      <td>541</td>\n",
       "      <td>500</td>\n",
       "      <td>1</td>\n",
       "      <td>Seattle, WA</td>\n",
       "      <td>1655429407</td>\n",
       "      <td>1488242943</td>\n",
       "      <td>1490831343</td>\n",
       "      <td>12</td>\n",
       "      <td>0.0</td>\n",
       "      <td>Claudia</td>\n",
       "      <td>1.488210e+09</td>\n",
       "    </tr>\n",
       "    <tr>\n",
       "      <th>124723</th>\n",
       "      <td>Studio for Artists</td>\n",
       "      <td>2738647</td>\n",
       "      <td>Unexpected health issues has taken it's toll o...</td>\n",
       "      <td>Painting</td>\n",
       "      <td>https://www.kickstarter.com/projects/117655044...</td>\n",
       "      <td>USD</td>\n",
       "      <td>50</td>\n",
       "      <td>5000</td>\n",
       "      <td>0</td>\n",
       "      <td>Naples, FL</td>\n",
       "      <td>1176550444</td>\n",
       "      <td>1477960965</td>\n",
       "      <td>1480528140</td>\n",
       "      <td>1</td>\n",
       "      <td>0.0</td>\n",
       "      <td>Arthur Morehead</td>\n",
       "      <td>1.477769e+09</td>\n",
       "    </tr>\n",
       "    <tr>\n",
       "      <th>52182</th>\n",
       "      <td>Quickstarter: Mechanized Fabrications-What is ...</td>\n",
       "      <td>3736756</td>\n",
       "      <td>A look into a world lost to progress, and the ...</td>\n",
       "      <td>Comic Books</td>\n",
       "      <td>https://www.kickstarter.com/projects/mechanize...</td>\n",
       "      <td>USD</td>\n",
       "      <td>317</td>\n",
       "      <td>300</td>\n",
       "      <td>1</td>\n",
       "      <td>Alexandria, VA</td>\n",
       "      <td>385588855</td>\n",
       "      <td>1559061039</td>\n",
       "      <td>1560789039</td>\n",
       "      <td>11</td>\n",
       "      <td>0.0</td>\n",
       "      <td>Sebastian J</td>\n",
       "      <td>1.558452e+09</td>\n",
       "    </tr>\n",
       "    <tr>\n",
       "      <th>43468</th>\n",
       "      <td>Photography Business launch for Joseph in Nair...</td>\n",
       "      <td>3778504</td>\n",
       "      <td>Joseph Koya is launching his photography busin...</td>\n",
       "      <td>Places</td>\n",
       "      <td>https://www.kickstarter.com/projects/kingkoya/...</td>\n",
       "      <td>USD</td>\n",
       "      <td>111</td>\n",
       "      <td>1000</td>\n",
       "      <td>0</td>\n",
       "      <td>Nairobi, Kenya</td>\n",
       "      <td>1760691886</td>\n",
       "      <td>1564473990</td>\n",
       "      <td>1569657990</td>\n",
       "      <td>3</td>\n",
       "      <td>0.0</td>\n",
       "      <td>Jospeph (posted by Doug)</td>\n",
       "      <td>1.563865e+09</td>\n",
       "    </tr>\n",
       "    <tr>\n",
       "      <th>41219</th>\n",
       "      <td>Bokeh Fire: Lenses for Everyone</td>\n",
       "      <td>1465799</td>\n",
       "      <td>A simple monthly lens rental service for photo...</td>\n",
       "      <td>Camera Equipment</td>\n",
       "      <td>https://www.kickstarter.com/projects/panok/bok...</td>\n",
       "      <td>USD</td>\n",
       "      <td>21219</td>\n",
       "      <td>20000</td>\n",
       "      <td>1</td>\n",
       "      <td>Philadelphia, PA</td>\n",
       "      <td>131591379</td>\n",
       "      <td>1415854680</td>\n",
       "      <td>1418508000</td>\n",
       "      <td>124</td>\n",
       "      <td>0.0</td>\n",
       "      <td>Pano K</td>\n",
       "      <td>1.414168e+09</td>\n",
       "    </tr>\n",
       "  </tbody>\n",
       "</table>\n",
       "</div>"
      ],
      "text/plain": [
       "                                                     name       id  \\\n",
       "3990                             Glow Girls start up fund  2896853   \n",
       "124723                                 Studio for Artists  2738647   \n",
       "52182   Quickstarter: Mechanized Fabrications-What is ...  3736756   \n",
       "43468   Photography Business launch for Joseph in Nair...  3778504   \n",
       "41219                     Bokeh Fire: Lenses for Everyone  1465799   \n",
       "\n",
       "                                                    blurb          category  \\\n",
       "3990    We are raising funds for Marketing purposes su...               DIY   \n",
       "124723  Unexpected health issues has taken it's toll o...          Painting   \n",
       "52182   A look into a world lost to progress, and the ...       Comic Books   \n",
       "43468   Joseph Koya is launching his photography busin...            Places   \n",
       "41219   A simple monthly lens rental service for photo...  Camera Equipment   \n",
       "\n",
       "                                                      url currency pledged  \\\n",
       "3990    https://www.kickstarter.com/projects/165542940...      USD     541   \n",
       "124723  https://www.kickstarter.com/projects/117655044...      USD      50   \n",
       "52182   https://www.kickstarter.com/projects/mechanize...      USD     317   \n",
       "43468   https://www.kickstarter.com/projects/kingkoya/...      USD     111   \n",
       "41219   https://www.kickstarter.com/projects/panok/bok...      USD   21219   \n",
       "\n",
       "         goal  state          location  creator_id launched_at    deadline  \\\n",
       "3990      500      1       Seattle, WA  1655429407  1488242943  1490831343   \n",
       "124723   5000      0        Naples, FL  1176550444  1477960965  1480528140   \n",
       "52182     300      1    Alexandria, VA   385588855  1559061039  1560789039   \n",
       "43468    1000      0    Nairobi, Kenya  1760691886  1564473990  1569657990   \n",
       "41219   20000      1  Philadelphia, PA   131591379  1415854680  1418508000   \n",
       "\n",
       "       backers  staff_pick              creator_name    created_at  \n",
       "3990        12         0.0                   Claudia  1.488210e+09  \n",
       "124723       1         0.0           Arthur Morehead  1.477769e+09  \n",
       "52182       11         0.0               Sebastian J  1.558452e+09  \n",
       "43468        3         0.0  Jospeph (posted by Doug)  1.563865e+09  \n",
       "41219      124         0.0                    Pano K  1.414168e+09  "
      ]
     },
     "execution_count": 16,
     "metadata": {},
     "output_type": "execute_result"
    }
   ],
   "source": [
    "# Label encode the sucess and faile states\n",
    "cleanup_nums = {'state':{'successful':1, 'failed':0, 'live':2, 'canceled':0}, 'staff_pick':{False:0, True:1}}\n",
    "df1_sample.replace(cleanup_nums, inplace=True)\n",
    "df1_sample.head()"
   ]
  },
  {
   "cell_type": "code",
   "execution_count": 17,
   "metadata": {},
   "outputs": [],
   "source": [
    "# Change objects to numbers in dataframes for merging\n",
    "df1_sample['state'] = pd.to_numeric(df1_sample['state'])\n",
    "df1_sample['pledged'] = pd.to_numeric(df1_sample['pledged'])\n",
    "df1_sample['goal'] = pd.to_numeric(df1_sample['goal'])\n",
    "df1_sample['backers'] = pd.to_numeric(df1_sample['goal'])\n",
    "df1_sample['staff_pick'] = pd.to_numeric(df1_sample['staff_pick'])\n",
    "df1_sample['launched_at'] = pd.to_numeric(df1_sample['launched_at'])\n",
    "df1_sample['deadline'] = pd.to_numeric(df1_sample['deadline'])\n",
    "\n",
    "\n",
    "features['image'] = pd.to_numeric(features['image'])"
   ]
  },
  {
   "cell_type": "code",
   "execution_count": 18,
   "metadata": {},
   "outputs": [
    {
     "name": "stdout",
     "output_type": "stream",
     "text": [
      "<class 'pandas.core.frame.DataFrame'>\n",
      "Int64Index: 10893 entries, 0 to 10892\n",
      "Data columns (total 25 columns):\n",
      " #   Column               Non-Null Count  Dtype  \n",
      "---  ------               --------------  -----  \n",
      " 0   image                10893 non-null  int64  \n",
      " 1   dullness             10865 non-null  float64\n",
      " 2   brightness           10865 non-null  float64\n",
      " 3   average_pixel_width  10893 non-null  float64\n",
      " 4   average_color        10893 non-null  object \n",
      " 5   average_red          10893 non-null  float64\n",
      " 6   average_green        10893 non-null  float64\n",
      " 7   average_blue         10893 non-null  float64\n",
      " 8   image_size           10893 non-null  int64  \n",
      " 9   temp_size            10893 non-null  object \n",
      " 10  width                10893 non-null  int64  \n",
      " 11  height               10893 non-null  int64  \n",
      " 12  blurrness            10893 non-null  float64\n",
      " 13  dominant_color       10893 non-null  object \n",
      " 14  dominant_red         10893 non-null  float64\n",
      " 15  dominant_green       10893 non-null  float64\n",
      " 16  dominant_blue        10893 non-null  float64\n",
      " 17  state                10893 non-null  int64  \n",
      " 18  pledged              10893 non-null  float64\n",
      " 19  goal                 10893 non-null  float64\n",
      " 20  backers              10893 non-null  float64\n",
      " 21  staff_pick           10879 non-null  float64\n",
      " 22  launched_at          10879 non-null  float64\n",
      " 23  deadline             10879 non-null  float64\n",
      " 24  category             10893 non-null  object \n",
      "dtypes: float64(16), int64(5), object(4)\n",
      "memory usage: 2.2+ MB\n"
     ]
    }
   ],
   "source": [
    "# Make a new dataframe with selected metadata and do a left merge with the features dataframe\n",
    "# Create dictionary\n",
    "keys=df1_sample.index\n",
    "state=df1_sample.state\n",
    "pledged=df1_sample.pledged\n",
    "goal=df1_sample.goal\n",
    "backers=df1_sample.backers\n",
    "staff_pick=df1_sample.staff_pick\n",
    "launched_at=df1_sample.launched_at\n",
    "deadline=df1_sample.deadline\n",
    "category=df1_sample.category\n",
    "dictionary = dict(zip(keys,state))\n",
    "\n",
    "d = {'image':keys, 'state':state, 'pledged':pledged, 'goal':goal, 'backers':backers, 'staff_pick':staff_pick,\n",
    "        'launched_at':launched_at, 'deadline':deadline, 'category':category}\n",
    "\n",
    "# Create dataframe\n",
    "df2 = pd.DataFrame(data=d)\n",
    "df2.head()\n",
    "\n",
    "# Left merge to only have rows with complete data from features\n",
    "left_merged = pd.merge(features, df2,\n",
    "                        how=\"left\", on=[\"image\"])\n",
    "# Name new dataframe with metadata, state and features\n",
    "features_with_state=left_merged\n",
    "features_with_state.info()"
   ]
  },
  {
   "cell_type": "code",
   "execution_count": 19,
   "metadata": {},
   "outputs": [
    {
     "data": {
      "text/plain": [
       "True"
      ]
     },
     "execution_count": 19,
     "metadata": {},
     "output_type": "execute_result"
    }
   ],
   "source": [
    "# Are there dubplicates?\n",
    "boolean = not features_with_state['image'].is_unique\n",
    "boolean"
   ]
  },
  {
   "cell_type": "code",
   "execution_count": 20,
   "metadata": {},
   "outputs": [],
   "source": [
    "# We have some doubles where images were repeated by accident, lets remove them\n",
    "df1_unique = features_with_state\n",
    "df1_unique.drop_duplicates(subset=['image'], inplace=True)"
   ]
  },
  {
   "cell_type": "code",
   "execution_count": 22,
   "metadata": {},
   "outputs": [
    {
     "name": "stdout",
     "output_type": "stream",
     "text": [
      "<class 'pandas.core.frame.DataFrame'>\n",
      "Int64Index: 9941 entries, 0 to 10892\n",
      "Data columns (total 25 columns):\n",
      " #   Column               Non-Null Count  Dtype  \n",
      "---  ------               --------------  -----  \n",
      " 0   image                9941 non-null   int64  \n",
      " 1   dullness             9914 non-null   float64\n",
      " 2   brightness           9914 non-null   float64\n",
      " 3   average_pixel_width  9941 non-null   float64\n",
      " 4   average_color        9941 non-null   object \n",
      " 5   average_red          9941 non-null   float64\n",
      " 6   average_green        9941 non-null   float64\n",
      " 7   average_blue         9941 non-null   float64\n",
      " 8   image_size           9941 non-null   int64  \n",
      " 9   temp_size            9941 non-null   object \n",
      " 10  width                9941 non-null   int64  \n",
      " 11  height               9941 non-null   int64  \n",
      " 12  blurrness            9941 non-null   float64\n",
      " 13  dominant_color       9941 non-null   object \n",
      " 14  dominant_red         9941 non-null   float64\n",
      " 15  dominant_green       9941 non-null   float64\n",
      " 16  dominant_blue        9941 non-null   float64\n",
      " 17  state                9941 non-null   int64  \n",
      " 18  pledged              9941 non-null   float64\n",
      " 19  goal                 9941 non-null   float64\n",
      " 20  backers              9941 non-null   float64\n",
      " 21  staff_pick           9928 non-null   float64\n",
      " 22  launched_at          9928 non-null   float64\n",
      " 23  deadline             9928 non-null   float64\n",
      " 24  category             9941 non-null   object \n",
      "dtypes: float64(16), int64(5), object(4)\n",
      "memory usage: 2.0+ MB\n"
     ]
    }
   ],
   "source": [
    "df1_unique.info()"
   ]
  },
  {
   "cell_type": "code",
   "execution_count": 23,
   "metadata": {},
   "outputs": [],
   "source": [
    "# Rename some columns to better reflect features\n",
    "df1_unique.rename(columns={'average_pixel_width': 'uniformity', 'blurrness': 'blurriness',\n",
    "                           'image_size': 'compression_size'}, inplace=True)"
   ]
  },
  {
   "cell_type": "code",
   "execution_count": 24,
   "metadata": {},
   "outputs": [
    {
     "name": "stdout",
     "output_type": "stream",
     "text": [
      "<class 'pandas.core.frame.DataFrame'>\n",
      "Int64Index: 9941 entries, 0 to 10892\n",
      "Data columns (total 25 columns):\n",
      " #   Column            Non-Null Count  Dtype  \n",
      "---  ------            --------------  -----  \n",
      " 0   image             9941 non-null   int64  \n",
      " 1   dullness          9914 non-null   float64\n",
      " 2   brightness        9914 non-null   float64\n",
      " 3   uniformity        9941 non-null   float64\n",
      " 4   average_color     9941 non-null   object \n",
      " 5   average_red       9941 non-null   float64\n",
      " 6   average_green     9941 non-null   float64\n",
      " 7   average_blue      9941 non-null   float64\n",
      " 8   compression_size  9941 non-null   int64  \n",
      " 9   temp_size         9941 non-null   object \n",
      " 10  width             9941 non-null   int64  \n",
      " 11  height            9941 non-null   int64  \n",
      " 12  blurriness        9941 non-null   float64\n",
      " 13  dominant_color    9941 non-null   object \n",
      " 14  dominant_red      9941 non-null   float64\n",
      " 15  dominant_green    9941 non-null   float64\n",
      " 16  dominant_blue     9941 non-null   float64\n",
      " 17  state             9941 non-null   int64  \n",
      " 18  pledged           9941 non-null   float64\n",
      " 19  goal              9941 non-null   float64\n",
      " 20  backers           9941 non-null   float64\n",
      " 21  staff_pick        9928 non-null   float64\n",
      " 22  launched_at       9928 non-null   float64\n",
      " 23  deadline          9928 non-null   float64\n",
      " 24  category          9941 non-null   object \n",
      "dtypes: float64(16), int64(5), object(4)\n",
      "memory usage: 2.0+ MB\n"
     ]
    }
   ],
   "source": [
    "df1_unique.info()"
   ]
  },
  {
   "cell_type": "markdown",
   "metadata": {},
   "source": [
    "# Save Data"
   ]
  },
  {
   "cell_type": "code",
   "execution_count": 25,
   "metadata": {},
   "outputs": [
    {
     "data": {
      "text/plain": [
       "['/home/mosto/Documents/insight/kickstarter-project/final_features_df1.pkl']"
      ]
     },
     "execution_count": 25,
     "metadata": {},
     "output_type": "execute_result"
    }
   ],
   "source": [
    "# Serialize the data table containing the scraped HTML for each project\n",
    "joblib.dump(df1_unique, '/home/mosto/Documents/insight/kickstarter-project/final_features_df1.pkl')"
   ]
  }
 ],
 "metadata": {
  "kernelspec": {
   "display_name": "Python 3",
   "language": "python",
   "name": "python3"
  },
  "language_info": {
   "codemirror_mode": {
    "name": "ipython",
    "version": 3
   },
   "file_extension": ".py",
   "mimetype": "text/x-python",
   "name": "python",
   "nbconvert_exporter": "python",
   "pygments_lexer": "ipython3",
   "version": "3.7.9"
  }
 },
 "nbformat": 4,
 "nbformat_minor": 2
}
