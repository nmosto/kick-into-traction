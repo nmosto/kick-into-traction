{
 "cells": [
  {
   "cell_type": "markdown",
   "metadata": {},
   "source": [
    "Imports"
   ]
  },
  {
   "cell_type": "code",
   "execution_count": 1,
   "metadata": {},
   "outputs": [],
   "source": [
    "# Load required libraries\n",
    "import requests\n",
    "import numpy as np\n",
    "import pandas as pd\n",
    "import joblib\n",
    "import time\n",
    "import random\n",
    "from IPython.core.display import clear_output\n",
    "from bs4 import BeautifulSoup"
   ]
  },
  {
   "cell_type": "code",
   "execution_count": 2,
   "metadata": {},
   "outputs": [],
   "source": [
    "# Load required libraries\n",
    "import nltk\n",
    "from bs4 import BeautifulSoup\n",
    "import re\n",
    "import lxml\n",
    "import pandas as pd\n",
    "import numpy as np\n",
    "import joblib\n",
    "\n",
    "from PIL import Image as IMG\n",
    "import collections\n",
    "from collections import defaultdict\n",
    "import operator"
   ]
  },
  {
   "cell_type": "code",
   "execution_count": 3,
   "metadata": {},
   "outputs": [],
   "source": [
    "import requests as r\n",
    "from bs4 import BeautifulSoup as bs\n",
    "import pandas"
   ]
  },
  {
   "cell_type": "code",
   "execution_count": 4,
   "metadata": {},
   "outputs": [],
   "source": [
    "def parse(scraped_html):\n",
    "    \"\"\"Use the BeautifulSoup library to parse the scraped HTML of a project \n",
    "    using an lxml parser\n",
    "    \n",
    "    Args:\n",
    "        scraped_html (response object): the unparsed response object collected\n",
    "        by the web scraper\n",
    "    \n",
    "    Returns:\n",
    "        a soup object containing the parsed HTML\"\"\"\n",
    "    # BeautifulSoup(scraped_html.text, features='html')\n",
    "    # Parse the HTML content using an lxml parser\n",
    "    return BeautifulSoup(scraped_html.text, 'lxml')"
   ]
  },
  {
   "cell_type": "markdown",
   "metadata": {},
   "source": [
    "Setup Rotating Proxies "
   ]
  },
  {
   "cell_type": "code",
   "execution_count": 5,
   "metadata": {},
   "outputs": [],
   "source": [
    "def get_proxy_data(column):\n",
    "    f = open('/home/mosto/Documents/insight/kickstarter-project/proxylist.csv', \"r\")\n",
    "    lines = f.readlines()\n",
    "    result=[]\n",
    "    for x in lines:\n",
    "        result.append(x.split('\\t')[column])\n",
    "    f.close()\n",
    "    return result"
   ]
  },
  {
   "cell_type": "code",
   "execution_count": 6,
   "metadata": {},
   "outputs": [],
   "source": [
    "proxy_ip = get_proxy_data(0)\n",
    "del proxy_ip[0]\n",
    "port_http = get_proxy_data(1)\n",
    "port_socks = get_proxy_data(2)\n",
    "login = get_proxy_data(3)\n",
    "password = get_proxy_data(4)"
   ]
  },
  {
   "cell_type": "code",
   "execution_count": 7,
   "metadata": {},
   "outputs": [],
   "source": [
    "# Grab my proxy data\n",
    "def get_proxy():\n",
    "    # Pick a random proxy to use\n",
    "    in_proxy_ip = random.choice(proxy_ip)\n",
    "    user = login[1]\n",
    "    passwd = password[1]\n",
    "    passwd = passwd.rstrip()\n",
    "    ip = in_proxy_ip\n",
    "#    port = port_socks[1]\n",
    "    port = port_http[1]\n",
    "    # Assemble the url\n",
    "    proxy_url = \"http://\" + user + \":\" + passwd + \"@\" + ip + \":\" + port + \"/\"\n",
    "    return {\n",
    "        \"http\": proxy_url,\n",
    "        \"https\": proxy_url\n",
    "    }"
   ]
  },
  {
   "cell_type": "markdown",
   "metadata": {},
   "source": [
    "Load Files"
   ]
  },
  {
   "cell_type": "code",
   "execution_count": 8,
   "metadata": {},
   "outputs": [],
   "source": [
    "datafile = '/home/mosto/Documents/insight/kickstarter-project/web_robots_data_to_08-2020_processed.pkl'\n",
    "df = joblib.load(datafile)"
   ]
  },
  {
   "cell_type": "code",
   "execution_count": 9,
   "metadata": {},
   "outputs": [],
   "source": [
    "# Select projects described in American English\n",
    "df_USD = df[df['currency'] == 'USD']"
   ]
  },
  {
   "cell_type": "code",
   "execution_count": 10,
   "metadata": {},
   "outputs": [],
   "source": [
    "# Take a random sample of the Web Robots data using a seed value to ensure\n",
    "# repeatability\n",
    "seed = np.random.seed(74)\n",
    "df_sample = df_USD.sample(50000)"
   ]
  },
  {
   "cell_type": "code",
   "execution_count": 11,
   "metadata": {},
   "outputs": [
    {
     "data": {
      "text/plain": [
       "(10000, 17)"
      ]
     },
     "execution_count": 11,
     "metadata": {},
     "output_type": "execute_result"
    }
   ],
   "source": [
    "df1_sample=df_sample.iloc[:10000]\n",
    "df1_sample.shape"
   ]
  },
  {
   "cell_type": "code",
   "execution_count": 13,
   "metadata": {},
   "outputs": [
    {
     "data": {
      "text/plain": [
       "'https://www.kickstarter.com/projects/1655429407/glow-girls-start-up-fund?ref=discovery_category_newest'"
      ]
     },
     "execution_count": 13,
     "metadata": {},
     "output_type": "execute_result"
    }
   ],
   "source": [
    "link=df1_sample.iloc[0]['url']\n",
    "link"
   ]
  },
  {
   "cell_type": "code",
   "execution_count": 16,
   "metadata": {},
   "outputs": [
    {
     "name": "stdout",
     "output_type": "stream",
     "text": [
      "https://ksr-ugc.imgix.net/assets/015/660/676/963ecc184c34b7065e80772c6a2016d6_original.JPG?ixlib=rb-2.1.0&crop=faces&w=1552&h=873&fit=crop&v=1488216032&auto=format&frame=1&q=92&s=623015125ebbdcffdf158e2d7d4036ff\n",
      "https://ksr-ugc.imgix.net/assets/015/661/411/c14cc15cc44d516ba4db3d8db42adeb9_original.JPG?ixlib=rb-2.1.0&w=80&h=80&fit=crop&v=1488219561&auto=format&frame=1&q=92&s=62b1414ecf49a3dbf8a3963d07e8120c\n",
      "https://ksr-ugc.imgix.net/assets/015/661/411/c14cc15cc44d516ba4db3d8db42adeb9_original.JPG?ixlib=rb-2.1.0&w=80&h=80&fit=crop&v=1488219561&auto=format&frame=1&q=92&s=62b1414ecf49a3dbf8a3963d07e8120c\n",
      "https://ksr-ugc.imgix.net/assets/015/660/676/963ecc184c34b7065e80772c6a2016d6_original.JPG?ixlib=rb-2.1.0&crop=faces&w=1024&h=576&fit=crop&v=1488216032&auto=format&frame=1&q=92&s=63d369305e08d19695dce878dbd0ffd5\n"
     ]
    }
   ],
   "source": [
    "import requests as r\n",
    "from bs4 import BeautifulSoup as bs\n",
    "import pandas\n",
    "page = r.get(link)\n",
    "soup = bs(page.text,'html.parser')\n",
    "for img in soup.find_all('img',src=True):\n",
    "    print(img['src'])"
   ]
  },
  {
   "cell_type": "code",
   "execution_count": 32,
   "metadata": {},
   "outputs": [],
   "source": [
    "import requests as r\n",
    "from bs4 import BeautifulSoup as bs\n",
    "import pandas\n",
    "page = r.get(link)\n",
    "soup = parse(page)\n",
    "img = soup.find_all('img',src=True)"
   ]
  },
  {
   "cell_type": "code",
   "execution_count": 33,
   "metadata": {},
   "outputs": [
    {
     "data": {
      "text/plain": [
       "[<img bind-show=\"!isImageRemoved('feature')\" class=\"js-feature-image\" src=\"https://ksr-ugc.imgix.net/assets/015/660/676/963ecc184c34b7065e80772c6a2016d6_original.JPG?ixlib=rb-2.1.0&amp;crop=faces&amp;w=1552&amp;h=873&amp;fit=crop&amp;v=1488216032&amp;auto=format&amp;frame=1&amp;q=92&amp;s=623015125ebbdcffdf158e2d7d4036ff\"/>,\n",
       " <img alt=\"\" class=\"avatar-small radius100p\" height=\"80\" src=\"https://ksr-ugc.imgix.net/assets/015/661/411/c14cc15cc44d516ba4db3d8db42adeb9_original.JPG?ixlib=rb-2.1.0&amp;w=80&amp;h=80&amp;fit=crop&amp;v=1488219561&amp;auto=format&amp;frame=1&amp;q=92&amp;s=62b1414ecf49a3dbf8a3963d07e8120c\" style=\"height: auto;\" width=\"80\"/>,\n",
       " <img alt=\"\" class=\"avatar-small radius100p\" height=\"80\" src=\"https://ksr-ugc.imgix.net/assets/015/661/411/c14cc15cc44d516ba4db3d8db42adeb9_original.JPG?ixlib=rb-2.1.0&amp;w=80&amp;h=80&amp;fit=crop&amp;v=1488219561&amp;auto=format&amp;frame=1&amp;q=92&amp;s=62b1414ecf49a3dbf8a3963d07e8120c\" style=\"height: auto;\" width=\"80\"/>,\n",
       " <img alt=\"Glow Girls start up fund project video thumbnail\" class=\"has_played_hide full-width poster landscape\" src=\"https://ksr-ugc.imgix.net/assets/015/660/676/963ecc184c34b7065e80772c6a2016d6_original.JPG?ixlib=rb-2.1.0&amp;crop=faces&amp;w=1024&amp;h=576&amp;fit=crop&amp;v=1488216032&amp;auto=format&amp;frame=1&amp;q=92&amp;s=63d369305e08d19695dce878dbd0ffd5\"/>]"
      ]
     },
     "execution_count": 33,
     "metadata": {},
     "output_type": "execute_result"
    }
   ],
   "source": [
    "img"
   ]
  },
  {
   "cell_type": "code",
   "execution_count": 19,
   "metadata": {},
   "outputs": [
    {
     "data": {
      "text/plain": [
       "'https://ksr-ugc.imgix.net/assets/015/660/676/963ecc184c34b7065e80772c6a2016d6_original.JPG?ixlib=rb-2.1.0&crop=faces&w=1552&h=873&fit=crop&v=1488216032&auto=format&frame=1&q=92&s=623015125ebbdcffdf158e2d7d4036ff'"
      ]
     },
     "execution_count": 19,
     "metadata": {},
     "output_type": "execute_result"
    }
   ],
   "source": [
    "img[0]['src']"
   ]
  },
  {
   "cell_type": "code",
   "execution_count": null,
   "metadata": {},
   "outputs": [],
   "source": []
  },
  {
   "cell_type": "code",
   "execution_count": 7,
   "metadata": {},
   "outputs": [
    {
     "name": "stdout",
     "output_type": "stream",
     "text": [
      "<class 'pandas.core.frame.DataFrame'>\n",
      "Int64Index: 2558 entries, 60378 to 95623\n",
      "Data columns (total 1 columns):\n",
      " #   Column        Non-Null Count  Dtype \n",
      "---  ------        --------------  ----- \n",
      " 0   scraped_HTML  2558 non-null   object\n",
      "dtypes: object(1)\n",
      "memory usage: 40.0+ KB\n"
     ]
    }
   ],
   "source": [
    "scraped_collection.info()"
   ]
  },
  {
   "cell_type": "code",
   "execution_count": null,
   "metadata": {},
   "outputs": [],
   "source": []
  },
  {
   "cell_type": "code",
   "execution_count": 9,
   "metadata": {},
   "outputs": [],
   "source": [
    "soup = parse(scraped_collection.iloc[0]['scraped_HTML'])"
   ]
  },
  {
   "cell_type": "code",
   "execution_count": 10,
   "metadata": {},
   "outputs": [],
   "source": [
    "img = soup.find_all('img',src=True)"
   ]
  },
  {
   "cell_type": "code",
   "execution_count": 11,
   "metadata": {},
   "outputs": [],
   "source": [
    "pic = img[0]['src']"
   ]
  },
  {
   "cell_type": "code",
   "execution_count": 12,
   "metadata": {},
   "outputs": [
    {
     "data": {
      "text/html": [
       "\n",
       "        <iframe\n",
       "            width=\"800\"\n",
       "            height=\"400\"\n",
       "            src=\"https://ksr-ugc.imgix.net/assets/022/558/247/c6041fb5e0bb0d0a3fc3488a1801fbf8_original.jpg?ixlib=rb-2.1.0&crop=faces&w=1552&h=873&fit=crop&v=1536961610&auto=format&frame=1&q=92&s=c34dfacd62da97a870be25c695207c10\"\n",
       "            frameborder=\"0\"\n",
       "            allowfullscreen\n",
       "        ></iframe>\n",
       "        "
      ],
      "text/plain": [
       "<IPython.lib.display.IFrame at 0x7f7344b35110>"
      ]
     },
     "execution_count": 12,
     "metadata": {},
     "output_type": "execute_result"
    }
   ],
   "source": [
    "row=0\n",
    "pic = img[row]['src']\n",
    "from IPython.display import IFrame\n",
    "\n",
    "url = pic\n",
    "IFrame(url, width=800, height=400)\n"
   ]
  },
  {
   "cell_type": "code",
   "execution_count": 13,
   "metadata": {},
   "outputs": [],
   "source": [
    "current_proxy = get_proxy() \n",
    "res=requests.get(url,proxies=current_proxy)\n",
    "con=res.content\n",
    "outf=open(str(scraped_collection.index[row])+'_img.png','wb')\n",
    "outf.write(con)\n",
    "outf.close()"
   ]
  },
  {
   "cell_type": "code",
   "execution_count": 14,
   "metadata": {},
   "outputs": [
    {
     "data": {
      "text/plain": [
       "2558"
      ]
     },
     "execution_count": 14,
     "metadata": {},
     "output_type": "execute_result"
    }
   ],
   "source": [
    "len(scraped_collection.index)"
   ]
  },
  {
   "cell_type": "code",
   "execution_count": 14,
   "metadata": {},
   "outputs": [],
   "source": [
    "df = df1_sample"
   ]
  },
  {
   "cell_type": "code",
   "execution_count": 19,
   "metadata": {},
   "outputs": [
    {
     "data": {
      "text/html": [
       "<div>\n",
       "<style scoped>\n",
       "    .dataframe tbody tr th:only-of-type {\n",
       "        vertical-align: middle;\n",
       "    }\n",
       "\n",
       "    .dataframe tbody tr th {\n",
       "        vertical-align: top;\n",
       "    }\n",
       "\n",
       "    .dataframe thead th {\n",
       "        text-align: right;\n",
       "    }\n",
       "</style>\n",
       "<table border=\"1\" class=\"dataframe\">\n",
       "  <thead>\n",
       "    <tr style=\"text-align: right;\">\n",
       "      <th></th>\n",
       "      <th>name</th>\n",
       "      <th>id</th>\n",
       "      <th>blurb</th>\n",
       "      <th>category</th>\n",
       "      <th>url</th>\n",
       "      <th>currency</th>\n",
       "      <th>pledged</th>\n",
       "      <th>goal</th>\n",
       "      <th>state</th>\n",
       "      <th>location</th>\n",
       "      <th>creator_id</th>\n",
       "      <th>launched_at</th>\n",
       "      <th>deadline</th>\n",
       "      <th>backers</th>\n",
       "      <th>staff_pick</th>\n",
       "      <th>creator_name</th>\n",
       "      <th>created_at</th>\n",
       "    </tr>\n",
       "  </thead>\n",
       "  <tbody>\n",
       "    <tr>\n",
       "      <th>3990</th>\n",
       "      <td>Glow Girls start up fund</td>\n",
       "      <td>2896853</td>\n",
       "      <td>We are raising funds for Marketing purposes su...</td>\n",
       "      <td>DIY</td>\n",
       "      <td>https://www.kickstarter.com/projects/165542940...</td>\n",
       "      <td>USD</td>\n",
       "      <td>541</td>\n",
       "      <td>500</td>\n",
       "      <td>successful</td>\n",
       "      <td>Seattle, WA</td>\n",
       "      <td>1655429407</td>\n",
       "      <td>1488242943</td>\n",
       "      <td>1490831343</td>\n",
       "      <td>12</td>\n",
       "      <td>False</td>\n",
       "      <td>Claudia</td>\n",
       "      <td>1.488210e+09</td>\n",
       "    </tr>\n",
       "    <tr>\n",
       "      <th>124723</th>\n",
       "      <td>Studio for Artists</td>\n",
       "      <td>2738647</td>\n",
       "      <td>Unexpected health issues has taken it's toll o...</td>\n",
       "      <td>Painting</td>\n",
       "      <td>https://www.kickstarter.com/projects/117655044...</td>\n",
       "      <td>USD</td>\n",
       "      <td>50</td>\n",
       "      <td>5000</td>\n",
       "      <td>failed</td>\n",
       "      <td>Naples, FL</td>\n",
       "      <td>1176550444</td>\n",
       "      <td>1477960965</td>\n",
       "      <td>1480528140</td>\n",
       "      <td>1</td>\n",
       "      <td>False</td>\n",
       "      <td>Arthur Morehead</td>\n",
       "      <td>1.477769e+09</td>\n",
       "    </tr>\n",
       "    <tr>\n",
       "      <th>52182</th>\n",
       "      <td>Quickstarter: Mechanized Fabrications-What is ...</td>\n",
       "      <td>3736756</td>\n",
       "      <td>A look into a world lost to progress, and the ...</td>\n",
       "      <td>Comic Books</td>\n",
       "      <td>https://www.kickstarter.com/projects/mechanize...</td>\n",
       "      <td>USD</td>\n",
       "      <td>317</td>\n",
       "      <td>300</td>\n",
       "      <td>successful</td>\n",
       "      <td>Alexandria, VA</td>\n",
       "      <td>385588855</td>\n",
       "      <td>1559061039</td>\n",
       "      <td>1560789039</td>\n",
       "      <td>11</td>\n",
       "      <td>False</td>\n",
       "      <td>Sebastian J</td>\n",
       "      <td>1.558452e+09</td>\n",
       "    </tr>\n",
       "    <tr>\n",
       "      <th>43468</th>\n",
       "      <td>Photography Business launch for Joseph in Nair...</td>\n",
       "      <td>3778504</td>\n",
       "      <td>Joseph Koya is launching his photography busin...</td>\n",
       "      <td>Places</td>\n",
       "      <td>https://www.kickstarter.com/projects/kingkoya/...</td>\n",
       "      <td>USD</td>\n",
       "      <td>111</td>\n",
       "      <td>1000</td>\n",
       "      <td>failed</td>\n",
       "      <td>Nairobi, Kenya</td>\n",
       "      <td>1760691886</td>\n",
       "      <td>1564473990</td>\n",
       "      <td>1569657990</td>\n",
       "      <td>3</td>\n",
       "      <td>False</td>\n",
       "      <td>Jospeph (posted by Doug)</td>\n",
       "      <td>1.563865e+09</td>\n",
       "    </tr>\n",
       "    <tr>\n",
       "      <th>41219</th>\n",
       "      <td>Bokeh Fire: Lenses for Everyone</td>\n",
       "      <td>1465799</td>\n",
       "      <td>A simple monthly lens rental service for photo...</td>\n",
       "      <td>Camera Equipment</td>\n",
       "      <td>https://www.kickstarter.com/projects/panok/bok...</td>\n",
       "      <td>USD</td>\n",
       "      <td>21219</td>\n",
       "      <td>20000</td>\n",
       "      <td>successful</td>\n",
       "      <td>Philadelphia, PA</td>\n",
       "      <td>131591379</td>\n",
       "      <td>1415854680</td>\n",
       "      <td>1418508000</td>\n",
       "      <td>124</td>\n",
       "      <td>False</td>\n",
       "      <td>Pano K</td>\n",
       "      <td>1.414168e+09</td>\n",
       "    </tr>\n",
       "  </tbody>\n",
       "</table>\n",
       "</div>"
      ],
      "text/plain": [
       "                                                     name       id  \\\n",
       "3990                             Glow Girls start up fund  2896853   \n",
       "124723                                 Studio for Artists  2738647   \n",
       "52182   Quickstarter: Mechanized Fabrications-What is ...  3736756   \n",
       "43468   Photography Business launch for Joseph in Nair...  3778504   \n",
       "41219                     Bokeh Fire: Lenses for Everyone  1465799   \n",
       "\n",
       "                                                    blurb          category  \\\n",
       "3990    We are raising funds for Marketing purposes su...               DIY   \n",
       "124723  Unexpected health issues has taken it's toll o...          Painting   \n",
       "52182   A look into a world lost to progress, and the ...       Comic Books   \n",
       "43468   Joseph Koya is launching his photography busin...            Places   \n",
       "41219   A simple monthly lens rental service for photo...  Camera Equipment   \n",
       "\n",
       "                                                      url currency pledged  \\\n",
       "3990    https://www.kickstarter.com/projects/165542940...      USD     541   \n",
       "124723  https://www.kickstarter.com/projects/117655044...      USD      50   \n",
       "52182   https://www.kickstarter.com/projects/mechanize...      USD     317   \n",
       "43468   https://www.kickstarter.com/projects/kingkoya/...      USD     111   \n",
       "41219   https://www.kickstarter.com/projects/panok/bok...      USD   21219   \n",
       "\n",
       "         goal       state          location  creator_id launched_at  \\\n",
       "3990      500  successful       Seattle, WA  1655429407  1488242943   \n",
       "124723   5000      failed        Naples, FL  1176550444  1477960965   \n",
       "52182     300  successful    Alexandria, VA   385588855  1559061039   \n",
       "43468    1000      failed    Nairobi, Kenya  1760691886  1564473990   \n",
       "41219   20000  successful  Philadelphia, PA   131591379  1415854680   \n",
       "\n",
       "          deadline backers staff_pick              creator_name    created_at  \n",
       "3990    1490831343      12      False                   Claudia  1.488210e+09  \n",
       "124723  1480528140       1      False           Arthur Morehead  1.477769e+09  \n",
       "52182   1560789039      11      False               Sebastian J  1.558452e+09  \n",
       "43468   1569657990       3      False  Jospeph (posted by Doug)  1.563865e+09  \n",
       "41219   1418508000     124      False                    Pano K  1.414168e+09  "
      ]
     },
     "execution_count": 19,
     "metadata": {},
     "output_type": "execute_result"
    }
   ],
   "source": [
    "df.head()"
   ]
  },
  {
   "cell_type": "code",
   "execution_count": 21,
   "metadata": {},
   "outputs": [
    {
     "data": {
      "text/plain": [
       "3990"
      ]
     },
     "execution_count": 21,
     "metadata": {},
     "output_type": "execute_result"
    }
   ],
   "source": [
    "df.index[0]"
   ]
  },
  {
   "cell_type": "code",
   "execution_count": 23,
   "metadata": {},
   "outputs": [
    {
     "data": {
      "text/plain": [
       "'https://www.kickstarter.com/projects/1655429407/glow-girls-start-up-fund?ref=discovery_category_newest'"
      ]
     },
     "execution_count": 23,
     "metadata": {},
     "output_type": "execute_result"
    }
   ],
   "source": [
    "df.iloc[0]['url']"
   ]
  },
  {
   "cell_type": "code",
   "execution_count": 32,
   "metadata": {},
   "outputs": [
    {
     "name": "stdout",
     "output_type": "stream",
     "text": [
      "Request: 2; Row ID: 52182; Frequency: 0.15369009218648544 requests/sec\n",
      "\n",
      "Run time: 19.52218770980835\n",
      "Average rate: 0.1536713018332847\n",
      "# of images downloaded: 3\n"
     ]
    }
   ],
   "source": [
    "df = df1_sample\n",
    "\n",
    "# Initalize an empty DataFrame to store scraped HTML\n",
    "images_collection = pd.DataFrame(columns=['image'])\n",
    "\n",
    "# Record the start time\n",
    "start_time = time.time()\n",
    "\n",
    "# Initialize the number of requests\n",
    "request_count = 0\n",
    "\n",
    "# Select which projects to scrape via its index. This is used for starting\n",
    "# at a position other than the beginning in case the scraper stopped \n",
    "# unexpectedly.\n",
    "start = 0\n",
    "stop = 3\n",
    "\n",
    "for row in range(start, stop, 1):\n",
    "    \n",
    "    current_proxy = get_proxy()     \n",
    "    index = df.index[row] \n",
    "    \n",
    "    # Collect the \"About this project\" section if available\n",
    "    try:\n",
    "        \n",
    "        scraped_html = r.get(df.iloc[row]['url'],proxies=current_proxy)\n",
    "        soup = parse(scraped_html)\n",
    "        img = soup.find_all('img',src=True)        \n",
    "        img_url = img[0]['src']\n",
    "        time.sleep(random.uniform(1,2))\n",
    "        \n",
    "        \n",
    "        res=requests.get(img_url,proxies=current_proxy)\n",
    "        con=res.content\n",
    "        \n",
    "        out=open(str(index),'wb')\n",
    "        out.write(con)\n",
    "        out.close()\n",
    "    \n",
    "        # Record scraped HTML\n",
    "        images_collection.loc[index, 'image'] = str(index)\n",
    "    \n",
    "        \n",
    "    except IndexError:\n",
    "        #If there are no images, we will get an index error in the img[0] expression, so we skip it\n",
    "        continue\n",
    "    except ProxyError:\n",
    "        # Sometimes proxy fails, so we skip it\n",
    "        continue\n",
    "    except OSError:\n",
    "        # Sometimes proxy fails, so we skip it\n",
    "        continue\n",
    "    #except OSError:\n",
    "        # Sometimes proxy fails, so we skip it\n",
    "        #continue\n",
    "    time.sleep(random.uniform(2,4)) \n",
    "    \n",
    "    \n",
    "    # Monitor the requests by clearing the output and displaying current \n",
    "    # progress\n",
    "    elapsed_time = time.time() - start_time\n",
    "    clear_output(wait = True)\n",
    "    print(\n",
    "        'Request: {}; Row ID: {}; Frequency: {} requests/sec'.format(\n",
    "            request_count + starting_point,\n",
    "            index,\n",
    "            (request_count + 1) / elapsed_time\n",
    "        )\n",
    "    )\n",
    "    request_count += 1\n",
    "    \n",
    "    \n",
    "# Display the overall time, average scraping speed and total number of scraped\n",
    "# project pages\n",
    "run_time = time.time() - start_time\n",
    "print()\n",
    "print('Run time:', run_time)\n",
    "print('Average rate:', len(images_collection) / run_time)\n",
    "print('# of images downloaded:', len(images_collection))"
   ]
  },
  {
   "cell_type": "code",
   "execution_count": 33,
   "metadata": {},
   "outputs": [
    {
     "data": {
      "text/plain": [
       "image    3990\n",
       "Name: 3990, dtype: object"
      ]
     },
     "execution_count": 33,
     "metadata": {},
     "output_type": "execute_result"
    }
   ],
   "source": [
    "images_collection.iloc[0]"
   ]
  },
  {
   "cell_type": "code",
   "execution_count": null,
   "metadata": {},
   "outputs": [],
   "source": [
    "# Serialize the data table containing the scraped HTML for each project\n",
    "joblib.dump(\n",
    "    scraped_collection, '/home/mosto/Documents/insight/k-i-t/scraped-data/df1_dynamic_scrape.0-2341_scraped_collection_{}-{}.pkl'.format(\n",
    "        starting_point,\n",
    "        ending_point - 1\n",
    "    )\n",
    ")"
   ]
  },
  {
   "cell_type": "code",
   "execution_count": null,
   "metadata": {},
   "outputs": [],
   "source": []
  },
  {
   "cell_type": "code",
   "execution_count": null,
   "metadata": {},
   "outputs": [],
   "source": [
    "def color_analysis(img):\n",
    "    # obtain the color palatte of the image \n",
    "    palatte = defaultdict(int)\n",
    "    for pixel in img.getdata():\n",
    "        palatte[pixel] += 1\n",
    "    \n",
    "    # sort the colors present in the image \n",
    "    sorted_x = sorted(palatte.items(), key=operator.itemgetter(1), reverse = True)\n",
    "    light_shade, dark_shade, shade_count, pixel_limit = 0, 0, 0, 25\n",
    "    for i, x in enumerate(sorted_x[:pixel_limit]):\n",
    "        if all(xx <= 20 for xx in x[0][:3]): ## dull : too much darkness \n",
    "            dark_shade += x[1]\n",
    "        if all(xx >= 240 for xx in x[0][:3]): ## bright : too much whiteness \n",
    "            light_shade += x[1]\n",
    "        shade_count += x[1]\n",
    "        \n",
    "    light_percent = round((float(light_shade)/shade_count)*100, 2)\n",
    "    dark_percent = round((float(dark_shade)/shade_count)*100, 2)\n",
    "    return light_percent, dark_percent"
   ]
  },
  {
   "cell_type": "code",
   "execution_count": null,
   "metadata": {},
   "outputs": [],
   "source": [
    "!ls"
   ]
  },
  {
   "cell_type": "code",
   "execution_count": null,
   "metadata": {},
   "outputs": [],
   "source": [
    "im = IMG.open('3990')"
   ]
  },
  {
   "cell_type": "code",
   "execution_count": null,
   "metadata": {
    "scrolled": true
   },
   "outputs": [],
   "source": [
    "im = Image.open(\"3990\")\n",
    "rgb_im = im.convert('RGB')\n",
    "rgb_im"
   ]
  },
  {
   "cell_type": "code",
   "execution_count": null,
   "metadata": {},
   "outputs": [],
   "source": [
    "color_analysis(rgb_im)"
   ]
  },
  {
   "cell_type": "code",
   "execution_count": null,
   "metadata": {},
   "outputs": [],
   "source": [
    "def average_pixel_width(img): \n",
    "    im = img    \n",
    "    im_array = np.asarray(im.convert(mode='L'))\n",
    "    edges_sigma1 = feature.canny(im_array, sigma=3)\n",
    "    apw = (float(np.sum(edges_sigma1)) / (im.size[0]*im.size[1]))\n",
    "    return apw*100"
   ]
  },
  {
   "cell_type": "code",
   "execution_count": null,
   "metadata": {},
   "outputs": [],
   "source": [
    "average_pixel_width(rgb_im)"
   ]
  },
  {
   "cell_type": "code",
   "execution_count": null,
   "metadata": {},
   "outputs": [],
   "source": []
  }
 ],
 "metadata": {
  "kernelspec": {
   "display_name": "Python 3",
   "language": "python",
   "name": "python3"
  },
  "language_info": {
   "codemirror_mode": {
    "name": "ipython",
    "version": 3
   },
   "file_extension": ".py",
   "mimetype": "text/x-python",
   "name": "python",
   "nbconvert_exporter": "python",
   "pygments_lexer": "ipython3",
   "version": "3.7.9"
  }
 },
 "nbformat": 4,
 "nbformat_minor": 4
}
